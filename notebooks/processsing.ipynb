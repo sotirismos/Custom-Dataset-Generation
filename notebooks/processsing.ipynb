{
 "cells": [
  {
   "cell_type": "code",
   "execution_count": 1,
   "id": "43c8355d",
   "metadata": {},
   "outputs": [
    {
     "name": "stderr",
     "output_type": "stream",
     "text": [
      "/home/sotiris/anaconda3/envs/bdd100k-mmdet/lib/python3.8/site-packages/scipy/__init__.py:146: UserWarning: A NumPy version >=1.16.5 and <1.23.0 is required for this version of SciPy (detected version 1.23.1\n",
      "  warnings.warn(f\"A NumPy version >={np_minversion} and <{np_maxversion}\"\n"
     ]
    }
   ],
   "source": [
    "import sys\n",
    "import os\n",
    "os.chdir(os.getcwd())\n",
    "sys.path.append('..')\n",
    "from src.utils.image_download import ImageDownloader\n",
    "from src.utils.logging import LoggingConfig\n",
    "from src.detect_n_crop import infer_model\n",
    "from glob import glob\n",
    "\n",
    "LoggingConfig('info', handler_type='stream').get_logger()\n",
    "image_path = '../images_20/'"
   ]
  },
  {
   "cell_type": "code",
   "execution_count": 2,
   "id": "e3669bef",
   "metadata": {},
   "outputs": [],
   "source": [
    "models_2021 = ['TOYOTA-YARIS',\n",
    "'CITROEN-C3',\n",
    "'PEUGEOT-208',\n",
    "'OPEL-CORSA',\n",
    "'PEUGEOT-2008',\n",
    "'HYUNDAI-I20',\n",
    "'KIA-RIO',\n",
    "'TOYOTA-C-HR',\n",
    "'HYUNDAI-I10',\n",
    "'TOYOTA-AYGO',\n",
    "'RENAULT-CLIO',\n",
    "'MERCEDES-A',\n",
    "'NISSAN-QASHQAI',\n",
    "'FORD-PUMA',\n",
    "'TOYOTA-COROLLA',\n",
    "'VW-T-ROC',\n",
    "'SUZUKI-VITARA',\n",
    "'FIAT-PANDA',\n",
    "'DACIA-DUSTER',\n",
    "'FIAT-500'\n",
    "]"
   ]
  },
  {
   "cell_type": "code",
   "execution_count": 3,
   "id": "543fe061",
   "metadata": {},
   "outputs": [
    {
     "data": {
      "text/plain": [
       "20"
      ]
     },
     "execution_count": 3,
     "metadata": {},
     "output_type": "execute_result"
    }
   ],
   "source": [
    "all_models = list(set(models_2021))\n",
    "len(all_models)"
   ]
  },
  {
   "cell_type": "code",
   "execution_count": null,
   "id": "d23594c0",
   "metadata": {},
   "outputs": [],
   "source": [
    "for car_model in all_models:\n",
    "    ImageDownloader().download(car_model, 20, save_dir=image_path)"
   ]
  },
  {
   "cell_type": "code",
   "execution_count": 4,
   "id": "32e0ff0f",
   "metadata": {},
   "outputs": [
    {
     "data": {
      "text/plain": [
       "398"
      ]
     },
     "execution_count": 4,
     "metadata": {},
     "output_type": "execute_result"
    }
   ],
   "source": [
    "imgs_path = glob('/home/sotiris/github/Custom-Dataset-Generation/images_20/*/*')\n",
    "len(imgs_path)"
   ]
  },
  {
   "cell_type": "code",
   "execution_count": 5,
   "id": "a7d4ebbd",
   "metadata": {},
   "outputs": [
    {
     "name": "stdout",
     "output_type": "stream",
     "text": [
      "load checkpoint from local path: /home/sotiris/Projects/mmdetection/checkpoints/bdd100k/cascade_rcnn_r50_fpn_1x_det_bdd100k.pth\n"
     ]
    },
    {
     "name": "stderr",
     "output_type": "stream",
     "text": [
      "/home/sotiris/Projects/mmdetection/mmdet/apis/inference.py:50: UserWarning: Class names are not saved in the checkpoint's meta data, use COCO classes by default.\n",
      "  warnings.warn('Class names are not saved in the checkpoint\\'s '\n",
      "/home/sotiris/anaconda3/envs/bdd100k-mmdet/lib/python3.8/site-packages/torch/cuda/__init__.py:120: UserWarning: \n",
      "    Found GPU%d %s which is of cuda capability %d.%d.\n",
      "    PyTorch no longer supports this GPU because it is too old.\n",
      "    The minimum cuda capability supported by this library is %d.%d.\n",
      "    \n",
      "  warnings.warn(old_gpu_warn.format(d, name, major, minor, min_arch // 10, min_arch % 10))\n"
     ]
    },
    {
     "name": "stdout",
     "output_type": "stream",
     "text": [
      "/home/sotiris/github/Custom-Dataset-Generation/images_20/MERCEDES-A/MERCEDES-A_8.jpeg\n"
     ]
    },
    {
     "name": "stderr",
     "output_type": "stream",
     "text": [
      "/home/sotiris/Projects/mmdetection/mmdet/datasets/utils.py:66: UserWarning: \"ImageToTensor\" pipeline is replaced by \"DefaultFormatBundle\" for batch inference. It is recommended to manually replace it in the test data pipeline in your config file.\n",
      "  warnings.warn(\n",
      "/home/sotiris/github/Custom-Dataset-Generation/notebooks/../src/detect_n_crop.py:85: ResourceWarning: unclosed file <_io.BufferedReader name='/home/sotiris/github/Custom-Dataset-Generation/images_20/MERCEDES-A/MERCEDES-A_8.jpeg'>\n",
      "  img = Image.open(frame)\n",
      "ResourceWarning: Enable tracemalloc to get the object allocation traceback\n"
     ]
    },
    {
     "name": "stdout",
     "output_type": "stream",
     "text": [
      "/home/sotiris/github/Custom-Dataset-Generation/images_20/MERCEDES-A/MERCEDES-A_3.jpeg\n"
     ]
    },
    {
     "name": "stderr",
     "output_type": "stream",
     "text": [
      "/home/sotiris/github/Custom-Dataset-Generation/notebooks/../src/detect_n_crop.py:85: ResourceWarning: unclosed file <_io.BufferedReader name='/home/sotiris/github/Custom-Dataset-Generation/images_20/MERCEDES-A/MERCEDES-A_3.jpeg'>\n",
      "  img = Image.open(frame)\n",
      "ResourceWarning: Enable tracemalloc to get the object allocation traceback\n"
     ]
    },
    {
     "name": "stdout",
     "output_type": "stream",
     "text": [
      "/home/sotiris/github/Custom-Dataset-Generation/images_20/MERCEDES-A/MERCEDES-A_19.jpeg\n",
      "/home/sotiris/github/Custom-Dataset-Generation/images_20/MERCEDES-A/MERCEDES-A_2.jpeg\n"
     ]
    },
    {
     "name": "stderr",
     "output_type": "stream",
     "text": [
      "/home/sotiris/github/Custom-Dataset-Generation/notebooks/../src/detect_n_crop.py:39: ResourceWarning: unclosed file <_io.BufferedReader name='/home/sotiris/github/Custom-Dataset-Generation/images_20/MERCEDES-A/MERCEDES-A_19.jpeg'>\n",
      "  img = Image.open(frame)\n",
      "ResourceWarning: Enable tracemalloc to get the object allocation traceback\n",
      "/home/sotiris/github/Custom-Dataset-Generation/notebooks/../src/detect_n_crop.py:85: ResourceWarning: unclosed file <_io.BufferedReader name='/home/sotiris/github/Custom-Dataset-Generation/images_20/MERCEDES-A/MERCEDES-A_2.jpeg'>\n",
      "  img = Image.open(frame)\n",
      "ResourceWarning: Enable tracemalloc to get the object allocation traceback\n"
     ]
    },
    {
     "name": "stdout",
     "output_type": "stream",
     "text": [
      "/home/sotiris/github/Custom-Dataset-Generation/images_20/MERCEDES-A/MERCEDES-A_18.jpeg\n",
      "/home/sotiris/github/Custom-Dataset-Generation/images_20/MERCEDES-A/MERCEDES-A_16.jpeg\n"
     ]
    },
    {
     "name": "stderr",
     "output_type": "stream",
     "text": [
      "/home/sotiris/github/Custom-Dataset-Generation/notebooks/../src/detect_n_crop.py:85: ResourceWarning: unclosed file <_io.BufferedReader name='/home/sotiris/github/Custom-Dataset-Generation/images_20/MERCEDES-A/MERCEDES-A_18.jpeg'>\n",
      "  img = Image.open(frame)\n",
      "ResourceWarning: Enable tracemalloc to get the object allocation traceback\n",
      "/home/sotiris/github/Custom-Dataset-Generation/notebooks/../src/detect_n_crop.py:85: ResourceWarning: unclosed file <_io.BufferedReader name='/home/sotiris/github/Custom-Dataset-Generation/images_20/MERCEDES-A/MERCEDES-A_16.jpeg'>\n",
      "  img = Image.open(frame)\n",
      "ResourceWarning: Enable tracemalloc to get the object allocation traceback\n"
     ]
    },
    {
     "name": "stdout",
     "output_type": "stream",
     "text": [
      "/home/sotiris/github/Custom-Dataset-Generation/images_20/MERCEDES-A/MERCEDES-A_13.jpeg\n"
     ]
    },
    {
     "name": "stderr",
     "output_type": "stream",
     "text": [
      "/home/sotiris/github/Custom-Dataset-Generation/notebooks/../src/detect_n_crop.py:85: ResourceWarning: unclosed file <_io.BufferedReader name='/home/sotiris/github/Custom-Dataset-Generation/images_20/MERCEDES-A/MERCEDES-A_13.jpeg'>\n",
      "  img = Image.open(frame)\n",
      "ResourceWarning: Enable tracemalloc to get the object allocation traceback\n"
     ]
    },
    {
     "name": "stdout",
     "output_type": "stream",
     "text": [
      "/home/sotiris/github/Custom-Dataset-Generation/images_20/MERCEDES-A/MERCEDES-A_15.jpeg\n",
      "/home/sotiris/github/Custom-Dataset-Generation/images_20/MERCEDES-A/MERCEDES-A_6.jpeg\n"
     ]
    },
    {
     "name": "stderr",
     "output_type": "stream",
     "text": [
      "/home/sotiris/github/Custom-Dataset-Generation/notebooks/../src/detect_n_crop.py:39: ResourceWarning: unclosed file <_io.BufferedReader name='/home/sotiris/github/Custom-Dataset-Generation/images_20/MERCEDES-A/MERCEDES-A_15.jpeg'>\n",
      "  img = Image.open(frame)\n",
      "ResourceWarning: Enable tracemalloc to get the object allocation traceback\n",
      "/home/sotiris/github/Custom-Dataset-Generation/notebooks/../src/detect_n_crop.py:85: ResourceWarning: unclosed file <_io.BufferedReader name='/home/sotiris/github/Custom-Dataset-Generation/images_20/MERCEDES-A/MERCEDES-A_6.jpeg'>\n",
      "  img = Image.open(frame)\n",
      "ResourceWarning: Enable tracemalloc to get the object allocation traceback\n"
     ]
    },
    {
     "name": "stdout",
     "output_type": "stream",
     "text": [
      "/home/sotiris/github/Custom-Dataset-Generation/images_20/MERCEDES-A/MERCEDES-A_12.jpeg\n"
     ]
    },
    {
     "name": "stderr",
     "output_type": "stream",
     "text": [
      "/home/sotiris/github/Custom-Dataset-Generation/notebooks/../src/detect_n_crop.py:85: ResourceWarning: unclosed file <_io.BufferedReader name='/home/sotiris/github/Custom-Dataset-Generation/images_20/MERCEDES-A/MERCEDES-A_12.jpeg'>\n",
      "  img = Image.open(frame)\n",
      "ResourceWarning: Enable tracemalloc to get the object allocation traceback\n"
     ]
    },
    {
     "name": "stdout",
     "output_type": "stream",
     "text": [
      "/home/sotiris/github/Custom-Dataset-Generation/images_20/MERCEDES-A/MERCEDES-A_11.jpeg\n"
     ]
    },
    {
     "name": "stderr",
     "output_type": "stream",
     "text": [
      "/home/sotiris/github/Custom-Dataset-Generation/notebooks/../src/detect_n_crop.py:85: ResourceWarning: unclosed file <_io.BufferedReader name='/home/sotiris/github/Custom-Dataset-Generation/images_20/MERCEDES-A/MERCEDES-A_11.jpeg'>\n",
      "  img = Image.open(frame)\n",
      "ResourceWarning: Enable tracemalloc to get the object allocation traceback\n"
     ]
    },
    {
     "name": "stdout",
     "output_type": "stream",
     "text": [
      "/home/sotiris/github/Custom-Dataset-Generation/images_20/MERCEDES-A/MERCEDES-A_14.jpeg\n",
      "/home/sotiris/github/Custom-Dataset-Generation/images_20/MERCEDES-A/MERCEDES-A_17.jpeg\n",
      "/home/sotiris/github/Custom-Dataset-Generation/images_20/MERCEDES-A/MERCEDES-A_4.jpeg\n"
     ]
    },
    {
     "name": "stderr",
     "output_type": "stream",
     "text": [
      "/home/sotiris/github/Custom-Dataset-Generation/notebooks/../src/detect_n_crop.py:39: ResourceWarning: unclosed file <_io.BufferedReader name='/home/sotiris/github/Custom-Dataset-Generation/images_20/MERCEDES-A/MERCEDES-A_14.jpeg'>\n",
      "  img = Image.open(frame)\n",
      "ResourceWarning: Enable tracemalloc to get the object allocation traceback\n",
      "/home/sotiris/github/Custom-Dataset-Generation/notebooks/../src/detect_n_crop.py:39: ResourceWarning: unclosed file <_io.BufferedReader name='/home/sotiris/github/Custom-Dataset-Generation/images_20/MERCEDES-A/MERCEDES-A_17.jpeg'>\n",
      "  img = Image.open(frame)\n",
      "ResourceWarning: Enable tracemalloc to get the object allocation traceback\n",
      "/home/sotiris/github/Custom-Dataset-Generation/notebooks/../src/detect_n_crop.py:85: ResourceWarning: unclosed file <_io.BufferedReader name='/home/sotiris/github/Custom-Dataset-Generation/images_20/MERCEDES-A/MERCEDES-A_4.jpeg'>\n",
      "  img = Image.open(frame)\n",
      "ResourceWarning: Enable tracemalloc to get the object allocation traceback\n"
     ]
    },
    {
     "name": "stdout",
     "output_type": "stream",
     "text": [
      "/home/sotiris/github/Custom-Dataset-Generation/images_20/MERCEDES-A/MERCEDES-A_1.jpeg\n",
      "/home/sotiris/github/Custom-Dataset-Generation/images_20/MERCEDES-A/MERCEDES-A_20.jpeg\n"
     ]
    },
    {
     "name": "stderr",
     "output_type": "stream",
     "text": [
      "/home/sotiris/github/Custom-Dataset-Generation/notebooks/../src/detect_n_crop.py:39: ResourceWarning: unclosed file <_io.BufferedReader name='/home/sotiris/github/Custom-Dataset-Generation/images_20/MERCEDES-A/MERCEDES-A_1.jpeg'>\n",
      "  img = Image.open(frame)\n",
      "ResourceWarning: Enable tracemalloc to get the object allocation traceback\n",
      "/home/sotiris/github/Custom-Dataset-Generation/notebooks/../src/detect_n_crop.py:85: ResourceWarning: unclosed file <_io.BufferedReader name='/home/sotiris/github/Custom-Dataset-Generation/images_20/MERCEDES-A/MERCEDES-A_20.jpeg'>\n",
      "  img = Image.open(frame)\n",
      "ResourceWarning: Enable tracemalloc to get the object allocation traceback\n"
     ]
    },
    {
     "name": "stdout",
     "output_type": "stream",
     "text": [
      "/home/sotiris/github/Custom-Dataset-Generation/images_20/MERCEDES-A/MERCEDES-A_9.jpeg\n",
      "/home/sotiris/github/Custom-Dataset-Generation/images_20/MERCEDES-A/MERCEDES-A_7.jpeg\n"
     ]
    },
    {
     "name": "stderr",
     "output_type": "stream",
     "text": [
      "/home/sotiris/github/Custom-Dataset-Generation/notebooks/../src/detect_n_crop.py:39: ResourceWarning: unclosed file <_io.BufferedReader name='/home/sotiris/github/Custom-Dataset-Generation/images_20/MERCEDES-A/MERCEDES-A_9.jpeg'>\n",
      "  img = Image.open(frame)\n",
      "ResourceWarning: Enable tracemalloc to get the object allocation traceback\n",
      "/home/sotiris/github/Custom-Dataset-Generation/notebooks/../src/detect_n_crop.py:85: ResourceWarning: unclosed file <_io.BufferedReader name='/home/sotiris/github/Custom-Dataset-Generation/images_20/MERCEDES-A/MERCEDES-A_7.jpeg'>\n",
      "  img = Image.open(frame)\n",
      "ResourceWarning: Enable tracemalloc to get the object allocation traceback\n"
     ]
    },
    {
     "name": "stdout",
     "output_type": "stream",
     "text": [
      "/home/sotiris/github/Custom-Dataset-Generation/images_20/MERCEDES-A/MERCEDES-A_5.jpeg\n"
     ]
    },
    {
     "name": "stderr",
     "output_type": "stream",
     "text": [
      "/home/sotiris/github/Custom-Dataset-Generation/notebooks/../src/detect_n_crop.py:85: ResourceWarning: unclosed file <_io.BufferedReader name='/home/sotiris/github/Custom-Dataset-Generation/images_20/MERCEDES-A/MERCEDES-A_5.jpeg'>\n",
      "  img = Image.open(frame)\n",
      "ResourceWarning: Enable tracemalloc to get the object allocation traceback\n"
     ]
    },
    {
     "name": "stdout",
     "output_type": "stream",
     "text": [
      "/home/sotiris/github/Custom-Dataset-Generation/images_20/MERCEDES-A/MERCEDES-A_10.jpeg\n"
     ]
    },
    {
     "name": "stderr",
     "output_type": "stream",
     "text": [
      "/home/sotiris/github/Custom-Dataset-Generation/notebooks/../src/detect_n_crop.py:85: ResourceWarning: unclosed file <_io.BufferedReader name='/home/sotiris/github/Custom-Dataset-Generation/images_20/MERCEDES-A/MERCEDES-A_10.jpeg'>\n",
      "  img = Image.open(frame)\n",
      "ResourceWarning: Enable tracemalloc to get the object allocation traceback\n"
     ]
    },
    {
     "name": "stdout",
     "output_type": "stream",
     "text": [
      "/home/sotiris/github/Custom-Dataset-Generation/images_20/FORD-PUMA/FORD-PUMA_2.jpeg\n",
      "/home/sotiris/github/Custom-Dataset-Generation/images_20/FORD-PUMA/FORD-PUMA_16.jpeg\n"
     ]
    },
    {
     "name": "stderr",
     "output_type": "stream",
     "text": [
      "/home/sotiris/github/Custom-Dataset-Generation/notebooks/../src/detect_n_crop.py:39: ResourceWarning: unclosed file <_io.BufferedReader name='/home/sotiris/github/Custom-Dataset-Generation/images_20/FORD-PUMA/FORD-PUMA_2.jpeg'>\n",
      "  img = Image.open(frame)\n",
      "ResourceWarning: Enable tracemalloc to get the object allocation traceback\n",
      "/home/sotiris/github/Custom-Dataset-Generation/notebooks/../src/detect_n_crop.py:85: ResourceWarning: unclosed file <_io.BufferedReader name='/home/sotiris/github/Custom-Dataset-Generation/images_20/FORD-PUMA/FORD-PUMA_16.jpeg'>\n",
      "  img = Image.open(frame)\n",
      "ResourceWarning: Enable tracemalloc to get the object allocation traceback\n"
     ]
    },
    {
     "name": "stdout",
     "output_type": "stream",
     "text": [
      "/home/sotiris/github/Custom-Dataset-Generation/images_20/FORD-PUMA/FORD-PUMA_11.jpeg\n",
      "/home/sotiris/github/Custom-Dataset-Generation/images_20/FORD-PUMA/FORD-PUMA_10.jpeg\n"
     ]
    },
    {
     "name": "stderr",
     "output_type": "stream",
     "text": [
      "/home/sotiris/github/Custom-Dataset-Generation/notebooks/../src/detect_n_crop.py:39: ResourceWarning: unclosed file <_io.BufferedReader name='/home/sotiris/github/Custom-Dataset-Generation/images_20/FORD-PUMA/FORD-PUMA_11.jpeg'>\n",
      "  img = Image.open(frame)\n",
      "ResourceWarning: Enable tracemalloc to get the object allocation traceback\n",
      "/home/sotiris/github/Custom-Dataset-Generation/notebooks/../src/detect_n_crop.py:85: ResourceWarning: unclosed file <_io.BufferedReader name='/home/sotiris/github/Custom-Dataset-Generation/images_20/FORD-PUMA/FORD-PUMA_10.jpeg'>\n",
      "  img = Image.open(frame)\n",
      "ResourceWarning: Enable tracemalloc to get the object allocation traceback\n"
     ]
    },
    {
     "name": "stdout",
     "output_type": "stream",
     "text": [
      "/home/sotiris/github/Custom-Dataset-Generation/images_20/FORD-PUMA/FORD-PUMA_15.jpeg\n",
      "/home/sotiris/github/Custom-Dataset-Generation/images_20/FORD-PUMA/FORD-PUMA_3.jpeg\n"
     ]
    },
    {
     "name": "stderr",
     "output_type": "stream",
     "text": [
      "/home/sotiris/github/Custom-Dataset-Generation/notebooks/../src/detect_n_crop.py:39: ResourceWarning: unclosed file <_io.BufferedReader name='/home/sotiris/github/Custom-Dataset-Generation/images_20/FORD-PUMA/FORD-PUMA_15.jpeg'>\n",
      "  img = Image.open(frame)\n",
      "ResourceWarning: Enable tracemalloc to get the object allocation traceback\n",
      "/home/sotiris/github/Custom-Dataset-Generation/notebooks/../src/detect_n_crop.py:39: ResourceWarning: unclosed file <_io.BufferedReader name='/home/sotiris/github/Custom-Dataset-Generation/images_20/FORD-PUMA/FORD-PUMA_3.jpeg'>\n",
      "  img = Image.open(frame)\n",
      "ResourceWarning: Enable tracemalloc to get the object allocation traceback\n",
      "/home/sotiris/github/Custom-Dataset-Generation/notebooks/../src/detect_n_crop.py:85: ResourceWarning: unclosed file <_io.BufferedReader name='/home/sotiris/github/Custom-Dataset-Generation/images_20/FORD-PUMA/FORD-PUMA_18.jpeg'>\n",
      "  img = Image.open(frame)\n",
      "ResourceWarning: Enable tracemalloc to get the object allocation traceback\n"
     ]
    },
    {
     "name": "stdout",
     "output_type": "stream",
     "text": [
      "/home/sotiris/github/Custom-Dataset-Generation/images_20/FORD-PUMA/FORD-PUMA_18.jpeg\n",
      "/home/sotiris/github/Custom-Dataset-Generation/images_20/FORD-PUMA/FORD-PUMA_4.jpeg\n",
      "/home/sotiris/github/Custom-Dataset-Generation/images_20/FORD-PUMA/FORD-PUMA_9.jpeg\n"
     ]
    },
    {
     "name": "stderr",
     "output_type": "stream",
     "text": [
      "/home/sotiris/github/Custom-Dataset-Generation/notebooks/../src/detect_n_crop.py:85: ResourceWarning: unclosed file <_io.BufferedReader name='/home/sotiris/github/Custom-Dataset-Generation/images_20/FORD-PUMA/FORD-PUMA_4.jpeg'>\n",
      "  img = Image.open(frame)\n",
      "ResourceWarning: Enable tracemalloc to get the object allocation traceback\n",
      "/home/sotiris/github/Custom-Dataset-Generation/notebooks/../src/detect_n_crop.py:85: ResourceWarning: unclosed file <_io.BufferedReader name='/home/sotiris/github/Custom-Dataset-Generation/images_20/FORD-PUMA/FORD-PUMA_9.jpeg'>\n",
      "  img = Image.open(frame)\n",
      "ResourceWarning: Enable tracemalloc to get the object allocation traceback\n"
     ]
    },
    {
     "name": "stdout",
     "output_type": "stream",
     "text": [
      "/home/sotiris/github/Custom-Dataset-Generation/images_20/FORD-PUMA/FORD-PUMA_14.jpeg\n",
      "/home/sotiris/github/Custom-Dataset-Generation/images_20/FORD-PUMA/FORD-PUMA_1.jpeg\n",
      "/home/sotiris/github/Custom-Dataset-Generation/images_20/FORD-PUMA/FORD-PUMA_20.jpeg\n"
     ]
    },
    {
     "name": "stderr",
     "output_type": "stream",
     "text": [
      "/home/sotiris/github/Custom-Dataset-Generation/notebooks/../src/detect_n_crop.py:39: ResourceWarning: unclosed file <_io.BufferedReader name='/home/sotiris/github/Custom-Dataset-Generation/images_20/FORD-PUMA/FORD-PUMA_14.jpeg'>\n",
      "  img = Image.open(frame)\n",
      "ResourceWarning: Enable tracemalloc to get the object allocation traceback\n",
      "/home/sotiris/github/Custom-Dataset-Generation/notebooks/../src/detect_n_crop.py:39: ResourceWarning: unclosed file <_io.BufferedReader name='/home/sotiris/github/Custom-Dataset-Generation/images_20/FORD-PUMA/FORD-PUMA_1.jpeg'>\n",
      "  img = Image.open(frame)\n",
      "ResourceWarning: Enable tracemalloc to get the object allocation traceback\n",
      "/home/sotiris/github/Custom-Dataset-Generation/notebooks/../src/detect_n_crop.py:39: ResourceWarning: unclosed file <_io.BufferedReader name='/home/sotiris/github/Custom-Dataset-Generation/images_20/FORD-PUMA/FORD-PUMA_20.jpeg'>\n",
      "  img = Image.open(frame)\n",
      "ResourceWarning: Enable tracemalloc to get the object allocation traceback\n"
     ]
    },
    {
     "name": "stdout",
     "output_type": "stream",
     "text": [
      "/home/sotiris/github/Custom-Dataset-Generation/images_20/FORD-PUMA/FORD-PUMA_6.jpeg\n"
     ]
    },
    {
     "name": "stderr",
     "output_type": "stream",
     "text": [
      "/home/sotiris/github/Custom-Dataset-Generation/notebooks/../src/detect_n_crop.py:85: ResourceWarning: unclosed file <_io.BufferedReader name='/home/sotiris/github/Custom-Dataset-Generation/images_20/FORD-PUMA/FORD-PUMA_6.jpeg'>\n",
      "  img = Image.open(frame)\n",
      "ResourceWarning: Enable tracemalloc to get the object allocation traceback\n"
     ]
    },
    {
     "name": "stdout",
     "output_type": "stream",
     "text": [
      "/home/sotiris/github/Custom-Dataset-Generation/images_20/FORD-PUMA/FORD-PUMA_5.jpeg\n",
      "/home/sotiris/github/Custom-Dataset-Generation/images_20/FORD-PUMA/FORD-PUMA_17.jpeg\n",
      "/home/sotiris/github/Custom-Dataset-Generation/images_20/FORD-PUMA/FORD-PUMA_8.png\n"
     ]
    },
    {
     "name": "stderr",
     "output_type": "stream",
     "text": [
      "/home/sotiris/github/Custom-Dataset-Generation/notebooks/../src/detect_n_crop.py:39: ResourceWarning: unclosed file <_io.BufferedReader name='/home/sotiris/github/Custom-Dataset-Generation/images_20/FORD-PUMA/FORD-PUMA_5.jpeg'>\n",
      "  img = Image.open(frame)\n",
      "ResourceWarning: Enable tracemalloc to get the object allocation traceback\n",
      "/home/sotiris/github/Custom-Dataset-Generation/notebooks/../src/detect_n_crop.py:85: ResourceWarning: unclosed file <_io.BufferedReader name='/home/sotiris/github/Custom-Dataset-Generation/images_20/FORD-PUMA/FORD-PUMA_17.jpeg'>\n",
      "  img = Image.open(frame)\n",
      "ResourceWarning: Enable tracemalloc to get the object allocation traceback\n",
      "/home/sotiris/github/Custom-Dataset-Generation/notebooks/../src/detect_n_crop.py:39: ResourceWarning: unclosed file <_io.BufferedReader name='/home/sotiris/github/Custom-Dataset-Generation/images_20/FORD-PUMA/FORD-PUMA_8.png'>\n",
      "  img = Image.open(frame)\n",
      "ResourceWarning: Enable tracemalloc to get the object allocation traceback\n"
     ]
    },
    {
     "name": "stdout",
     "output_type": "stream",
     "text": [
      "/home/sotiris/github/Custom-Dataset-Generation/images_20/FORD-PUMA/FORD-PUMA_19.jpeg\n",
      "/home/sotiris/github/Custom-Dataset-Generation/images_20/FORD-PUMA/FORD-PUMA_7.jpeg\n",
      "/home/sotiris/github/Custom-Dataset-Generation/images_20/FORD-PUMA/FORD-PUMA_12.jpeg\n"
     ]
    },
    {
     "name": "stderr",
     "output_type": "stream",
     "text": [
      "/home/sotiris/github/Custom-Dataset-Generation/notebooks/../src/detect_n_crop.py:39: ResourceWarning: unclosed file <_io.BufferedReader name='/home/sotiris/github/Custom-Dataset-Generation/images_20/FORD-PUMA/FORD-PUMA_19.jpeg'>\n",
      "  img = Image.open(frame)\n",
      "ResourceWarning: Enable tracemalloc to get the object allocation traceback\n",
      "/home/sotiris/github/Custom-Dataset-Generation/notebooks/../src/detect_n_crop.py:39: ResourceWarning: unclosed file <_io.BufferedReader name='/home/sotiris/github/Custom-Dataset-Generation/images_20/FORD-PUMA/FORD-PUMA_7.jpeg'>\n",
      "  img = Image.open(frame)\n",
      "ResourceWarning: Enable tracemalloc to get the object allocation traceback\n",
      "/home/sotiris/github/Custom-Dataset-Generation/notebooks/../src/detect_n_crop.py:85: ResourceWarning: unclosed file <_io.BufferedReader name='/home/sotiris/github/Custom-Dataset-Generation/images_20/FORD-PUMA/FORD-PUMA_12.jpeg'>\n",
      "  img = Image.open(frame)\n",
      "ResourceWarning: Enable tracemalloc to get the object allocation traceback\n"
     ]
    },
    {
     "name": "stdout",
     "output_type": "stream",
     "text": [
      "/home/sotiris/github/Custom-Dataset-Generation/images_20/FORD-PUMA/FORD-PUMA_13.jpeg\n",
      "/home/sotiris/github/Custom-Dataset-Generation/images_20/NISSAN-QASHQAI/NISSAN-QASHQAI_6.jpeg\n"
     ]
    },
    {
     "name": "stderr",
     "output_type": "stream",
     "text": [
      "/home/sotiris/github/Custom-Dataset-Generation/notebooks/../src/detect_n_crop.py:39: ResourceWarning: unclosed file <_io.BufferedReader name='/home/sotiris/github/Custom-Dataset-Generation/images_20/FORD-PUMA/FORD-PUMA_13.jpeg'>\n",
      "  img = Image.open(frame)\n",
      "ResourceWarning: Enable tracemalloc to get the object allocation traceback\n",
      "/home/sotiris/github/Custom-Dataset-Generation/notebooks/../src/detect_n_crop.py:85: ResourceWarning: unclosed file <_io.BufferedReader name='/home/sotiris/github/Custom-Dataset-Generation/images_20/NISSAN-QASHQAI/NISSAN-QASHQAI_6.jpeg'>\n",
      "  img = Image.open(frame)\n",
      "ResourceWarning: Enable tracemalloc to get the object allocation traceback\n"
     ]
    },
    {
     "name": "stdout",
     "output_type": "stream",
     "text": [
      "/home/sotiris/github/Custom-Dataset-Generation/images_20/NISSAN-QASHQAI/NISSAN-QASHQAI_12.jpeg\n"
     ]
    },
    {
     "name": "stderr",
     "output_type": "stream",
     "text": [
      "/home/sotiris/github/Custom-Dataset-Generation/notebooks/../src/detect_n_crop.py:85: ResourceWarning: unclosed file <_io.BufferedReader name='/home/sotiris/github/Custom-Dataset-Generation/images_20/NISSAN-QASHQAI/NISSAN-QASHQAI_12.jpeg'>\n",
      "  img = Image.open(frame)\n",
      "ResourceWarning: Enable tracemalloc to get the object allocation traceback\n"
     ]
    },
    {
     "name": "stdout",
     "output_type": "stream",
     "text": [
      "/home/sotiris/github/Custom-Dataset-Generation/images_20/NISSAN-QASHQAI/NISSAN-QASHQAI_1.jpeg\n"
     ]
    },
    {
     "name": "stderr",
     "output_type": "stream",
     "text": [
      "/home/sotiris/github/Custom-Dataset-Generation/notebooks/../src/detect_n_crop.py:39: ResourceWarning: unclosed file <_io.BufferedReader name='/home/sotiris/github/Custom-Dataset-Generation/images_20/NISSAN-QASHQAI/NISSAN-QASHQAI_1.jpeg'>\n",
      "  img = Image.open(frame)\n",
      "ResourceWarning: Enable tracemalloc to get the object allocation traceback\n",
      "/home/sotiris/github/Custom-Dataset-Generation/notebooks/../src/detect_n_crop.py:85: ResourceWarning: unclosed file <_io.BufferedReader name='/home/sotiris/github/Custom-Dataset-Generation/images_20/NISSAN-QASHQAI/NISSAN-QASHQAI_15.jpeg'>\n",
      "  img = Image.open(frame)\n",
      "ResourceWarning: Enable tracemalloc to get the object allocation traceback\n",
      "/home/sotiris/github/Custom-Dataset-Generation/notebooks/../src/detect_n_crop.py:39: ResourceWarning: unclosed file <_io.BufferedReader name='/home/sotiris/github/Custom-Dataset-Generation/images_20/NISSAN-QASHQAI/NISSAN-QASHQAI_3.jpeg'>\n",
      "  img = Image.open(frame)\n",
      "ResourceWarning: Enable tracemalloc to get the object allocation traceback\n"
     ]
    },
    {
     "name": "stdout",
     "output_type": "stream",
     "text": [
      "/home/sotiris/github/Custom-Dataset-Generation/images_20/NISSAN-QASHQAI/NISSAN-QASHQAI_15.jpeg\n",
      "/home/sotiris/github/Custom-Dataset-Generation/images_20/NISSAN-QASHQAI/NISSAN-QASHQAI_3.jpeg\n",
      "/home/sotiris/github/Custom-Dataset-Generation/images_20/NISSAN-QASHQAI/NISSAN-QASHQAI_10.jpeg\n"
     ]
    },
    {
     "name": "stderr",
     "output_type": "stream",
     "text": [
      "/home/sotiris/github/Custom-Dataset-Generation/notebooks/../src/detect_n_crop.py:85: ResourceWarning: unclosed file <_io.BufferedReader name='/home/sotiris/github/Custom-Dataset-Generation/images_20/NISSAN-QASHQAI/NISSAN-QASHQAI_10.jpeg'>\n",
      "  img = Image.open(frame)\n",
      "ResourceWarning: Enable tracemalloc to get the object allocation traceback\n"
     ]
    },
    {
     "name": "stdout",
     "output_type": "stream",
     "text": [
      "/home/sotiris/github/Custom-Dataset-Generation/images_20/NISSAN-QASHQAI/NISSAN-QASHQAI_16.jpeg\n",
      "/home/sotiris/github/Custom-Dataset-Generation/images_20/NISSAN-QASHQAI/NISSAN-QASHQAI_11.jpeg\n",
      "/home/sotiris/github/Custom-Dataset-Generation/images_20/NISSAN-QASHQAI/NISSAN-QASHQAI_19.jpeg\n"
     ]
    },
    {
     "name": "stderr",
     "output_type": "stream",
     "text": [
      "/home/sotiris/github/Custom-Dataset-Generation/notebooks/../src/detect_n_crop.py:39: ResourceWarning: unclosed file <_io.BufferedReader name='/home/sotiris/github/Custom-Dataset-Generation/images_20/NISSAN-QASHQAI/NISSAN-QASHQAI_16.jpeg'>\n",
      "  img = Image.open(frame)\n",
      "ResourceWarning: Enable tracemalloc to get the object allocation traceback\n",
      "/home/sotiris/github/Custom-Dataset-Generation/notebooks/../src/detect_n_crop.py:39: ResourceWarning: unclosed file <_io.BufferedReader name='/home/sotiris/github/Custom-Dataset-Generation/images_20/NISSAN-QASHQAI/NISSAN-QASHQAI_11.jpeg'>\n",
      "  img = Image.open(frame)\n",
      "ResourceWarning: Enable tracemalloc to get the object allocation traceback\n",
      "/home/sotiris/github/Custom-Dataset-Generation/notebooks/../src/detect_n_crop.py:85: ResourceWarning: unclosed file <_io.BufferedReader name='/home/sotiris/github/Custom-Dataset-Generation/images_20/NISSAN-QASHQAI/NISSAN-QASHQAI_19.jpeg'>\n",
      "  img = Image.open(frame)\n",
      "ResourceWarning: Enable tracemalloc to get the object allocation traceback\n"
     ]
    },
    {
     "name": "stdout",
     "output_type": "stream",
     "text": [
      "/home/sotiris/github/Custom-Dataset-Generation/images_20/NISSAN-QASHQAI/NISSAN-QASHQAI_8.jpeg\n"
     ]
    },
    {
     "name": "stderr",
     "output_type": "stream",
     "text": [
      "/home/sotiris/github/Custom-Dataset-Generation/notebooks/../src/detect_n_crop.py:85: ResourceWarning: unclosed file <_io.BufferedReader name='/home/sotiris/github/Custom-Dataset-Generation/images_20/NISSAN-QASHQAI/NISSAN-QASHQAI_8.jpeg'>\n",
      "  img = Image.open(frame)\n",
      "ResourceWarning: Enable tracemalloc to get the object allocation traceback\n"
     ]
    },
    {
     "name": "stdout",
     "output_type": "stream",
     "text": [
      "/home/sotiris/github/Custom-Dataset-Generation/images_20/NISSAN-QASHQAI/NISSAN-QASHQAI_4.jpeg\n"
     ]
    },
    {
     "name": "stderr",
     "output_type": "stream",
     "text": [
      "/home/sotiris/github/Custom-Dataset-Generation/notebooks/../src/detect_n_crop.py:85: ResourceWarning: unclosed file <_io.BufferedReader name='/home/sotiris/github/Custom-Dataset-Generation/images_20/NISSAN-QASHQAI/NISSAN-QASHQAI_4.jpeg'>\n",
      "  img = Image.open(frame)\n",
      "ResourceWarning: Enable tracemalloc to get the object allocation traceback\n"
     ]
    },
    {
     "name": "stdout",
     "output_type": "stream",
     "text": [
      "/home/sotiris/github/Custom-Dataset-Generation/images_20/NISSAN-QASHQAI/NISSAN-QASHQAI_18.jpeg\n",
      "/home/sotiris/github/Custom-Dataset-Generation/images_20/NISSAN-QASHQAI/NISSAN-QASHQAI_2.jpeg\n"
     ]
    },
    {
     "name": "stderr",
     "output_type": "stream",
     "text": [
      "/home/sotiris/github/Custom-Dataset-Generation/notebooks/../src/detect_n_crop.py:39: ResourceWarning: unclosed file <_io.BufferedReader name='/home/sotiris/github/Custom-Dataset-Generation/images_20/NISSAN-QASHQAI/NISSAN-QASHQAI_18.jpeg'>\n",
      "  img = Image.open(frame)\n",
      "ResourceWarning: Enable tracemalloc to get the object allocation traceback\n",
      "/home/sotiris/github/Custom-Dataset-Generation/notebooks/../src/detect_n_crop.py:85: ResourceWarning: unclosed file <_io.BufferedReader name='/home/sotiris/github/Custom-Dataset-Generation/images_20/NISSAN-QASHQAI/NISSAN-QASHQAI_2.jpeg'>\n",
      "  img = Image.open(frame)\n",
      "ResourceWarning: Enable tracemalloc to get the object allocation traceback\n"
     ]
    },
    {
     "name": "stdout",
     "output_type": "stream",
     "text": [
      "/home/sotiris/github/Custom-Dataset-Generation/images_20/NISSAN-QASHQAI/NISSAN-QASHQAI_17.jpeg\n",
      "/home/sotiris/github/Custom-Dataset-Generation/images_20/NISSAN-QASHQAI/NISSAN-QASHQAI_9.jpeg\n"
     ]
    },
    {
     "name": "stderr",
     "output_type": "stream",
     "text": [
      "/home/sotiris/github/Custom-Dataset-Generation/notebooks/../src/detect_n_crop.py:39: ResourceWarning: unclosed file <_io.BufferedReader name='/home/sotiris/github/Custom-Dataset-Generation/images_20/NISSAN-QASHQAI/NISSAN-QASHQAI_17.jpeg'>\n",
      "  img = Image.open(frame)\n",
      "ResourceWarning: Enable tracemalloc to get the object allocation traceback\n",
      "/home/sotiris/github/Custom-Dataset-Generation/notebooks/../src/detect_n_crop.py:85: ResourceWarning: unclosed file <_io.BufferedReader name='/home/sotiris/github/Custom-Dataset-Generation/images_20/NISSAN-QASHQAI/NISSAN-QASHQAI_9.jpeg'>\n",
      "  img = Image.open(frame)\n",
      "ResourceWarning: Enable tracemalloc to get the object allocation traceback\n"
     ]
    },
    {
     "name": "stdout",
     "output_type": "stream",
     "text": [
      "/home/sotiris/github/Custom-Dataset-Generation/images_20/NISSAN-QASHQAI/NISSAN-QASHQAI_14.jpeg\n",
      "/home/sotiris/github/Custom-Dataset-Generation/images_20/NISSAN-QASHQAI/NISSAN-QASHQAI_20.jpeg\n",
      "/home/sotiris/github/Custom-Dataset-Generation/images_20/NISSAN-QASHQAI/NISSAN-QASHQAI_5.jpeg\n"
     ]
    },
    {
     "name": "stderr",
     "output_type": "stream",
     "text": [
      "/home/sotiris/github/Custom-Dataset-Generation/notebooks/../src/detect_n_crop.py:39: ResourceWarning: unclosed file <_io.BufferedReader name='/home/sotiris/github/Custom-Dataset-Generation/images_20/NISSAN-QASHQAI/NISSAN-QASHQAI_14.jpeg'>\n",
      "  img = Image.open(frame)\n",
      "ResourceWarning: Enable tracemalloc to get the object allocation traceback\n",
      "/home/sotiris/github/Custom-Dataset-Generation/notebooks/../src/detect_n_crop.py:39: ResourceWarning: unclosed file <_io.BufferedReader name='/home/sotiris/github/Custom-Dataset-Generation/images_20/NISSAN-QASHQAI/NISSAN-QASHQAI_20.jpeg'>\n",
      "  img = Image.open(frame)\n",
      "ResourceWarning: Enable tracemalloc to get the object allocation traceback\n",
      "/home/sotiris/github/Custom-Dataset-Generation/notebooks/../src/detect_n_crop.py:39: ResourceWarning: unclosed file <_io.BufferedReader name='/home/sotiris/github/Custom-Dataset-Generation/images_20/NISSAN-QASHQAI/NISSAN-QASHQAI_5.jpeg'>\n",
      "  img = Image.open(frame)\n",
      "ResourceWarning: Enable tracemalloc to get the object allocation traceback\n"
     ]
    },
    {
     "name": "stdout",
     "output_type": "stream",
     "text": [
      "/home/sotiris/github/Custom-Dataset-Generation/images_20/NISSAN-QASHQAI/NISSAN-QASHQAI_7.jpeg\n",
      "/home/sotiris/github/Custom-Dataset-Generation/images_20/NISSAN-QASHQAI/NISSAN-QASHQAI_13.jpeg\n",
      "/home/sotiris/github/Custom-Dataset-Generation/images_20/KIA-RIO/KIA-RIO_19.jpeg\n"
     ]
    },
    {
     "name": "stderr",
     "output_type": "stream",
     "text": [
      "/home/sotiris/github/Custom-Dataset-Generation/notebooks/../src/detect_n_crop.py:39: ResourceWarning: unclosed file <_io.BufferedReader name='/home/sotiris/github/Custom-Dataset-Generation/images_20/NISSAN-QASHQAI/NISSAN-QASHQAI_7.jpeg'>\n",
      "  img = Image.open(frame)\n",
      "ResourceWarning: Enable tracemalloc to get the object allocation traceback\n",
      "/home/sotiris/github/Custom-Dataset-Generation/notebooks/../src/detect_n_crop.py:39: ResourceWarning: unclosed file <_io.BufferedReader name='/home/sotiris/github/Custom-Dataset-Generation/images_20/NISSAN-QASHQAI/NISSAN-QASHQAI_13.jpeg'>\n",
      "  img = Image.open(frame)\n",
      "ResourceWarning: Enable tracemalloc to get the object allocation traceback\n",
      "/home/sotiris/github/Custom-Dataset-Generation/notebooks/../src/detect_n_crop.py:39: ResourceWarning: unclosed file <_io.BufferedReader name='/home/sotiris/github/Custom-Dataset-Generation/images_20/KIA-RIO/KIA-RIO_19.jpeg'>\n",
      "  img = Image.open(frame)\n",
      "ResourceWarning: Enable tracemalloc to get the object allocation traceback\n"
     ]
    },
    {
     "name": "stdout",
     "output_type": "stream",
     "text": [
      "/home/sotiris/github/Custom-Dataset-Generation/images_20/KIA-RIO/KIA-RIO_20.jpeg\n"
     ]
    },
    {
     "name": "stderr",
     "output_type": "stream",
     "text": [
      "/home/sotiris/github/Custom-Dataset-Generation/notebooks/../src/detect_n_crop.py:39: ResourceWarning: unclosed file <_io.BufferedReader name='/home/sotiris/github/Custom-Dataset-Generation/images_20/KIA-RIO/KIA-RIO_20.jpeg'>\n",
      "  img = Image.open(frame)\n",
      "ResourceWarning: Enable tracemalloc to get the object allocation traceback\n",
      "/home/sotiris/github/Custom-Dataset-Generation/notebooks/../src/detect_n_crop.py:85: ResourceWarning: unclosed file <_io.BufferedReader name='/home/sotiris/github/Custom-Dataset-Generation/images_20/KIA-RIO/KIA-RIO_12.png'>\n",
      "  img = Image.open(frame)\n",
      "ResourceWarning: Enable tracemalloc to get the object allocation traceback\n"
     ]
    },
    {
     "name": "stdout",
     "output_type": "stream",
     "text": [
      "/home/sotiris/github/Custom-Dataset-Generation/images_20/KIA-RIO/KIA-RIO_12.png\n",
      "/home/sotiris/github/Custom-Dataset-Generation/images_20/KIA-RIO/KIA-RIO_6.jpeg\n"
     ]
    },
    {
     "name": "stderr",
     "output_type": "stream",
     "text": [
      "/home/sotiris/github/Custom-Dataset-Generation/notebooks/../src/detect_n_crop.py:85: ResourceWarning: unclosed file <_io.BufferedReader name='/home/sotiris/github/Custom-Dataset-Generation/images_20/KIA-RIO/KIA-RIO_6.jpeg'>\n",
      "  img = Image.open(frame)\n",
      "ResourceWarning: Enable tracemalloc to get the object allocation traceback\n"
     ]
    },
    {
     "name": "stdout",
     "output_type": "stream",
     "text": [
      "/home/sotiris/github/Custom-Dataset-Generation/images_20/KIA-RIO/KIA-RIO_11.jpeg\n"
     ]
    },
    {
     "name": "stderr",
     "output_type": "stream",
     "text": [
      "/home/sotiris/github/Custom-Dataset-Generation/notebooks/../src/detect_n_crop.py:85: ResourceWarning: unclosed file <_io.BufferedReader name='/home/sotiris/github/Custom-Dataset-Generation/images_20/KIA-RIO/KIA-RIO_11.jpeg'>\n",
      "  img = Image.open(frame)\n",
      "ResourceWarning: Enable tracemalloc to get the object allocation traceback\n"
     ]
    },
    {
     "name": "stdout",
     "output_type": "stream",
     "text": [
      "/home/sotiris/github/Custom-Dataset-Generation/images_20/KIA-RIO/KIA-RIO_15.jpeg\n",
      "/home/sotiris/github/Custom-Dataset-Generation/images_20/KIA-RIO/KIA-RIO_9.jpeg\n",
      "/home/sotiris/github/Custom-Dataset-Generation/images_20/KIA-RIO/KIA-RIO_10.jpeg\n"
     ]
    },
    {
     "name": "stderr",
     "output_type": "stream",
     "text": [
      "/home/sotiris/github/Custom-Dataset-Generation/notebooks/../src/detect_n_crop.py:39: ResourceWarning: unclosed file <_io.BufferedReader name='/home/sotiris/github/Custom-Dataset-Generation/images_20/KIA-RIO/KIA-RIO_15.jpeg'>\n",
      "  img = Image.open(frame)\n",
      "ResourceWarning: Enable tracemalloc to get the object allocation traceback\n",
      "/home/sotiris/github/Custom-Dataset-Generation/notebooks/../src/detect_n_crop.py:39: ResourceWarning: unclosed file <_io.BufferedReader name='/home/sotiris/github/Custom-Dataset-Generation/images_20/KIA-RIO/KIA-RIO_9.jpeg'>\n",
      "  img = Image.open(frame)\n",
      "ResourceWarning: Enable tracemalloc to get the object allocation traceback\n",
      "/home/sotiris/github/Custom-Dataset-Generation/notebooks/../src/detect_n_crop.py:85: ResourceWarning: unclosed file <_io.BufferedReader name='/home/sotiris/github/Custom-Dataset-Generation/images_20/KIA-RIO/KIA-RIO_10.jpeg'>\n",
      "  img = Image.open(frame)\n",
      "ResourceWarning: Enable tracemalloc to get the object allocation traceback\n"
     ]
    },
    {
     "name": "stdout",
     "output_type": "stream",
     "text": [
      "/home/sotiris/github/Custom-Dataset-Generation/images_20/KIA-RIO/KIA-RIO_16.jpeg\n"
     ]
    },
    {
     "name": "stderr",
     "output_type": "stream",
     "text": [
      "/home/sotiris/github/Custom-Dataset-Generation/notebooks/../src/detect_n_crop.py:85: ResourceWarning: unclosed file <_io.BufferedReader name='/home/sotiris/github/Custom-Dataset-Generation/images_20/KIA-RIO/KIA-RIO_16.jpeg'>\n",
      "  img = Image.open(frame)\n",
      "ResourceWarning: Enable tracemalloc to get the object allocation traceback\n"
     ]
    },
    {
     "name": "stdout",
     "output_type": "stream",
     "text": [
      "/home/sotiris/github/Custom-Dataset-Generation/images_20/KIA-RIO/KIA-RIO_13.jpeg\n",
      "/home/sotiris/github/Custom-Dataset-Generation/images_20/KIA-RIO/KIA-RIO_5.jpeg\n"
     ]
    },
    {
     "name": "stderr",
     "output_type": "stream",
     "text": [
      "/home/sotiris/github/Custom-Dataset-Generation/notebooks/../src/detect_n_crop.py:85: ResourceWarning: unclosed file <_io.BufferedReader name='/home/sotiris/github/Custom-Dataset-Generation/images_20/KIA-RIO/KIA-RIO_13.jpeg'>\n",
      "  img = Image.open(frame)\n",
      "ResourceWarning: Enable tracemalloc to get the object allocation traceback\n",
      "/home/sotiris/github/Custom-Dataset-Generation/notebooks/../src/detect_n_crop.py:85: ResourceWarning: unclosed file <_io.BufferedReader name='/home/sotiris/github/Custom-Dataset-Generation/images_20/KIA-RIO/KIA-RIO_5.jpeg'>\n",
      "  img = Image.open(frame)\n",
      "ResourceWarning: Enable tracemalloc to get the object allocation traceback\n"
     ]
    },
    {
     "name": "stdout",
     "output_type": "stream",
     "text": [
      "/home/sotiris/github/Custom-Dataset-Generation/images_20/KIA-RIO/KIA-RIO_7.jpeg\n"
     ]
    },
    {
     "name": "stderr",
     "output_type": "stream",
     "text": [
      "/home/sotiris/github/Custom-Dataset-Generation/notebooks/../src/detect_n_crop.py:85: ResourceWarning: unclosed file <_io.BufferedReader name='/home/sotiris/github/Custom-Dataset-Generation/images_20/KIA-RIO/KIA-RIO_7.jpeg'>\n",
      "  img = Image.open(frame)\n",
      "ResourceWarning: Enable tracemalloc to get the object allocation traceback\n"
     ]
    },
    {
     "name": "stdout",
     "output_type": "stream",
     "text": [
      "/home/sotiris/github/Custom-Dataset-Generation/images_20/KIA-RIO/KIA-RIO_3.jpeg\n",
      "/home/sotiris/github/Custom-Dataset-Generation/images_20/KIA-RIO/KIA-RIO_2.png\n"
     ]
    },
    {
     "name": "stderr",
     "output_type": "stream",
     "text": [
      "/home/sotiris/github/Custom-Dataset-Generation/notebooks/../src/detect_n_crop.py:39: ResourceWarning: unclosed file <_io.BufferedReader name='/home/sotiris/github/Custom-Dataset-Generation/images_20/KIA-RIO/KIA-RIO_3.jpeg'>\n",
      "  img = Image.open(frame)\n",
      "ResourceWarning: Enable tracemalloc to get the object allocation traceback\n",
      "/home/sotiris/github/Custom-Dataset-Generation/notebooks/../src/detect_n_crop.py:85: ResourceWarning: unclosed file <_io.BufferedReader name='/home/sotiris/github/Custom-Dataset-Generation/images_20/KIA-RIO/KIA-RIO_2.png'>\n",
      "  img = Image.open(frame)\n",
      "ResourceWarning: Enable tracemalloc to get the object allocation traceback\n"
     ]
    },
    {
     "name": "stdout",
     "output_type": "stream",
     "text": [
      "/home/sotiris/github/Custom-Dataset-Generation/images_20/KIA-RIO/KIA-RIO_17.jpeg\n"
     ]
    },
    {
     "name": "stderr",
     "output_type": "stream",
     "text": [
      "/home/sotiris/github/Custom-Dataset-Generation/notebooks/../src/detect_n_crop.py:85: ResourceWarning: unclosed file <_io.BufferedReader name='/home/sotiris/github/Custom-Dataset-Generation/images_20/KIA-RIO/KIA-RIO_17.jpeg'>\n",
      "  img = Image.open(frame)\n",
      "ResourceWarning: Enable tracemalloc to get the object allocation traceback\n"
     ]
    },
    {
     "name": "stdout",
     "output_type": "stream",
     "text": [
      "/home/sotiris/github/Custom-Dataset-Generation/images_20/KIA-RIO/KIA-RIO_14.jpeg\n"
     ]
    },
    {
     "name": "stderr",
     "output_type": "stream",
     "text": [
      "/home/sotiris/github/Custom-Dataset-Generation/notebooks/../src/detect_n_crop.py:85: ResourceWarning: unclosed file <_io.BufferedReader name='/home/sotiris/github/Custom-Dataset-Generation/images_20/KIA-RIO/KIA-RIO_14.jpeg'>\n",
      "  img = Image.open(frame)\n",
      "ResourceWarning: Enable tracemalloc to get the object allocation traceback\n"
     ]
    },
    {
     "name": "stdout",
     "output_type": "stream",
     "text": [
      "/home/sotiris/github/Custom-Dataset-Generation/images_20/KIA-RIO/KIA-RIO_1.jpeg\n"
     ]
    },
    {
     "name": "stderr",
     "output_type": "stream",
     "text": [
      "/home/sotiris/github/Custom-Dataset-Generation/notebooks/../src/detect_n_crop.py:39: ResourceWarning: unclosed file <_io.BufferedReader name='/home/sotiris/github/Custom-Dataset-Generation/images_20/KIA-RIO/KIA-RIO_1.jpeg'>\n",
      "  img = Image.open(frame)\n",
      "ResourceWarning: Enable tracemalloc to get the object allocation traceback\n",
      "/home/sotiris/github/Custom-Dataset-Generation/notebooks/../src/detect_n_crop.py:85: ResourceWarning: unclosed file <_io.BufferedReader name='/home/sotiris/github/Custom-Dataset-Generation/images_20/KIA-RIO/KIA-RIO_18.jpeg'>\n",
      "  img = Image.open(frame)\n",
      "ResourceWarning: Enable tracemalloc to get the object allocation traceback\n"
     ]
    },
    {
     "name": "stdout",
     "output_type": "stream",
     "text": [
      "/home/sotiris/github/Custom-Dataset-Generation/images_20/KIA-RIO/KIA-RIO_18.jpeg\n",
      "/home/sotiris/github/Custom-Dataset-Generation/images_20/KIA-RIO/KIA-RIO_4.jpeg\n",
      "/home/sotiris/github/Custom-Dataset-Generation/images_20/KIA-RIO/KIA-RIO_8.jpeg\n",
      "/home/sotiris/github/Custom-Dataset-Generation/images_20/HYUNDAI-I10/HYUNDAI-I10_19.jpeg\n"
     ]
    },
    {
     "name": "stderr",
     "output_type": "stream",
     "text": [
      "/home/sotiris/github/Custom-Dataset-Generation/notebooks/../src/detect_n_crop.py:39: ResourceWarning: unclosed file <_io.BufferedReader name='/home/sotiris/github/Custom-Dataset-Generation/images_20/KIA-RIO/KIA-RIO_4.jpeg'>\n",
      "  img = Image.open(frame)\n",
      "ResourceWarning: Enable tracemalloc to get the object allocation traceback\n",
      "/home/sotiris/github/Custom-Dataset-Generation/notebooks/../src/detect_n_crop.py:39: ResourceWarning: unclosed file <_io.BufferedReader name='/home/sotiris/github/Custom-Dataset-Generation/images_20/KIA-RIO/KIA-RIO_8.jpeg'>\n",
      "  img = Image.open(frame)\n",
      "ResourceWarning: Enable tracemalloc to get the object allocation traceback\n",
      "/home/sotiris/github/Custom-Dataset-Generation/notebooks/../src/detect_n_crop.py:85: ResourceWarning: unclosed file <_io.BufferedReader name='/home/sotiris/github/Custom-Dataset-Generation/images_20/HYUNDAI-I10/HYUNDAI-I10_19.jpeg'>\n",
      "  img = Image.open(frame)\n",
      "ResourceWarning: Enable tracemalloc to get the object allocation traceback\n"
     ]
    },
    {
     "name": "stdout",
     "output_type": "stream",
     "text": [
      "/home/sotiris/github/Custom-Dataset-Generation/images_20/HYUNDAI-I10/HYUNDAI-I10_16.jpeg\n",
      "/home/sotiris/github/Custom-Dataset-Generation/images_20/HYUNDAI-I10/HYUNDAI-I10_8.jpeg\n"
     ]
    },
    {
     "name": "stderr",
     "output_type": "stream",
     "text": [
      "/home/sotiris/github/Custom-Dataset-Generation/notebooks/../src/detect_n_crop.py:39: ResourceWarning: unclosed file <_io.BufferedReader name='/home/sotiris/github/Custom-Dataset-Generation/images_20/HYUNDAI-I10/HYUNDAI-I10_16.jpeg'>\n",
      "  img = Image.open(frame)\n",
      "ResourceWarning: Enable tracemalloc to get the object allocation traceback\n",
      "/home/sotiris/github/Custom-Dataset-Generation/notebooks/../src/detect_n_crop.py:85: ResourceWarning: unclosed file <_io.BufferedReader name='/home/sotiris/github/Custom-Dataset-Generation/images_20/HYUNDAI-I10/HYUNDAI-I10_8.jpeg'>\n",
      "  img = Image.open(frame)\n",
      "ResourceWarning: Enable tracemalloc to get the object allocation traceback\n"
     ]
    },
    {
     "name": "stdout",
     "output_type": "stream",
     "text": [
      "/home/sotiris/github/Custom-Dataset-Generation/images_20/HYUNDAI-I10/HYUNDAI-I10_6.jpeg\n",
      "/home/sotiris/github/Custom-Dataset-Generation/images_20/HYUNDAI-I10/HYUNDAI-I10_11.jpeg\n",
      "/home/sotiris/github/Custom-Dataset-Generation/images_20/HYUNDAI-I10/HYUNDAI-I10_20.jpeg\n"
     ]
    },
    {
     "name": "stderr",
     "output_type": "stream",
     "text": [
      "/home/sotiris/github/Custom-Dataset-Generation/notebooks/../src/detect_n_crop.py:39: ResourceWarning: unclosed file <_io.BufferedReader name='/home/sotiris/github/Custom-Dataset-Generation/images_20/HYUNDAI-I10/HYUNDAI-I10_6.jpeg'>\n",
      "  img = Image.open(frame)\n",
      "ResourceWarning: Enable tracemalloc to get the object allocation traceback\n",
      "/home/sotiris/github/Custom-Dataset-Generation/notebooks/../src/detect_n_crop.py:39: ResourceWarning: unclosed file <_io.BufferedReader name='/home/sotiris/github/Custom-Dataset-Generation/images_20/HYUNDAI-I10/HYUNDAI-I10_11.jpeg'>\n",
      "  img = Image.open(frame)\n",
      "ResourceWarning: Enable tracemalloc to get the object allocation traceback\n",
      "/home/sotiris/github/Custom-Dataset-Generation/notebooks/../src/detect_n_crop.py:85: ResourceWarning: unclosed file <_io.BufferedReader name='/home/sotiris/github/Custom-Dataset-Generation/images_20/HYUNDAI-I10/HYUNDAI-I10_20.jpeg'>\n",
      "  img = Image.open(frame)\n",
      "ResourceWarning: Enable tracemalloc to get the object allocation traceback\n"
     ]
    },
    {
     "name": "stdout",
     "output_type": "stream",
     "text": [
      "/home/sotiris/github/Custom-Dataset-Generation/images_20/HYUNDAI-I10/HYUNDAI-I10_5.jpeg\n"
     ]
    },
    {
     "name": "stderr",
     "output_type": "stream",
     "text": [
      "/home/sotiris/github/Custom-Dataset-Generation/notebooks/../src/detect_n_crop.py:85: ResourceWarning: unclosed file <_io.BufferedReader name='/home/sotiris/github/Custom-Dataset-Generation/images_20/HYUNDAI-I10/HYUNDAI-I10_5.jpeg'>\n",
      "  img = Image.open(frame)\n",
      "ResourceWarning: Enable tracemalloc to get the object allocation traceback\n"
     ]
    },
    {
     "name": "stdout",
     "output_type": "stream",
     "text": [
      "/home/sotiris/github/Custom-Dataset-Generation/images_20/HYUNDAI-I10/HYUNDAI-I10_18.jpeg\n",
      "/home/sotiris/github/Custom-Dataset-Generation/images_20/HYUNDAI-I10/HYUNDAI-I10_7.jpeg\n"
     ]
    },
    {
     "name": "stderr",
     "output_type": "stream",
     "text": [
      "/home/sotiris/github/Custom-Dataset-Generation/notebooks/../src/detect_n_crop.py:39: ResourceWarning: unclosed file <_io.BufferedReader name='/home/sotiris/github/Custom-Dataset-Generation/images_20/HYUNDAI-I10/HYUNDAI-I10_18.jpeg'>\n",
      "  img = Image.open(frame)\n",
      "ResourceWarning: Enable tracemalloc to get the object allocation traceback\n",
      "/home/sotiris/github/Custom-Dataset-Generation/notebooks/../src/detect_n_crop.py:85: ResourceWarning: unclosed file <_io.BufferedReader name='/home/sotiris/github/Custom-Dataset-Generation/images_20/HYUNDAI-I10/HYUNDAI-I10_7.jpeg'>\n",
      "  img = Image.open(frame)\n",
      "ResourceWarning: Enable tracemalloc to get the object allocation traceback\n"
     ]
    },
    {
     "name": "stdout",
     "output_type": "stream",
     "text": [
      "/home/sotiris/github/Custom-Dataset-Generation/images_20/HYUNDAI-I10/HYUNDAI-I10_15.jpeg\n",
      "/home/sotiris/github/Custom-Dataset-Generation/images_20/HYUNDAI-I10/HYUNDAI-I10_1.jpeg\n"
     ]
    },
    {
     "name": "stderr",
     "output_type": "stream",
     "text": [
      "/home/sotiris/github/Custom-Dataset-Generation/notebooks/../src/detect_n_crop.py:39: ResourceWarning: unclosed file <_io.BufferedReader name='/home/sotiris/github/Custom-Dataset-Generation/images_20/HYUNDAI-I10/HYUNDAI-I10_15.jpeg'>\n",
      "  img = Image.open(frame)\n",
      "ResourceWarning: Enable tracemalloc to get the object allocation traceback\n",
      "/home/sotiris/github/Custom-Dataset-Generation/notebooks/../src/detect_n_crop.py:39: ResourceWarning: unclosed file <_io.BufferedReader name='/home/sotiris/github/Custom-Dataset-Generation/images_20/HYUNDAI-I10/HYUNDAI-I10_1.jpeg'>\n",
      "  img = Image.open(frame)\n",
      "ResourceWarning: Enable tracemalloc to get the object allocation traceback\n",
      "/home/sotiris/github/Custom-Dataset-Generation/notebooks/../src/detect_n_crop.py:85: ResourceWarning: unclosed file <_io.BufferedReader name='/home/sotiris/github/Custom-Dataset-Generation/images_20/HYUNDAI-I10/HYUNDAI-I10_9.jpeg'>\n",
      "  img = Image.open(frame)\n",
      "ResourceWarning: Enable tracemalloc to get the object allocation traceback\n"
     ]
    },
    {
     "name": "stdout",
     "output_type": "stream",
     "text": [
      "/home/sotiris/github/Custom-Dataset-Generation/images_20/HYUNDAI-I10/HYUNDAI-I10_9.jpeg\n",
      "/home/sotiris/github/Custom-Dataset-Generation/images_20/HYUNDAI-I10/HYUNDAI-I10_14.jpeg\n",
      "/home/sotiris/github/Custom-Dataset-Generation/images_20/HYUNDAI-I10/HYUNDAI-I10_2.jpeg\n"
     ]
    },
    {
     "name": "stderr",
     "output_type": "stream",
     "text": [
      "/home/sotiris/github/Custom-Dataset-Generation/notebooks/../src/detect_n_crop.py:39: ResourceWarning: unclosed file <_io.BufferedReader name='/home/sotiris/github/Custom-Dataset-Generation/images_20/HYUNDAI-I10/HYUNDAI-I10_14.jpeg'>\n",
      "  img = Image.open(frame)\n",
      "ResourceWarning: Enable tracemalloc to get the object allocation traceback\n",
      "/home/sotiris/github/Custom-Dataset-Generation/notebooks/../src/detect_n_crop.py:85: ResourceWarning: unclosed file <_io.BufferedReader name='/home/sotiris/github/Custom-Dataset-Generation/images_20/HYUNDAI-I10/HYUNDAI-I10_2.jpeg'>\n",
      "  img = Image.open(frame)\n",
      "ResourceWarning: Enable tracemalloc to get the object allocation traceback\n"
     ]
    },
    {
     "name": "stdout",
     "output_type": "stream",
     "text": [
      "/home/sotiris/github/Custom-Dataset-Generation/images_20/HYUNDAI-I10/HYUNDAI-I10_12.jpeg\n"
     ]
    },
    {
     "name": "stderr",
     "output_type": "stream",
     "text": [
      "/home/sotiris/github/Custom-Dataset-Generation/notebooks/../src/detect_n_crop.py:85: ResourceWarning: unclosed file <_io.BufferedReader name='/home/sotiris/github/Custom-Dataset-Generation/images_20/HYUNDAI-I10/HYUNDAI-I10_12.jpeg'>\n",
      "  img = Image.open(frame)\n",
      "ResourceWarning: Enable tracemalloc to get the object allocation traceback\n"
     ]
    },
    {
     "name": "stdout",
     "output_type": "stream",
     "text": [
      "/home/sotiris/github/Custom-Dataset-Generation/images_20/HYUNDAI-I10/HYUNDAI-I10_3.jpeg\n"
     ]
    },
    {
     "name": "stderr",
     "output_type": "stream",
     "text": [
      "/home/sotiris/github/Custom-Dataset-Generation/notebooks/../src/detect_n_crop.py:85: ResourceWarning: unclosed file <_io.BufferedReader name='/home/sotiris/github/Custom-Dataset-Generation/images_20/HYUNDAI-I10/HYUNDAI-I10_3.jpeg'>\n",
      "  img = Image.open(frame)\n",
      "ResourceWarning: Enable tracemalloc to get the object allocation traceback\n"
     ]
    },
    {
     "name": "stdout",
     "output_type": "stream",
     "text": [
      "/home/sotiris/github/Custom-Dataset-Generation/images_20/HYUNDAI-I10/HYUNDAI-I10_10.jpeg\n",
      "/home/sotiris/github/Custom-Dataset-Generation/images_20/HYUNDAI-I10/HYUNDAI-I10_4.jpeg\n"
     ]
    },
    {
     "name": "stderr",
     "output_type": "stream",
     "text": [
      "/home/sotiris/github/Custom-Dataset-Generation/notebooks/../src/detect_n_crop.py:39: ResourceWarning: unclosed file <_io.BufferedReader name='/home/sotiris/github/Custom-Dataset-Generation/images_20/HYUNDAI-I10/HYUNDAI-I10_10.jpeg'>\n",
      "  img = Image.open(frame)\n",
      "ResourceWarning: Enable tracemalloc to get the object allocation traceback\n",
      "/home/sotiris/github/Custom-Dataset-Generation/notebooks/../src/detect_n_crop.py:85: ResourceWarning: unclosed file <_io.BufferedReader name='/home/sotiris/github/Custom-Dataset-Generation/images_20/HYUNDAI-I10/HYUNDAI-I10_4.jpeg'>\n",
      "  img = Image.open(frame)\n",
      "ResourceWarning: Enable tracemalloc to get the object allocation traceback\n"
     ]
    },
    {
     "name": "stdout",
     "output_type": "stream",
     "text": [
      "/home/sotiris/github/Custom-Dataset-Generation/images_20/HYUNDAI-I10/HYUNDAI-I10_17.jpeg\n",
      "/home/sotiris/github/Custom-Dataset-Generation/images_20/HYUNDAI-I10/HYUNDAI-I10_13.jpeg\n",
      "/home/sotiris/github/Custom-Dataset-Generation/images_20/HYUNDAI-I20/HYUNDAI-I20_1.jpeg\n"
     ]
    },
    {
     "name": "stderr",
     "output_type": "stream",
     "text": [
      "/home/sotiris/github/Custom-Dataset-Generation/notebooks/../src/detect_n_crop.py:39: ResourceWarning: unclosed file <_io.BufferedReader name='/home/sotiris/github/Custom-Dataset-Generation/images_20/HYUNDAI-I10/HYUNDAI-I10_17.jpeg'>\n",
      "  img = Image.open(frame)\n",
      "ResourceWarning: Enable tracemalloc to get the object allocation traceback\n",
      "/home/sotiris/github/Custom-Dataset-Generation/notebooks/../src/detect_n_crop.py:39: ResourceWarning: unclosed file <_io.BufferedReader name='/home/sotiris/github/Custom-Dataset-Generation/images_20/HYUNDAI-I10/HYUNDAI-I10_13.jpeg'>\n",
      "  img = Image.open(frame)\n",
      "ResourceWarning: Enable tracemalloc to get the object allocation traceback\n",
      "/home/sotiris/github/Custom-Dataset-Generation/notebooks/../src/detect_n_crop.py:39: ResourceWarning: unclosed file <_io.BufferedReader name='/home/sotiris/github/Custom-Dataset-Generation/images_20/HYUNDAI-I20/HYUNDAI-I20_1.jpeg'>\n",
      "  img = Image.open(frame)\n",
      "ResourceWarning: Enable tracemalloc to get the object allocation traceback\n"
     ]
    },
    {
     "name": "stdout",
     "output_type": "stream",
     "text": [
      "/home/sotiris/github/Custom-Dataset-Generation/images_20/HYUNDAI-I20/HYUNDAI-I20_19.jpeg\n",
      "/home/sotiris/github/Custom-Dataset-Generation/images_20/HYUNDAI-I20/HYUNDAI-I20_15.jpeg\n",
      "/home/sotiris/github/Custom-Dataset-Generation/images_20/HYUNDAI-I20/HYUNDAI-I20_17.jpeg\n"
     ]
    },
    {
     "name": "stderr",
     "output_type": "stream",
     "text": [
      "/home/sotiris/github/Custom-Dataset-Generation/notebooks/../src/detect_n_crop.py:39: ResourceWarning: unclosed file <_io.BufferedReader name='/home/sotiris/github/Custom-Dataset-Generation/images_20/HYUNDAI-I20/HYUNDAI-I20_19.jpeg'>\n",
      "  img = Image.open(frame)\n",
      "ResourceWarning: Enable tracemalloc to get the object allocation traceback\n",
      "/home/sotiris/github/Custom-Dataset-Generation/notebooks/../src/detect_n_crop.py:39: ResourceWarning: unclosed file <_io.BufferedReader name='/home/sotiris/github/Custom-Dataset-Generation/images_20/HYUNDAI-I20/HYUNDAI-I20_15.jpeg'>\n",
      "  img = Image.open(frame)\n",
      "ResourceWarning: Enable tracemalloc to get the object allocation traceback\n",
      "/home/sotiris/github/Custom-Dataset-Generation/notebooks/../src/detect_n_crop.py:39: ResourceWarning: unclosed file <_io.BufferedReader name='/home/sotiris/github/Custom-Dataset-Generation/images_20/HYUNDAI-I20/HYUNDAI-I20_17.jpeg'>\n",
      "  img = Image.open(frame)\n",
      "ResourceWarning: Enable tracemalloc to get the object allocation traceback\n"
     ]
    },
    {
     "name": "stdout",
     "output_type": "stream",
     "text": [
      "/home/sotiris/github/Custom-Dataset-Generation/images_20/HYUNDAI-I20/HYUNDAI-I20_5.jpeg\n"
     ]
    },
    {
     "name": "stderr",
     "output_type": "stream",
     "text": [
      "/home/sotiris/github/Custom-Dataset-Generation/notebooks/../src/detect_n_crop.py:85: ResourceWarning: unclosed file <_io.BufferedReader name='/home/sotiris/github/Custom-Dataset-Generation/images_20/HYUNDAI-I20/HYUNDAI-I20_5.jpeg'>\n",
      "  img = Image.open(frame)\n",
      "ResourceWarning: Enable tracemalloc to get the object allocation traceback\n"
     ]
    },
    {
     "name": "stdout",
     "output_type": "stream",
     "text": [
      "/home/sotiris/github/Custom-Dataset-Generation/images_20/HYUNDAI-I20/HYUNDAI-I20_11.jpeg\n"
     ]
    },
    {
     "name": "stderr",
     "output_type": "stream",
     "text": [
      "/home/sotiris/github/Custom-Dataset-Generation/notebooks/../src/detect_n_crop.py:85: ResourceWarning: unclosed file <_io.BufferedReader name='/home/sotiris/github/Custom-Dataset-Generation/images_20/HYUNDAI-I20/HYUNDAI-I20_11.jpeg'>\n",
      "  img = Image.open(frame)\n",
      "ResourceWarning: Enable tracemalloc to get the object allocation traceback\n"
     ]
    },
    {
     "name": "stdout",
     "output_type": "stream",
     "text": [
      "/home/sotiris/github/Custom-Dataset-Generation/images_20/HYUNDAI-I20/HYUNDAI-I20_12.jpeg\n",
      "/home/sotiris/github/Custom-Dataset-Generation/images_20/HYUNDAI-I20/HYUNDAI-I20_3.jpeg\n"
     ]
    },
    {
     "name": "stderr",
     "output_type": "stream",
     "text": [
      "/home/sotiris/github/Custom-Dataset-Generation/notebooks/../src/detect_n_crop.py:39: ResourceWarning: unclosed file <_io.BufferedReader name='/home/sotiris/github/Custom-Dataset-Generation/images_20/HYUNDAI-I20/HYUNDAI-I20_12.jpeg'>\n",
      "  img = Image.open(frame)\n",
      "ResourceWarning: Enable tracemalloc to get the object allocation traceback\n",
      "/home/sotiris/github/Custom-Dataset-Generation/notebooks/../src/detect_n_crop.py:85: ResourceWarning: unclosed file <_io.BufferedReader name='/home/sotiris/github/Custom-Dataset-Generation/images_20/HYUNDAI-I20/HYUNDAI-I20_3.jpeg'>\n",
      "  img = Image.open(frame)\n",
      "ResourceWarning: Enable tracemalloc to get the object allocation traceback\n"
     ]
    },
    {
     "name": "stdout",
     "output_type": "stream",
     "text": [
      "/home/sotiris/github/Custom-Dataset-Generation/images_20/HYUNDAI-I20/HYUNDAI-I20_9.jpeg\n",
      "/home/sotiris/github/Custom-Dataset-Generation/images_20/HYUNDAI-I20/HYUNDAI-I20_4.jpeg\n"
     ]
    },
    {
     "name": "stderr",
     "output_type": "stream",
     "text": [
      "/home/sotiris/github/Custom-Dataset-Generation/notebooks/../src/detect_n_crop.py:85: ResourceWarning: unclosed file <_io.BufferedReader name='/home/sotiris/github/Custom-Dataset-Generation/images_20/HYUNDAI-I20/HYUNDAI-I20_9.jpeg'>\n",
      "  img = Image.open(frame)\n",
      "ResourceWarning: Enable tracemalloc to get the object allocation traceback\n",
      "/home/sotiris/github/Custom-Dataset-Generation/notebooks/../src/detect_n_crop.py:39: ResourceWarning: unclosed file <_io.BufferedReader name='/home/sotiris/github/Custom-Dataset-Generation/images_20/HYUNDAI-I20/HYUNDAI-I20_4.jpeg'>\n",
      "  img = Image.open(frame)\n",
      "ResourceWarning: Enable tracemalloc to get the object allocation traceback\n",
      "/home/sotiris/github/Custom-Dataset-Generation/notebooks/../src/detect_n_crop.py:39: ResourceWarning: unclosed file <_io.BufferedReader name='/home/sotiris/github/Custom-Dataset-Generation/images_20/HYUNDAI-I20/HYUNDAI-I20_16.jpeg'>\n",
      "  img = Image.open(frame)\n",
      "ResourceWarning: Enable tracemalloc to get the object allocation traceback\n"
     ]
    },
    {
     "name": "stdout",
     "output_type": "stream",
     "text": [
      "/home/sotiris/github/Custom-Dataset-Generation/images_20/HYUNDAI-I20/HYUNDAI-I20_16.jpeg\n",
      "/home/sotiris/github/Custom-Dataset-Generation/images_20/HYUNDAI-I20/HYUNDAI-I20_2.jpeg\n"
     ]
    },
    {
     "name": "stderr",
     "output_type": "stream",
     "text": [
      "/home/sotiris/github/Custom-Dataset-Generation/notebooks/../src/detect_n_crop.py:85: ResourceWarning: unclosed file <_io.BufferedReader name='/home/sotiris/github/Custom-Dataset-Generation/images_20/HYUNDAI-I20/HYUNDAI-I20_2.jpeg'>\n",
      "  img = Image.open(frame)\n",
      "ResourceWarning: Enable tracemalloc to get the object allocation traceback\n"
     ]
    },
    {
     "name": "stdout",
     "output_type": "stream",
     "text": [
      "/home/sotiris/github/Custom-Dataset-Generation/images_20/HYUNDAI-I20/HYUNDAI-I20_6.jpeg\n"
     ]
    },
    {
     "name": "stderr",
     "output_type": "stream",
     "text": [
      "/home/sotiris/github/Custom-Dataset-Generation/notebooks/../src/detect_n_crop.py:85: ResourceWarning: unclosed file <_io.BufferedReader name='/home/sotiris/github/Custom-Dataset-Generation/images_20/HYUNDAI-I20/HYUNDAI-I20_6.jpeg'>\n",
      "  img = Image.open(frame)\n",
      "ResourceWarning: Enable tracemalloc to get the object allocation traceback\n"
     ]
    },
    {
     "name": "stdout",
     "output_type": "stream",
     "text": [
      "/home/sotiris/github/Custom-Dataset-Generation/images_20/HYUNDAI-I20/HYUNDAI-I20_10.jpeg\n"
     ]
    },
    {
     "name": "stderr",
     "output_type": "stream",
     "text": [
      "/home/sotiris/github/Custom-Dataset-Generation/notebooks/../src/detect_n_crop.py:85: ResourceWarning: unclosed file <_io.BufferedReader name='/home/sotiris/github/Custom-Dataset-Generation/images_20/HYUNDAI-I20/HYUNDAI-I20_10.jpeg'>\n",
      "  img = Image.open(frame)\n",
      "ResourceWarning: Enable tracemalloc to get the object allocation traceback\n"
     ]
    },
    {
     "name": "stdout",
     "output_type": "stream",
     "text": [
      "/home/sotiris/github/Custom-Dataset-Generation/images_20/HYUNDAI-I20/HYUNDAI-I20_14.jpeg\n"
     ]
    },
    {
     "name": "stderr",
     "output_type": "stream",
     "text": [
      "/home/sotiris/github/Custom-Dataset-Generation/notebooks/../src/detect_n_crop.py:85: ResourceWarning: unclosed file <_io.BufferedReader name='/home/sotiris/github/Custom-Dataset-Generation/images_20/HYUNDAI-I20/HYUNDAI-I20_14.jpeg'>\n",
      "  img = Image.open(frame)\n",
      "ResourceWarning: Enable tracemalloc to get the object allocation traceback\n"
     ]
    },
    {
     "name": "stdout",
     "output_type": "stream",
     "text": [
      "/home/sotiris/github/Custom-Dataset-Generation/images_20/HYUNDAI-I20/HYUNDAI-I20_7.jpeg\n",
      "/home/sotiris/github/Custom-Dataset-Generation/images_20/HYUNDAI-I20/HYUNDAI-I20_13.jpeg\n"
     ]
    },
    {
     "name": "stderr",
     "output_type": "stream",
     "text": [
      "/home/sotiris/github/Custom-Dataset-Generation/notebooks/../src/detect_n_crop.py:39: ResourceWarning: unclosed file <_io.BufferedReader name='/home/sotiris/github/Custom-Dataset-Generation/images_20/HYUNDAI-I20/HYUNDAI-I20_7.jpeg'>\n",
      "  img = Image.open(frame)\n",
      "ResourceWarning: Enable tracemalloc to get the object allocation traceback\n",
      "/home/sotiris/github/Custom-Dataset-Generation/notebooks/../src/detect_n_crop.py:85: ResourceWarning: unclosed file <_io.BufferedReader name='/home/sotiris/github/Custom-Dataset-Generation/images_20/HYUNDAI-I20/HYUNDAI-I20_13.jpeg'>\n",
      "  img = Image.open(frame)\n",
      "ResourceWarning: Enable tracemalloc to get the object allocation traceback\n",
      "/home/sotiris/github/Custom-Dataset-Generation/notebooks/../src/detect_n_crop.py:39: ResourceWarning: unclosed file <_io.BufferedReader name='/home/sotiris/github/Custom-Dataset-Generation/images_20/HYUNDAI-I20/HYUNDAI-I20_8.jpeg'>\n",
      "  img = Image.open(frame)\n",
      "ResourceWarning: Enable tracemalloc to get the object allocation traceback\n"
     ]
    },
    {
     "name": "stdout",
     "output_type": "stream",
     "text": [
      "/home/sotiris/github/Custom-Dataset-Generation/images_20/HYUNDAI-I20/HYUNDAI-I20_8.jpeg\n",
      "/home/sotiris/github/Custom-Dataset-Generation/images_20/HYUNDAI-I20/HYUNDAI-I20_20.jpeg\n",
      "/home/sotiris/github/Custom-Dataset-Generation/images_20/HYUNDAI-I20/HYUNDAI-I20_18.jpeg\n"
     ]
    },
    {
     "name": "stderr",
     "output_type": "stream",
     "text": [
      "/home/sotiris/github/Custom-Dataset-Generation/notebooks/../src/detect_n_crop.py:39: ResourceWarning: unclosed file <_io.BufferedReader name='/home/sotiris/github/Custom-Dataset-Generation/images_20/HYUNDAI-I20/HYUNDAI-I20_20.jpeg'>\n",
      "  img = Image.open(frame)\n",
      "ResourceWarning: Enable tracemalloc to get the object allocation traceback\n",
      "/home/sotiris/github/Custom-Dataset-Generation/notebooks/../src/detect_n_crop.py:39: ResourceWarning: unclosed file <_io.BufferedReader name='/home/sotiris/github/Custom-Dataset-Generation/images_20/HYUNDAI-I20/HYUNDAI-I20_18.jpeg'>\n",
      "  img = Image.open(frame)\n",
      "ResourceWarning: Enable tracemalloc to get the object allocation traceback\n",
      "/home/sotiris/github/Custom-Dataset-Generation/notebooks/../src/detect_n_crop.py:39: ResourceWarning: unclosed file <_io.BufferedReader name='/home/sotiris/github/Custom-Dataset-Generation/images_20/TOYOTA-C-HR/TOYOTA-C-HR_10.jpeg'>\n",
      "  img = Image.open(frame)\n",
      "ResourceWarning: Enable tracemalloc to get the object allocation traceback\n",
      "/home/sotiris/github/Custom-Dataset-Generation/notebooks/../src/detect_n_crop.py:85: ResourceWarning: unclosed file <_io.BufferedReader name='/home/sotiris/github/Custom-Dataset-Generation/images_20/TOYOTA-C-HR/TOYOTA-C-HR_6.jpeg'>\n",
      "  img = Image.open(frame)\n",
      "ResourceWarning: Enable tracemalloc to get the object allocation traceback\n"
     ]
    },
    {
     "name": "stdout",
     "output_type": "stream",
     "text": [
      "/home/sotiris/github/Custom-Dataset-Generation/images_20/TOYOTA-C-HR/TOYOTA-C-HR_10.jpeg\n",
      "/home/sotiris/github/Custom-Dataset-Generation/images_20/TOYOTA-C-HR/TOYOTA-C-HR_6.jpeg\n",
      "/home/sotiris/github/Custom-Dataset-Generation/images_20/TOYOTA-C-HR/TOYOTA-C-HR_3.png\n",
      "/home/sotiris/github/Custom-Dataset-Generation/images_20/TOYOTA-C-HR/TOYOTA-C-HR_5.jpeg\n"
     ]
    },
    {
     "name": "stderr",
     "output_type": "stream",
     "text": [
      "/home/sotiris/github/Custom-Dataset-Generation/notebooks/../src/detect_n_crop.py:85: ResourceWarning: unclosed file <_io.BufferedReader name='/home/sotiris/github/Custom-Dataset-Generation/images_20/TOYOTA-C-HR/TOYOTA-C-HR_3.png'>\n",
      "  img = Image.open(frame)\n",
      "ResourceWarning: Enable tracemalloc to get the object allocation traceback\n",
      "/home/sotiris/anaconda3/envs/bdd100k-mmdet/lib/python3.8/site-packages/PIL/Image.py:959: UserWarning: Palette images with Transparency expressed in bytes should be converted to RGBA images\n",
      "  warnings.warn(\n",
      "/home/sotiris/github/Custom-Dataset-Generation/notebooks/../src/detect_n_crop.py:85: ResourceWarning: unclosed file <_io.BufferedReader name='/home/sotiris/github/Custom-Dataset-Generation/images_20/TOYOTA-C-HR/TOYOTA-C-HR_5.jpeg'>\n",
      "  img = Image.open(frame)\n",
      "ResourceWarning: Enable tracemalloc to get the object allocation traceback\n"
     ]
    },
    {
     "name": "stdout",
     "output_type": "stream",
     "text": [
      "/home/sotiris/github/Custom-Dataset-Generation/images_20/TOYOTA-C-HR/TOYOTA-C-HR_9.jpeg\n"
     ]
    },
    {
     "name": "stderr",
     "output_type": "stream",
     "text": [
      "/home/sotiris/github/Custom-Dataset-Generation/notebooks/../src/detect_n_crop.py:39: ResourceWarning: unclosed file <_io.BufferedReader name='/home/sotiris/github/Custom-Dataset-Generation/images_20/TOYOTA-C-HR/TOYOTA-C-HR_9.jpeg'>\n",
      "  img = Image.open(frame)\n",
      "ResourceWarning: Enable tracemalloc to get the object allocation traceback\n",
      "/home/sotiris/github/Custom-Dataset-Generation/notebooks/../src/detect_n_crop.py:85: ResourceWarning: unclosed file <_io.BufferedReader name='/home/sotiris/github/Custom-Dataset-Generation/images_20/TOYOTA-C-HR/TOYOTA-C-HR_8.jpeg'>\n",
      "  img = Image.open(frame)\n",
      "ResourceWarning: Enable tracemalloc to get the object allocation traceback\n"
     ]
    },
    {
     "name": "stdout",
     "output_type": "stream",
     "text": [
      "/home/sotiris/github/Custom-Dataset-Generation/images_20/TOYOTA-C-HR/TOYOTA-C-HR_8.jpeg\n",
      "/home/sotiris/github/Custom-Dataset-Generation/images_20/TOYOTA-C-HR/TOYOTA-C-HR_1.jpeg\n",
      "/home/sotiris/github/Custom-Dataset-Generation/images_20/TOYOTA-C-HR/TOYOTA-C-HR_18.jpeg\n"
     ]
    },
    {
     "name": "stderr",
     "output_type": "stream",
     "text": [
      "/home/sotiris/github/Custom-Dataset-Generation/notebooks/../src/detect_n_crop.py:39: ResourceWarning: unclosed file <_io.BufferedReader name='/home/sotiris/github/Custom-Dataset-Generation/images_20/TOYOTA-C-HR/TOYOTA-C-HR_1.jpeg'>\n",
      "  img = Image.open(frame)\n",
      "ResourceWarning: Enable tracemalloc to get the object allocation traceback\n",
      "/home/sotiris/github/Custom-Dataset-Generation/notebooks/../src/detect_n_crop.py:85: ResourceWarning: unclosed file <_io.BufferedReader name='/home/sotiris/github/Custom-Dataset-Generation/images_20/TOYOTA-C-HR/TOYOTA-C-HR_18.jpeg'>\n",
      "  img = Image.open(frame)\n",
      "ResourceWarning: Enable tracemalloc to get the object allocation traceback\n"
     ]
    },
    {
     "name": "stdout",
     "output_type": "stream",
     "text": [
      "/home/sotiris/github/Custom-Dataset-Generation/images_20/TOYOTA-C-HR/TOYOTA-C-HR_11.jpeg\n",
      "/home/sotiris/github/Custom-Dataset-Generation/images_20/TOYOTA-C-HR/TOYOTA-C-HR_16.jpeg\n"
     ]
    },
    {
     "name": "stderr",
     "output_type": "stream",
     "text": [
      "/home/sotiris/github/Custom-Dataset-Generation/notebooks/../src/detect_n_crop.py:85: ResourceWarning: unclosed file <_io.BufferedReader name='/home/sotiris/github/Custom-Dataset-Generation/images_20/TOYOTA-C-HR/TOYOTA-C-HR_11.jpeg'>\n",
      "  img = Image.open(frame)\n",
      "ResourceWarning: Enable tracemalloc to get the object allocation traceback\n",
      "/home/sotiris/github/Custom-Dataset-Generation/notebooks/../src/detect_n_crop.py:85: ResourceWarning: unclosed file <_io.BufferedReader name='/home/sotiris/github/Custom-Dataset-Generation/images_20/TOYOTA-C-HR/TOYOTA-C-HR_16.jpeg'>\n",
      "  img = Image.open(frame)\n",
      "ResourceWarning: Enable tracemalloc to get the object allocation traceback\n"
     ]
    },
    {
     "name": "stdout",
     "output_type": "stream",
     "text": [
      "/home/sotiris/github/Custom-Dataset-Generation/images_20/TOYOTA-C-HR/TOYOTA-C-HR_14.jpeg\n",
      "/home/sotiris/github/Custom-Dataset-Generation/images_20/TOYOTA-C-HR/TOYOTA-C-HR_7.jpeg\n"
     ]
    },
    {
     "name": "stderr",
     "output_type": "stream",
     "text": [
      "/home/sotiris/github/Custom-Dataset-Generation/notebooks/../src/detect_n_crop.py:39: ResourceWarning: unclosed file <_io.BufferedReader name='/home/sotiris/github/Custom-Dataset-Generation/images_20/TOYOTA-C-HR/TOYOTA-C-HR_14.jpeg'>\n",
      "  img = Image.open(frame)\n",
      "ResourceWarning: Enable tracemalloc to get the object allocation traceback\n",
      "/home/sotiris/github/Custom-Dataset-Generation/notebooks/../src/detect_n_crop.py:85: ResourceWarning: unclosed file <_io.BufferedReader name='/home/sotiris/github/Custom-Dataset-Generation/images_20/TOYOTA-C-HR/TOYOTA-C-HR_7.jpeg'>\n",
      "  img = Image.open(frame)\n",
      "ResourceWarning: Enable tracemalloc to get the object allocation traceback\n"
     ]
    },
    {
     "name": "stdout",
     "output_type": "stream",
     "text": [
      "/home/sotiris/github/Custom-Dataset-Generation/images_20/TOYOTA-C-HR/TOYOTA-C-HR_4.jpeg\n"
     ]
    },
    {
     "name": "stderr",
     "output_type": "stream",
     "text": [
      "/home/sotiris/github/Custom-Dataset-Generation/notebooks/../src/detect_n_crop.py:85: ResourceWarning: unclosed file <_io.BufferedReader name='/home/sotiris/github/Custom-Dataset-Generation/images_20/TOYOTA-C-HR/TOYOTA-C-HR_4.jpeg'>\n",
      "  img = Image.open(frame)\n",
      "ResourceWarning: Enable tracemalloc to get the object allocation traceback\n"
     ]
    },
    {
     "name": "stdout",
     "output_type": "stream",
     "text": [
      "/home/sotiris/github/Custom-Dataset-Generation/images_20/TOYOTA-C-HR/TOYOTA-C-HR_19.jpeg\n"
     ]
    },
    {
     "name": "stderr",
     "output_type": "stream",
     "text": [
      "/home/sotiris/github/Custom-Dataset-Generation/notebooks/../src/detect_n_crop.py:85: ResourceWarning: unclosed file <_io.BufferedReader name='/home/sotiris/github/Custom-Dataset-Generation/images_20/TOYOTA-C-HR/TOYOTA-C-HR_19.jpeg'>\n",
      "  img = Image.open(frame)\n",
      "ResourceWarning: Enable tracemalloc to get the object allocation traceback\n"
     ]
    },
    {
     "name": "stdout",
     "output_type": "stream",
     "text": [
      "/home/sotiris/github/Custom-Dataset-Generation/images_20/TOYOTA-C-HR/TOYOTA-C-HR_13.jpeg\n",
      "/home/sotiris/github/Custom-Dataset-Generation/images_20/TOYOTA-C-HR/TOYOTA-C-HR_15.jpeg\n"
     ]
    },
    {
     "name": "stderr",
     "output_type": "stream",
     "text": [
      "/home/sotiris/github/Custom-Dataset-Generation/notebooks/../src/detect_n_crop.py:39: ResourceWarning: unclosed file <_io.BufferedReader name='/home/sotiris/github/Custom-Dataset-Generation/images_20/TOYOTA-C-HR/TOYOTA-C-HR_13.jpeg'>\n",
      "  img = Image.open(frame)\n",
      "ResourceWarning: Enable tracemalloc to get the object allocation traceback\n",
      "/home/sotiris/github/Custom-Dataset-Generation/notebooks/../src/detect_n_crop.py:85: ResourceWarning: unclosed file <_io.BufferedReader name='/home/sotiris/github/Custom-Dataset-Generation/images_20/TOYOTA-C-HR/TOYOTA-C-HR_15.jpeg'>\n",
      "  img = Image.open(frame)\n",
      "ResourceWarning: Enable tracemalloc to get the object allocation traceback\n"
     ]
    },
    {
     "name": "stdout",
     "output_type": "stream",
     "text": [
      "/home/sotiris/github/Custom-Dataset-Generation/images_20/TOYOTA-C-HR/TOYOTA-C-HR_20.jpeg\n",
      "/home/sotiris/github/Custom-Dataset-Generation/images_20/TOYOTA-C-HR/TOYOTA-C-HR_17.jpeg\n"
     ]
    },
    {
     "name": "stderr",
     "output_type": "stream",
     "text": [
      "/home/sotiris/github/Custom-Dataset-Generation/notebooks/../src/detect_n_crop.py:39: ResourceWarning: unclosed file <_io.BufferedReader name='/home/sotiris/github/Custom-Dataset-Generation/images_20/TOYOTA-C-HR/TOYOTA-C-HR_20.jpeg'>\n",
      "  img = Image.open(frame)\n",
      "ResourceWarning: Enable tracemalloc to get the object allocation traceback\n",
      "/home/sotiris/github/Custom-Dataset-Generation/notebooks/../src/detect_n_crop.py:85: ResourceWarning: unclosed file <_io.BufferedReader name='/home/sotiris/github/Custom-Dataset-Generation/images_20/TOYOTA-C-HR/TOYOTA-C-HR_17.jpeg'>\n",
      "  img = Image.open(frame)\n",
      "ResourceWarning: Enable tracemalloc to get the object allocation traceback\n"
     ]
    },
    {
     "name": "stdout",
     "output_type": "stream",
     "text": [
      "/home/sotiris/github/Custom-Dataset-Generation/images_20/TOYOTA-C-HR/TOYOTA-C-HR_2.jpeg\n"
     ]
    },
    {
     "name": "stderr",
     "output_type": "stream",
     "text": [
      "/home/sotiris/github/Custom-Dataset-Generation/notebooks/../src/detect_n_crop.py:85: ResourceWarning: unclosed file <_io.BufferedReader name='/home/sotiris/github/Custom-Dataset-Generation/images_20/TOYOTA-C-HR/TOYOTA-C-HR_2.jpeg'>\n",
      "  img = Image.open(frame)\n",
      "ResourceWarning: Enable tracemalloc to get the object allocation traceback\n"
     ]
    },
    {
     "name": "stdout",
     "output_type": "stream",
     "text": [
      "/home/sotiris/github/Custom-Dataset-Generation/images_20/TOYOTA-C-HR/TOYOTA-C-HR_12.jpeg\n",
      "/home/sotiris/github/Custom-Dataset-Generation/images_20/VW-T-ROC/VW-T-ROC_8.jpeg\n"
     ]
    },
    {
     "name": "stderr",
     "output_type": "stream",
     "text": [
      "/home/sotiris/github/Custom-Dataset-Generation/notebooks/../src/detect_n_crop.py:85: ResourceWarning: unclosed file <_io.BufferedReader name='/home/sotiris/github/Custom-Dataset-Generation/images_20/TOYOTA-C-HR/TOYOTA-C-HR_12.jpeg'>\n",
      "  img = Image.open(frame)\n",
      "ResourceWarning: Enable tracemalloc to get the object allocation traceback\n",
      "/home/sotiris/github/Custom-Dataset-Generation/notebooks/../src/detect_n_crop.py:85: ResourceWarning: unclosed file <_io.BufferedReader name='/home/sotiris/github/Custom-Dataset-Generation/images_20/VW-T-ROC/VW-T-ROC_8.jpeg'>\n",
      "  img = Image.open(frame)\n",
      "ResourceWarning: Enable tracemalloc to get the object allocation traceback\n"
     ]
    },
    {
     "name": "stdout",
     "output_type": "stream",
     "text": [
      "/home/sotiris/github/Custom-Dataset-Generation/images_20/VW-T-ROC/VW-T-ROC_10.jpeg\n",
      "/home/sotiris/github/Custom-Dataset-Generation/images_20/VW-T-ROC/VW-T-ROC_2.jpeg\n"
     ]
    },
    {
     "name": "stderr",
     "output_type": "stream",
     "text": [
      "/home/sotiris/github/Custom-Dataset-Generation/notebooks/../src/detect_n_crop.py:39: ResourceWarning: unclosed file <_io.BufferedReader name='/home/sotiris/github/Custom-Dataset-Generation/images_20/VW-T-ROC/VW-T-ROC_10.jpeg'>\n",
      "  img = Image.open(frame)\n",
      "ResourceWarning: Enable tracemalloc to get the object allocation traceback\n",
      "/home/sotiris/github/Custom-Dataset-Generation/notebooks/../src/detect_n_crop.py:85: ResourceWarning: unclosed file <_io.BufferedReader name='/home/sotiris/github/Custom-Dataset-Generation/images_20/VW-T-ROC/VW-T-ROC_2.jpeg'>\n",
      "  img = Image.open(frame)\n",
      "ResourceWarning: Enable tracemalloc to get the object allocation traceback\n"
     ]
    },
    {
     "name": "stdout",
     "output_type": "stream",
     "text": [
      "/home/sotiris/github/Custom-Dataset-Generation/images_20/VW-T-ROC/VW-T-ROC_6.jpeg\n",
      "/home/sotiris/github/Custom-Dataset-Generation/images_20/VW-T-ROC/VW-T-ROC_7.jpeg\n",
      "/home/sotiris/github/Custom-Dataset-Generation/images_20/VW-T-ROC/VW-T-ROC_17.jpeg\n"
     ]
    },
    {
     "name": "stderr",
     "output_type": "stream",
     "text": [
      "/home/sotiris/github/Custom-Dataset-Generation/notebooks/../src/detect_n_crop.py:39: ResourceWarning: unclosed file <_io.BufferedReader name='/home/sotiris/github/Custom-Dataset-Generation/images_20/VW-T-ROC/VW-T-ROC_6.jpeg'>\n",
      "  img = Image.open(frame)\n",
      "ResourceWarning: Enable tracemalloc to get the object allocation traceback\n",
      "/home/sotiris/github/Custom-Dataset-Generation/notebooks/../src/detect_n_crop.py:39: ResourceWarning: unclosed file <_io.BufferedReader name='/home/sotiris/github/Custom-Dataset-Generation/images_20/VW-T-ROC/VW-T-ROC_7.jpeg'>\n",
      "  img = Image.open(frame)\n",
      "ResourceWarning: Enable tracemalloc to get the object allocation traceback\n",
      "/home/sotiris/github/Custom-Dataset-Generation/notebooks/../src/detect_n_crop.py:39: ResourceWarning: unclosed file <_io.BufferedReader name='/home/sotiris/github/Custom-Dataset-Generation/images_20/VW-T-ROC/VW-T-ROC_17.jpeg'>\n",
      "  img = Image.open(frame)\n",
      "ResourceWarning: Enable tracemalloc to get the object allocation traceback\n"
     ]
    },
    {
     "name": "stdout",
     "output_type": "stream",
     "text": [
      "/home/sotiris/github/Custom-Dataset-Generation/images_20/VW-T-ROC/VW-T-ROC_5.jpeg\n"
     ]
    },
    {
     "name": "stderr",
     "output_type": "stream",
     "text": [
      "/home/sotiris/github/Custom-Dataset-Generation/notebooks/../src/detect_n_crop.py:85: ResourceWarning: unclosed file <_io.BufferedReader name='/home/sotiris/github/Custom-Dataset-Generation/images_20/VW-T-ROC/VW-T-ROC_5.jpeg'>\n",
      "  img = Image.open(frame)\n",
      "ResourceWarning: Enable tracemalloc to get the object allocation traceback\n"
     ]
    },
    {
     "name": "stdout",
     "output_type": "stream",
     "text": [
      "/home/sotiris/github/Custom-Dataset-Generation/images_20/VW-T-ROC/VW-T-ROC_1.jpeg\n"
     ]
    },
    {
     "name": "stderr",
     "output_type": "stream",
     "text": [
      "/home/sotiris/github/Custom-Dataset-Generation/notebooks/../src/detect_n_crop.py:85: ResourceWarning: unclosed file <_io.BufferedReader name='/home/sotiris/github/Custom-Dataset-Generation/images_20/VW-T-ROC/VW-T-ROC_1.jpeg'>\n",
      "  img = Image.open(frame)\n",
      "ResourceWarning: Enable tracemalloc to get the object allocation traceback\n"
     ]
    },
    {
     "name": "stdout",
     "output_type": "stream",
     "text": [
      "/home/sotiris/github/Custom-Dataset-Generation/images_20/VW-T-ROC/VW-T-ROC_14.jpeg\n",
      "/home/sotiris/github/Custom-Dataset-Generation/images_20/VW-T-ROC/VW-T-ROC_11.jpeg\n"
     ]
    },
    {
     "name": "stderr",
     "output_type": "stream",
     "text": [
      "/home/sotiris/github/Custom-Dataset-Generation/notebooks/../src/detect_n_crop.py:39: ResourceWarning: unclosed file <_io.BufferedReader name='/home/sotiris/github/Custom-Dataset-Generation/images_20/VW-T-ROC/VW-T-ROC_14.jpeg'>\n",
      "  img = Image.open(frame)\n",
      "ResourceWarning: Enable tracemalloc to get the object allocation traceback\n",
      "/home/sotiris/github/Custom-Dataset-Generation/notebooks/../src/detect_n_crop.py:85: ResourceWarning: unclosed file <_io.BufferedReader name='/home/sotiris/github/Custom-Dataset-Generation/images_20/VW-T-ROC/VW-T-ROC_11.jpeg'>\n",
      "  img = Image.open(frame)\n",
      "ResourceWarning: Enable tracemalloc to get the object allocation traceback\n"
     ]
    },
    {
     "name": "stdout",
     "output_type": "stream",
     "text": [
      "/home/sotiris/github/Custom-Dataset-Generation/images_20/VW-T-ROC/VW-T-ROC_13.jpeg\n",
      "/home/sotiris/github/Custom-Dataset-Generation/images_20/VW-T-ROC/VW-T-ROC_15.jpeg\n"
     ]
    },
    {
     "name": "stderr",
     "output_type": "stream",
     "text": [
      "/home/sotiris/github/Custom-Dataset-Generation/notebooks/../src/detect_n_crop.py:85: ResourceWarning: unclosed file <_io.BufferedReader name='/home/sotiris/github/Custom-Dataset-Generation/images_20/VW-T-ROC/VW-T-ROC_13.jpeg'>\n",
      "  img = Image.open(frame)\n",
      "ResourceWarning: Enable tracemalloc to get the object allocation traceback\n",
      "/home/sotiris/github/Custom-Dataset-Generation/notebooks/../src/detect_n_crop.py:85: ResourceWarning: unclosed file <_io.BufferedReader name='/home/sotiris/github/Custom-Dataset-Generation/images_20/VW-T-ROC/VW-T-ROC_15.jpeg'>\n",
      "  img = Image.open(frame)\n",
      "ResourceWarning: Enable tracemalloc to get the object allocation traceback\n"
     ]
    },
    {
     "name": "stdout",
     "output_type": "stream",
     "text": [
      "/home/sotiris/github/Custom-Dataset-Generation/images_20/VW-T-ROC/VW-T-ROC_4.jpeg\n"
     ]
    },
    {
     "name": "stderr",
     "output_type": "stream",
     "text": [
      "/home/sotiris/github/Custom-Dataset-Generation/notebooks/../src/detect_n_crop.py:85: ResourceWarning: unclosed file <_io.BufferedReader name='/home/sotiris/github/Custom-Dataset-Generation/images_20/VW-T-ROC/VW-T-ROC_4.jpeg'>\n",
      "  img = Image.open(frame)\n",
      "ResourceWarning: Enable tracemalloc to get the object allocation traceback\n"
     ]
    },
    {
     "name": "stdout",
     "output_type": "stream",
     "text": [
      "/home/sotiris/github/Custom-Dataset-Generation/images_20/VW-T-ROC/VW-T-ROC_9.jpeg\n"
     ]
    },
    {
     "name": "stderr",
     "output_type": "stream",
     "text": [
      "/home/sotiris/github/Custom-Dataset-Generation/notebooks/../src/detect_n_crop.py:85: ResourceWarning: unclosed file <_io.BufferedReader name='/home/sotiris/github/Custom-Dataset-Generation/images_20/VW-T-ROC/VW-T-ROC_9.jpeg'>\n",
      "  img = Image.open(frame)\n",
      "ResourceWarning: Enable tracemalloc to get the object allocation traceback\n"
     ]
    },
    {
     "name": "stdout",
     "output_type": "stream",
     "text": [
      "/home/sotiris/github/Custom-Dataset-Generation/images_20/VW-T-ROC/VW-T-ROC_18.jpeg\n",
      "/home/sotiris/github/Custom-Dataset-Generation/images_20/VW-T-ROC/VW-T-ROC_16.jpeg\n"
     ]
    },
    {
     "name": "stderr",
     "output_type": "stream",
     "text": [
      "/home/sotiris/github/Custom-Dataset-Generation/notebooks/../src/detect_n_crop.py:39: ResourceWarning: unclosed file <_io.BufferedReader name='/home/sotiris/github/Custom-Dataset-Generation/images_20/VW-T-ROC/VW-T-ROC_18.jpeg'>\n",
      "  img = Image.open(frame)\n",
      "ResourceWarning: Enable tracemalloc to get the object allocation traceback\n",
      "/home/sotiris/github/Custom-Dataset-Generation/notebooks/../src/detect_n_crop.py:39: ResourceWarning: unclosed file <_io.BufferedReader name='/home/sotiris/github/Custom-Dataset-Generation/images_20/VW-T-ROC/VW-T-ROC_16.jpeg'>\n",
      "  img = Image.open(frame)\n",
      "ResourceWarning: Enable tracemalloc to get the object allocation traceback\n",
      "/home/sotiris/github/Custom-Dataset-Generation/notebooks/../src/detect_n_crop.py:39: ResourceWarning: unclosed file <_io.BufferedReader name='/home/sotiris/github/Custom-Dataset-Generation/images_20/VW-T-ROC/VW-T-ROC_19.jpeg'>\n",
      "  img = Image.open(frame)\n",
      "ResourceWarning: Enable tracemalloc to get the object allocation traceback\n"
     ]
    },
    {
     "name": "stdout",
     "output_type": "stream",
     "text": [
      "/home/sotiris/github/Custom-Dataset-Generation/images_20/VW-T-ROC/VW-T-ROC_19.jpeg\n",
      "/home/sotiris/github/Custom-Dataset-Generation/images_20/VW-T-ROC/VW-T-ROC_12.jpeg\n"
     ]
    },
    {
     "name": "stderr",
     "output_type": "stream",
     "text": [
      "/home/sotiris/github/Custom-Dataset-Generation/notebooks/../src/detect_n_crop.py:85: ResourceWarning: unclosed file <_io.BufferedReader name='/home/sotiris/github/Custom-Dataset-Generation/images_20/VW-T-ROC/VW-T-ROC_12.jpeg'>\n",
      "  img = Image.open(frame)\n",
      "ResourceWarning: Enable tracemalloc to get the object allocation traceback\n"
     ]
    },
    {
     "name": "stdout",
     "output_type": "stream",
     "text": [
      "/home/sotiris/github/Custom-Dataset-Generation/images_20/VW-T-ROC/VW-T-ROC_20.jpeg\n"
     ]
    },
    {
     "name": "stderr",
     "output_type": "stream",
     "text": [
      "/home/sotiris/github/Custom-Dataset-Generation/notebooks/../src/detect_n_crop.py:85: ResourceWarning: unclosed file <_io.BufferedReader name='/home/sotiris/github/Custom-Dataset-Generation/images_20/VW-T-ROC/VW-T-ROC_20.jpeg'>\n",
      "  img = Image.open(frame)\n",
      "ResourceWarning: Enable tracemalloc to get the object allocation traceback\n"
     ]
    },
    {
     "name": "stdout",
     "output_type": "stream",
     "text": [
      "/home/sotiris/github/Custom-Dataset-Generation/images_20/VW-T-ROC/VW-T-ROC_3.jpeg\n"
     ]
    },
    {
     "name": "stderr",
     "output_type": "stream",
     "text": [
      "/home/sotiris/github/Custom-Dataset-Generation/notebooks/../src/detect_n_crop.py:85: ResourceWarning: unclosed file <_io.BufferedReader name='/home/sotiris/github/Custom-Dataset-Generation/images_20/VW-T-ROC/VW-T-ROC_3.jpeg'>\n",
      "  img = Image.open(frame)\n",
      "ResourceWarning: Enable tracemalloc to get the object allocation traceback\n"
     ]
    },
    {
     "name": "stdout",
     "output_type": "stream",
     "text": [
      "/home/sotiris/github/Custom-Dataset-Generation/images_20/PEUGEOT-208/PEUGEOT-208_1.jpeg\n",
      "/home/sotiris/github/Custom-Dataset-Generation/images_20/PEUGEOT-208/PEUGEOT-208_2.jpeg\n"
     ]
    },
    {
     "name": "stderr",
     "output_type": "stream",
     "text": [
      "/home/sotiris/github/Custom-Dataset-Generation/notebooks/../src/detect_n_crop.py:39: ResourceWarning: unclosed file <_io.BufferedReader name='/home/sotiris/github/Custom-Dataset-Generation/images_20/PEUGEOT-208/PEUGEOT-208_1.jpeg'>\n",
      "  img = Image.open(frame)\n",
      "ResourceWarning: Enable tracemalloc to get the object allocation traceback\n",
      "/home/sotiris/github/Custom-Dataset-Generation/notebooks/../src/detect_n_crop.py:85: ResourceWarning: unclosed file <_io.BufferedReader name='/home/sotiris/github/Custom-Dataset-Generation/images_20/PEUGEOT-208/PEUGEOT-208_2.jpeg'>\n",
      "  img = Image.open(frame)\n",
      "ResourceWarning: Enable tracemalloc to get the object allocation traceback\n"
     ]
    },
    {
     "name": "stdout",
     "output_type": "stream",
     "text": [
      "/home/sotiris/github/Custom-Dataset-Generation/images_20/PEUGEOT-208/PEUGEOT-208_4.jpeg\n",
      "/home/sotiris/github/Custom-Dataset-Generation/images_20/PEUGEOT-208/PEUGEOT-208_15.jpeg\n",
      "/home/sotiris/github/Custom-Dataset-Generation/images_20/PEUGEOT-208/PEUGEOT-208_10.jpeg\n"
     ]
    },
    {
     "name": "stderr",
     "output_type": "stream",
     "text": [
      "/home/sotiris/github/Custom-Dataset-Generation/notebooks/../src/detect_n_crop.py:39: ResourceWarning: unclosed file <_io.BufferedReader name='/home/sotiris/github/Custom-Dataset-Generation/images_20/PEUGEOT-208/PEUGEOT-208_4.jpeg'>\n",
      "  img = Image.open(frame)\n",
      "ResourceWarning: Enable tracemalloc to get the object allocation traceback\n",
      "/home/sotiris/github/Custom-Dataset-Generation/notebooks/../src/detect_n_crop.py:39: ResourceWarning: unclosed file <_io.BufferedReader name='/home/sotiris/github/Custom-Dataset-Generation/images_20/PEUGEOT-208/PEUGEOT-208_15.jpeg'>\n",
      "  img = Image.open(frame)\n",
      "ResourceWarning: Enable tracemalloc to get the object allocation traceback\n",
      "/home/sotiris/github/Custom-Dataset-Generation/notebooks/../src/detect_n_crop.py:85: ResourceWarning: unclosed file <_io.BufferedReader name='/home/sotiris/github/Custom-Dataset-Generation/images_20/PEUGEOT-208/PEUGEOT-208_10.jpeg'>\n",
      "  img = Image.open(frame)\n",
      "ResourceWarning: Enable tracemalloc to get the object allocation traceback\n"
     ]
    },
    {
     "name": "stdout",
     "output_type": "stream",
     "text": [
      "/home/sotiris/github/Custom-Dataset-Generation/images_20/PEUGEOT-208/PEUGEOT-208_3.jpeg\n",
      "/home/sotiris/github/Custom-Dataset-Generation/images_20/PEUGEOT-208/PEUGEOT-208_9.jpeg\n"
     ]
    },
    {
     "name": "stderr",
     "output_type": "stream",
     "text": [
      "/home/sotiris/github/Custom-Dataset-Generation/notebooks/../src/detect_n_crop.py:85: ResourceWarning: unclosed file <_io.BufferedReader name='/home/sotiris/github/Custom-Dataset-Generation/images_20/PEUGEOT-208/PEUGEOT-208_3.jpeg'>\n",
      "  img = Image.open(frame)\n",
      "ResourceWarning: Enable tracemalloc to get the object allocation traceback\n",
      "/home/sotiris/github/Custom-Dataset-Generation/notebooks/../src/detect_n_crop.py:85: ResourceWarning: unclosed file <_io.BufferedReader name='/home/sotiris/github/Custom-Dataset-Generation/images_20/PEUGEOT-208/PEUGEOT-208_9.jpeg'>\n",
      "  img = Image.open(frame)\n",
      "ResourceWarning: Enable tracemalloc to get the object allocation traceback\n"
     ]
    },
    {
     "name": "stdout",
     "output_type": "stream",
     "text": [
      "/home/sotiris/github/Custom-Dataset-Generation/images_20/PEUGEOT-208/PEUGEOT-208_13.jpeg\n",
      "/home/sotiris/github/Custom-Dataset-Generation/images_20/PEUGEOT-208/PEUGEOT-208_17.jpeg\n",
      "/home/sotiris/github/Custom-Dataset-Generation/images_20/PEUGEOT-208/PEUGEOT-208_18.jpeg\n"
     ]
    },
    {
     "name": "stderr",
     "output_type": "stream",
     "text": [
      "/home/sotiris/github/Custom-Dataset-Generation/notebooks/../src/detect_n_crop.py:85: ResourceWarning: unclosed file <_io.BufferedReader name='/home/sotiris/github/Custom-Dataset-Generation/images_20/PEUGEOT-208/PEUGEOT-208_13.jpeg'>\n",
      "  img = Image.open(frame)\n",
      "ResourceWarning: Enable tracemalloc to get the object allocation traceback\n",
      "/home/sotiris/github/Custom-Dataset-Generation/notebooks/../src/detect_n_crop.py:39: ResourceWarning: unclosed file <_io.BufferedReader name='/home/sotiris/github/Custom-Dataset-Generation/images_20/PEUGEOT-208/PEUGEOT-208_17.jpeg'>\n",
      "  img = Image.open(frame)\n",
      "ResourceWarning: Enable tracemalloc to get the object allocation traceback\n",
      "/home/sotiris/github/Custom-Dataset-Generation/notebooks/../src/detect_n_crop.py:39: ResourceWarning: unclosed file <_io.BufferedReader name='/home/sotiris/github/Custom-Dataset-Generation/images_20/PEUGEOT-208/PEUGEOT-208_18.jpeg'>\n",
      "  img = Image.open(frame)\n",
      "ResourceWarning: Enable tracemalloc to get the object allocation traceback\n",
      "/home/sotiris/github/Custom-Dataset-Generation/notebooks/../src/detect_n_crop.py:39: ResourceWarning: unclosed file <_io.BufferedReader name='/home/sotiris/github/Custom-Dataset-Generation/images_20/PEUGEOT-208/PEUGEOT-208_11.jpeg'>\n",
      "  img = Image.open(frame)\n",
      "ResourceWarning: Enable tracemalloc to get the object allocation traceback\n",
      "/home/sotiris/github/Custom-Dataset-Generation/notebooks/../src/detect_n_crop.py:85: ResourceWarning: unclosed file <_io.BufferedReader name='/home/sotiris/github/Custom-Dataset-Generation/images_20/PEUGEOT-208/PEUGEOT-208_8.jpeg'>\n",
      "  img = Image.open(frame)\n",
      "ResourceWarning: Enable tracemalloc to get the object allocation traceback\n"
     ]
    },
    {
     "name": "stdout",
     "output_type": "stream",
     "text": [
      "/home/sotiris/github/Custom-Dataset-Generation/images_20/PEUGEOT-208/PEUGEOT-208_11.jpeg\n",
      "/home/sotiris/github/Custom-Dataset-Generation/images_20/PEUGEOT-208/PEUGEOT-208_8.jpeg\n",
      "/home/sotiris/github/Custom-Dataset-Generation/images_20/PEUGEOT-208/PEUGEOT-208_14.jpeg\n",
      "/home/sotiris/github/Custom-Dataset-Generation/images_20/PEUGEOT-208/PEUGEOT-208_19.jpeg\n"
     ]
    },
    {
     "name": "stderr",
     "output_type": "stream",
     "text": [
      "/home/sotiris/github/Custom-Dataset-Generation/notebooks/../src/detect_n_crop.py:39: ResourceWarning: unclosed file <_io.BufferedReader name='/home/sotiris/github/Custom-Dataset-Generation/images_20/PEUGEOT-208/PEUGEOT-208_14.jpeg'>\n",
      "  img = Image.open(frame)\n",
      "ResourceWarning: Enable tracemalloc to get the object allocation traceback\n",
      "/home/sotiris/github/Custom-Dataset-Generation/notebooks/../src/detect_n_crop.py:85: ResourceWarning: unclosed file <_io.BufferedReader name='/home/sotiris/github/Custom-Dataset-Generation/images_20/PEUGEOT-208/PEUGEOT-208_19.jpeg'>\n",
      "  img = Image.open(frame)\n",
      "ResourceWarning: Enable tracemalloc to get the object allocation traceback\n"
     ]
    },
    {
     "name": "stdout",
     "output_type": "stream",
     "text": [
      "/home/sotiris/github/Custom-Dataset-Generation/images_20/PEUGEOT-208/PEUGEOT-208_7.jpeg\n"
     ]
    },
    {
     "name": "stderr",
     "output_type": "stream",
     "text": [
      "/home/sotiris/github/Custom-Dataset-Generation/notebooks/../src/detect_n_crop.py:85: ResourceWarning: unclosed file <_io.BufferedReader name='/home/sotiris/github/Custom-Dataset-Generation/images_20/PEUGEOT-208/PEUGEOT-208_7.jpeg'>\n",
      "  img = Image.open(frame)\n",
      "ResourceWarning: Enable tracemalloc to get the object allocation traceback\n"
     ]
    },
    {
     "name": "stdout",
     "output_type": "stream",
     "text": [
      "/home/sotiris/github/Custom-Dataset-Generation/images_20/PEUGEOT-208/PEUGEOT-208_20.jpeg\n"
     ]
    },
    {
     "name": "stderr",
     "output_type": "stream",
     "text": [
      "/home/sotiris/github/Custom-Dataset-Generation/notebooks/../src/detect_n_crop.py:85: ResourceWarning: unclosed file <_io.BufferedReader name='/home/sotiris/github/Custom-Dataset-Generation/images_20/PEUGEOT-208/PEUGEOT-208_20.jpeg'>\n",
      "  img = Image.open(frame)\n",
      "ResourceWarning: Enable tracemalloc to get the object allocation traceback\n"
     ]
    },
    {
     "name": "stdout",
     "output_type": "stream",
     "text": [
      "/home/sotiris/github/Custom-Dataset-Generation/images_20/PEUGEOT-208/PEUGEOT-208_16.jpeg\n",
      "/home/sotiris/github/Custom-Dataset-Generation/images_20/PEUGEOT-208/PEUGEOT-208_5.jpeg\n",
      "/home/sotiris/github/Custom-Dataset-Generation/images_20/TOYOTA-COROLLA/TOYOTA-COROLLA_13.jpeg\n"
     ]
    },
    {
     "name": "stderr",
     "output_type": "stream",
     "text": [
      "/home/sotiris/github/Custom-Dataset-Generation/notebooks/../src/detect_n_crop.py:39: ResourceWarning: unclosed file <_io.BufferedReader name='/home/sotiris/github/Custom-Dataset-Generation/images_20/PEUGEOT-208/PEUGEOT-208_16.jpeg'>\n",
      "  img = Image.open(frame)\n",
      "ResourceWarning: Enable tracemalloc to get the object allocation traceback\n",
      "/home/sotiris/github/Custom-Dataset-Generation/notebooks/../src/detect_n_crop.py:39: ResourceWarning: unclosed file <_io.BufferedReader name='/home/sotiris/github/Custom-Dataset-Generation/images_20/PEUGEOT-208/PEUGEOT-208_5.jpeg'>\n",
      "  img = Image.open(frame)\n",
      "ResourceWarning: Enable tracemalloc to get the object allocation traceback\n",
      "/home/sotiris/github/Custom-Dataset-Generation/notebooks/../src/detect_n_crop.py:39: ResourceWarning: unclosed file <_io.BufferedReader name='/home/sotiris/github/Custom-Dataset-Generation/images_20/TOYOTA-COROLLA/TOYOTA-COROLLA_13.jpeg'>\n",
      "  img = Image.open(frame)\n",
      "ResourceWarning: Enable tracemalloc to get the object allocation traceback\n"
     ]
    },
    {
     "name": "stdout",
     "output_type": "stream",
     "text": [
      "/home/sotiris/github/Custom-Dataset-Generation/images_20/TOYOTA-COROLLA/TOYOTA-COROLLA_10.png\n",
      "/home/sotiris/github/Custom-Dataset-Generation/images_20/TOYOTA-COROLLA/TOYOTA-COROLLA_18.jpeg\n"
     ]
    },
    {
     "name": "stderr",
     "output_type": "stream",
     "text": [
      "/home/sotiris/github/Custom-Dataset-Generation/notebooks/../src/detect_n_crop.py:85: ResourceWarning: unclosed file <_io.BufferedReader name='/home/sotiris/github/Custom-Dataset-Generation/images_20/TOYOTA-COROLLA/TOYOTA-COROLLA_10.png'>\n",
      "  img = Image.open(frame)\n",
      "ResourceWarning: Enable tracemalloc to get the object allocation traceback\n",
      "/home/sotiris/github/Custom-Dataset-Generation/notebooks/../src/detect_n_crop.py:39: ResourceWarning: unclosed file <_io.BufferedReader name='/home/sotiris/github/Custom-Dataset-Generation/images_20/TOYOTA-COROLLA/TOYOTA-COROLLA_18.jpeg'>\n",
      "  img = Image.open(frame)\n",
      "ResourceWarning: Enable tracemalloc to get the object allocation traceback\n"
     ]
    },
    {
     "name": "stdout",
     "output_type": "stream",
     "text": [
      "/home/sotiris/github/Custom-Dataset-Generation/images_20/TOYOTA-COROLLA/TOYOTA-COROLLA_20.jpeg\n",
      "/home/sotiris/github/Custom-Dataset-Generation/images_20/TOYOTA-COROLLA/TOYOTA-COROLLA_12.png\n"
     ]
    },
    {
     "name": "stderr",
     "output_type": "stream",
     "text": [
      "/home/sotiris/github/Custom-Dataset-Generation/notebooks/../src/detect_n_crop.py:39: ResourceWarning: unclosed file <_io.BufferedReader name='/home/sotiris/github/Custom-Dataset-Generation/images_20/TOYOTA-COROLLA/TOYOTA-COROLLA_20.jpeg'>\n",
      "  img = Image.open(frame)\n",
      "ResourceWarning: Enable tracemalloc to get the object allocation traceback\n",
      "/home/sotiris/github/Custom-Dataset-Generation/notebooks/../src/detect_n_crop.py:85: ResourceWarning: unclosed file <_io.BufferedReader name='/home/sotiris/github/Custom-Dataset-Generation/images_20/TOYOTA-COROLLA/TOYOTA-COROLLA_12.png'>\n",
      "  img = Image.open(frame)\n",
      "ResourceWarning: Enable tracemalloc to get the object allocation traceback\n"
     ]
    },
    {
     "name": "stdout",
     "output_type": "stream",
     "text": [
      "/home/sotiris/github/Custom-Dataset-Generation/images_20/TOYOTA-COROLLA/TOYOTA-COROLLA_19.jpeg\n"
     ]
    },
    {
     "name": "stderr",
     "output_type": "stream",
     "text": [
      "/home/sotiris/github/Custom-Dataset-Generation/notebooks/../src/detect_n_crop.py:85: ResourceWarning: unclosed file <_io.BufferedReader name='/home/sotiris/github/Custom-Dataset-Generation/images_20/TOYOTA-COROLLA/TOYOTA-COROLLA_19.jpeg'>\n",
      "  img = Image.open(frame)\n",
      "ResourceWarning: Enable tracemalloc to get the object allocation traceback\n"
     ]
    },
    {
     "name": "stdout",
     "output_type": "stream",
     "text": [
      "/home/sotiris/github/Custom-Dataset-Generation/images_20/TOYOTA-COROLLA/TOYOTA-COROLLA_8.jpeg\n"
     ]
    },
    {
     "name": "stderr",
     "output_type": "stream",
     "text": [
      "/home/sotiris/github/Custom-Dataset-Generation/notebooks/../src/detect_n_crop.py:85: ResourceWarning: unclosed file <_io.BufferedReader name='/home/sotiris/github/Custom-Dataset-Generation/images_20/TOYOTA-COROLLA/TOYOTA-COROLLA_8.jpeg'>\n",
      "  img = Image.open(frame)\n",
      "ResourceWarning: Enable tracemalloc to get the object allocation traceback\n"
     ]
    },
    {
     "name": "stdout",
     "output_type": "stream",
     "text": [
      "/home/sotiris/github/Custom-Dataset-Generation/images_20/TOYOTA-COROLLA/TOYOTA-COROLLA_2.jpeg\n"
     ]
    },
    {
     "name": "stderr",
     "output_type": "stream",
     "text": [
      "/home/sotiris/github/Custom-Dataset-Generation/notebooks/../src/detect_n_crop.py:85: ResourceWarning: unclosed file <_io.BufferedReader name='/home/sotiris/github/Custom-Dataset-Generation/images_20/TOYOTA-COROLLA/TOYOTA-COROLLA_2.jpeg'>\n",
      "  img = Image.open(frame)\n",
      "ResourceWarning: Enable tracemalloc to get the object allocation traceback\n"
     ]
    },
    {
     "name": "stdout",
     "output_type": "stream",
     "text": [
      "/home/sotiris/github/Custom-Dataset-Generation/images_20/TOYOTA-COROLLA/TOYOTA-COROLLA_16.jpeg\n",
      "/home/sotiris/github/Custom-Dataset-Generation/images_20/TOYOTA-COROLLA/TOYOTA-COROLLA_7.jpeg\n",
      "/home/sotiris/github/Custom-Dataset-Generation/images_20/TOYOTA-COROLLA/TOYOTA-COROLLA_1.jpeg\n"
     ]
    },
    {
     "name": "stderr",
     "output_type": "stream",
     "text": [
      "/home/sotiris/github/Custom-Dataset-Generation/notebooks/../src/detect_n_crop.py:39: ResourceWarning: unclosed file <_io.BufferedReader name='/home/sotiris/github/Custom-Dataset-Generation/images_20/TOYOTA-COROLLA/TOYOTA-COROLLA_16.jpeg'>\n",
      "  img = Image.open(frame)\n",
      "ResourceWarning: Enable tracemalloc to get the object allocation traceback\n",
      "/home/sotiris/github/Custom-Dataset-Generation/notebooks/../src/detect_n_crop.py:39: ResourceWarning: unclosed file <_io.BufferedReader name='/home/sotiris/github/Custom-Dataset-Generation/images_20/TOYOTA-COROLLA/TOYOTA-COROLLA_7.jpeg'>\n",
      "  img = Image.open(frame)\n",
      "ResourceWarning: Enable tracemalloc to get the object allocation traceback\n",
      "/home/sotiris/github/Custom-Dataset-Generation/notebooks/../src/detect_n_crop.py:85: ResourceWarning: unclosed file <_io.BufferedReader name='/home/sotiris/github/Custom-Dataset-Generation/images_20/TOYOTA-COROLLA/TOYOTA-COROLLA_1.jpeg'>\n",
      "  img = Image.open(frame)\n",
      "ResourceWarning: Enable tracemalloc to get the object allocation traceback\n"
     ]
    },
    {
     "name": "stdout",
     "output_type": "stream",
     "text": [
      "/home/sotiris/github/Custom-Dataset-Generation/images_20/TOYOTA-COROLLA/TOYOTA-COROLLA_11.jpeg\n",
      "/home/sotiris/github/Custom-Dataset-Generation/images_20/TOYOTA-COROLLA/TOYOTA-COROLLA_6.jpeg\n"
     ]
    },
    {
     "name": "stderr",
     "output_type": "stream",
     "text": [
      "/home/sotiris/github/Custom-Dataset-Generation/notebooks/../src/detect_n_crop.py:39: ResourceWarning: unclosed file <_io.BufferedReader name='/home/sotiris/github/Custom-Dataset-Generation/images_20/TOYOTA-COROLLA/TOYOTA-COROLLA_11.jpeg'>\n",
      "  img = Image.open(frame)\n",
      "ResourceWarning: Enable tracemalloc to get the object allocation traceback\n",
      "/home/sotiris/github/Custom-Dataset-Generation/notebooks/../src/detect_n_crop.py:85: ResourceWarning: unclosed file <_io.BufferedReader name='/home/sotiris/github/Custom-Dataset-Generation/images_20/TOYOTA-COROLLA/TOYOTA-COROLLA_6.jpeg'>\n",
      "  img = Image.open(frame)\n",
      "ResourceWarning: Enable tracemalloc to get the object allocation traceback\n"
     ]
    },
    {
     "name": "stdout",
     "output_type": "stream",
     "text": [
      "/home/sotiris/github/Custom-Dataset-Generation/images_20/TOYOTA-COROLLA/TOYOTA-COROLLA_15.jpeg\n",
      "/home/sotiris/github/Custom-Dataset-Generation/images_20/TOYOTA-COROLLA/TOYOTA-COROLLA_4.jpeg\n"
     ]
    },
    {
     "name": "stderr",
     "output_type": "stream",
     "text": [
      "/home/sotiris/github/Custom-Dataset-Generation/notebooks/../src/detect_n_crop.py:39: ResourceWarning: unclosed file <_io.BufferedReader name='/home/sotiris/github/Custom-Dataset-Generation/images_20/TOYOTA-COROLLA/TOYOTA-COROLLA_15.jpeg'>\n",
      "  img = Image.open(frame)\n",
      "ResourceWarning: Enable tracemalloc to get the object allocation traceback\n",
      "/home/sotiris/github/Custom-Dataset-Generation/notebooks/../src/detect_n_crop.py:85: ResourceWarning: unclosed file <_io.BufferedReader name='/home/sotiris/github/Custom-Dataset-Generation/images_20/TOYOTA-COROLLA/TOYOTA-COROLLA_4.jpeg'>\n",
      "  img = Image.open(frame)\n",
      "ResourceWarning: Enable tracemalloc to get the object allocation traceback\n"
     ]
    },
    {
     "name": "stdout",
     "output_type": "stream",
     "text": [
      "/home/sotiris/github/Custom-Dataset-Generation/images_20/TOYOTA-COROLLA/TOYOTA-COROLLA_17.jpeg\n"
     ]
    },
    {
     "name": "stderr",
     "output_type": "stream",
     "text": [
      "/home/sotiris/github/Custom-Dataset-Generation/notebooks/../src/detect_n_crop.py:85: ResourceWarning: unclosed file <_io.BufferedReader name='/home/sotiris/github/Custom-Dataset-Generation/images_20/TOYOTA-COROLLA/TOYOTA-COROLLA_17.jpeg'>\n",
      "  img = Image.open(frame)\n",
      "ResourceWarning: Enable tracemalloc to get the object allocation traceback\n"
     ]
    },
    {
     "name": "stdout",
     "output_type": "stream",
     "text": [
      "/home/sotiris/github/Custom-Dataset-Generation/images_20/TOYOTA-COROLLA/TOYOTA-COROLLA_3.jpeg\n"
     ]
    },
    {
     "name": "stderr",
     "output_type": "stream",
     "text": [
      "/home/sotiris/github/Custom-Dataset-Generation/notebooks/../src/detect_n_crop.py:85: ResourceWarning: unclosed file <_io.BufferedReader name='/home/sotiris/github/Custom-Dataset-Generation/images_20/TOYOTA-COROLLA/TOYOTA-COROLLA_3.jpeg'>\n",
      "  img = Image.open(frame)\n",
      "ResourceWarning: Enable tracemalloc to get the object allocation traceback\n"
     ]
    },
    {
     "name": "stdout",
     "output_type": "stream",
     "text": [
      "/home/sotiris/github/Custom-Dataset-Generation/images_20/TOYOTA-COROLLA/TOYOTA-COROLLA_5.png\n"
     ]
    },
    {
     "name": "stderr",
     "output_type": "stream",
     "text": [
      "/home/sotiris/github/Custom-Dataset-Generation/notebooks/../src/detect_n_crop.py:85: ResourceWarning: unclosed file <_io.BufferedReader name='/home/sotiris/github/Custom-Dataset-Generation/images_20/TOYOTA-COROLLA/TOYOTA-COROLLA_5.png'>\n",
      "  img = Image.open(frame)\n",
      "ResourceWarning: Enable tracemalloc to get the object allocation traceback\n"
     ]
    },
    {
     "name": "stdout",
     "output_type": "stream",
     "text": [
      "/home/sotiris/github/Custom-Dataset-Generation/images_20/TOYOTA-COROLLA/TOYOTA-COROLLA_9.jpeg\n"
     ]
    },
    {
     "name": "stderr",
     "output_type": "stream",
     "text": [
      "/home/sotiris/github/Custom-Dataset-Generation/notebooks/../src/detect_n_crop.py:85: ResourceWarning: unclosed file <_io.BufferedReader name='/home/sotiris/github/Custom-Dataset-Generation/images_20/TOYOTA-COROLLA/TOYOTA-COROLLA_9.jpeg'>\n",
      "  img = Image.open(frame)\n",
      "ResourceWarning: Enable tracemalloc to get the object allocation traceback\n"
     ]
    },
    {
     "name": "stdout",
     "output_type": "stream",
     "text": [
      "/home/sotiris/github/Custom-Dataset-Generation/images_20/TOYOTA-COROLLA/TOYOTA-COROLLA_14.png\n",
      "/home/sotiris/github/Custom-Dataset-Generation/images_20/FIAT-PANDA/FIAT-PANDA_8.jpeg\n"
     ]
    },
    {
     "name": "stderr",
     "output_type": "stream",
     "text": [
      "/home/sotiris/github/Custom-Dataset-Generation/notebooks/../src/detect_n_crop.py:85: ResourceWarning: unclosed file <_io.BufferedReader name='/home/sotiris/github/Custom-Dataset-Generation/images_20/TOYOTA-COROLLA/TOYOTA-COROLLA_14.png'>\n",
      "  img = Image.open(frame)\n",
      "ResourceWarning: Enable tracemalloc to get the object allocation traceback\n",
      "/home/sotiris/github/Custom-Dataset-Generation/notebooks/../src/detect_n_crop.py:85: ResourceWarning: unclosed file <_io.BufferedReader name='/home/sotiris/github/Custom-Dataset-Generation/images_20/FIAT-PANDA/FIAT-PANDA_8.jpeg'>\n",
      "  img = Image.open(frame)\n",
      "ResourceWarning: Enable tracemalloc to get the object allocation traceback\n"
     ]
    },
    {
     "name": "stdout",
     "output_type": "stream",
     "text": [
      "/home/sotiris/github/Custom-Dataset-Generation/images_20/FIAT-PANDA/FIAT-PANDA_16.jpeg\n",
      "/home/sotiris/github/Custom-Dataset-Generation/images_20/FIAT-PANDA/FIAT-PANDA_3.jpeg\n"
     ]
    },
    {
     "name": "stderr",
     "output_type": "stream",
     "text": [
      "/home/sotiris/github/Custom-Dataset-Generation/notebooks/../src/detect_n_crop.py:39: ResourceWarning: unclosed file <_io.BufferedReader name='/home/sotiris/github/Custom-Dataset-Generation/images_20/FIAT-PANDA/FIAT-PANDA_16.jpeg'>\n",
      "  img = Image.open(frame)\n",
      "ResourceWarning: Enable tracemalloc to get the object allocation traceback\n",
      "/home/sotiris/github/Custom-Dataset-Generation/notebooks/../src/detect_n_crop.py:85: ResourceWarning: unclosed file <_io.BufferedReader name='/home/sotiris/github/Custom-Dataset-Generation/images_20/FIAT-PANDA/FIAT-PANDA_3.jpeg'>\n",
      "  img = Image.open(frame)\n",
      "ResourceWarning: Enable tracemalloc to get the object allocation traceback\n"
     ]
    },
    {
     "name": "stdout",
     "output_type": "stream",
     "text": [
      "/home/sotiris/github/Custom-Dataset-Generation/images_20/FIAT-PANDA/FIAT-PANDA_20.jpeg\n",
      "/home/sotiris/github/Custom-Dataset-Generation/images_20/FIAT-PANDA/FIAT-PANDA_5.png\n"
     ]
    },
    {
     "name": "stderr",
     "output_type": "stream",
     "text": [
      "/home/sotiris/github/Custom-Dataset-Generation/notebooks/../src/detect_n_crop.py:39: ResourceWarning: unclosed file <_io.BufferedReader name='/home/sotiris/github/Custom-Dataset-Generation/images_20/FIAT-PANDA/FIAT-PANDA_20.jpeg'>\n",
      "  img = Image.open(frame)\n",
      "ResourceWarning: Enable tracemalloc to get the object allocation traceback\n",
      "/home/sotiris/github/Custom-Dataset-Generation/notebooks/../src/detect_n_crop.py:85: ResourceWarning: unclosed file <_io.BufferedReader name='/home/sotiris/github/Custom-Dataset-Generation/images_20/FIAT-PANDA/FIAT-PANDA_5.png'>\n",
      "  img = Image.open(frame)\n",
      "ResourceWarning: Enable tracemalloc to get the object allocation traceback\n"
     ]
    },
    {
     "name": "stdout",
     "output_type": "stream",
     "text": [
      "/home/sotiris/github/Custom-Dataset-Generation/images_20/FIAT-PANDA/FIAT-PANDA_1.jpeg\n",
      "/home/sotiris/github/Custom-Dataset-Generation/images_20/FIAT-PANDA/FIAT-PANDA_15.jpeg\n"
     ]
    },
    {
     "name": "stderr",
     "output_type": "stream",
     "text": [
      "/home/sotiris/github/Custom-Dataset-Generation/notebooks/../src/detect_n_crop.py:85: ResourceWarning: unclosed file <_io.BufferedReader name='/home/sotiris/github/Custom-Dataset-Generation/images_20/FIAT-PANDA/FIAT-PANDA_1.jpeg'>\n",
      "  img = Image.open(frame)\n",
      "ResourceWarning: Enable tracemalloc to get the object allocation traceback\n",
      "/home/sotiris/github/Custom-Dataset-Generation/notebooks/../src/detect_n_crop.py:85: ResourceWarning: unclosed file <_io.BufferedReader name='/home/sotiris/github/Custom-Dataset-Generation/images_20/FIAT-PANDA/FIAT-PANDA_15.jpeg'>\n",
      "  img = Image.open(frame)\n",
      "ResourceWarning: Enable tracemalloc to get the object allocation traceback\n"
     ]
    },
    {
     "name": "stdout",
     "output_type": "stream",
     "text": [
      "/home/sotiris/github/Custom-Dataset-Generation/images_20/FIAT-PANDA/FIAT-PANDA_17.jpeg\n",
      "/home/sotiris/github/Custom-Dataset-Generation/images_20/FIAT-PANDA/FIAT-PANDA_7.png\n"
     ]
    },
    {
     "name": "stderr",
     "output_type": "stream",
     "text": [
      "/home/sotiris/github/Custom-Dataset-Generation/notebooks/../src/detect_n_crop.py:39: ResourceWarning: unclosed file <_io.BufferedReader name='/home/sotiris/github/Custom-Dataset-Generation/images_20/FIAT-PANDA/FIAT-PANDA_17.jpeg'>\n",
      "  img = Image.open(frame)\n",
      "ResourceWarning: Enable tracemalloc to get the object allocation traceback\n",
      "/home/sotiris/github/Custom-Dataset-Generation/notebooks/../src/detect_n_crop.py:85: ResourceWarning: unclosed file <_io.BufferedReader name='/home/sotiris/github/Custom-Dataset-Generation/images_20/FIAT-PANDA/FIAT-PANDA_7.png'>\n",
      "  img = Image.open(frame)\n",
      "ResourceWarning: Enable tracemalloc to get the object allocation traceback\n"
     ]
    },
    {
     "name": "stdout",
     "output_type": "stream",
     "text": [
      "/home/sotiris/github/Custom-Dataset-Generation/images_20/FIAT-PANDA/FIAT-PANDA_6.jpeg\n"
     ]
    },
    {
     "name": "stderr",
     "output_type": "stream",
     "text": [
      "/home/sotiris/github/Custom-Dataset-Generation/notebooks/../src/detect_n_crop.py:85: ResourceWarning: unclosed file <_io.BufferedReader name='/home/sotiris/github/Custom-Dataset-Generation/images_20/FIAT-PANDA/FIAT-PANDA_6.jpeg'>\n",
      "  img = Image.open(frame)\n",
      "ResourceWarning: Enable tracemalloc to get the object allocation traceback\n"
     ]
    },
    {
     "name": "stdout",
     "output_type": "stream",
     "text": [
      "/home/sotiris/github/Custom-Dataset-Generation/images_20/FIAT-PANDA/FIAT-PANDA_18.jpeg\n",
      "/home/sotiris/github/Custom-Dataset-Generation/images_20/FIAT-PANDA/FIAT-PANDA_13.jpeg\n",
      "/home/sotiris/github/Custom-Dataset-Generation/images_20/FIAT-PANDA/FIAT-PANDA_2.jpeg\n"
     ]
    },
    {
     "name": "stderr",
     "output_type": "stream",
     "text": [
      "/home/sotiris/github/Custom-Dataset-Generation/notebooks/../src/detect_n_crop.py:85: ResourceWarning: unclosed file <_io.BufferedReader name='/home/sotiris/github/Custom-Dataset-Generation/images_20/FIAT-PANDA/FIAT-PANDA_18.jpeg'>\n",
      "  img = Image.open(frame)\n",
      "ResourceWarning: Enable tracemalloc to get the object allocation traceback\n",
      "/home/sotiris/github/Custom-Dataset-Generation/notebooks/../src/detect_n_crop.py:85: ResourceWarning: unclosed file <_io.BufferedReader name='/home/sotiris/github/Custom-Dataset-Generation/images_20/FIAT-PANDA/FIAT-PANDA_13.jpeg'>\n",
      "  img = Image.open(frame)\n",
      "ResourceWarning: Enable tracemalloc to get the object allocation traceback\n",
      "/home/sotiris/github/Custom-Dataset-Generation/notebooks/../src/detect_n_crop.py:85: ResourceWarning: unclosed file <_io.BufferedReader name='/home/sotiris/github/Custom-Dataset-Generation/images_20/FIAT-PANDA/FIAT-PANDA_2.jpeg'>\n",
      "  img = Image.open(frame)\n",
      "ResourceWarning: Enable tracemalloc to get the object allocation traceback\n"
     ]
    },
    {
     "name": "stdout",
     "output_type": "stream",
     "text": [
      "/home/sotiris/github/Custom-Dataset-Generation/images_20/FIAT-PANDA/FIAT-PANDA_11.jpeg\n",
      "/home/sotiris/github/Custom-Dataset-Generation/images_20/FIAT-PANDA/FIAT-PANDA_19.jpeg\n"
     ]
    },
    {
     "name": "stderr",
     "output_type": "stream",
     "text": [
      "/home/sotiris/github/Custom-Dataset-Generation/notebooks/../src/detect_n_crop.py:85: ResourceWarning: unclosed file <_io.BufferedReader name='/home/sotiris/github/Custom-Dataset-Generation/images_20/FIAT-PANDA/FIAT-PANDA_11.jpeg'>\n",
      "  img = Image.open(frame)\n",
      "ResourceWarning: Enable tracemalloc to get the object allocation traceback\n",
      "/home/sotiris/github/Custom-Dataset-Generation/notebooks/../src/detect_n_crop.py:85: ResourceWarning: unclosed file <_io.BufferedReader name='/home/sotiris/github/Custom-Dataset-Generation/images_20/FIAT-PANDA/FIAT-PANDA_19.jpeg'>\n",
      "  img = Image.open(frame)\n",
      "ResourceWarning: Enable tracemalloc to get the object allocation traceback\n"
     ]
    },
    {
     "name": "stdout",
     "output_type": "stream",
     "text": [
      "/home/sotiris/github/Custom-Dataset-Generation/images_20/FIAT-PANDA/FIAT-PANDA_10.jpeg\n"
     ]
    },
    {
     "name": "stderr",
     "output_type": "stream",
     "text": [
      "/home/sotiris/github/Custom-Dataset-Generation/notebooks/../src/detect_n_crop.py:85: ResourceWarning: unclosed file <_io.BufferedReader name='/home/sotiris/github/Custom-Dataset-Generation/images_20/FIAT-PANDA/FIAT-PANDA_10.jpeg'>\n",
      "  img = Image.open(frame)\n",
      "ResourceWarning: Enable tracemalloc to get the object allocation traceback\n"
     ]
    },
    {
     "name": "stdout",
     "output_type": "stream",
     "text": [
      "/home/sotiris/github/Custom-Dataset-Generation/images_20/FIAT-PANDA/FIAT-PANDA_12.jpeg\n",
      "/home/sotiris/github/Custom-Dataset-Generation/images_20/FIAT-PANDA/FIAT-PANDA_14.jpeg\n",
      "/home/sotiris/github/Custom-Dataset-Generation/images_20/FIAT-PANDA/FIAT-PANDA_9.jpeg\n"
     ]
    },
    {
     "name": "stderr",
     "output_type": "stream",
     "text": [
      "/home/sotiris/github/Custom-Dataset-Generation/notebooks/../src/detect_n_crop.py:39: ResourceWarning: unclosed file <_io.BufferedReader name='/home/sotiris/github/Custom-Dataset-Generation/images_20/FIAT-PANDA/FIAT-PANDA_12.jpeg'>\n",
      "  img = Image.open(frame)\n",
      "ResourceWarning: Enable tracemalloc to get the object allocation traceback\n",
      "/home/sotiris/github/Custom-Dataset-Generation/notebooks/../src/detect_n_crop.py:39: ResourceWarning: unclosed file <_io.BufferedReader name='/home/sotiris/github/Custom-Dataset-Generation/images_20/FIAT-PANDA/FIAT-PANDA_14.jpeg'>\n",
      "  img = Image.open(frame)\n",
      "ResourceWarning: Enable tracemalloc to get the object allocation traceback\n",
      "/home/sotiris/github/Custom-Dataset-Generation/notebooks/../src/detect_n_crop.py:85: ResourceWarning: unclosed file <_io.BufferedReader name='/home/sotiris/github/Custom-Dataset-Generation/images_20/FIAT-PANDA/FIAT-PANDA_9.jpeg'>\n",
      "  img = Image.open(frame)\n",
      "ResourceWarning: Enable tracemalloc to get the object allocation traceback\n"
     ]
    },
    {
     "name": "stdout",
     "output_type": "stream",
     "text": [
      "/home/sotiris/github/Custom-Dataset-Generation/images_20/FIAT-PANDA/FIAT-PANDA_4.jpeg\n",
      "/home/sotiris/github/Custom-Dataset-Generation/images_20/CITROEN-C3/CITROEN-C3_7.jpeg\n"
     ]
    },
    {
     "name": "stderr",
     "output_type": "stream",
     "text": [
      "/home/sotiris/github/Custom-Dataset-Generation/notebooks/../src/detect_n_crop.py:85: ResourceWarning: unclosed file <_io.BufferedReader name='/home/sotiris/github/Custom-Dataset-Generation/images_20/FIAT-PANDA/FIAT-PANDA_4.jpeg'>\n",
      "  img = Image.open(frame)\n",
      "ResourceWarning: Enable tracemalloc to get the object allocation traceback\n",
      "/home/sotiris/github/Custom-Dataset-Generation/notebooks/../src/detect_n_crop.py:85: ResourceWarning: unclosed file <_io.BufferedReader name='/home/sotiris/github/Custom-Dataset-Generation/images_20/CITROEN-C3/CITROEN-C3_7.jpeg'>\n",
      "  img = Image.open(frame)\n",
      "ResourceWarning: Enable tracemalloc to get the object allocation traceback\n"
     ]
    },
    {
     "name": "stdout",
     "output_type": "stream",
     "text": [
      "/home/sotiris/github/Custom-Dataset-Generation/images_20/CITROEN-C3/CITROEN-C3_1.jpeg\n"
     ]
    },
    {
     "name": "stderr",
     "output_type": "stream",
     "text": [
      "/home/sotiris/github/Custom-Dataset-Generation/notebooks/../src/detect_n_crop.py:85: ResourceWarning: unclosed file <_io.BufferedReader name='/home/sotiris/github/Custom-Dataset-Generation/images_20/CITROEN-C3/CITROEN-C3_1.jpeg'>\n",
      "  img = Image.open(frame)\n",
      "ResourceWarning: Enable tracemalloc to get the object allocation traceback\n"
     ]
    },
    {
     "name": "stdout",
     "output_type": "stream",
     "text": [
      "/home/sotiris/github/Custom-Dataset-Generation/images_20/CITROEN-C3/CITROEN-C3_20.jpeg\n",
      "/home/sotiris/github/Custom-Dataset-Generation/images_20/CITROEN-C3/CITROEN-C3_14.jpeg\n",
      "/home/sotiris/github/Custom-Dataset-Generation/images_20/CITROEN-C3/CITROEN-C3_9.jpeg\n"
     ]
    },
    {
     "name": "stderr",
     "output_type": "stream",
     "text": [
      "/home/sotiris/github/Custom-Dataset-Generation/notebooks/../src/detect_n_crop.py:39: ResourceWarning: unclosed file <_io.BufferedReader name='/home/sotiris/github/Custom-Dataset-Generation/images_20/CITROEN-C3/CITROEN-C3_20.jpeg'>\n",
      "  img = Image.open(frame)\n",
      "ResourceWarning: Enable tracemalloc to get the object allocation traceback\n",
      "/home/sotiris/github/Custom-Dataset-Generation/notebooks/../src/detect_n_crop.py:39: ResourceWarning: unclosed file <_io.BufferedReader name='/home/sotiris/github/Custom-Dataset-Generation/images_20/CITROEN-C3/CITROEN-C3_14.jpeg'>\n",
      "  img = Image.open(frame)\n",
      "ResourceWarning: Enable tracemalloc to get the object allocation traceback\n",
      "/home/sotiris/github/Custom-Dataset-Generation/notebooks/../src/detect_n_crop.py:85: ResourceWarning: unclosed file <_io.BufferedReader name='/home/sotiris/github/Custom-Dataset-Generation/images_20/CITROEN-C3/CITROEN-C3_9.jpeg'>\n",
      "  img = Image.open(frame)\n",
      "ResourceWarning: Enable tracemalloc to get the object allocation traceback\n"
     ]
    },
    {
     "name": "stdout",
     "output_type": "stream",
     "text": [
      "/home/sotiris/github/Custom-Dataset-Generation/images_20/CITROEN-C3/CITROEN-C3_18.jpeg\n"
     ]
    },
    {
     "name": "stderr",
     "output_type": "stream",
     "text": [
      "/home/sotiris/github/Custom-Dataset-Generation/notebooks/../src/detect_n_crop.py:85: ResourceWarning: unclosed file <_io.BufferedReader name='/home/sotiris/github/Custom-Dataset-Generation/images_20/CITROEN-C3/CITROEN-C3_18.jpeg'>\n",
      "  img = Image.open(frame)\n",
      "ResourceWarning: Enable tracemalloc to get the object allocation traceback\n"
     ]
    },
    {
     "name": "stdout",
     "output_type": "stream",
     "text": [
      "/home/sotiris/github/Custom-Dataset-Generation/images_20/CITROEN-C3/CITROEN-C3_16.jpeg\n",
      "/home/sotiris/github/Custom-Dataset-Generation/images_20/CITROEN-C3/CITROEN-C3_4.jpeg\n",
      "/home/sotiris/github/Custom-Dataset-Generation/images_20/CITROEN-C3/CITROEN-C3_13.jpeg\n"
     ]
    },
    {
     "name": "stderr",
     "output_type": "stream",
     "text": [
      "/home/sotiris/github/Custom-Dataset-Generation/notebooks/../src/detect_n_crop.py:39: ResourceWarning: unclosed file <_io.BufferedReader name='/home/sotiris/github/Custom-Dataset-Generation/images_20/CITROEN-C3/CITROEN-C3_16.jpeg'>\n",
      "  img = Image.open(frame)\n",
      "ResourceWarning: Enable tracemalloc to get the object allocation traceback\n",
      "/home/sotiris/github/Custom-Dataset-Generation/notebooks/../src/detect_n_crop.py:39: ResourceWarning: unclosed file <_io.BufferedReader name='/home/sotiris/github/Custom-Dataset-Generation/images_20/CITROEN-C3/CITROEN-C3_4.jpeg'>\n",
      "  img = Image.open(frame)\n",
      "ResourceWarning: Enable tracemalloc to get the object allocation traceback\n",
      "/home/sotiris/github/Custom-Dataset-Generation/notebooks/../src/detect_n_crop.py:39: ResourceWarning: unclosed file <_io.BufferedReader name='/home/sotiris/github/Custom-Dataset-Generation/images_20/CITROEN-C3/CITROEN-C3_13.jpeg'>\n",
      "  img = Image.open(frame)\n",
      "ResourceWarning: Enable tracemalloc to get the object allocation traceback\n"
     ]
    },
    {
     "name": "stdout",
     "output_type": "stream",
     "text": [
      "/home/sotiris/github/Custom-Dataset-Generation/images_20/CITROEN-C3/CITROEN-C3_11.jpeg\n",
      "/home/sotiris/github/Custom-Dataset-Generation/images_20/CITROEN-C3/CITROEN-C3_15.jpeg\n",
      "/home/sotiris/github/Custom-Dataset-Generation/images_20/CITROEN-C3/CITROEN-C3_5.jpeg\n"
     ]
    },
    {
     "name": "stderr",
     "output_type": "stream",
     "text": [
      "/home/sotiris/github/Custom-Dataset-Generation/notebooks/../src/detect_n_crop.py:39: ResourceWarning: unclosed file <_io.BufferedReader name='/home/sotiris/github/Custom-Dataset-Generation/images_20/CITROEN-C3/CITROEN-C3_11.jpeg'>\n",
      "  img = Image.open(frame)\n",
      "ResourceWarning: Enable tracemalloc to get the object allocation traceback\n",
      "/home/sotiris/github/Custom-Dataset-Generation/notebooks/../src/detect_n_crop.py:39: ResourceWarning: unclosed file <_io.BufferedReader name='/home/sotiris/github/Custom-Dataset-Generation/images_20/CITROEN-C3/CITROEN-C3_15.jpeg'>\n",
      "  img = Image.open(frame)\n",
      "ResourceWarning: Enable tracemalloc to get the object allocation traceback\n",
      "/home/sotiris/github/Custom-Dataset-Generation/notebooks/../src/detect_n_crop.py:85: ResourceWarning: unclosed file <_io.BufferedReader name='/home/sotiris/github/Custom-Dataset-Generation/images_20/CITROEN-C3/CITROEN-C3_5.jpeg'>\n",
      "  img = Image.open(frame)\n",
      "ResourceWarning: Enable tracemalloc to get the object allocation traceback\n"
     ]
    },
    {
     "name": "stdout",
     "output_type": "stream",
     "text": [
      "/home/sotiris/github/Custom-Dataset-Generation/images_20/CITROEN-C3/CITROEN-C3_8.jpeg\n"
     ]
    },
    {
     "name": "stderr",
     "output_type": "stream",
     "text": [
      "/home/sotiris/github/Custom-Dataset-Generation/notebooks/../src/detect_n_crop.py:85: ResourceWarning: unclosed file <_io.BufferedReader name='/home/sotiris/github/Custom-Dataset-Generation/images_20/CITROEN-C3/CITROEN-C3_8.jpeg'>\n",
      "  img = Image.open(frame)\n",
      "ResourceWarning: Enable tracemalloc to get the object allocation traceback\n"
     ]
    },
    {
     "name": "stdout",
     "output_type": "stream",
     "text": [
      "/home/sotiris/github/Custom-Dataset-Generation/images_20/CITROEN-C3/CITROEN-C3_19.jpeg\n"
     ]
    },
    {
     "name": "stderr",
     "output_type": "stream",
     "text": [
      "/home/sotiris/github/Custom-Dataset-Generation/notebooks/../src/detect_n_crop.py:85: ResourceWarning: unclosed file <_io.BufferedReader name='/home/sotiris/github/Custom-Dataset-Generation/images_20/CITROEN-C3/CITROEN-C3_19.jpeg'>\n",
      "  img = Image.open(frame)\n",
      "ResourceWarning: Enable tracemalloc to get the object allocation traceback\n"
     ]
    },
    {
     "name": "stdout",
     "output_type": "stream",
     "text": [
      "/home/sotiris/github/Custom-Dataset-Generation/images_20/CITROEN-C3/CITROEN-C3_6.jpeg\n"
     ]
    },
    {
     "name": "stderr",
     "output_type": "stream",
     "text": [
      "/home/sotiris/github/Custom-Dataset-Generation/notebooks/../src/detect_n_crop.py:85: ResourceWarning: unclosed file <_io.BufferedReader name='/home/sotiris/github/Custom-Dataset-Generation/images_20/CITROEN-C3/CITROEN-C3_6.jpeg'>\n",
      "  img = Image.open(frame)\n",
      "ResourceWarning: Enable tracemalloc to get the object allocation traceback\n"
     ]
    },
    {
     "name": "stdout",
     "output_type": "stream",
     "text": [
      "/home/sotiris/github/Custom-Dataset-Generation/images_20/CITROEN-C3/CITROEN-C3_2.jpeg\n",
      "/home/sotiris/github/Custom-Dataset-Generation/images_20/CITROEN-C3/CITROEN-C3_3.jpeg\n"
     ]
    },
    {
     "name": "stderr",
     "output_type": "stream",
     "text": [
      "/home/sotiris/github/Custom-Dataset-Generation/notebooks/../src/detect_n_crop.py:85: ResourceWarning: unclosed file <_io.BufferedReader name='/home/sotiris/github/Custom-Dataset-Generation/images_20/CITROEN-C3/CITROEN-C3_2.jpeg'>\n",
      "  img = Image.open(frame)\n",
      "ResourceWarning: Enable tracemalloc to get the object allocation traceback\n",
      "/home/sotiris/github/Custom-Dataset-Generation/notebooks/../src/detect_n_crop.py:85: ResourceWarning: unclosed file <_io.BufferedReader name='/home/sotiris/github/Custom-Dataset-Generation/images_20/CITROEN-C3/CITROEN-C3_3.jpeg'>\n",
      "  img = Image.open(frame)\n",
      "ResourceWarning: Enable tracemalloc to get the object allocation traceback\n"
     ]
    },
    {
     "name": "stdout",
     "output_type": "stream",
     "text": [
      "/home/sotiris/github/Custom-Dataset-Generation/images_20/CITROEN-C3/CITROEN-C3_12.png\n"
     ]
    },
    {
     "name": "stderr",
     "output_type": "stream",
     "text": [
      "/home/sotiris/github/Custom-Dataset-Generation/notebooks/../src/detect_n_crop.py:39: ResourceWarning: unclosed file <_io.BufferedReader name='/home/sotiris/github/Custom-Dataset-Generation/images_20/CITROEN-C3/CITROEN-C3_12.png'>\n",
      "  img = Image.open(frame)\n",
      "ResourceWarning: Enable tracemalloc to get the object allocation traceback\n",
      "/home/sotiris/github/Custom-Dataset-Generation/notebooks/../src/detect_n_crop.py:39: ResourceWarning: unclosed file <_io.BufferedReader name='/home/sotiris/github/Custom-Dataset-Generation/images_20/CITROEN-C3/CITROEN-C3_17.jpeg'>\n",
      "  img = Image.open(frame)\n",
      "ResourceWarning: Enable tracemalloc to get the object allocation traceback\n"
     ]
    },
    {
     "name": "stdout",
     "output_type": "stream",
     "text": [
      "/home/sotiris/github/Custom-Dataset-Generation/images_20/CITROEN-C3/CITROEN-C3_17.jpeg\n",
      "/home/sotiris/github/Custom-Dataset-Generation/images_20/CITROEN-C3/CITROEN-C3_10.jpeg\n"
     ]
    },
    {
     "name": "stderr",
     "output_type": "stream",
     "text": [
      "/home/sotiris/github/Custom-Dataset-Generation/notebooks/../src/detect_n_crop.py:85: ResourceWarning: unclosed file <_io.BufferedReader name='/home/sotiris/github/Custom-Dataset-Generation/images_20/CITROEN-C3/CITROEN-C3_10.jpeg'>\n",
      "  img = Image.open(frame)\n",
      "ResourceWarning: Enable tracemalloc to get the object allocation traceback\n"
     ]
    },
    {
     "name": "stdout",
     "output_type": "stream",
     "text": [
      "/home/sotiris/github/Custom-Dataset-Generation/images_20/DACIA-DUSTER/DACIA-DUSTER_9.jpeg\n",
      "/home/sotiris/github/Custom-Dataset-Generation/images_20/DACIA-DUSTER/DACIA-DUSTER_6.jpeg\n",
      "/home/sotiris/github/Custom-Dataset-Generation/images_20/DACIA-DUSTER/DACIA-DUSTER_8.jpeg\n"
     ]
    },
    {
     "name": "stderr",
     "output_type": "stream",
     "text": [
      "/home/sotiris/github/Custom-Dataset-Generation/notebooks/../src/detect_n_crop.py:39: ResourceWarning: unclosed file <_io.BufferedReader name='/home/sotiris/github/Custom-Dataset-Generation/images_20/DACIA-DUSTER/DACIA-DUSTER_9.jpeg'>\n",
      "  img = Image.open(frame)\n",
      "ResourceWarning: Enable tracemalloc to get the object allocation traceback\n",
      "/home/sotiris/github/Custom-Dataset-Generation/notebooks/../src/detect_n_crop.py:39: ResourceWarning: unclosed file <_io.BufferedReader name='/home/sotiris/github/Custom-Dataset-Generation/images_20/DACIA-DUSTER/DACIA-DUSTER_6.jpeg'>\n",
      "  img = Image.open(frame)\n",
      "ResourceWarning: Enable tracemalloc to get the object allocation traceback\n",
      "/home/sotiris/github/Custom-Dataset-Generation/notebooks/../src/detect_n_crop.py:39: ResourceWarning: unclosed file <_io.BufferedReader name='/home/sotiris/github/Custom-Dataset-Generation/images_20/DACIA-DUSTER/DACIA-DUSTER_8.jpeg'>\n",
      "  img = Image.open(frame)\n",
      "ResourceWarning: Enable tracemalloc to get the object allocation traceback\n"
     ]
    },
    {
     "name": "stdout",
     "output_type": "stream",
     "text": [
      "/home/sotiris/github/Custom-Dataset-Generation/images_20/DACIA-DUSTER/DACIA-DUSTER_18.jpeg\n",
      "/home/sotiris/github/Custom-Dataset-Generation/images_20/DACIA-DUSTER/DACIA-DUSTER_17.jpeg\n"
     ]
    },
    {
     "name": "stderr",
     "output_type": "stream",
     "text": [
      "/home/sotiris/github/Custom-Dataset-Generation/notebooks/../src/detect_n_crop.py:85: ResourceWarning: unclosed file <_io.BufferedReader name='/home/sotiris/github/Custom-Dataset-Generation/images_20/DACIA-DUSTER/DACIA-DUSTER_18.jpeg'>\n",
      "  img = Image.open(frame)\n",
      "ResourceWarning: Enable tracemalloc to get the object allocation traceback\n",
      "/home/sotiris/github/Custom-Dataset-Generation/notebooks/../src/detect_n_crop.py:85: ResourceWarning: unclosed file <_io.BufferedReader name='/home/sotiris/github/Custom-Dataset-Generation/images_20/DACIA-DUSTER/DACIA-DUSTER_17.jpeg'>\n",
      "  img = Image.open(frame)\n",
      "ResourceWarning: Enable tracemalloc to get the object allocation traceback\n"
     ]
    },
    {
     "name": "stdout",
     "output_type": "stream",
     "text": [
      "/home/sotiris/github/Custom-Dataset-Generation/images_20/DACIA-DUSTER/DACIA-DUSTER_3.jpeg\n",
      "/home/sotiris/github/Custom-Dataset-Generation/images_20/DACIA-DUSTER/DACIA-DUSTER_19.jpeg\n",
      "/home/sotiris/github/Custom-Dataset-Generation/images_20/DACIA-DUSTER/DACIA-DUSTER_12.jpeg\n"
     ]
    },
    {
     "name": "stderr",
     "output_type": "stream",
     "text": [
      "/home/sotiris/github/Custom-Dataset-Generation/notebooks/../src/detect_n_crop.py:85: ResourceWarning: unclosed file <_io.BufferedReader name='/home/sotiris/github/Custom-Dataset-Generation/images_20/DACIA-DUSTER/DACIA-DUSTER_3.jpeg'>\n",
      "  img = Image.open(frame)\n",
      "ResourceWarning: Enable tracemalloc to get the object allocation traceback\n",
      "/home/sotiris/github/Custom-Dataset-Generation/notebooks/../src/detect_n_crop.py:39: ResourceWarning: unclosed file <_io.BufferedReader name='/home/sotiris/github/Custom-Dataset-Generation/images_20/DACIA-DUSTER/DACIA-DUSTER_19.jpeg'>\n",
      "  img = Image.open(frame)\n",
      "ResourceWarning: Enable tracemalloc to get the object allocation traceback\n",
      "/home/sotiris/github/Custom-Dataset-Generation/notebooks/../src/detect_n_crop.py:39: ResourceWarning: unclosed file <_io.BufferedReader name='/home/sotiris/github/Custom-Dataset-Generation/images_20/DACIA-DUSTER/DACIA-DUSTER_12.jpeg'>\n",
      "  img = Image.open(frame)\n",
      "ResourceWarning: Enable tracemalloc to get the object allocation traceback\n"
     ]
    },
    {
     "name": "stdout",
     "output_type": "stream",
     "text": [
      "/home/sotiris/github/Custom-Dataset-Generation/images_20/DACIA-DUSTER/DACIA-DUSTER_2.jpeg\n",
      "/home/sotiris/github/Custom-Dataset-Generation/images_20/DACIA-DUSTER/DACIA-DUSTER_14.jpeg\n",
      "/home/sotiris/github/Custom-Dataset-Generation/images_20/DACIA-DUSTER/DACIA-DUSTER_20.jpeg\n"
     ]
    },
    {
     "name": "stderr",
     "output_type": "stream",
     "text": [
      "/home/sotiris/github/Custom-Dataset-Generation/notebooks/../src/detect_n_crop.py:39: ResourceWarning: unclosed file <_io.BufferedReader name='/home/sotiris/github/Custom-Dataset-Generation/images_20/DACIA-DUSTER/DACIA-DUSTER_2.jpeg'>\n",
      "  img = Image.open(frame)\n",
      "ResourceWarning: Enable tracemalloc to get the object allocation traceback\n",
      "/home/sotiris/github/Custom-Dataset-Generation/notebooks/../src/detect_n_crop.py:39: ResourceWarning: unclosed file <_io.BufferedReader name='/home/sotiris/github/Custom-Dataset-Generation/images_20/DACIA-DUSTER/DACIA-DUSTER_14.jpeg'>\n",
      "  img = Image.open(frame)\n",
      "ResourceWarning: Enable tracemalloc to get the object allocation traceback\n",
      "/home/sotiris/github/Custom-Dataset-Generation/notebooks/../src/detect_n_crop.py:39: ResourceWarning: unclosed file <_io.BufferedReader name='/home/sotiris/github/Custom-Dataset-Generation/images_20/DACIA-DUSTER/DACIA-DUSTER_20.jpeg'>\n",
      "  img = Image.open(frame)\n",
      "ResourceWarning: Enable tracemalloc to get the object allocation traceback\n"
     ]
    },
    {
     "name": "stdout",
     "output_type": "stream",
     "text": [
      "/home/sotiris/github/Custom-Dataset-Generation/images_20/DACIA-DUSTER/DACIA-DUSTER_15.jpeg\n",
      "/home/sotiris/github/Custom-Dataset-Generation/images_20/DACIA-DUSTER/DACIA-DUSTER_4.jpeg\n",
      "/home/sotiris/github/Custom-Dataset-Generation/images_20/DACIA-DUSTER/DACIA-DUSTER_13.jpeg\n"
     ]
    },
    {
     "name": "stderr",
     "output_type": "stream",
     "text": [
      "/home/sotiris/github/Custom-Dataset-Generation/notebooks/../src/detect_n_crop.py:39: ResourceWarning: unclosed file <_io.BufferedReader name='/home/sotiris/github/Custom-Dataset-Generation/images_20/DACIA-DUSTER/DACIA-DUSTER_15.jpeg'>\n",
      "  img = Image.open(frame)\n",
      "ResourceWarning: Enable tracemalloc to get the object allocation traceback\n",
      "/home/sotiris/github/Custom-Dataset-Generation/notebooks/../src/detect_n_crop.py:39: ResourceWarning: unclosed file <_io.BufferedReader name='/home/sotiris/github/Custom-Dataset-Generation/images_20/DACIA-DUSTER/DACIA-DUSTER_4.jpeg'>\n",
      "  img = Image.open(frame)\n",
      "ResourceWarning: Enable tracemalloc to get the object allocation traceback\n",
      "/home/sotiris/github/Custom-Dataset-Generation/notebooks/../src/detect_n_crop.py:85: ResourceWarning: unclosed file <_io.BufferedReader name='/home/sotiris/github/Custom-Dataset-Generation/images_20/DACIA-DUSTER/DACIA-DUSTER_13.jpeg'>\n",
      "  img = Image.open(frame)\n",
      "ResourceWarning: Enable tracemalloc to get the object allocation traceback\n"
     ]
    },
    {
     "name": "stdout",
     "output_type": "stream",
     "text": [
      "/home/sotiris/github/Custom-Dataset-Generation/images_20/DACIA-DUSTER/DACIA-DUSTER_1.jpeg\n",
      "/home/sotiris/github/Custom-Dataset-Generation/images_20/DACIA-DUSTER/DACIA-DUSTER_11.jpeg\n",
      "/home/sotiris/github/Custom-Dataset-Generation/images_20/DACIA-DUSTER/DACIA-DUSTER_7.jpeg\n"
     ]
    },
    {
     "name": "stderr",
     "output_type": "stream",
     "text": [
      "/home/sotiris/github/Custom-Dataset-Generation/notebooks/../src/detect_n_crop.py:39: ResourceWarning: unclosed file <_io.BufferedReader name='/home/sotiris/github/Custom-Dataset-Generation/images_20/DACIA-DUSTER/DACIA-DUSTER_1.jpeg'>\n",
      "  img = Image.open(frame)\n",
      "ResourceWarning: Enable tracemalloc to get the object allocation traceback\n",
      "/home/sotiris/github/Custom-Dataset-Generation/notebooks/../src/detect_n_crop.py:39: ResourceWarning: unclosed file <_io.BufferedReader name='/home/sotiris/github/Custom-Dataset-Generation/images_20/DACIA-DUSTER/DACIA-DUSTER_11.jpeg'>\n",
      "  img = Image.open(frame)\n",
      "ResourceWarning: Enable tracemalloc to get the object allocation traceback\n",
      "/home/sotiris/github/Custom-Dataset-Generation/notebooks/../src/detect_n_crop.py:39: ResourceWarning: unclosed file <_io.BufferedReader name='/home/sotiris/github/Custom-Dataset-Generation/images_20/DACIA-DUSTER/DACIA-DUSTER_7.jpeg'>\n",
      "  img = Image.open(frame)\n",
      "ResourceWarning: Enable tracemalloc to get the object allocation traceback\n"
     ]
    },
    {
     "name": "stdout",
     "output_type": "stream",
     "text": [
      "/home/sotiris/github/Custom-Dataset-Generation/images_20/DACIA-DUSTER/DACIA-DUSTER_16.jpeg\n"
     ]
    },
    {
     "name": "stderr",
     "output_type": "stream",
     "text": [
      "/home/sotiris/github/Custom-Dataset-Generation/notebooks/../src/detect_n_crop.py:85: ResourceWarning: unclosed file <_io.BufferedReader name='/home/sotiris/github/Custom-Dataset-Generation/images_20/DACIA-DUSTER/DACIA-DUSTER_16.jpeg'>\n",
      "  img = Image.open(frame)\n",
      "ResourceWarning: Enable tracemalloc to get the object allocation traceback\n"
     ]
    },
    {
     "name": "stdout",
     "output_type": "stream",
     "text": [
      "/home/sotiris/github/Custom-Dataset-Generation/images_20/DACIA-DUSTER/DACIA-DUSTER_10.jpeg\n",
      "/home/sotiris/github/Custom-Dataset-Generation/images_20/DACIA-DUSTER/DACIA-DUSTER_5.jpeg\n",
      "/home/sotiris/github/Custom-Dataset-Generation/images_20/OPEL-CORSA/OPEL-CORSA_3.jpeg\n"
     ]
    },
    {
     "name": "stderr",
     "output_type": "stream",
     "text": [
      "/home/sotiris/github/Custom-Dataset-Generation/notebooks/../src/detect_n_crop.py:85: ResourceWarning: unclosed file <_io.BufferedReader name='/home/sotiris/github/Custom-Dataset-Generation/images_20/DACIA-DUSTER/DACIA-DUSTER_10.jpeg'>\n",
      "  img = Image.open(frame)\n",
      "ResourceWarning: Enable tracemalloc to get the object allocation traceback\n",
      "/home/sotiris/github/Custom-Dataset-Generation/notebooks/../src/detect_n_crop.py:39: ResourceWarning: unclosed file <_io.BufferedReader name='/home/sotiris/github/Custom-Dataset-Generation/images_20/DACIA-DUSTER/DACIA-DUSTER_5.jpeg'>\n",
      "  img = Image.open(frame)\n",
      "ResourceWarning: Enable tracemalloc to get the object allocation traceback\n",
      "/home/sotiris/github/Custom-Dataset-Generation/notebooks/../src/detect_n_crop.py:85: ResourceWarning: unclosed file <_io.BufferedReader name='/home/sotiris/github/Custom-Dataset-Generation/images_20/OPEL-CORSA/OPEL-CORSA_3.jpeg'>\n",
      "  img = Image.open(frame)\n",
      "ResourceWarning: Enable tracemalloc to get the object allocation traceback\n"
     ]
    },
    {
     "name": "stdout",
     "output_type": "stream",
     "text": [
      "/home/sotiris/github/Custom-Dataset-Generation/images_20/OPEL-CORSA/OPEL-CORSA_14.jpeg\n",
      "/home/sotiris/github/Custom-Dataset-Generation/images_20/OPEL-CORSA/OPEL-CORSA_17.jpeg\n"
     ]
    },
    {
     "name": "stderr",
     "output_type": "stream",
     "text": [
      "/home/sotiris/github/Custom-Dataset-Generation/notebooks/../src/detect_n_crop.py:39: ResourceWarning: unclosed file <_io.BufferedReader name='/home/sotiris/github/Custom-Dataset-Generation/images_20/OPEL-CORSA/OPEL-CORSA_14.jpeg'>\n",
      "  img = Image.open(frame)\n",
      "ResourceWarning: Enable tracemalloc to get the object allocation traceback\n",
      "/home/sotiris/github/Custom-Dataset-Generation/notebooks/../src/detect_n_crop.py:85: ResourceWarning: unclosed file <_io.BufferedReader name='/home/sotiris/github/Custom-Dataset-Generation/images_20/OPEL-CORSA/OPEL-CORSA_17.jpeg'>\n",
      "  img = Image.open(frame)\n",
      "ResourceWarning: Enable tracemalloc to get the object allocation traceback\n"
     ]
    },
    {
     "name": "stdout",
     "output_type": "stream",
     "text": [
      "/home/sotiris/github/Custom-Dataset-Generation/images_20/OPEL-CORSA/OPEL-CORSA_18.jpeg\n"
     ]
    },
    {
     "name": "stderr",
     "output_type": "stream",
     "text": [
      "/home/sotiris/github/Custom-Dataset-Generation/notebooks/../src/detect_n_crop.py:85: ResourceWarning: unclosed file <_io.BufferedReader name='/home/sotiris/github/Custom-Dataset-Generation/images_20/OPEL-CORSA/OPEL-CORSA_18.jpeg'>\n",
      "  img = Image.open(frame)\n",
      "ResourceWarning: Enable tracemalloc to get the object allocation traceback\n"
     ]
    },
    {
     "name": "stdout",
     "output_type": "stream",
     "text": [
      "/home/sotiris/github/Custom-Dataset-Generation/images_20/OPEL-CORSA/OPEL-CORSA_20.jpeg\n"
     ]
    },
    {
     "name": "stderr",
     "output_type": "stream",
     "text": [
      "/home/sotiris/github/Custom-Dataset-Generation/notebooks/../src/detect_n_crop.py:85: ResourceWarning: unclosed file <_io.BufferedReader name='/home/sotiris/github/Custom-Dataset-Generation/images_20/OPEL-CORSA/OPEL-CORSA_20.jpeg'>\n",
      "  img = Image.open(frame)\n",
      "ResourceWarning: Enable tracemalloc to get the object allocation traceback\n"
     ]
    },
    {
     "name": "stdout",
     "output_type": "stream",
     "text": [
      "/home/sotiris/github/Custom-Dataset-Generation/images_20/OPEL-CORSA/OPEL-CORSA_5.jpeg\n"
     ]
    },
    {
     "name": "stderr",
     "output_type": "stream",
     "text": [
      "/home/sotiris/github/Custom-Dataset-Generation/notebooks/../src/detect_n_crop.py:85: ResourceWarning: unclosed file <_io.BufferedReader name='/home/sotiris/github/Custom-Dataset-Generation/images_20/OPEL-CORSA/OPEL-CORSA_5.jpeg'>\n",
      "  img = Image.open(frame)\n",
      "ResourceWarning: Enable tracemalloc to get the object allocation traceback\n"
     ]
    },
    {
     "name": "stdout",
     "output_type": "stream",
     "text": [
      "/home/sotiris/github/Custom-Dataset-Generation/images_20/OPEL-CORSA/OPEL-CORSA_16.jpeg\n",
      "/home/sotiris/github/Custom-Dataset-Generation/images_20/OPEL-CORSA/OPEL-CORSA_9.jpeg\n"
     ]
    },
    {
     "name": "stderr",
     "output_type": "stream",
     "text": [
      "/home/sotiris/github/Custom-Dataset-Generation/notebooks/../src/detect_n_crop.py:39: ResourceWarning: unclosed file <_io.BufferedReader name='/home/sotiris/github/Custom-Dataset-Generation/images_20/OPEL-CORSA/OPEL-CORSA_16.jpeg'>\n",
      "  img = Image.open(frame)\n",
      "ResourceWarning: Enable tracemalloc to get the object allocation traceback\n",
      "/home/sotiris/github/Custom-Dataset-Generation/notebooks/../src/detect_n_crop.py:39: ResourceWarning: unclosed file <_io.BufferedReader name='/home/sotiris/github/Custom-Dataset-Generation/images_20/OPEL-CORSA/OPEL-CORSA_9.jpeg'>\n",
      "  img = Image.open(frame)\n",
      "ResourceWarning: Enable tracemalloc to get the object allocation traceback\n",
      "/home/sotiris/github/Custom-Dataset-Generation/notebooks/../src/detect_n_crop.py:39: ResourceWarning: unclosed file <_io.BufferedReader name='/home/sotiris/github/Custom-Dataset-Generation/images_20/OPEL-CORSA/OPEL-CORSA_2.jpeg'>\n",
      "  img = Image.open(frame)\n",
      "ResourceWarning: Enable tracemalloc to get the object allocation traceback\n"
     ]
    },
    {
     "name": "stdout",
     "output_type": "stream",
     "text": [
      "/home/sotiris/github/Custom-Dataset-Generation/images_20/OPEL-CORSA/OPEL-CORSA_2.jpeg\n",
      "/home/sotiris/github/Custom-Dataset-Generation/images_20/OPEL-CORSA/OPEL-CORSA_4.jpeg\n",
      "/home/sotiris/github/Custom-Dataset-Generation/images_20/OPEL-CORSA/OPEL-CORSA_15.jpeg\n"
     ]
    },
    {
     "name": "stderr",
     "output_type": "stream",
     "text": [
      "/home/sotiris/github/Custom-Dataset-Generation/notebooks/../src/detect_n_crop.py:39: ResourceWarning: unclosed file <_io.BufferedReader name='/home/sotiris/github/Custom-Dataset-Generation/images_20/OPEL-CORSA/OPEL-CORSA_4.jpeg'>\n",
      "  img = Image.open(frame)\n",
      "ResourceWarning: Enable tracemalloc to get the object allocation traceback\n",
      "/home/sotiris/github/Custom-Dataset-Generation/notebooks/../src/detect_n_crop.py:85: ResourceWarning: unclosed file <_io.BufferedReader name='/home/sotiris/github/Custom-Dataset-Generation/images_20/OPEL-CORSA/OPEL-CORSA_15.jpeg'>\n",
      "  img = Image.open(frame)\n",
      "ResourceWarning: Enable tracemalloc to get the object allocation traceback\n"
     ]
    },
    {
     "name": "stdout",
     "output_type": "stream",
     "text": [
      "/home/sotiris/github/Custom-Dataset-Generation/images_20/OPEL-CORSA/OPEL-CORSA_6.jpeg\n"
     ]
    },
    {
     "name": "stderr",
     "output_type": "stream",
     "text": [
      "/home/sotiris/github/Custom-Dataset-Generation/notebooks/../src/detect_n_crop.py:85: ResourceWarning: unclosed file <_io.BufferedReader name='/home/sotiris/github/Custom-Dataset-Generation/images_20/OPEL-CORSA/OPEL-CORSA_6.jpeg'>\n",
      "  img = Image.open(frame)\n",
      "ResourceWarning: Enable tracemalloc to get the object allocation traceback\n"
     ]
    },
    {
     "name": "stdout",
     "output_type": "stream",
     "text": [
      "/home/sotiris/github/Custom-Dataset-Generation/images_20/OPEL-CORSA/OPEL-CORSA_7.jpeg\n"
     ]
    },
    {
     "name": "stderr",
     "output_type": "stream",
     "text": [
      "/home/sotiris/github/Custom-Dataset-Generation/notebooks/../src/detect_n_crop.py:85: ResourceWarning: unclosed file <_io.BufferedReader name='/home/sotiris/github/Custom-Dataset-Generation/images_20/OPEL-CORSA/OPEL-CORSA_7.jpeg'>\n",
      "  img = Image.open(frame)\n",
      "ResourceWarning: Enable tracemalloc to get the object allocation traceback\n"
     ]
    },
    {
     "name": "stdout",
     "output_type": "stream",
     "text": [
      "/home/sotiris/github/Custom-Dataset-Generation/images_20/OPEL-CORSA/OPEL-CORSA_12.jpeg\n"
     ]
    },
    {
     "name": "stderr",
     "output_type": "stream",
     "text": [
      "/home/sotiris/github/Custom-Dataset-Generation/notebooks/../src/detect_n_crop.py:85: ResourceWarning: unclosed file <_io.BufferedReader name='/home/sotiris/github/Custom-Dataset-Generation/images_20/OPEL-CORSA/OPEL-CORSA_12.jpeg'>\n",
      "  img = Image.open(frame)\n",
      "ResourceWarning: Enable tracemalloc to get the object allocation traceback\n"
     ]
    },
    {
     "name": "stdout",
     "output_type": "stream",
     "text": [
      "/home/sotiris/github/Custom-Dataset-Generation/images_20/OPEL-CORSA/OPEL-CORSA_19.jpeg\n"
     ]
    },
    {
     "name": "stderr",
     "output_type": "stream",
     "text": [
      "/home/sotiris/github/Custom-Dataset-Generation/notebooks/../src/detect_n_crop.py:85: ResourceWarning: unclosed file <_io.BufferedReader name='/home/sotiris/github/Custom-Dataset-Generation/images_20/OPEL-CORSA/OPEL-CORSA_19.jpeg'>\n",
      "  img = Image.open(frame)\n",
      "ResourceWarning: Enable tracemalloc to get the object allocation traceback\n"
     ]
    },
    {
     "name": "stdout",
     "output_type": "stream",
     "text": [
      "/home/sotiris/github/Custom-Dataset-Generation/images_20/OPEL-CORSA/OPEL-CORSA_1.jpeg\n"
     ]
    },
    {
     "name": "stderr",
     "output_type": "stream",
     "text": [
      "/home/sotiris/github/Custom-Dataset-Generation/notebooks/../src/detect_n_crop.py:85: ResourceWarning: unclosed file <_io.BufferedReader name='/home/sotiris/github/Custom-Dataset-Generation/images_20/OPEL-CORSA/OPEL-CORSA_1.jpeg'>\n",
      "  img = Image.open(frame)\n",
      "ResourceWarning: Enable tracemalloc to get the object allocation traceback\n"
     ]
    },
    {
     "name": "stdout",
     "output_type": "stream",
     "text": [
      "/home/sotiris/github/Custom-Dataset-Generation/images_20/OPEL-CORSA/OPEL-CORSA_13.jpeg\n",
      "/home/sotiris/github/Custom-Dataset-Generation/images_20/OPEL-CORSA/OPEL-CORSA_11.jpeg\n"
     ]
    },
    {
     "name": "stderr",
     "output_type": "stream",
     "text": [
      "/home/sotiris/github/Custom-Dataset-Generation/notebooks/../src/detect_n_crop.py:85: ResourceWarning: unclosed file <_io.BufferedReader name='/home/sotiris/github/Custom-Dataset-Generation/images_20/OPEL-CORSA/OPEL-CORSA_13.jpeg'>\n",
      "  img = Image.open(frame)\n",
      "ResourceWarning: Enable tracemalloc to get the object allocation traceback\n",
      "/home/sotiris/github/Custom-Dataset-Generation/notebooks/../src/detect_n_crop.py:39: ResourceWarning: unclosed file <_io.BufferedReader name='/home/sotiris/github/Custom-Dataset-Generation/images_20/OPEL-CORSA/OPEL-CORSA_11.jpeg'>\n",
      "  img = Image.open(frame)\n",
      "ResourceWarning: Enable tracemalloc to get the object allocation traceback\n"
     ]
    },
    {
     "name": "stdout",
     "output_type": "stream",
     "text": [
      "/home/sotiris/github/Custom-Dataset-Generation/images_20/OPEL-CORSA/OPEL-CORSA_8.jpeg\n",
      "/home/sotiris/github/Custom-Dataset-Generation/images_20/OPEL-CORSA/OPEL-CORSA_10.jpeg\n",
      "/home/sotiris/github/Custom-Dataset-Generation/images_20/PEUGEOT-2008/PEUGEOT-2008_8.jpeg\n"
     ]
    },
    {
     "name": "stderr",
     "output_type": "stream",
     "text": [
      "/home/sotiris/github/Custom-Dataset-Generation/notebooks/../src/detect_n_crop.py:39: ResourceWarning: unclosed file <_io.BufferedReader name='/home/sotiris/github/Custom-Dataset-Generation/images_20/OPEL-CORSA/OPEL-CORSA_8.jpeg'>\n",
      "  img = Image.open(frame)\n",
      "ResourceWarning: Enable tracemalloc to get the object allocation traceback\n",
      "/home/sotiris/github/Custom-Dataset-Generation/notebooks/../src/detect_n_crop.py:39: ResourceWarning: unclosed file <_io.BufferedReader name='/home/sotiris/github/Custom-Dataset-Generation/images_20/OPEL-CORSA/OPEL-CORSA_10.jpeg'>\n",
      "  img = Image.open(frame)\n",
      "ResourceWarning: Enable tracemalloc to get the object allocation traceback\n",
      "/home/sotiris/github/Custom-Dataset-Generation/notebooks/../src/detect_n_crop.py:39: ResourceWarning: unclosed file <_io.BufferedReader name='/home/sotiris/github/Custom-Dataset-Generation/images_20/PEUGEOT-2008/PEUGEOT-2008_8.jpeg'>\n",
      "  img = Image.open(frame)\n",
      "ResourceWarning: Enable tracemalloc to get the object allocation traceback\n"
     ]
    },
    {
     "name": "stdout",
     "output_type": "stream",
     "text": [
      "/home/sotiris/github/Custom-Dataset-Generation/images_20/PEUGEOT-2008/PEUGEOT-2008_3.jpeg\n"
     ]
    },
    {
     "name": "stderr",
     "output_type": "stream",
     "text": [
      "/home/sotiris/github/Custom-Dataset-Generation/notebooks/../src/detect_n_crop.py:85: ResourceWarning: unclosed file <_io.BufferedReader name='/home/sotiris/github/Custom-Dataset-Generation/images_20/PEUGEOT-2008/PEUGEOT-2008_3.jpeg'>\n",
      "  img = Image.open(frame)\n",
      "ResourceWarning: Enable tracemalloc to get the object allocation traceback\n"
     ]
    },
    {
     "name": "stdout",
     "output_type": "stream",
     "text": [
      "/home/sotiris/github/Custom-Dataset-Generation/images_20/PEUGEOT-2008/PEUGEOT-2008_20.jpeg\n",
      "/home/sotiris/github/Custom-Dataset-Generation/images_20/PEUGEOT-2008/PEUGEOT-2008_1.jpeg\n",
      "/home/sotiris/github/Custom-Dataset-Generation/images_20/PEUGEOT-2008/PEUGEOT-2008_18.jpeg\n"
     ]
    },
    {
     "name": "stderr",
     "output_type": "stream",
     "text": [
      "/home/sotiris/github/Custom-Dataset-Generation/notebooks/../src/detect_n_crop.py:39: ResourceWarning: unclosed file <_io.BufferedReader name='/home/sotiris/github/Custom-Dataset-Generation/images_20/PEUGEOT-2008/PEUGEOT-2008_20.jpeg'>\n",
      "  img = Image.open(frame)\n",
      "ResourceWarning: Enable tracemalloc to get the object allocation traceback\n",
      "/home/sotiris/github/Custom-Dataset-Generation/notebooks/../src/detect_n_crop.py:39: ResourceWarning: unclosed file <_io.BufferedReader name='/home/sotiris/github/Custom-Dataset-Generation/images_20/PEUGEOT-2008/PEUGEOT-2008_1.jpeg'>\n",
      "  img = Image.open(frame)\n",
      "ResourceWarning: Enable tracemalloc to get the object allocation traceback\n",
      "/home/sotiris/github/Custom-Dataset-Generation/notebooks/../src/detect_n_crop.py:39: ResourceWarning: unclosed file <_io.BufferedReader name='/home/sotiris/github/Custom-Dataset-Generation/images_20/PEUGEOT-2008/PEUGEOT-2008_18.jpeg'>\n",
      "  img = Image.open(frame)\n",
      "ResourceWarning: Enable tracemalloc to get the object allocation traceback\n"
     ]
    },
    {
     "name": "stdout",
     "output_type": "stream",
     "text": [
      "/home/sotiris/github/Custom-Dataset-Generation/images_20/PEUGEOT-2008/PEUGEOT-2008_11.jpeg\n"
     ]
    },
    {
     "name": "stderr",
     "output_type": "stream",
     "text": [
      "/home/sotiris/github/Custom-Dataset-Generation/notebooks/../src/detect_n_crop.py:85: ResourceWarning: unclosed file <_io.BufferedReader name='/home/sotiris/github/Custom-Dataset-Generation/images_20/PEUGEOT-2008/PEUGEOT-2008_11.jpeg'>\n",
      "  img = Image.open(frame)\n",
      "ResourceWarning: Enable tracemalloc to get the object allocation traceback\n"
     ]
    },
    {
     "name": "stdout",
     "output_type": "stream",
     "text": [
      "/home/sotiris/github/Custom-Dataset-Generation/images_20/PEUGEOT-2008/PEUGEOT-2008_14.jpeg\n"
     ]
    },
    {
     "name": "stderr",
     "output_type": "stream",
     "text": [
      "/home/sotiris/github/Custom-Dataset-Generation/notebooks/../src/detect_n_crop.py:85: ResourceWarning: unclosed file <_io.BufferedReader name='/home/sotiris/github/Custom-Dataset-Generation/images_20/PEUGEOT-2008/PEUGEOT-2008_14.jpeg'>\n",
      "  img = Image.open(frame)\n",
      "ResourceWarning: Enable tracemalloc to get the object allocation traceback\n"
     ]
    },
    {
     "name": "stdout",
     "output_type": "stream",
     "text": [
      "/home/sotiris/github/Custom-Dataset-Generation/images_20/PEUGEOT-2008/PEUGEOT-2008_5.jpeg\n",
      "/home/sotiris/github/Custom-Dataset-Generation/images_20/PEUGEOT-2008/PEUGEOT-2008_13.jpeg\n"
     ]
    },
    {
     "name": "stderr",
     "output_type": "stream",
     "text": [
      "/home/sotiris/github/Custom-Dataset-Generation/notebooks/../src/detect_n_crop.py:39: ResourceWarning: unclosed file <_io.BufferedReader name='/home/sotiris/github/Custom-Dataset-Generation/images_20/PEUGEOT-2008/PEUGEOT-2008_5.jpeg'>\n",
      "  img = Image.open(frame)\n",
      "ResourceWarning: Enable tracemalloc to get the object allocation traceback\n",
      "/home/sotiris/github/Custom-Dataset-Generation/notebooks/../src/detect_n_crop.py:39: ResourceWarning: unclosed file <_io.BufferedReader name='/home/sotiris/github/Custom-Dataset-Generation/images_20/PEUGEOT-2008/PEUGEOT-2008_13.jpeg'>\n",
      "  img = Image.open(frame)\n",
      "ResourceWarning: Enable tracemalloc to get the object allocation traceback\n"
     ]
    },
    {
     "name": "stdout",
     "output_type": "stream",
     "text": [
      "/home/sotiris/github/Custom-Dataset-Generation/images_20/PEUGEOT-2008/PEUGEOT-2008_7.jpeg\n"
     ]
    },
    {
     "name": "stderr",
     "output_type": "stream",
     "text": [
      "/home/sotiris/github/Custom-Dataset-Generation/notebooks/../src/detect_n_crop.py:85: ResourceWarning: unclosed file <_io.BufferedReader name='/home/sotiris/github/Custom-Dataset-Generation/images_20/PEUGEOT-2008/PEUGEOT-2008_7.jpeg'>\n",
      "  img = Image.open(frame)\n",
      "ResourceWarning: Enable tracemalloc to get the object allocation traceback\n"
     ]
    },
    {
     "name": "stdout",
     "output_type": "stream",
     "text": [
      "/home/sotiris/github/Custom-Dataset-Generation/images_20/PEUGEOT-2008/PEUGEOT-2008_10.jpeg\n",
      "/home/sotiris/github/Custom-Dataset-Generation/images_20/PEUGEOT-2008/PEUGEOT-2008_16.jpeg\n",
      "/home/sotiris/github/Custom-Dataset-Generation/images_20/PEUGEOT-2008/PEUGEOT-2008_15.jpeg\n"
     ]
    },
    {
     "name": "stderr",
     "output_type": "stream",
     "text": [
      "/home/sotiris/github/Custom-Dataset-Generation/notebooks/../src/detect_n_crop.py:39: ResourceWarning: unclosed file <_io.BufferedReader name='/home/sotiris/github/Custom-Dataset-Generation/images_20/PEUGEOT-2008/PEUGEOT-2008_10.jpeg'>\n",
      "  img = Image.open(frame)\n",
      "ResourceWarning: Enable tracemalloc to get the object allocation traceback\n",
      "/home/sotiris/github/Custom-Dataset-Generation/notebooks/../src/detect_n_crop.py:39: ResourceWarning: unclosed file <_io.BufferedReader name='/home/sotiris/github/Custom-Dataset-Generation/images_20/PEUGEOT-2008/PEUGEOT-2008_16.jpeg'>\n",
      "  img = Image.open(frame)\n",
      "ResourceWarning: Enable tracemalloc to get the object allocation traceback\n",
      "/home/sotiris/github/Custom-Dataset-Generation/notebooks/../src/detect_n_crop.py:85: ResourceWarning: unclosed file <_io.BufferedReader name='/home/sotiris/github/Custom-Dataset-Generation/images_20/PEUGEOT-2008/PEUGEOT-2008_15.jpeg'>\n",
      "  img = Image.open(frame)\n",
      "ResourceWarning: Enable tracemalloc to get the object allocation traceback\n"
     ]
    },
    {
     "name": "stdout",
     "output_type": "stream",
     "text": [
      "/home/sotiris/github/Custom-Dataset-Generation/images_20/PEUGEOT-2008/PEUGEOT-2008_9.jpeg\n"
     ]
    },
    {
     "name": "stderr",
     "output_type": "stream",
     "text": [
      "/home/sotiris/github/Custom-Dataset-Generation/notebooks/../src/detect_n_crop.py:85: ResourceWarning: unclosed file <_io.BufferedReader name='/home/sotiris/github/Custom-Dataset-Generation/images_20/PEUGEOT-2008/PEUGEOT-2008_9.jpeg'>\n",
      "  img = Image.open(frame)\n",
      "ResourceWarning: Enable tracemalloc to get the object allocation traceback\n"
     ]
    },
    {
     "name": "stdout",
     "output_type": "stream",
     "text": [
      "/home/sotiris/github/Custom-Dataset-Generation/images_20/PEUGEOT-2008/PEUGEOT-2008_4.jpeg\n"
     ]
    },
    {
     "name": "stderr",
     "output_type": "stream",
     "text": [
      "/home/sotiris/github/Custom-Dataset-Generation/notebooks/../src/detect_n_crop.py:85: ResourceWarning: unclosed file <_io.BufferedReader name='/home/sotiris/github/Custom-Dataset-Generation/images_20/PEUGEOT-2008/PEUGEOT-2008_4.jpeg'>\n",
      "  img = Image.open(frame)\n",
      "ResourceWarning: Enable tracemalloc to get the object allocation traceback\n"
     ]
    },
    {
     "name": "stdout",
     "output_type": "stream",
     "text": [
      "/home/sotiris/github/Custom-Dataset-Generation/images_20/PEUGEOT-2008/PEUGEOT-2008_12.jpeg\n"
     ]
    },
    {
     "name": "stderr",
     "output_type": "stream",
     "text": [
      "/home/sotiris/github/Custom-Dataset-Generation/notebooks/../src/detect_n_crop.py:85: ResourceWarning: unclosed file <_io.BufferedReader name='/home/sotiris/github/Custom-Dataset-Generation/images_20/PEUGEOT-2008/PEUGEOT-2008_12.jpeg'>\n",
      "  img = Image.open(frame)\n",
      "ResourceWarning: Enable tracemalloc to get the object allocation traceback\n"
     ]
    },
    {
     "name": "stdout",
     "output_type": "stream",
     "text": [
      "/home/sotiris/github/Custom-Dataset-Generation/images_20/PEUGEOT-2008/PEUGEOT-2008_2.jpeg\n"
     ]
    },
    {
     "name": "stderr",
     "output_type": "stream",
     "text": [
      "/home/sotiris/github/Custom-Dataset-Generation/notebooks/../src/detect_n_crop.py:85: ResourceWarning: unclosed file <_io.BufferedReader name='/home/sotiris/github/Custom-Dataset-Generation/images_20/PEUGEOT-2008/PEUGEOT-2008_2.jpeg'>\n",
      "  img = Image.open(frame)\n",
      "ResourceWarning: Enable tracemalloc to get the object allocation traceback\n"
     ]
    },
    {
     "name": "stdout",
     "output_type": "stream",
     "text": [
      "/home/sotiris/github/Custom-Dataset-Generation/images_20/PEUGEOT-2008/PEUGEOT-2008_6.jpeg\n"
     ]
    },
    {
     "name": "stderr",
     "output_type": "stream",
     "text": [
      "/home/sotiris/github/Custom-Dataset-Generation/notebooks/../src/detect_n_crop.py:85: ResourceWarning: unclosed file <_io.BufferedReader name='/home/sotiris/github/Custom-Dataset-Generation/images_20/PEUGEOT-2008/PEUGEOT-2008_6.jpeg'>\n",
      "  img = Image.open(frame)\n",
      "ResourceWarning: Enable tracemalloc to get the object allocation traceback\n"
     ]
    },
    {
     "name": "stdout",
     "output_type": "stream",
     "text": [
      "/home/sotiris/github/Custom-Dataset-Generation/images_20/PEUGEOT-2008/PEUGEOT-2008_17.png\n",
      "/home/sotiris/github/Custom-Dataset-Generation/images_20/PEUGEOT-2008/PEUGEOT-2008_19.jpeg\n"
     ]
    },
    {
     "name": "stderr",
     "output_type": "stream",
     "text": [
      "/home/sotiris/github/Custom-Dataset-Generation/notebooks/../src/detect_n_crop.py:85: ResourceWarning: unclosed file <_io.BufferedReader name='/home/sotiris/github/Custom-Dataset-Generation/images_20/PEUGEOT-2008/PEUGEOT-2008_17.png'>\n",
      "  img = Image.open(frame)\n",
      "ResourceWarning: Enable tracemalloc to get the object allocation traceback\n",
      "/home/sotiris/github/Custom-Dataset-Generation/notebooks/../src/detect_n_crop.py:39: ResourceWarning: unclosed file <_io.BufferedReader name='/home/sotiris/github/Custom-Dataset-Generation/images_20/PEUGEOT-2008/PEUGEOT-2008_19.jpeg'>\n",
      "  img = Image.open(frame)\n",
      "ResourceWarning: Enable tracemalloc to get the object allocation traceback\n"
     ]
    },
    {
     "name": "stdout",
     "output_type": "stream",
     "text": [
      "/home/sotiris/github/Custom-Dataset-Generation/images_20/FIAT-500/FIAT-500_13.jpeg\n",
      "/home/sotiris/github/Custom-Dataset-Generation/images_20/FIAT-500/FIAT-500_1.png\n"
     ]
    },
    {
     "name": "stderr",
     "output_type": "stream",
     "text": [
      "/home/sotiris/github/Custom-Dataset-Generation/notebooks/../src/detect_n_crop.py:85: ResourceWarning: unclosed file <_io.BufferedReader name='/home/sotiris/github/Custom-Dataset-Generation/images_20/FIAT-500/FIAT-500_13.jpeg'>\n",
      "  img = Image.open(frame)\n",
      "ResourceWarning: Enable tracemalloc to get the object allocation traceback\n",
      "/home/sotiris/github/Custom-Dataset-Generation/notebooks/../src/detect_n_crop.py:85: ResourceWarning: unclosed file <_io.BufferedReader name='/home/sotiris/github/Custom-Dataset-Generation/images_20/FIAT-500/FIAT-500_1.png'>\n",
      "  img = Image.open(frame)\n",
      "ResourceWarning: Enable tracemalloc to get the object allocation traceback\n"
     ]
    },
    {
     "name": "stdout",
     "output_type": "stream",
     "text": [
      "/home/sotiris/github/Custom-Dataset-Generation/images_20/FIAT-500/FIAT-500_8.jpeg\n",
      "/home/sotiris/github/Custom-Dataset-Generation/images_20/FIAT-500/FIAT-500_3.jpeg\n",
      "/home/sotiris/github/Custom-Dataset-Generation/images_20/FIAT-500/FIAT-500_6.png\n"
     ]
    },
    {
     "name": "stderr",
     "output_type": "stream",
     "text": [
      "/home/sotiris/github/Custom-Dataset-Generation/notebooks/../src/detect_n_crop.py:39: ResourceWarning: unclosed file <_io.BufferedReader name='/home/sotiris/github/Custom-Dataset-Generation/images_20/FIAT-500/FIAT-500_8.jpeg'>\n",
      "  img = Image.open(frame)\n",
      "ResourceWarning: Enable tracemalloc to get the object allocation traceback\n",
      "/home/sotiris/github/Custom-Dataset-Generation/notebooks/../src/detect_n_crop.py:85: ResourceWarning: unclosed file <_io.BufferedReader name='/home/sotiris/github/Custom-Dataset-Generation/images_20/FIAT-500/FIAT-500_3.jpeg'>\n",
      "  img = Image.open(frame)\n",
      "ResourceWarning: Enable tracemalloc to get the object allocation traceback\n",
      "/home/sotiris/github/Custom-Dataset-Generation/notebooks/../src/detect_n_crop.py:85: ResourceWarning: unclosed file <_io.BufferedReader name='/home/sotiris/github/Custom-Dataset-Generation/images_20/FIAT-500/FIAT-500_6.png'>\n",
      "  img = Image.open(frame)\n",
      "ResourceWarning: Enable tracemalloc to get the object allocation traceback\n"
     ]
    },
    {
     "name": "stdout",
     "output_type": "stream",
     "text": [
      "/home/sotiris/github/Custom-Dataset-Generation/images_20/FIAT-500/FIAT-500_15.png\n",
      "/home/sotiris/github/Custom-Dataset-Generation/images_20/FIAT-500/FIAT-500_4.jpeg\n"
     ]
    },
    {
     "name": "stderr",
     "output_type": "stream",
     "text": [
      "/home/sotiris/github/Custom-Dataset-Generation/notebooks/../src/detect_n_crop.py:85: ResourceWarning: unclosed file <_io.BufferedReader name='/home/sotiris/github/Custom-Dataset-Generation/images_20/FIAT-500/FIAT-500_15.png'>\n",
      "  img = Image.open(frame)\n",
      "ResourceWarning: Enable tracemalloc to get the object allocation traceback\n",
      "/home/sotiris/github/Custom-Dataset-Generation/notebooks/../src/detect_n_crop.py:85: ResourceWarning: unclosed file <_io.BufferedReader name='/home/sotiris/github/Custom-Dataset-Generation/images_20/FIAT-500/FIAT-500_4.jpeg'>\n",
      "  img = Image.open(frame)\n",
      "ResourceWarning: Enable tracemalloc to get the object allocation traceback\n"
     ]
    },
    {
     "name": "stdout",
     "output_type": "stream",
     "text": [
      "/home/sotiris/github/Custom-Dataset-Generation/images_20/FIAT-500/FIAT-500_11.jpeg\n",
      "/home/sotiris/github/Custom-Dataset-Generation/images_20/FIAT-500/FIAT-500_12.jpeg\n",
      "/home/sotiris/github/Custom-Dataset-Generation/images_20/FIAT-500/FIAT-500_5.jpeg\n"
     ]
    },
    {
     "name": "stderr",
     "output_type": "stream",
     "text": [
      "/home/sotiris/github/Custom-Dataset-Generation/notebooks/../src/detect_n_crop.py:39: ResourceWarning: unclosed file <_io.BufferedReader name='/home/sotiris/github/Custom-Dataset-Generation/images_20/FIAT-500/FIAT-500_11.jpeg'>\n",
      "  img = Image.open(frame)\n",
      "ResourceWarning: Enable tracemalloc to get the object allocation traceback\n",
      "/home/sotiris/github/Custom-Dataset-Generation/notebooks/../src/detect_n_crop.py:39: ResourceWarning: unclosed file <_io.BufferedReader name='/home/sotiris/github/Custom-Dataset-Generation/images_20/FIAT-500/FIAT-500_12.jpeg'>\n",
      "  img = Image.open(frame)\n",
      "ResourceWarning: Enable tracemalloc to get the object allocation traceback\n",
      "/home/sotiris/github/Custom-Dataset-Generation/notebooks/../src/detect_n_crop.py:39: ResourceWarning: unclosed file <_io.BufferedReader name='/home/sotiris/github/Custom-Dataset-Generation/images_20/FIAT-500/FIAT-500_5.jpeg'>\n",
      "  img = Image.open(frame)\n",
      "ResourceWarning: Enable tracemalloc to get the object allocation traceback\n",
      "/home/sotiris/github/Custom-Dataset-Generation/notebooks/../src/detect_n_crop.py:39: ResourceWarning: unclosed file <_io.BufferedReader name='/home/sotiris/github/Custom-Dataset-Generation/images_20/FIAT-500/FIAT-500_9.jpeg'>\n",
      "  img = Image.open(frame)\n",
      "ResourceWarning: Enable tracemalloc to get the object allocation traceback\n",
      "/home/sotiris/github/Custom-Dataset-Generation/notebooks/../src/detect_n_crop.py:39: ResourceWarning: unclosed file <_io.BufferedReader name='/home/sotiris/github/Custom-Dataset-Generation/images_20/FIAT-500/FIAT-500_16.jpeg'>\n",
      "  img = Image.open(frame)\n",
      "ResourceWarning: Enable tracemalloc to get the object allocation traceback\n"
     ]
    },
    {
     "name": "stdout",
     "output_type": "stream",
     "text": [
      "/home/sotiris/github/Custom-Dataset-Generation/images_20/FIAT-500/FIAT-500_9.jpeg\n",
      "/home/sotiris/github/Custom-Dataset-Generation/images_20/FIAT-500/FIAT-500_16.jpeg\n",
      "/home/sotiris/github/Custom-Dataset-Generation/images_20/FIAT-500/FIAT-500_18.jpeg\n"
     ]
    },
    {
     "name": "stderr",
     "output_type": "stream",
     "text": [
      "/home/sotiris/github/Custom-Dataset-Generation/notebooks/../src/detect_n_crop.py:39: ResourceWarning: unclosed file <_io.BufferedReader name='/home/sotiris/github/Custom-Dataset-Generation/images_20/FIAT-500/FIAT-500_18.jpeg'>\n",
      "  img = Image.open(frame)\n",
      "ResourceWarning: Enable tracemalloc to get the object allocation traceback\n",
      "/home/sotiris/github/Custom-Dataset-Generation/notebooks/../src/detect_n_crop.py:85: ResourceWarning: unclosed file <_io.BufferedReader name='/home/sotiris/github/Custom-Dataset-Generation/images_20/FIAT-500/FIAT-500_14.jpeg'>\n",
      "  img = Image.open(frame)\n",
      "ResourceWarning: Enable tracemalloc to get the object allocation traceback\n"
     ]
    },
    {
     "name": "stdout",
     "output_type": "stream",
     "text": [
      "/home/sotiris/github/Custom-Dataset-Generation/images_20/FIAT-500/FIAT-500_14.jpeg\n",
      "/home/sotiris/github/Custom-Dataset-Generation/images_20/FIAT-500/FIAT-500_10.jpeg\n",
      "/home/sotiris/github/Custom-Dataset-Generation/images_20/FIAT-500/FIAT-500_20.jpeg\n"
     ]
    },
    {
     "name": "stderr",
     "output_type": "stream",
     "text": [
      "/home/sotiris/github/Custom-Dataset-Generation/notebooks/../src/detect_n_crop.py:85: ResourceWarning: unclosed file <_io.BufferedReader name='/home/sotiris/github/Custom-Dataset-Generation/images_20/FIAT-500/FIAT-500_10.jpeg'>\n",
      "  img = Image.open(frame)\n",
      "ResourceWarning: Enable tracemalloc to get the object allocation traceback\n",
      "/home/sotiris/github/Custom-Dataset-Generation/notebooks/../src/detect_n_crop.py:85: ResourceWarning: unclosed file <_io.BufferedReader name='/home/sotiris/github/Custom-Dataset-Generation/images_20/FIAT-500/FIAT-500_20.jpeg'>\n",
      "  img = Image.open(frame)\n",
      "ResourceWarning: Enable tracemalloc to get the object allocation traceback\n"
     ]
    },
    {
     "name": "stdout",
     "output_type": "stream",
     "text": [
      "/home/sotiris/github/Custom-Dataset-Generation/images_20/FIAT-500/FIAT-500_2.jpeg\n",
      "/home/sotiris/github/Custom-Dataset-Generation/images_20/FIAT-500/FIAT-500_19.jpeg\n"
     ]
    },
    {
     "name": "stderr",
     "output_type": "stream",
     "text": [
      "/home/sotiris/github/Custom-Dataset-Generation/notebooks/../src/detect_n_crop.py:85: ResourceWarning: unclosed file <_io.BufferedReader name='/home/sotiris/github/Custom-Dataset-Generation/images_20/FIAT-500/FIAT-500_2.jpeg'>\n",
      "  img = Image.open(frame)\n",
      "ResourceWarning: Enable tracemalloc to get the object allocation traceback\n",
      "/home/sotiris/github/Custom-Dataset-Generation/notebooks/../src/detect_n_crop.py:85: ResourceWarning: unclosed file <_io.BufferedReader name='/home/sotiris/github/Custom-Dataset-Generation/images_20/FIAT-500/FIAT-500_19.jpeg'>\n",
      "  img = Image.open(frame)\n",
      "ResourceWarning: Enable tracemalloc to get the object allocation traceback\n"
     ]
    },
    {
     "name": "stdout",
     "output_type": "stream",
     "text": [
      "/home/sotiris/github/Custom-Dataset-Generation/images_20/FIAT-500/FIAT-500_7.png\n",
      "/home/sotiris/github/Custom-Dataset-Generation/images_20/FIAT-500/FIAT-500_17.jpeg\n"
     ]
    },
    {
     "name": "stderr",
     "output_type": "stream",
     "text": [
      "/home/sotiris/github/Custom-Dataset-Generation/notebooks/../src/detect_n_crop.py:85: ResourceWarning: unclosed file <_io.BufferedReader name='/home/sotiris/github/Custom-Dataset-Generation/images_20/FIAT-500/FIAT-500_7.png'>\n",
      "  img = Image.open(frame)\n",
      "ResourceWarning: Enable tracemalloc to get the object allocation traceback\n",
      "/home/sotiris/github/Custom-Dataset-Generation/notebooks/../src/detect_n_crop.py:85: ResourceWarning: unclosed file <_io.BufferedReader name='/home/sotiris/github/Custom-Dataset-Generation/images_20/FIAT-500/FIAT-500_17.jpeg'>\n",
      "  img = Image.open(frame)\n",
      "ResourceWarning: Enable tracemalloc to get the object allocation traceback\n"
     ]
    },
    {
     "name": "stdout",
     "output_type": "stream",
     "text": [
      "/home/sotiris/github/Custom-Dataset-Generation/images_20/RENAULT-CLIO/RENAULT-CLIO_9.jpeg\n"
     ]
    },
    {
     "name": "stderr",
     "output_type": "stream",
     "text": [
      "/home/sotiris/github/Custom-Dataset-Generation/notebooks/../src/detect_n_crop.py:85: ResourceWarning: unclosed file <_io.BufferedReader name='/home/sotiris/github/Custom-Dataset-Generation/images_20/RENAULT-CLIO/RENAULT-CLIO_9.jpeg'>\n",
      "  img = Image.open(frame)\n",
      "ResourceWarning: Enable tracemalloc to get the object allocation traceback\n"
     ]
    },
    {
     "name": "stdout",
     "output_type": "stream",
     "text": [
      "/home/sotiris/github/Custom-Dataset-Generation/images_20/RENAULT-CLIO/RENAULT-CLIO_19.jpeg\n",
      "/home/sotiris/github/Custom-Dataset-Generation/images_20/RENAULT-CLIO/RENAULT-CLIO_11.jpeg\n"
     ]
    },
    {
     "name": "stderr",
     "output_type": "stream",
     "text": [
      "/home/sotiris/github/Custom-Dataset-Generation/notebooks/../src/detect_n_crop.py:39: ResourceWarning: unclosed file <_io.BufferedReader name='/home/sotiris/github/Custom-Dataset-Generation/images_20/RENAULT-CLIO/RENAULT-CLIO_19.jpeg'>\n",
      "  img = Image.open(frame)\n",
      "ResourceWarning: Enable tracemalloc to get the object allocation traceback\n",
      "/home/sotiris/github/Custom-Dataset-Generation/notebooks/../src/detect_n_crop.py:85: ResourceWarning: unclosed file <_io.BufferedReader name='/home/sotiris/github/Custom-Dataset-Generation/images_20/RENAULT-CLIO/RENAULT-CLIO_11.jpeg'>\n",
      "  img = Image.open(frame)\n",
      "ResourceWarning: Enable tracemalloc to get the object allocation traceback\n"
     ]
    },
    {
     "name": "stdout",
     "output_type": "stream",
     "text": [
      "/home/sotiris/github/Custom-Dataset-Generation/images_20/RENAULT-CLIO/RENAULT-CLIO_18.jpeg\n"
     ]
    },
    {
     "name": "stderr",
     "output_type": "stream",
     "text": [
      "/home/sotiris/github/Custom-Dataset-Generation/notebooks/../src/detect_n_crop.py:85: ResourceWarning: unclosed file <_io.BufferedReader name='/home/sotiris/github/Custom-Dataset-Generation/images_20/RENAULT-CLIO/RENAULT-CLIO_18.jpeg'>\n",
      "  img = Image.open(frame)\n",
      "ResourceWarning: Enable tracemalloc to get the object allocation traceback\n"
     ]
    },
    {
     "name": "stdout",
     "output_type": "stream",
     "text": [
      "/home/sotiris/github/Custom-Dataset-Generation/images_20/RENAULT-CLIO/RENAULT-CLIO_6.jpeg\n",
      "/home/sotiris/github/Custom-Dataset-Generation/images_20/RENAULT-CLIO/RENAULT-CLIO_7.jpeg\n"
     ]
    },
    {
     "name": "stderr",
     "output_type": "stream",
     "text": [
      "/home/sotiris/github/Custom-Dataset-Generation/notebooks/../src/detect_n_crop.py:85: ResourceWarning: unclosed file <_io.BufferedReader name='/home/sotiris/github/Custom-Dataset-Generation/images_20/RENAULT-CLIO/RENAULT-CLIO_6.jpeg'>\n",
      "  img = Image.open(frame)\n",
      "ResourceWarning: Enable tracemalloc to get the object allocation traceback\n",
      "/home/sotiris/github/Custom-Dataset-Generation/notebooks/../src/detect_n_crop.py:85: ResourceWarning: unclosed file <_io.BufferedReader name='/home/sotiris/github/Custom-Dataset-Generation/images_20/RENAULT-CLIO/RENAULT-CLIO_7.jpeg'>\n",
      "  img = Image.open(frame)\n",
      "ResourceWarning: Enable tracemalloc to get the object allocation traceback\n"
     ]
    },
    {
     "name": "stdout",
     "output_type": "stream",
     "text": [
      "/home/sotiris/github/Custom-Dataset-Generation/images_20/RENAULT-CLIO/RENAULT-CLIO_4.jpeg\n",
      "/home/sotiris/github/Custom-Dataset-Generation/images_20/RENAULT-CLIO/RENAULT-CLIO_20.jpeg\n"
     ]
    },
    {
     "name": "stderr",
     "output_type": "stream",
     "text": [
      "/home/sotiris/github/Custom-Dataset-Generation/notebooks/../src/detect_n_crop.py:85: ResourceWarning: unclosed file <_io.BufferedReader name='/home/sotiris/github/Custom-Dataset-Generation/images_20/RENAULT-CLIO/RENAULT-CLIO_4.jpeg'>\n",
      "  img = Image.open(frame)\n",
      "ResourceWarning: Enable tracemalloc to get the object allocation traceback\n",
      "/home/sotiris/github/Custom-Dataset-Generation/notebooks/../src/detect_n_crop.py:39: ResourceWarning: unclosed file <_io.BufferedReader name='/home/sotiris/github/Custom-Dataset-Generation/images_20/RENAULT-CLIO/RENAULT-CLIO_20.jpeg'>\n",
      "  img = Image.open(frame)\n",
      "ResourceWarning: Enable tracemalloc to get the object allocation traceback\n"
     ]
    },
    {
     "name": "stdout",
     "output_type": "stream",
     "text": [
      "/home/sotiris/github/Custom-Dataset-Generation/images_20/RENAULT-CLIO/RENAULT-CLIO_12.jpeg\n",
      "/home/sotiris/github/Custom-Dataset-Generation/images_20/RENAULT-CLIO/RENAULT-CLIO_13.jpeg\n"
     ]
    },
    {
     "name": "stderr",
     "output_type": "stream",
     "text": [
      "/home/sotiris/github/Custom-Dataset-Generation/notebooks/../src/detect_n_crop.py:85: ResourceWarning: unclosed file <_io.BufferedReader name='/home/sotiris/github/Custom-Dataset-Generation/images_20/RENAULT-CLIO/RENAULT-CLIO_12.jpeg'>\n",
      "  img = Image.open(frame)\n",
      "ResourceWarning: Enable tracemalloc to get the object allocation traceback\n",
      "/home/sotiris/github/Custom-Dataset-Generation/notebooks/../src/detect_n_crop.py:85: ResourceWarning: unclosed file <_io.BufferedReader name='/home/sotiris/github/Custom-Dataset-Generation/images_20/RENAULT-CLIO/RENAULT-CLIO_13.jpeg'>\n",
      "  img = Image.open(frame)\n",
      "ResourceWarning: Enable tracemalloc to get the object allocation traceback\n"
     ]
    },
    {
     "name": "stdout",
     "output_type": "stream",
     "text": [
      "/home/sotiris/github/Custom-Dataset-Generation/images_20/RENAULT-CLIO/RENAULT-CLIO_14.jpeg\n"
     ]
    },
    {
     "name": "stderr",
     "output_type": "stream",
     "text": [
      "/home/sotiris/github/Custom-Dataset-Generation/notebooks/../src/detect_n_crop.py:85: ResourceWarning: unclosed file <_io.BufferedReader name='/home/sotiris/github/Custom-Dataset-Generation/images_20/RENAULT-CLIO/RENAULT-CLIO_14.jpeg'>\n",
      "  img = Image.open(frame)\n",
      "ResourceWarning: Enable tracemalloc to get the object allocation traceback\n"
     ]
    },
    {
     "name": "stdout",
     "output_type": "stream",
     "text": [
      "/home/sotiris/github/Custom-Dataset-Generation/images_20/RENAULT-CLIO/RENAULT-CLIO_15.jpeg\n"
     ]
    },
    {
     "name": "stderr",
     "output_type": "stream",
     "text": [
      "/home/sotiris/github/Custom-Dataset-Generation/notebooks/../src/detect_n_crop.py:85: ResourceWarning: unclosed file <_io.BufferedReader name='/home/sotiris/github/Custom-Dataset-Generation/images_20/RENAULT-CLIO/RENAULT-CLIO_15.jpeg'>\n",
      "  img = Image.open(frame)\n",
      "ResourceWarning: Enable tracemalloc to get the object allocation traceback\n"
     ]
    },
    {
     "name": "stdout",
     "output_type": "stream",
     "text": [
      "/home/sotiris/github/Custom-Dataset-Generation/images_20/RENAULT-CLIO/RENAULT-CLIO_3.jpeg\n"
     ]
    },
    {
     "name": "stderr",
     "output_type": "stream",
     "text": [
      "/home/sotiris/github/Custom-Dataset-Generation/notebooks/../src/detect_n_crop.py:85: ResourceWarning: unclosed file <_io.BufferedReader name='/home/sotiris/github/Custom-Dataset-Generation/images_20/RENAULT-CLIO/RENAULT-CLIO_3.jpeg'>\n",
      "  img = Image.open(frame)\n",
      "ResourceWarning: Enable tracemalloc to get the object allocation traceback\n"
     ]
    },
    {
     "name": "stdout",
     "output_type": "stream",
     "text": [
      "/home/sotiris/github/Custom-Dataset-Generation/images_20/RENAULT-CLIO/RENAULT-CLIO_2.jpeg\n"
     ]
    },
    {
     "name": "stderr",
     "output_type": "stream",
     "text": [
      "/home/sotiris/github/Custom-Dataset-Generation/notebooks/../src/detect_n_crop.py:85: ResourceWarning: unclosed file <_io.BufferedReader name='/home/sotiris/github/Custom-Dataset-Generation/images_20/RENAULT-CLIO/RENAULT-CLIO_2.jpeg'>\n",
      "  img = Image.open(frame)\n",
      "ResourceWarning: Enable tracemalloc to get the object allocation traceback\n"
     ]
    },
    {
     "name": "stdout",
     "output_type": "stream",
     "text": [
      "/home/sotiris/github/Custom-Dataset-Generation/images_20/RENAULT-CLIO/RENAULT-CLIO_8.jpeg\n"
     ]
    },
    {
     "name": "stderr",
     "output_type": "stream",
     "text": [
      "/home/sotiris/github/Custom-Dataset-Generation/notebooks/../src/detect_n_crop.py:85: ResourceWarning: unclosed file <_io.BufferedReader name='/home/sotiris/github/Custom-Dataset-Generation/images_20/RENAULT-CLIO/RENAULT-CLIO_8.jpeg'>\n",
      "  img = Image.open(frame)\n",
      "ResourceWarning: Enable tracemalloc to get the object allocation traceback\n"
     ]
    },
    {
     "name": "stdout",
     "output_type": "stream",
     "text": [
      "/home/sotiris/github/Custom-Dataset-Generation/images_20/RENAULT-CLIO/RENAULT-CLIO_17.jpeg\n"
     ]
    },
    {
     "name": "stderr",
     "output_type": "stream",
     "text": [
      "/home/sotiris/github/Custom-Dataset-Generation/notebooks/../src/detect_n_crop.py:85: ResourceWarning: unclosed file <_io.BufferedReader name='/home/sotiris/github/Custom-Dataset-Generation/images_20/RENAULT-CLIO/RENAULT-CLIO_17.jpeg'>\n",
      "  img = Image.open(frame)\n",
      "ResourceWarning: Enable tracemalloc to get the object allocation traceback\n"
     ]
    },
    {
     "name": "stdout",
     "output_type": "stream",
     "text": [
      "/home/sotiris/github/Custom-Dataset-Generation/images_20/RENAULT-CLIO/RENAULT-CLIO_5.jpeg\n"
     ]
    },
    {
     "name": "stderr",
     "output_type": "stream",
     "text": [
      "/home/sotiris/github/Custom-Dataset-Generation/notebooks/../src/detect_n_crop.py:85: ResourceWarning: unclosed file <_io.BufferedReader name='/home/sotiris/github/Custom-Dataset-Generation/images_20/RENAULT-CLIO/RENAULT-CLIO_5.jpeg'>\n",
      "  img = Image.open(frame)\n",
      "ResourceWarning: Enable tracemalloc to get the object allocation traceback\n"
     ]
    },
    {
     "name": "stdout",
     "output_type": "stream",
     "text": [
      "/home/sotiris/github/Custom-Dataset-Generation/images_20/RENAULT-CLIO/RENAULT-CLIO_16.jpeg\n"
     ]
    },
    {
     "name": "stderr",
     "output_type": "stream",
     "text": [
      "/home/sotiris/github/Custom-Dataset-Generation/notebooks/../src/detect_n_crop.py:85: ResourceWarning: unclosed file <_io.BufferedReader name='/home/sotiris/github/Custom-Dataset-Generation/images_20/RENAULT-CLIO/RENAULT-CLIO_16.jpeg'>\n",
      "  img = Image.open(frame)\n",
      "ResourceWarning: Enable tracemalloc to get the object allocation traceback\n"
     ]
    },
    {
     "name": "stdout",
     "output_type": "stream",
     "text": [
      "/home/sotiris/github/Custom-Dataset-Generation/images_20/RENAULT-CLIO/RENAULT-CLIO_1.jpeg\n"
     ]
    },
    {
     "name": "stderr",
     "output_type": "stream",
     "text": [
      "/home/sotiris/github/Custom-Dataset-Generation/notebooks/../src/detect_n_crop.py:85: ResourceWarning: unclosed file <_io.BufferedReader name='/home/sotiris/github/Custom-Dataset-Generation/images_20/RENAULT-CLIO/RENAULT-CLIO_1.jpeg'>\n",
      "  img = Image.open(frame)\n",
      "ResourceWarning: Enable tracemalloc to get the object allocation traceback\n"
     ]
    },
    {
     "name": "stdout",
     "output_type": "stream",
     "text": [
      "/home/sotiris/github/Custom-Dataset-Generation/images_20/RENAULT-CLIO/RENAULT-CLIO_10.jpeg\n",
      "/home/sotiris/github/Custom-Dataset-Generation/images_20/SUZUKI-VITARA/SUZUKI-VITARA_17.jpeg\n",
      "/home/sotiris/github/Custom-Dataset-Generation/images_20/SUZUKI-VITARA/SUZUKI-VITARA_6.jpeg\n"
     ]
    },
    {
     "name": "stderr",
     "output_type": "stream",
     "text": [
      "/home/sotiris/github/Custom-Dataset-Generation/notebooks/../src/detect_n_crop.py:85: ResourceWarning: unclosed file <_io.BufferedReader name='/home/sotiris/github/Custom-Dataset-Generation/images_20/RENAULT-CLIO/RENAULT-CLIO_10.jpeg'>\n",
      "  img = Image.open(frame)\n",
      "ResourceWarning: Enable tracemalloc to get the object allocation traceback\n",
      "/home/sotiris/github/Custom-Dataset-Generation/notebooks/../src/detect_n_crop.py:39: ResourceWarning: unclosed file <_io.BufferedReader name='/home/sotiris/github/Custom-Dataset-Generation/images_20/SUZUKI-VITARA/SUZUKI-VITARA_17.jpeg'>\n",
      "  img = Image.open(frame)\n",
      "ResourceWarning: Enable tracemalloc to get the object allocation traceback\n",
      "/home/sotiris/github/Custom-Dataset-Generation/notebooks/../src/detect_n_crop.py:39: ResourceWarning: unclosed file <_io.BufferedReader name='/home/sotiris/github/Custom-Dataset-Generation/images_20/SUZUKI-VITARA/SUZUKI-VITARA_6.jpeg'>\n",
      "  img = Image.open(frame)\n",
      "ResourceWarning: Enable tracemalloc to get the object allocation traceback\n",
      "/home/sotiris/github/Custom-Dataset-Generation/notebooks/../src/detect_n_crop.py:85: ResourceWarning: unclosed file <_io.BufferedReader name='/home/sotiris/github/Custom-Dataset-Generation/images_20/SUZUKI-VITARA/SUZUKI-VITARA_7.png'>\n",
      "  img = Image.open(frame)\n",
      "ResourceWarning: Enable tracemalloc to get the object allocation traceback\n"
     ]
    },
    {
     "name": "stdout",
     "output_type": "stream",
     "text": [
      "/home/sotiris/github/Custom-Dataset-Generation/images_20/SUZUKI-VITARA/SUZUKI-VITARA_7.png\n",
      "/home/sotiris/github/Custom-Dataset-Generation/images_20/SUZUKI-VITARA/SUZUKI-VITARA_13.jpeg\n"
     ]
    },
    {
     "name": "stderr",
     "output_type": "stream",
     "text": [
      "/home/sotiris/github/Custom-Dataset-Generation/notebooks/../src/detect_n_crop.py:85: ResourceWarning: unclosed file <_io.BufferedReader name='/home/sotiris/github/Custom-Dataset-Generation/images_20/SUZUKI-VITARA/SUZUKI-VITARA_13.jpeg'>\n",
      "  img = Image.open(frame)\n",
      "ResourceWarning: Enable tracemalloc to get the object allocation traceback\n"
     ]
    },
    {
     "name": "stdout",
     "output_type": "stream",
     "text": [
      "/home/sotiris/github/Custom-Dataset-Generation/images_20/SUZUKI-VITARA/SUZUKI-VITARA_4.png\n"
     ]
    },
    {
     "name": "stderr",
     "output_type": "stream",
     "text": [
      "/home/sotiris/github/Custom-Dataset-Generation/notebooks/../src/detect_n_crop.py:85: ResourceWarning: unclosed file <_io.BufferedReader name='/home/sotiris/github/Custom-Dataset-Generation/images_20/SUZUKI-VITARA/SUZUKI-VITARA_4.png'>\n",
      "  img = Image.open(frame)\n",
      "ResourceWarning: Enable tracemalloc to get the object allocation traceback\n"
     ]
    },
    {
     "name": "stdout",
     "output_type": "stream",
     "text": [
      "/home/sotiris/github/Custom-Dataset-Generation/images_20/SUZUKI-VITARA/SUZUKI-VITARA_12.jpeg\n",
      "/home/sotiris/github/Custom-Dataset-Generation/images_20/SUZUKI-VITARA/SUZUKI-VITARA_8.jpeg\n"
     ]
    },
    {
     "name": "stderr",
     "output_type": "stream",
     "text": [
      "/home/sotiris/github/Custom-Dataset-Generation/notebooks/../src/detect_n_crop.py:39: ResourceWarning: unclosed file <_io.BufferedReader name='/home/sotiris/github/Custom-Dataset-Generation/images_20/SUZUKI-VITARA/SUZUKI-VITARA_12.jpeg'>\n",
      "  img = Image.open(frame)\n",
      "ResourceWarning: Enable tracemalloc to get the object allocation traceback\n",
      "/home/sotiris/github/Custom-Dataset-Generation/notebooks/../src/detect_n_crop.py:85: ResourceWarning: unclosed file <_io.BufferedReader name='/home/sotiris/github/Custom-Dataset-Generation/images_20/SUZUKI-VITARA/SUZUKI-VITARA_8.jpeg'>\n",
      "  img = Image.open(frame)\n",
      "ResourceWarning: Enable tracemalloc to get the object allocation traceback\n"
     ]
    },
    {
     "name": "stdout",
     "output_type": "stream",
     "text": [
      "/home/sotiris/github/Custom-Dataset-Generation/images_20/SUZUKI-VITARA/SUZUKI-VITARA_11.jpeg\n",
      "/home/sotiris/github/Custom-Dataset-Generation/images_20/SUZUKI-VITARA/SUZUKI-VITARA_3.png\n"
     ]
    },
    {
     "name": "stderr",
     "output_type": "stream",
     "text": [
      "/home/sotiris/github/Custom-Dataset-Generation/notebooks/../src/detect_n_crop.py:39: ResourceWarning: unclosed file <_io.BufferedReader name='/home/sotiris/github/Custom-Dataset-Generation/images_20/SUZUKI-VITARA/SUZUKI-VITARA_11.jpeg'>\n",
      "  img = Image.open(frame)\n",
      "ResourceWarning: Enable tracemalloc to get the object allocation traceback\n",
      "/home/sotiris/github/Custom-Dataset-Generation/notebooks/../src/detect_n_crop.py:85: ResourceWarning: unclosed file <_io.BufferedReader name='/home/sotiris/github/Custom-Dataset-Generation/images_20/SUZUKI-VITARA/SUZUKI-VITARA_3.png'>\n",
      "  img = Image.open(frame)\n",
      "ResourceWarning: Enable tracemalloc to get the object allocation traceback\n"
     ]
    },
    {
     "name": "stdout",
     "output_type": "stream",
     "text": [
      "/home/sotiris/github/Custom-Dataset-Generation/images_20/SUZUKI-VITARA/SUZUKI-VITARA_18.jpeg\n"
     ]
    },
    {
     "name": "stderr",
     "output_type": "stream",
     "text": [
      "/home/sotiris/github/Custom-Dataset-Generation/notebooks/../src/detect_n_crop.py:85: ResourceWarning: unclosed file <_io.BufferedReader name='/home/sotiris/github/Custom-Dataset-Generation/images_20/SUZUKI-VITARA/SUZUKI-VITARA_18.jpeg'>\n",
      "  img = Image.open(frame)\n",
      "ResourceWarning: Enable tracemalloc to get the object allocation traceback\n"
     ]
    },
    {
     "name": "stdout",
     "output_type": "stream",
     "text": [
      "/home/sotiris/github/Custom-Dataset-Generation/images_20/SUZUKI-VITARA/SUZUKI-VITARA_15.jpeg\n",
      "/home/sotiris/github/Custom-Dataset-Generation/images_20/SUZUKI-VITARA/SUZUKI-VITARA_10.jpeg\n"
     ]
    },
    {
     "name": "stderr",
     "output_type": "stream",
     "text": [
      "/home/sotiris/github/Custom-Dataset-Generation/notebooks/../src/detect_n_crop.py:85: ResourceWarning: unclosed file <_io.BufferedReader name='/home/sotiris/github/Custom-Dataset-Generation/images_20/SUZUKI-VITARA/SUZUKI-VITARA_15.jpeg'>\n",
      "  img = Image.open(frame)\n",
      "ResourceWarning: Enable tracemalloc to get the object allocation traceback\n",
      "/home/sotiris/github/Custom-Dataset-Generation/notebooks/../src/detect_n_crop.py:39: ResourceWarning: unclosed file <_io.BufferedReader name='/home/sotiris/github/Custom-Dataset-Generation/images_20/SUZUKI-VITARA/SUZUKI-VITARA_10.jpeg'>\n",
      "  img = Image.open(frame)\n",
      "ResourceWarning: Enable tracemalloc to get the object allocation traceback\n"
     ]
    },
    {
     "name": "stdout",
     "output_type": "stream",
     "text": [
      "/home/sotiris/github/Custom-Dataset-Generation/images_20/SUZUKI-VITARA/SUZUKI-VITARA_19.jpeg\n",
      "/home/sotiris/github/Custom-Dataset-Generation/images_20/SUZUKI-VITARA/SUZUKI-VITARA_2.jpeg\n"
     ]
    },
    {
     "name": "stderr",
     "output_type": "stream",
     "text": [
      "/home/sotiris/github/Custom-Dataset-Generation/notebooks/../src/detect_n_crop.py:39: ResourceWarning: unclosed file <_io.BufferedReader name='/home/sotiris/github/Custom-Dataset-Generation/images_20/SUZUKI-VITARA/SUZUKI-VITARA_19.jpeg'>\n",
      "  img = Image.open(frame)\n",
      "ResourceWarning: Enable tracemalloc to get the object allocation traceback\n",
      "/home/sotiris/github/Custom-Dataset-Generation/notebooks/../src/detect_n_crop.py:39: ResourceWarning: unclosed file <_io.BufferedReader name='/home/sotiris/github/Custom-Dataset-Generation/images_20/SUZUKI-VITARA/SUZUKI-VITARA_2.jpeg'>\n",
      "  img = Image.open(frame)\n",
      "ResourceWarning: Enable tracemalloc to get the object allocation traceback\n",
      "/home/sotiris/github/Custom-Dataset-Generation/notebooks/../src/detect_n_crop.py:85: ResourceWarning: unclosed file <_io.BufferedReader name='/home/sotiris/github/Custom-Dataset-Generation/images_20/SUZUKI-VITARA/SUZUKI-VITARA_5.png'>\n",
      "  img = Image.open(frame)\n",
      "ResourceWarning: Enable tracemalloc to get the object allocation traceback\n"
     ]
    },
    {
     "name": "stdout",
     "output_type": "stream",
     "text": [
      "/home/sotiris/github/Custom-Dataset-Generation/images_20/SUZUKI-VITARA/SUZUKI-VITARA_5.png\n",
      "/home/sotiris/github/Custom-Dataset-Generation/images_20/SUZUKI-VITARA/SUZUKI-VITARA_20.jpeg\n",
      "/home/sotiris/github/Custom-Dataset-Generation/images_20/SUZUKI-VITARA/SUZUKI-VITARA_14.jpeg\n",
      "/home/sotiris/github/Custom-Dataset-Generation/images_20/SUZUKI-VITARA/SUZUKI-VITARA_9.jpeg\n"
     ]
    },
    {
     "name": "stderr",
     "output_type": "stream",
     "text": [
      "/home/sotiris/github/Custom-Dataset-Generation/notebooks/../src/detect_n_crop.py:85: ResourceWarning: unclosed file <_io.BufferedReader name='/home/sotiris/github/Custom-Dataset-Generation/images_20/SUZUKI-VITARA/SUZUKI-VITARA_20.jpeg'>\n",
      "  img = Image.open(frame)\n",
      "ResourceWarning: Enable tracemalloc to get the object allocation traceback\n",
      "/home/sotiris/github/Custom-Dataset-Generation/notebooks/../src/detect_n_crop.py:39: ResourceWarning: unclosed file <_io.BufferedReader name='/home/sotiris/github/Custom-Dataset-Generation/images_20/SUZUKI-VITARA/SUZUKI-VITARA_14.jpeg'>\n",
      "  img = Image.open(frame)\n",
      "ResourceWarning: Enable tracemalloc to get the object allocation traceback\n",
      "/home/sotiris/github/Custom-Dataset-Generation/notebooks/../src/detect_n_crop.py:85: ResourceWarning: unclosed file <_io.BufferedReader name='/home/sotiris/github/Custom-Dataset-Generation/images_20/SUZUKI-VITARA/SUZUKI-VITARA_9.jpeg'>\n",
      "  img = Image.open(frame)\n",
      "ResourceWarning: Enable tracemalloc to get the object allocation traceback\n"
     ]
    },
    {
     "name": "stdout",
     "output_type": "stream",
     "text": [
      "/home/sotiris/github/Custom-Dataset-Generation/images_20/SUZUKI-VITARA/SUZUKI-VITARA_1.jpeg\n"
     ]
    },
    {
     "name": "stderr",
     "output_type": "stream",
     "text": [
      "/home/sotiris/github/Custom-Dataset-Generation/notebooks/../src/detect_n_crop.py:85: ResourceWarning: unclosed file <_io.BufferedReader name='/home/sotiris/github/Custom-Dataset-Generation/images_20/SUZUKI-VITARA/SUZUKI-VITARA_1.jpeg'>\n",
      "  img = Image.open(frame)\n",
      "ResourceWarning: Enable tracemalloc to get the object allocation traceback\n"
     ]
    },
    {
     "name": "stdout",
     "output_type": "stream",
     "text": [
      "/home/sotiris/github/Custom-Dataset-Generation/images_20/SUZUKI-VITARA/SUZUKI-VITARA_16.png\n",
      "/home/sotiris/github/Custom-Dataset-Generation/images_20/TOYOTA-YARIS/TOYOTA-YARIS_12.jpeg\n"
     ]
    },
    {
     "name": "stderr",
     "output_type": "stream",
     "text": [
      "/home/sotiris/github/Custom-Dataset-Generation/notebooks/../src/detect_n_crop.py:39: ResourceWarning: unclosed file <_io.BufferedReader name='/home/sotiris/github/Custom-Dataset-Generation/images_20/SUZUKI-VITARA/SUZUKI-VITARA_16.png'>\n",
      "  img = Image.open(frame)\n",
      "ResourceWarning: Enable tracemalloc to get the object allocation traceback\n",
      "/home/sotiris/github/Custom-Dataset-Generation/notebooks/../src/detect_n_crop.py:85: ResourceWarning: unclosed file <_io.BufferedReader name='/home/sotiris/github/Custom-Dataset-Generation/images_20/TOYOTA-YARIS/TOYOTA-YARIS_12.jpeg'>\n",
      "  img = Image.open(frame)\n",
      "ResourceWarning: Enable tracemalloc to get the object allocation traceback\n"
     ]
    },
    {
     "name": "stdout",
     "output_type": "stream",
     "text": [
      "/home/sotiris/github/Custom-Dataset-Generation/images_20/TOYOTA-YARIS/TOYOTA-YARIS_17.jpeg\n"
     ]
    },
    {
     "name": "stderr",
     "output_type": "stream",
     "text": [
      "/home/sotiris/github/Custom-Dataset-Generation/notebooks/../src/detect_n_crop.py:85: ResourceWarning: unclosed file <_io.BufferedReader name='/home/sotiris/github/Custom-Dataset-Generation/images_20/TOYOTA-YARIS/TOYOTA-YARIS_17.jpeg'>\n",
      "  img = Image.open(frame)\n",
      "ResourceWarning: Enable tracemalloc to get the object allocation traceback\n"
     ]
    },
    {
     "name": "stdout",
     "output_type": "stream",
     "text": [
      "/home/sotiris/github/Custom-Dataset-Generation/images_20/TOYOTA-YARIS/TOYOTA-YARIS_4.jpeg\n"
     ]
    },
    {
     "name": "stderr",
     "output_type": "stream",
     "text": [
      "/home/sotiris/github/Custom-Dataset-Generation/notebooks/../src/detect_n_crop.py:85: ResourceWarning: unclosed file <_io.BufferedReader name='/home/sotiris/github/Custom-Dataset-Generation/images_20/TOYOTA-YARIS/TOYOTA-YARIS_4.jpeg'>\n",
      "  img = Image.open(frame)\n",
      "ResourceWarning: Enable tracemalloc to get the object allocation traceback\n"
     ]
    },
    {
     "name": "stdout",
     "output_type": "stream",
     "text": [
      "/home/sotiris/github/Custom-Dataset-Generation/images_20/TOYOTA-YARIS/TOYOTA-YARIS_15.jpeg\n"
     ]
    },
    {
     "name": "stderr",
     "output_type": "stream",
     "text": [
      "/home/sotiris/github/Custom-Dataset-Generation/notebooks/../src/detect_n_crop.py:85: ResourceWarning: unclosed file <_io.BufferedReader name='/home/sotiris/github/Custom-Dataset-Generation/images_20/TOYOTA-YARIS/TOYOTA-YARIS_15.jpeg'>\n",
      "  img = Image.open(frame)\n",
      "ResourceWarning: Enable tracemalloc to get the object allocation traceback\n"
     ]
    },
    {
     "name": "stdout",
     "output_type": "stream",
     "text": [
      "/home/sotiris/github/Custom-Dataset-Generation/images_20/TOYOTA-YARIS/TOYOTA-YARIS_6.jpeg\n"
     ]
    },
    {
     "name": "stderr",
     "output_type": "stream",
     "text": [
      "/home/sotiris/github/Custom-Dataset-Generation/notebooks/../src/detect_n_crop.py:85: ResourceWarning: unclosed file <_io.BufferedReader name='/home/sotiris/github/Custom-Dataset-Generation/images_20/TOYOTA-YARIS/TOYOTA-YARIS_6.jpeg'>\n",
      "  img = Image.open(frame)\n",
      "ResourceWarning: Enable tracemalloc to get the object allocation traceback\n"
     ]
    },
    {
     "name": "stdout",
     "output_type": "stream",
     "text": [
      "/home/sotiris/github/Custom-Dataset-Generation/images_20/TOYOTA-YARIS/TOYOTA-YARIS_5.jpeg\n"
     ]
    },
    {
     "name": "stderr",
     "output_type": "stream",
     "text": [
      "/home/sotiris/github/Custom-Dataset-Generation/notebooks/../src/detect_n_crop.py:85: ResourceWarning: unclosed file <_io.BufferedReader name='/home/sotiris/github/Custom-Dataset-Generation/images_20/TOYOTA-YARIS/TOYOTA-YARIS_5.jpeg'>\n",
      "  img = Image.open(frame)\n",
      "ResourceWarning: Enable tracemalloc to get the object allocation traceback\n"
     ]
    },
    {
     "name": "stdout",
     "output_type": "stream",
     "text": [
      "/home/sotiris/github/Custom-Dataset-Generation/images_20/TOYOTA-YARIS/TOYOTA-YARIS_14.jpeg\n",
      "/home/sotiris/github/Custom-Dataset-Generation/images_20/TOYOTA-YARIS/TOYOTA-YARIS_10.jpeg\n"
     ]
    },
    {
     "name": "stderr",
     "output_type": "stream",
     "text": [
      "/home/sotiris/github/Custom-Dataset-Generation/notebooks/../src/detect_n_crop.py:39: ResourceWarning: unclosed file <_io.BufferedReader name='/home/sotiris/github/Custom-Dataset-Generation/images_20/TOYOTA-YARIS/TOYOTA-YARIS_14.jpeg'>\n",
      "  img = Image.open(frame)\n",
      "ResourceWarning: Enable tracemalloc to get the object allocation traceback\n",
      "/home/sotiris/github/Custom-Dataset-Generation/notebooks/../src/detect_n_crop.py:85: ResourceWarning: unclosed file <_io.BufferedReader name='/home/sotiris/github/Custom-Dataset-Generation/images_20/TOYOTA-YARIS/TOYOTA-YARIS_10.jpeg'>\n",
      "  img = Image.open(frame)\n",
      "ResourceWarning: Enable tracemalloc to get the object allocation traceback\n"
     ]
    },
    {
     "name": "stdout",
     "output_type": "stream",
     "text": [
      "/home/sotiris/github/Custom-Dataset-Generation/images_20/TOYOTA-YARIS/TOYOTA-YARIS_20.jpeg\n",
      "/home/sotiris/github/Custom-Dataset-Generation/images_20/TOYOTA-YARIS/TOYOTA-YARIS_8.jpeg\n",
      "/home/sotiris/github/Custom-Dataset-Generation/images_20/TOYOTA-YARIS/TOYOTA-YARIS_9.jpeg\n"
     ]
    },
    {
     "name": "stderr",
     "output_type": "stream",
     "text": [
      "/home/sotiris/github/Custom-Dataset-Generation/notebooks/../src/detect_n_crop.py:39: ResourceWarning: unclosed file <_io.BufferedReader name='/home/sotiris/github/Custom-Dataset-Generation/images_20/TOYOTA-YARIS/TOYOTA-YARIS_20.jpeg'>\n",
      "  img = Image.open(frame)\n",
      "ResourceWarning: Enable tracemalloc to get the object allocation traceback\n",
      "/home/sotiris/github/Custom-Dataset-Generation/notebooks/../src/detect_n_crop.py:39: ResourceWarning: unclosed file <_io.BufferedReader name='/home/sotiris/github/Custom-Dataset-Generation/images_20/TOYOTA-YARIS/TOYOTA-YARIS_8.jpeg'>\n",
      "  img = Image.open(frame)\n",
      "ResourceWarning: Enable tracemalloc to get the object allocation traceback\n",
      "/home/sotiris/github/Custom-Dataset-Generation/notebooks/../src/detect_n_crop.py:85: ResourceWarning: unclosed file <_io.BufferedReader name='/home/sotiris/github/Custom-Dataset-Generation/images_20/TOYOTA-YARIS/TOYOTA-YARIS_9.jpeg'>\n",
      "  img = Image.open(frame)\n",
      "ResourceWarning: Enable tracemalloc to get the object allocation traceback\n"
     ]
    },
    {
     "name": "stdout",
     "output_type": "stream",
     "text": [
      "/home/sotiris/github/Custom-Dataset-Generation/images_20/TOYOTA-YARIS/TOYOTA-YARIS_16.jpeg\n"
     ]
    },
    {
     "name": "stderr",
     "output_type": "stream",
     "text": [
      "/home/sotiris/github/Custom-Dataset-Generation/notebooks/../src/detect_n_crop.py:85: ResourceWarning: unclosed file <_io.BufferedReader name='/home/sotiris/github/Custom-Dataset-Generation/images_20/TOYOTA-YARIS/TOYOTA-YARIS_16.jpeg'>\n",
      "  img = Image.open(frame)\n",
      "ResourceWarning: Enable tracemalloc to get the object allocation traceback\n"
     ]
    },
    {
     "name": "stdout",
     "output_type": "stream",
     "text": [
      "/home/sotiris/github/Custom-Dataset-Generation/images_20/TOYOTA-YARIS/TOYOTA-YARIS_13.jpeg\n"
     ]
    },
    {
     "name": "stderr",
     "output_type": "stream",
     "text": [
      "/home/sotiris/github/Custom-Dataset-Generation/notebooks/../src/detect_n_crop.py:85: ResourceWarning: unclosed file <_io.BufferedReader name='/home/sotiris/github/Custom-Dataset-Generation/images_20/TOYOTA-YARIS/TOYOTA-YARIS_13.jpeg'>\n",
      "  img = Image.open(frame)\n",
      "ResourceWarning: Enable tracemalloc to get the object allocation traceback\n"
     ]
    },
    {
     "name": "stdout",
     "output_type": "stream",
     "text": [
      "/home/sotiris/github/Custom-Dataset-Generation/images_20/TOYOTA-YARIS/TOYOTA-YARIS_3.jpeg\n",
      "/home/sotiris/github/Custom-Dataset-Generation/images_20/TOYOTA-YARIS/TOYOTA-YARIS_2.png\n",
      "/home/sotiris/github/Custom-Dataset-Generation/images_20/TOYOTA-YARIS/TOYOTA-YARIS_19.jpeg\n"
     ]
    },
    {
     "name": "stderr",
     "output_type": "stream",
     "text": [
      "/home/sotiris/github/Custom-Dataset-Generation/notebooks/../src/detect_n_crop.py:39: ResourceWarning: unclosed file <_io.BufferedReader name='/home/sotiris/github/Custom-Dataset-Generation/images_20/TOYOTA-YARIS/TOYOTA-YARIS_3.jpeg'>\n",
      "  img = Image.open(frame)\n",
      "ResourceWarning: Enable tracemalloc to get the object allocation traceback\n",
      "/home/sotiris/github/Custom-Dataset-Generation/notebooks/../src/detect_n_crop.py:39: ResourceWarning: unclosed file <_io.BufferedReader name='/home/sotiris/github/Custom-Dataset-Generation/images_20/TOYOTA-YARIS/TOYOTA-YARIS_2.png'>\n",
      "  img = Image.open(frame)\n",
      "ResourceWarning: Enable tracemalloc to get the object allocation traceback\n",
      "/home/sotiris/github/Custom-Dataset-Generation/notebooks/../src/detect_n_crop.py:85: ResourceWarning: unclosed file <_io.BufferedReader name='/home/sotiris/github/Custom-Dataset-Generation/images_20/TOYOTA-YARIS/TOYOTA-YARIS_19.jpeg'>\n",
      "  img = Image.open(frame)\n",
      "ResourceWarning: Enable tracemalloc to get the object allocation traceback\n"
     ]
    },
    {
     "name": "stdout",
     "output_type": "stream",
     "text": [
      "/home/sotiris/github/Custom-Dataset-Generation/images_20/TOYOTA-YARIS/TOYOTA-YARIS_18.jpeg\n"
     ]
    },
    {
     "name": "stderr",
     "output_type": "stream",
     "text": [
      "/home/sotiris/github/Custom-Dataset-Generation/notebooks/../src/detect_n_crop.py:85: ResourceWarning: unclosed file <_io.BufferedReader name='/home/sotiris/github/Custom-Dataset-Generation/images_20/TOYOTA-YARIS/TOYOTA-YARIS_18.jpeg'>\n",
      "  img = Image.open(frame)\n",
      "ResourceWarning: Enable tracemalloc to get the object allocation traceback\n"
     ]
    },
    {
     "name": "stdout",
     "output_type": "stream",
     "text": [
      "/home/sotiris/github/Custom-Dataset-Generation/images_20/TOYOTA-YARIS/TOYOTA-YARIS_7.png\n",
      "/home/sotiris/github/Custom-Dataset-Generation/images_20/TOYOTA-YARIS/TOYOTA-YARIS_1.jpeg\n"
     ]
    },
    {
     "name": "stderr",
     "output_type": "stream",
     "text": [
      "/home/sotiris/github/Custom-Dataset-Generation/notebooks/../src/detect_n_crop.py:85: ResourceWarning: unclosed file <_io.BufferedReader name='/home/sotiris/github/Custom-Dataset-Generation/images_20/TOYOTA-YARIS/TOYOTA-YARIS_7.png'>\n",
      "  img = Image.open(frame)\n",
      "ResourceWarning: Enable tracemalloc to get the object allocation traceback\n",
      "/home/sotiris/github/Custom-Dataset-Generation/notebooks/../src/detect_n_crop.py:39: ResourceWarning: unclosed file <_io.BufferedReader name='/home/sotiris/github/Custom-Dataset-Generation/images_20/TOYOTA-YARIS/TOYOTA-YARIS_1.jpeg'>\n",
      "  img = Image.open(frame)\n",
      "ResourceWarning: Enable tracemalloc to get the object allocation traceback\n"
     ]
    },
    {
     "name": "stdout",
     "output_type": "stream",
     "text": [
      "/home/sotiris/github/Custom-Dataset-Generation/images_20/TOYOTA-YARIS/TOYOTA-YARIS_11.jpeg\n",
      "/home/sotiris/github/Custom-Dataset-Generation/images_20/TOYOTA-AYGO/TOYOTA-AYGO_20.jpeg\n"
     ]
    },
    {
     "name": "stderr",
     "output_type": "stream",
     "text": [
      "/home/sotiris/github/Custom-Dataset-Generation/notebooks/../src/detect_n_crop.py:39: ResourceWarning: unclosed file <_io.BufferedReader name='/home/sotiris/github/Custom-Dataset-Generation/images_20/TOYOTA-YARIS/TOYOTA-YARIS_11.jpeg'>\n",
      "  img = Image.open(frame)\n",
      "ResourceWarning: Enable tracemalloc to get the object allocation traceback\n",
      "/home/sotiris/github/Custom-Dataset-Generation/notebooks/../src/detect_n_crop.py:85: ResourceWarning: unclosed file <_io.BufferedReader name='/home/sotiris/github/Custom-Dataset-Generation/images_20/TOYOTA-AYGO/TOYOTA-AYGO_20.jpeg'>\n",
      "  img = Image.open(frame)\n",
      "ResourceWarning: Enable tracemalloc to get the object allocation traceback\n"
     ]
    },
    {
     "name": "stdout",
     "output_type": "stream",
     "text": [
      "/home/sotiris/github/Custom-Dataset-Generation/images_20/TOYOTA-AYGO/TOYOTA-AYGO_1.jpeg\n",
      "/home/sotiris/github/Custom-Dataset-Generation/images_20/TOYOTA-AYGO/TOYOTA-AYGO_6.jpeg\n"
     ]
    },
    {
     "name": "stderr",
     "output_type": "stream",
     "text": [
      "/home/sotiris/github/Custom-Dataset-Generation/notebooks/../src/detect_n_crop.py:39: ResourceWarning: unclosed file <_io.BufferedReader name='/home/sotiris/github/Custom-Dataset-Generation/images_20/TOYOTA-AYGO/TOYOTA-AYGO_1.jpeg'>\n",
      "  img = Image.open(frame)\n",
      "ResourceWarning: Enable tracemalloc to get the object allocation traceback\n",
      "/home/sotiris/github/Custom-Dataset-Generation/notebooks/../src/detect_n_crop.py:85: ResourceWarning: unclosed file <_io.BufferedReader name='/home/sotiris/github/Custom-Dataset-Generation/images_20/TOYOTA-AYGO/TOYOTA-AYGO_6.jpeg'>\n",
      "  img = Image.open(frame)\n",
      "ResourceWarning: Enable tracemalloc to get the object allocation traceback\n"
     ]
    },
    {
     "name": "stdout",
     "output_type": "stream",
     "text": [
      "/home/sotiris/github/Custom-Dataset-Generation/images_20/TOYOTA-AYGO/TOYOTA-AYGO_16.jpeg\n",
      "/home/sotiris/github/Custom-Dataset-Generation/images_20/TOYOTA-AYGO/TOYOTA-AYGO_12.jpeg\n"
     ]
    },
    {
     "name": "stderr",
     "output_type": "stream",
     "text": [
      "/home/sotiris/github/Custom-Dataset-Generation/notebooks/../src/detect_n_crop.py:39: ResourceWarning: unclosed file <_io.BufferedReader name='/home/sotiris/github/Custom-Dataset-Generation/images_20/TOYOTA-AYGO/TOYOTA-AYGO_16.jpeg'>\n",
      "  img = Image.open(frame)\n",
      "ResourceWarning: Enable tracemalloc to get the object allocation traceback\n",
      "/home/sotiris/github/Custom-Dataset-Generation/notebooks/../src/detect_n_crop.py:85: ResourceWarning: unclosed file <_io.BufferedReader name='/home/sotiris/github/Custom-Dataset-Generation/images_20/TOYOTA-AYGO/TOYOTA-AYGO_12.jpeg'>\n",
      "  img = Image.open(frame)\n",
      "ResourceWarning: Enable tracemalloc to get the object allocation traceback\n"
     ]
    },
    {
     "name": "stdout",
     "output_type": "stream",
     "text": [
      "/home/sotiris/github/Custom-Dataset-Generation/images_20/TOYOTA-AYGO/TOYOTA-AYGO_5.jpeg\n"
     ]
    },
    {
     "name": "stderr",
     "output_type": "stream",
     "text": [
      "/home/sotiris/github/Custom-Dataset-Generation/notebooks/../src/detect_n_crop.py:85: ResourceWarning: unclosed file <_io.BufferedReader name='/home/sotiris/github/Custom-Dataset-Generation/images_20/TOYOTA-AYGO/TOYOTA-AYGO_5.jpeg'>\n",
      "  img = Image.open(frame)\n",
      "ResourceWarning: Enable tracemalloc to get the object allocation traceback\n"
     ]
    },
    {
     "name": "stdout",
     "output_type": "stream",
     "text": [
      "/home/sotiris/github/Custom-Dataset-Generation/images_20/TOYOTA-AYGO/TOYOTA-AYGO_17.jpeg\n",
      "/home/sotiris/github/Custom-Dataset-Generation/images_20/TOYOTA-AYGO/TOYOTA-AYGO_18.jpeg\n",
      "/home/sotiris/github/Custom-Dataset-Generation/images_20/TOYOTA-AYGO/TOYOTA-AYGO_14.jpeg\n"
     ]
    },
    {
     "name": "stderr",
     "output_type": "stream",
     "text": [
      "/home/sotiris/github/Custom-Dataset-Generation/notebooks/../src/detect_n_crop.py:39: ResourceWarning: unclosed file <_io.BufferedReader name='/home/sotiris/github/Custom-Dataset-Generation/images_20/TOYOTA-AYGO/TOYOTA-AYGO_17.jpeg'>\n",
      "  img = Image.open(frame)\n",
      "ResourceWarning: Enable tracemalloc to get the object allocation traceback\n",
      "/home/sotiris/github/Custom-Dataset-Generation/notebooks/../src/detect_n_crop.py:85: ResourceWarning: unclosed file <_io.BufferedReader name='/home/sotiris/github/Custom-Dataset-Generation/images_20/TOYOTA-AYGO/TOYOTA-AYGO_18.jpeg'>\n",
      "  img = Image.open(frame)\n",
      "ResourceWarning: Enable tracemalloc to get the object allocation traceback\n",
      "/home/sotiris/github/Custom-Dataset-Generation/notebooks/../src/detect_n_crop.py:85: ResourceWarning: unclosed file <_io.BufferedReader name='/home/sotiris/github/Custom-Dataset-Generation/images_20/TOYOTA-AYGO/TOYOTA-AYGO_14.jpeg'>\n",
      "  img = Image.open(frame)\n",
      "ResourceWarning: Enable tracemalloc to get the object allocation traceback\n"
     ]
    },
    {
     "name": "stdout",
     "output_type": "stream",
     "text": [
      "/home/sotiris/github/Custom-Dataset-Generation/images_20/TOYOTA-AYGO/TOYOTA-AYGO_7.jpeg\n"
     ]
    },
    {
     "name": "stderr",
     "output_type": "stream",
     "text": [
      "/home/sotiris/github/Custom-Dataset-Generation/notebooks/../src/detect_n_crop.py:85: ResourceWarning: unclosed file <_io.BufferedReader name='/home/sotiris/github/Custom-Dataset-Generation/images_20/TOYOTA-AYGO/TOYOTA-AYGO_7.jpeg'>\n",
      "  img = Image.open(frame)\n",
      "ResourceWarning: Enable tracemalloc to get the object allocation traceback\n"
     ]
    },
    {
     "name": "stdout",
     "output_type": "stream",
     "text": [
      "/home/sotiris/github/Custom-Dataset-Generation/images_20/TOYOTA-AYGO/TOYOTA-AYGO_10.jpeg\n"
     ]
    },
    {
     "name": "stderr",
     "output_type": "stream",
     "text": [
      "/home/sotiris/github/Custom-Dataset-Generation/notebooks/../src/detect_n_crop.py:85: ResourceWarning: unclosed file <_io.BufferedReader name='/home/sotiris/github/Custom-Dataset-Generation/images_20/TOYOTA-AYGO/TOYOTA-AYGO_10.jpeg'>\n",
      "  img = Image.open(frame)\n",
      "ResourceWarning: Enable tracemalloc to get the object allocation traceback\n"
     ]
    },
    {
     "name": "stdout",
     "output_type": "stream",
     "text": [
      "/home/sotiris/github/Custom-Dataset-Generation/images_20/TOYOTA-AYGO/TOYOTA-AYGO_11.jpeg\n"
     ]
    },
    {
     "name": "stderr",
     "output_type": "stream",
     "text": [
      "/home/sotiris/github/Custom-Dataset-Generation/notebooks/../src/detect_n_crop.py:85: ResourceWarning: unclosed file <_io.BufferedReader name='/home/sotiris/github/Custom-Dataset-Generation/images_20/TOYOTA-AYGO/TOYOTA-AYGO_11.jpeg'>\n",
      "  img = Image.open(frame)\n",
      "ResourceWarning: Enable tracemalloc to get the object allocation traceback\n"
     ]
    },
    {
     "name": "stdout",
     "output_type": "stream",
     "text": [
      "/home/sotiris/github/Custom-Dataset-Generation/images_20/TOYOTA-AYGO/TOYOTA-AYGO_8.jpeg\n",
      "/home/sotiris/github/Custom-Dataset-Generation/images_20/TOYOTA-AYGO/TOYOTA-AYGO_2.jpeg\n",
      "/home/sotiris/github/Custom-Dataset-Generation/images_20/TOYOTA-AYGO/TOYOTA-AYGO_4.jpeg\n"
     ]
    },
    {
     "name": "stderr",
     "output_type": "stream",
     "text": [
      "/home/sotiris/github/Custom-Dataset-Generation/notebooks/../src/detect_n_crop.py:39: ResourceWarning: unclosed file <_io.BufferedReader name='/home/sotiris/github/Custom-Dataset-Generation/images_20/TOYOTA-AYGO/TOYOTA-AYGO_8.jpeg'>\n",
      "  img = Image.open(frame)\n",
      "ResourceWarning: Enable tracemalloc to get the object allocation traceback\n",
      "/home/sotiris/github/Custom-Dataset-Generation/notebooks/../src/detect_n_crop.py:39: ResourceWarning: unclosed file <_io.BufferedReader name='/home/sotiris/github/Custom-Dataset-Generation/images_20/TOYOTA-AYGO/TOYOTA-AYGO_2.jpeg'>\n",
      "  img = Image.open(frame)\n",
      "ResourceWarning: Enable tracemalloc to get the object allocation traceback\n",
      "/home/sotiris/github/Custom-Dataset-Generation/notebooks/../src/detect_n_crop.py:39: ResourceWarning: unclosed file <_io.BufferedReader name='/home/sotiris/github/Custom-Dataset-Generation/images_20/TOYOTA-AYGO/TOYOTA-AYGO_4.jpeg'>\n",
      "  img = Image.open(frame)\n",
      "ResourceWarning: Enable tracemalloc to get the object allocation traceback\n",
      "/home/sotiris/github/Custom-Dataset-Generation/notebooks/../src/detect_n_crop.py:39: ResourceWarning: unclosed file <_io.BufferedReader name='/home/sotiris/github/Custom-Dataset-Generation/images_20/TOYOTA-AYGO/TOYOTA-AYGO_15.jpeg'>\n",
      "  img = Image.open(frame)\n",
      "ResourceWarning: Enable tracemalloc to get the object allocation traceback\n",
      "/home/sotiris/github/Custom-Dataset-Generation/notebooks/../src/detect_n_crop.py:85: ResourceWarning: unclosed file <_io.BufferedReader name='/home/sotiris/github/Custom-Dataset-Generation/images_20/TOYOTA-AYGO/TOYOTA-AYGO_9.jpeg'>\n",
      "  img = Image.open(frame)\n",
      "ResourceWarning: Enable tracemalloc to get the object allocation traceback\n"
     ]
    },
    {
     "name": "stdout",
     "output_type": "stream",
     "text": [
      "/home/sotiris/github/Custom-Dataset-Generation/images_20/TOYOTA-AYGO/TOYOTA-AYGO_15.jpeg\n",
      "/home/sotiris/github/Custom-Dataset-Generation/images_20/TOYOTA-AYGO/TOYOTA-AYGO_9.jpeg\n",
      "/home/sotiris/github/Custom-Dataset-Generation/images_20/TOYOTA-AYGO/TOYOTA-AYGO_19.png\n"
     ]
    },
    {
     "name": "stderr",
     "output_type": "stream",
     "text": [
      "/home/sotiris/github/Custom-Dataset-Generation/notebooks/../src/detect_n_crop.py:85: ResourceWarning: unclosed file <_io.BufferedReader name='/home/sotiris/github/Custom-Dataset-Generation/images_20/TOYOTA-AYGO/TOYOTA-AYGO_19.png'>\n",
      "  img = Image.open(frame)\n",
      "ResourceWarning: Enable tracemalloc to get the object allocation traceback\n"
     ]
    },
    {
     "name": "stdout",
     "output_type": "stream",
     "text": [
      "/home/sotiris/github/Custom-Dataset-Generation/images_20/TOYOTA-AYGO/TOYOTA-AYGO_3.jpeg\n"
     ]
    },
    {
     "name": "stderr",
     "output_type": "stream",
     "text": [
      "/home/sotiris/github/Custom-Dataset-Generation/notebooks/../src/detect_n_crop.py:85: ResourceWarning: unclosed file <_io.BufferedReader name='/home/sotiris/github/Custom-Dataset-Generation/images_20/TOYOTA-AYGO/TOYOTA-AYGO_3.jpeg'>\n",
      "  img = Image.open(frame)\n",
      "ResourceWarning: Enable tracemalloc to get the object allocation traceback\n"
     ]
    },
    {
     "name": "stdout",
     "output_type": "stream",
     "text": [
      "/home/sotiris/github/Custom-Dataset-Generation/images_20/TOYOTA-AYGO/TOYOTA-AYGO_13.jpeg\n"
     ]
    },
    {
     "data": {
      "text/plain": [
       "{'MERCEDES-A_8.jpeg': [{'box_points': [45.53899383544922,\n",
       "    74.98307800292969,\n",
       "    667.0908203125,\n",
       "    315.49932861328125],\n",
       "   'confidence': 0.9901975393295288,\n",
       "   'class': 'vehicle'}],\n",
       " 'MERCEDES-A_3.jpeg': [{'box_points': [91.1069107055664,\n",
       "    115.79706573486328,\n",
       "    1003.465087890625,\n",
       "    529.0118408203125],\n",
       "   'confidence': 0.9527483582496643,\n",
       "   'class': 'vehicle'}],\n",
       " 'MERCEDES-A_19.jpeg': [],\n",
       " 'MERCEDES-A_2.jpeg': [{'box_points': [216.0391082763672,\n",
       "    249.09092712402344,\n",
       "    1516.3154296875,\n",
       "    746.55908203125],\n",
       "   'confidence': 0.9916768074035645,\n",
       "   'class': 'vehicle'}],\n",
       " 'MERCEDES-A_18.jpeg': [{'box_points': [179.0470733642578,\n",
       "    168.67135620117188,\n",
       "    643.3052368164062,\n",
       "    387.709716796875],\n",
       "   'confidence': 0.994955837726593,\n",
       "   'class': 'vehicle'}],\n",
       " 'MERCEDES-A_16.jpeg': [{'box_points': [172.37283325195312,\n",
       "    111.07801818847656,\n",
       "    248.64239501953125,\n",
       "    156.35179138183594],\n",
       "   'confidence': 0.5571311712265015,\n",
       "   'class': 'vehicle'}],\n",
       " 'MERCEDES-A_13.jpeg': [{'box_points': [241.0582733154297,\n",
       "    250.19586181640625,\n",
       "    1434.9495849609375,\n",
       "    784.4351196289062],\n",
       "   'confidence': 0.9962253570556641,\n",
       "   'class': 'vehicle'}],\n",
       " 'MERCEDES-A_15.jpeg': [],\n",
       " 'MERCEDES-A_6.jpeg': [{'box_points': [147.8334503173828,\n",
       "    224.99313354492188,\n",
       "    1563.1527099609375,\n",
       "    774.503173828125],\n",
       "   'confidence': 0.9405654668807983,\n",
       "   'class': 'vehicle'}],\n",
       " 'MERCEDES-A_12.jpeg': [{'box_points': [122.72804260253906,\n",
       "    180.00343322753906,\n",
       "    907.1829223632812,\n",
       "    551.0947265625],\n",
       "   'confidence': 0.9962590932846069,\n",
       "   'class': 'vehicle'}],\n",
       " 'MERCEDES-A_11.jpeg': [{'box_points': [120.18635559082031,\n",
       "    188.41476440429688,\n",
       "    1561.7760009765625,\n",
       "    777.8470458984375],\n",
       "   'confidence': 0.9830264449119568,\n",
       "   'class': 'vehicle'}],\n",
       " 'MERCEDES-A_14.jpeg': [],\n",
       " 'MERCEDES-A_17.jpeg': [],\n",
       " 'MERCEDES-A_4.jpeg': [{'box_points': [228.55189514160156,\n",
       "    154.39193725585938,\n",
       "    913.9970703125,\n",
       "    513.486083984375],\n",
       "   'confidence': 0.9901332855224609,\n",
       "   'class': 'vehicle'}],\n",
       " 'MERCEDES-A_1.jpeg': [],\n",
       " 'MERCEDES-A_20.jpeg': [{'box_points': [88.27716064453125,\n",
       "    111.22023010253906,\n",
       "    881.8145141601562,\n",
       "    484.6770935058594],\n",
       "   'confidence': 0.9316044449806213,\n",
       "   'class': 'vehicle'}],\n",
       " 'MERCEDES-A_9.jpeg': [],\n",
       " 'MERCEDES-A_7.jpeg': [{'box_points': [178.6926727294922,\n",
       "    217.7713623046875,\n",
       "    963.017578125,\n",
       "    476.4632873535156],\n",
       "   'confidence': 0.994263231754303,\n",
       "   'class': 'vehicle'}],\n",
       " 'MERCEDES-A_5.jpeg': [{'box_points': [0.0,\n",
       "    28.984310150146484,\n",
       "    786.9443969726562,\n",
       "    378.2701416015625],\n",
       "   'confidence': 0.912510335445404,\n",
       "   'class': 'vehicle'}],\n",
       " 'MERCEDES-A_10.jpeg': [{'box_points': [73.26032257080078,\n",
       "    127.10591888427734,\n",
       "    1562.982421875,\n",
       "    983.6965942382812],\n",
       "   'confidence': 0.9945342540740967,\n",
       "   'class': 'vehicle'}],\n",
       " 'FORD-PUMA_2.jpeg': [],\n",
       " 'FORD-PUMA_16.jpeg': [{'box_points': [119.04293060302734,\n",
       "    226.59889221191406,\n",
       "    1320.500732421875,\n",
       "    740.0083618164062],\n",
       "   'confidence': 0.9657386541366577,\n",
       "   'class': 'vehicle'}],\n",
       " 'FORD-PUMA_11.jpeg': [],\n",
       " 'FORD-PUMA_10.jpeg': [{'box_points': [323.73004150390625,\n",
       "    161.2172393798828,\n",
       "    969.8741455078125,\n",
       "    533.06787109375],\n",
       "   'confidence': 0.9972472786903381,\n",
       "   'class': 'vehicle'}],\n",
       " 'FORD-PUMA_15.jpeg': [],\n",
       " 'FORD-PUMA_3.jpeg': [],\n",
       " 'FORD-PUMA_18.jpeg': [{'box_points': [163.0933380126953,\n",
       "    166.5070037841797,\n",
       "    970.9642333984375,\n",
       "    517.2039794921875],\n",
       "   'confidence': 0.9934949278831482,\n",
       "   'class': 'vehicle'}],\n",
       " 'FORD-PUMA_4.jpeg': [{'box_points': [879.58837890625,\n",
       "    252.33782958984375,\n",
       "    1005.0481567382812,\n",
       "    344.1272277832031],\n",
       "   'confidence': 0.8136658668518066,\n",
       "   'class': 'vehicle'}],\n",
       " 'FORD-PUMA_9.jpeg': [{'box_points': [134.5778045654297,\n",
       "    160.59144592285156,\n",
       "    814.0318603515625,\n",
       "    517.5084228515625],\n",
       "   'confidence': 0.9715704321861267,\n",
       "   'class': 'vehicle'}],\n",
       " 'FORD-PUMA_14.jpeg': [],\n",
       " 'FORD-PUMA_1.jpeg': [],\n",
       " 'FORD-PUMA_20.jpeg': [],\n",
       " 'FORD-PUMA_6.jpeg': [{'box_points': [416.7978515625,\n",
       "    225.7647247314453,\n",
       "    1373.5980224609375,\n",
       "    788.8168334960938],\n",
       "   'confidence': 0.9897069931030273,\n",
       "   'class': 'vehicle'}],\n",
       " 'FORD-PUMA_5.jpeg': [],\n",
       " 'FORD-PUMA_17.jpeg': [{'box_points': [767.87548828125,\n",
       "    245.1045379638672,\n",
       "    909.5750732421875,\n",
       "    320.5320739746094],\n",
       "   'confidence': 0.6901000738143921,\n",
       "   'class': 'vehicle'}],\n",
       " 'FORD-PUMA_8.png': [],\n",
       " 'FORD-PUMA_19.jpeg': [],\n",
       " 'FORD-PUMA_7.jpeg': [],\n",
       " 'FORD-PUMA_12.jpeg': [{'box_points': [127.38365173339844,\n",
       "    231.13955688476562,\n",
       "    1319.3038330078125,\n",
       "    736.8919067382812],\n",
       "   'confidence': 0.9826410412788391,\n",
       "   'class': 'vehicle'}],\n",
       " 'FORD-PUMA_13.jpeg': [],\n",
       " 'NISSAN-QASHQAI_6.jpeg': [{'box_points': [98.36405181884766,\n",
       "    109.06305694580078,\n",
       "    779.2218627929688,\n",
       "    505.3590087890625],\n",
       "   'confidence': 0.9868039488792419,\n",
       "   'class': 'vehicle'}],\n",
       " 'NISSAN-QASHQAI_12.jpeg': [{'box_points': [81.88130187988281,\n",
       "    63.119388580322266,\n",
       "    742.112548828125,\n",
       "    385.1719970703125],\n",
       "   'confidence': 0.9320522546768188,\n",
       "   'class': 'vehicle'}],\n",
       " 'NISSAN-QASHQAI_1.jpeg': [],\n",
       " 'NISSAN-QASHQAI_15.jpeg': [{'box_points': [59.40467834472656,\n",
       "    62.34991455078125,\n",
       "    240.1944580078125,\n",
       "    154.8511505126953],\n",
       "   'confidence': 0.97977614402771,\n",
       "   'class': 'vehicle'}],\n",
       " 'NISSAN-QASHQAI_3.jpeg': [],\n",
       " 'NISSAN-QASHQAI_10.jpeg': [{'box_points': [49.82487869262695,\n",
       "    107.61663818359375,\n",
       "    854.8477783203125,\n",
       "    506.63470458984375],\n",
       "   'confidence': 0.8835936784744263,\n",
       "   'class': 'vehicle'}],\n",
       " 'NISSAN-QASHQAI_16.jpeg': [],\n",
       " 'NISSAN-QASHQAI_11.jpeg': [],\n",
       " 'NISSAN-QASHQAI_19.jpeg': [{'box_points': [164.38870239257812,\n",
       "    138.9508514404297,\n",
       "    664.8634033203125,\n",
       "    507.8424987792969],\n",
       "   'confidence': 0.93404221534729,\n",
       "   'class': 'vehicle'}],\n",
       " 'NISSAN-QASHQAI_8.jpeg': [{'box_points': [586.7026977539062,\n",
       "    91.66928100585938,\n",
       "    1253.0511474609375,\n",
       "    428.1913146972656],\n",
       "   'confidence': 0.986994206905365,\n",
       "   'class': 'vehicle'}],\n",
       " 'NISSAN-QASHQAI_4.jpeg': [{'box_points': [89.54218292236328,\n",
       "    70.951904296875,\n",
       "    918.3861694335938,\n",
       "    495.94647216796875],\n",
       "   'confidence': 0.919712245464325,\n",
       "   'class': 'vehicle'}],\n",
       " 'NISSAN-QASHQAI_18.jpeg': [],\n",
       " 'NISSAN-QASHQAI_2.jpeg': [{'box_points': [158.82740783691406,\n",
       "    161.9321746826172,\n",
       "    1051.0557861328125,\n",
       "    611.37353515625],\n",
       "   'confidence': 0.9478355646133423,\n",
       "   'class': 'vehicle'}],\n",
       " 'NISSAN-QASHQAI_17.jpeg': [],\n",
       " 'NISSAN-QASHQAI_9.jpeg': [{'box_points': [77.9919204711914,\n",
       "    98.12263488769531,\n",
       "    1085.9967041015625,\n",
       "    623.153076171875],\n",
       "   'confidence': 0.9407542943954468,\n",
       "   'class': 'vehicle'}],\n",
       " 'NISSAN-QASHQAI_14.jpeg': [],\n",
       " 'NISSAN-QASHQAI_20.jpeg': [],\n",
       " 'NISSAN-QASHQAI_5.jpeg': [],\n",
       " 'NISSAN-QASHQAI_7.jpeg': [],\n",
       " 'NISSAN-QASHQAI_13.jpeg': [],\n",
       " 'KIA-RIO_19.jpeg': [],\n",
       " 'KIA-RIO_20.jpeg': [],\n",
       " 'KIA-RIO_12.png': [{'box_points': [24.47432518005371,\n",
       "    84.2655258178711,\n",
       "    718.3722534179688,\n",
       "    409.97119140625],\n",
       "   'confidence': 0.9884519577026367,\n",
       "   'class': 'vehicle'}],\n",
       " 'KIA-RIO_6.jpeg': [{'box_points': [374.352294921875,\n",
       "    415.95220947265625,\n",
       "    1308.9713134765625,\n",
       "    858.5842895507812],\n",
       "   'confidence': 0.9973897337913513,\n",
       "   'class': 'vehicle'}],\n",
       " 'KIA-RIO_11.jpeg': [{'box_points': [128.11546325683594,\n",
       "    213.1161346435547,\n",
       "    1382.802490234375,\n",
       "    744.3546142578125],\n",
       "   'confidence': 0.9711505174636841,\n",
       "   'class': 'vehicle'}],\n",
       " 'KIA-RIO_15.jpeg': [],\n",
       " 'KIA-RIO_9.jpeg': [],\n",
       " 'KIA-RIO_10.jpeg': [{'box_points': [212.75025939941406,\n",
       "    167.06625366210938,\n",
       "    793.2767333984375,\n",
       "    462.0373840332031],\n",
       "   'confidence': 0.9944038391113281,\n",
       "   'class': 'vehicle'}],\n",
       " 'KIA-RIO_16.jpeg': [{'box_points': [129.0041046142578,\n",
       "    182.83212280273438,\n",
       "    829.34423828125,\n",
       "    517.3900756835938],\n",
       "   'confidence': 0.9590260982513428,\n",
       "   'class': 'vehicle'}],\n",
       " 'KIA-RIO_13.jpeg': [{'box_points': [0.7588462829589844,\n",
       "    79.01171875,\n",
       "    682.0921630859375,\n",
       "    331.62469482421875],\n",
       "   'confidence': 0.9721136689186096,\n",
       "   'class': 'vehicle'}],\n",
       " 'KIA-RIO_5.jpeg': [{'box_points': [116.64293670654297,\n",
       "    119.06031036376953,\n",
       "    825.8674926757812,\n",
       "    474.35528564453125],\n",
       "   'confidence': 0.9934451580047607,\n",
       "   'class': 'vehicle'}],\n",
       " 'KIA-RIO_7.jpeg': [{'box_points': [320.4786376953125,\n",
       "    142.5558624267578,\n",
       "    1480.928955078125,\n",
       "    705.6338500976562],\n",
       "   'confidence': 0.985089898109436,\n",
       "   'class': 'vehicle'}],\n",
       " 'KIA-RIO_3.jpeg': [],\n",
       " 'KIA-RIO_2.png': [{'box_points': [16.8421630859375,\n",
       "    84.2049789428711,\n",
       "    715.7667846679688,\n",
       "    391.6520080566406],\n",
       "   'confidence': 0.9881364107131958,\n",
       "   'class': 'vehicle'}],\n",
       " 'KIA-RIO_17.jpeg': [{'box_points': [191.97048950195312,\n",
       "    304.2772521972656,\n",
       "    1702.6297607421875,\n",
       "    1018.730712890625],\n",
       "   'confidence': 0.9903811812400818,\n",
       "   'class': 'vehicle'}],\n",
       " 'KIA-RIO_14.jpeg': [{'box_points': [280.481201171875,\n",
       "    486.2662048339844,\n",
       "    1336.6690673828125,\n",
       "    974.6402587890625],\n",
       "   'confidence': 0.9982079267501831,\n",
       "   'class': 'vehicle'}],\n",
       " 'KIA-RIO_1.jpeg': [],\n",
       " 'KIA-RIO_18.jpeg': [{'box_points': [34.17658996582031,\n",
       "    62.12139892578125,\n",
       "    687.2861938476562,\n",
       "    381.34613037109375],\n",
       "   'confidence': 0.9821642637252808,\n",
       "   'class': 'vehicle'}],\n",
       " 'KIA-RIO_4.jpeg': [],\n",
       " 'KIA-RIO_8.jpeg': [],\n",
       " 'HYUNDAI-I10_19.jpeg': [{'box_points': [108.67644500732422,\n",
       "    81.88961029052734,\n",
       "    859.9330444335938,\n",
       "    450.9277038574219],\n",
       "   'confidence': 0.978976309299469,\n",
       "   'class': 'vehicle'}],\n",
       " 'HYUNDAI-I10_16.jpeg': [],\n",
       " 'HYUNDAI-I10_8.jpeg': [{'box_points': [36.24224090576172,\n",
       "    130.99362182617188,\n",
       "    661.2432250976562,\n",
       "    421.8435974121094],\n",
       "   'confidence': 0.991563081741333,\n",
       "   'class': 'vehicle'}],\n",
       " 'HYUNDAI-I10_6.jpeg': [],\n",
       " 'HYUNDAI-I10_11.jpeg': [],\n",
       " 'HYUNDAI-I10_20.jpeg': [{'box_points': [0.0,\n",
       "    19.144926071166992,\n",
       "    1920.0,\n",
       "    1352.9998779296875],\n",
       "   'confidence': 0.6181750893592834,\n",
       "   'class': 'vehicle'}],\n",
       " 'HYUNDAI-I10_5.jpeg': [{'box_points': [50.48877716064453,\n",
       "    125.53723907470703,\n",
       "    1577.3427734375,\n",
       "    832.3592529296875],\n",
       "   'confidence': 0.8526585102081299,\n",
       "   'class': 'vehicle'}],\n",
       " 'HYUNDAI-I10_18.jpeg': [],\n",
       " 'HYUNDAI-I10_7.jpeg': [{'box_points': [40.28117370605469,\n",
       "    34.812355041503906,\n",
       "    682.0221557617188,\n",
       "    314.3775634765625],\n",
       "   'confidence': 0.9931172132492065,\n",
       "   'class': 'vehicle'}],\n",
       " 'HYUNDAI-I10_15.jpeg': [],\n",
       " 'HYUNDAI-I10_1.jpeg': [],\n",
       " 'HYUNDAI-I10_9.jpeg': [{'box_points': [171.3660125732422,\n",
       "    175.7105255126953,\n",
       "    1006.2539672851562,\n",
       "    643.7105102539062],\n",
       "   'confidence': 0.9888525009155273,\n",
       "   'class': 'vehicle'}],\n",
       " 'HYUNDAI-I10_14.jpeg': [],\n",
       " 'HYUNDAI-I10_2.jpeg': [{'box_points': [104.80376434326172,\n",
       "    90.53482055664062,\n",
       "    712.772216796875,\n",
       "    429.1087341308594],\n",
       "   'confidence': 0.9841603636741638,\n",
       "   'class': 'vehicle'}],\n",
       " 'HYUNDAI-I10_12.jpeg': [{'box_points': [220.71180725097656,\n",
       "    459.0873107910156,\n",
       "    1208.1715087890625,\n",
       "    1038.61181640625],\n",
       "   'confidence': 0.9937175512313843,\n",
       "   'class': 'vehicle'}],\n",
       " 'HYUNDAI-I10_3.jpeg': [{'box_points': [204.0249786376953,\n",
       "    140.08094787597656,\n",
       "    877.694580078125,\n",
       "    471.7425231933594],\n",
       "   'confidence': 0.9961875081062317,\n",
       "   'class': 'vehicle'}],\n",
       " 'HYUNDAI-I10_10.jpeg': [],\n",
       " 'HYUNDAI-I10_4.jpeg': [{'box_points': [58.16716003417969,\n",
       "    63.575225830078125,\n",
       "    615.3064575195312,\n",
       "    351.2680969238281],\n",
       "   'confidence': 0.9805133938789368,\n",
       "   'class': 'vehicle'}],\n",
       " 'HYUNDAI-I10_17.jpeg': [],\n",
       " 'HYUNDAI-I10_13.jpeg': [],\n",
       " 'HYUNDAI-I20_1.jpeg': [],\n",
       " 'HYUNDAI-I20_19.jpeg': [],\n",
       " 'HYUNDAI-I20_15.jpeg': [],\n",
       " 'HYUNDAI-I20_17.jpeg': [],\n",
       " 'HYUNDAI-I20_5.jpeg': [{'box_points': [258.81427001953125,\n",
       "    238.11099243164062,\n",
       "    901.1978149414062,\n",
       "    587.3135986328125],\n",
       "   'confidence': 0.9822494983673096,\n",
       "   'class': 'vehicle'}],\n",
       " 'HYUNDAI-I20_11.jpeg': [{'box_points': [105.97441101074219,\n",
       "    307.86846923828125,\n",
       "    2326.33056640625,\n",
       "    1275.3349609375],\n",
       "   'confidence': 0.9872465133666992,\n",
       "   'class': 'vehicle'}],\n",
       " 'HYUNDAI-I20_12.jpeg': [],\n",
       " 'HYUNDAI-I20_3.jpeg': [{'box_points': [343.9290466308594,\n",
       "    500.17681884765625,\n",
       "    1705.1373291015625,\n",
       "    1102.845703125],\n",
       "   'confidence': 0.9896730184555054,\n",
       "   'class': 'vehicle'}],\n",
       " 'HYUNDAI-I20_9.jpeg': [{'box_points': [6.773428916931152,\n",
       "    35.272098541259766,\n",
       "    559.2928466796875,\n",
       "    298.614501953125],\n",
       "   'confidence': 0.9692085981369019,\n",
       "   'class': 'vehicle'}],\n",
       " 'HYUNDAI-I20_4.jpeg': [],\n",
       " 'HYUNDAI-I20_16.jpeg': [],\n",
       " 'HYUNDAI-I20_2.jpeg': [{'box_points': [1278.2574462890625,\n",
       "    1699.955322265625,\n",
       "    5305.59765625,\n",
       "    3575.709228515625],\n",
       "   'confidence': 0.9936488270759583,\n",
       "   'class': 'vehicle'}],\n",
       " 'HYUNDAI-I20_6.jpeg': [{'box_points': [70.5926742553711,\n",
       "    213.87701416015625,\n",
       "    901.0520629882812,\n",
       "    579.18701171875],\n",
       "   'confidence': 0.9966390132904053,\n",
       "   'class': 'vehicle'}],\n",
       " 'HYUNDAI-I20_10.jpeg': [{'box_points': [41.237640380859375,\n",
       "    149.478759765625,\n",
       "    1822.7215576171875,\n",
       "    912.0745849609375],\n",
       "   'confidence': 0.9798052906990051,\n",
       "   'class': 'vehicle'}],\n",
       " 'HYUNDAI-I20_14.jpeg': [{'box_points': [121.04033660888672,\n",
       "    314.0272521972656,\n",
       "    1486.4090576171875,\n",
       "    841.7566528320312],\n",
       "   'confidence': 0.9862833023071289,\n",
       "   'class': 'vehicle'}],\n",
       " 'HYUNDAI-I20_7.jpeg': [],\n",
       " 'HYUNDAI-I20_13.jpeg': [{'box_points': [0.0,\n",
       "    9.964493751525879,\n",
       "    277.9327087402344,\n",
       "    132.03610229492188],\n",
       "   'confidence': 0.9642276763916016,\n",
       "   'class': 'vehicle'}],\n",
       " 'HYUNDAI-I20_8.jpeg': [],\n",
       " 'HYUNDAI-I20_20.jpeg': [],\n",
       " 'HYUNDAI-I20_18.jpeg': [],\n",
       " 'TOYOTA-C-HR_10.jpeg': [],\n",
       " 'TOYOTA-C-HR_6.jpeg': [{'box_points': [74.96932983398438,\n",
       "    244.36053466796875,\n",
       "    960.65380859375,\n",
       "    664.895751953125],\n",
       "   'confidence': 0.9959006905555725,\n",
       "   'class': 'vehicle'}],\n",
       " 'TOYOTA-C-HR_3.png': [{'box_points': [0.0,\n",
       "    13.076797485351562,\n",
       "    675.5367431640625,\n",
       "    309.5578918457031],\n",
       "   'confidence': 0.7664214372634888,\n",
       "   'class': 'vehicle'}],\n",
       " 'TOYOTA-C-HR_5.jpeg': [{'box_points': [111.1709213256836,\n",
       "    234.89610290527344,\n",
       "    1800.9876708984375,\n",
       "    989.7075805664062],\n",
       "   'confidence': 0.9779554009437561,\n",
       "   'class': 'vehicle'}],\n",
       " 'TOYOTA-C-HR_9.jpeg': [],\n",
       " 'TOYOTA-C-HR_8.jpeg': [{'box_points': [2.058842182159424,\n",
       "    24.43491554260254,\n",
       "    617.1583862304688,\n",
       "    322.7125549316406],\n",
       "   'confidence': 0.7354451417922974,\n",
       "   'class': 'vehicle'}],\n",
       " 'TOYOTA-C-HR_1.jpeg': [],\n",
       " 'TOYOTA-C-HR_18.jpeg': [{'box_points': [227.3685302734375,\n",
       "    404.8276062011719,\n",
       "    1301.3916015625,\n",
       "    883.5328369140625],\n",
       "   'confidence': 0.9869410395622253,\n",
       "   'class': 'vehicle'}],\n",
       " 'TOYOTA-C-HR_11.jpeg': [{'box_points': [14.105466842651367,\n",
       "    89.44153594970703,\n",
       "    384.35760498046875,\n",
       "    229.14791870117188],\n",
       "   'confidence': 0.9421671628952026,\n",
       "   'class': 'vehicle'}],\n",
       " 'TOYOTA-C-HR_16.jpeg': [{'box_points': [141.63636779785156,\n",
       "    96.57637023925781,\n",
       "    1121.5626220703125,\n",
       "    506.32025146484375],\n",
       "   'confidence': 0.8910402059555054,\n",
       "   'class': 'vehicle'}],\n",
       " 'TOYOTA-C-HR_14.jpeg': [],\n",
       " 'TOYOTA-C-HR_7.jpeg': [{'box_points': [1.6456048488616943,\n",
       "    66.5272445678711,\n",
       "    596.3262939453125,\n",
       "    334.52392578125],\n",
       "   'confidence': 0.9646183848381042,\n",
       "   'class': 'vehicle'}],\n",
       " 'TOYOTA-C-HR_4.jpeg': [{'box_points': [145.8916473388672,\n",
       "    120.11004638671875,\n",
       "    883.7320556640625,\n",
       "    456.8473205566406],\n",
       "   'confidence': 0.8913995027542114,\n",
       "   'class': 'vehicle'}],\n",
       " 'TOYOTA-C-HR_19.jpeg': [{'box_points': [286.2601318359375,\n",
       "    212.91798400878906,\n",
       "    1417.650634765625,\n",
       "    766.5918579101562],\n",
       "   'confidence': 0.8945295214653015,\n",
       "   'class': 'vehicle'}],\n",
       " 'TOYOTA-C-HR_13.jpeg': [],\n",
       " 'TOYOTA-C-HR_15.jpeg': [{'box_points': [9.797371864318848,\n",
       "    26.703027725219727,\n",
       "    514.4501342773438,\n",
       "    355.4205322265625],\n",
       "   'confidence': 0.9234865307807922,\n",
       "   'class': 'vehicle'}],\n",
       " 'TOYOTA-C-HR_20.jpeg': [],\n",
       " 'TOYOTA-C-HR_17.jpeg': [{'box_points': [81.07169342041016,\n",
       "    99.03498840332031,\n",
       "    1171.986328125,\n",
       "    645.761962890625],\n",
       "   'confidence': 0.9744068384170532,\n",
       "   'class': 'vehicle'}],\n",
       " 'TOYOTA-C-HR_2.jpeg': [{'box_points': [118.91438293457031,\n",
       "    113.08782958984375,\n",
       "    872.1137084960938,\n",
       "    494.3243103027344],\n",
       "   'confidence': 0.9673272967338562,\n",
       "   'class': 'vehicle'}],\n",
       " 'TOYOTA-C-HR_12.jpeg': [{'box_points': [8.838521957397461,\n",
       "    63.989227294921875,\n",
       "    630.8178100585938,\n",
       "    313.3149719238281],\n",
       "   'confidence': 0.9319941401481628,\n",
       "   'class': 'vehicle'}],\n",
       " 'VW-T-ROC_8.jpeg': [{'box_points': [270.951171875,\n",
       "    251.281005859375,\n",
       "    1628.33203125,\n",
       "    962.0513305664062],\n",
       "   'confidence': 0.8823739290237427,\n",
       "   'class': 'vehicle'}],\n",
       " 'VW-T-ROC_10.jpeg': [],\n",
       " 'VW-T-ROC_2.jpeg': [{'box_points': [107.8750991821289,\n",
       "    366.56805419921875,\n",
       "    1276.989501953125,\n",
       "    922.2053833007812],\n",
       "   'confidence': 0.9894220232963562,\n",
       "   'class': 'vehicle'}],\n",
       " 'VW-T-ROC_6.jpeg': [],\n",
       " 'VW-T-ROC_7.jpeg': [],\n",
       " 'VW-T-ROC_17.jpeg': [],\n",
       " 'VW-T-ROC_5.jpeg': [{'box_points': [190.54090881347656,\n",
       "    158.33558654785156,\n",
       "    1031.0555419921875,\n",
       "    552.771240234375],\n",
       "   'confidence': 0.9624872803688049,\n",
       "   'class': 'vehicle'}],\n",
       " 'VW-T-ROC_1.jpeg': [{'box_points': [189.22137451171875,\n",
       "    138.3937225341797,\n",
       "    1771.479248046875,\n",
       "    838.956298828125],\n",
       "   'confidence': 0.9516595005989075,\n",
       "   'class': 'vehicle'}],\n",
       " 'VW-T-ROC_14.jpeg': [],\n",
       " 'VW-T-ROC_11.jpeg': [{'box_points': [255.86322021484375,\n",
       "    102.82024383544922,\n",
       "    1368.60498046875,\n",
       "    789.5982055664062],\n",
       "   'confidence': 0.9942899942398071,\n",
       "   'class': 'vehicle'}],\n",
       " 'VW-T-ROC_13.jpeg': [{'box_points': [871.9527587890625,\n",
       "    201.94454956054688,\n",
       "    923.9505004882812,\n",
       "    242.12469482421875],\n",
       "   'confidence': 0.5335671901702881,\n",
       "   'class': 'vehicle'}],\n",
       " 'VW-T-ROC_15.jpeg': [{'box_points': [159.8843994140625,\n",
       "    301.53424072265625,\n",
       "    2366.5439453125,\n",
       "    1257.719970703125],\n",
       "   'confidence': 0.9306524395942688,\n",
       "   'class': 'vehicle'}],\n",
       " 'VW-T-ROC_4.jpeg': [{'box_points': [222.10499572753906,\n",
       "    55.812477111816406,\n",
       "    820.7432861328125,\n",
       "    495.79486083984375],\n",
       "   'confidence': 0.9712077975273132,\n",
       "   'class': 'vehicle'}],\n",
       " 'VW-T-ROC_9.jpeg': [{'box_points': [199.07574462890625,\n",
       "    218.78111267089844,\n",
       "    1399.5860595703125,\n",
       "    782.4895629882812],\n",
       "   'confidence': 0.9850533604621887,\n",
       "   'class': 'vehicle'}],\n",
       " 'VW-T-ROC_18.jpeg': [],\n",
       " 'VW-T-ROC_16.jpeg': [],\n",
       " 'VW-T-ROC_19.jpeg': [],\n",
       " 'VW-T-ROC_12.jpeg': [{'box_points': [300.385009765625,\n",
       "    293.5792541503906,\n",
       "    933.0096435546875,\n",
       "    569.1820068359375],\n",
       "   'confidence': 0.998367965221405,\n",
       "   'class': 'vehicle'}],\n",
       " 'VW-T-ROC_20.jpeg': [{'box_points': [98.35636138916016,\n",
       "    190.43788146972656,\n",
       "    1448.393310546875,\n",
       "    860.85791015625],\n",
       "   'confidence': 0.9957323670387268,\n",
       "   'class': 'vehicle'}],\n",
       " 'VW-T-ROC_3.jpeg': [{'box_points': [532.9911499023438,\n",
       "    161.6997528076172,\n",
       "    1593.064453125,\n",
       "    996.9754028320312],\n",
       "   'confidence': 0.9805599451065063,\n",
       "   'class': 'vehicle'}],\n",
       " 'PEUGEOT-208_1.jpeg': [],\n",
       " 'PEUGEOT-208_2.jpeg': [{'box_points': [407.5669860839844,\n",
       "    268.5223693847656,\n",
       "    1556.235595703125,\n",
       "    947.1744995117188],\n",
       "   'confidence': 0.9916431903839111,\n",
       "   'class': 'vehicle'}],\n",
       " 'PEUGEOT-208_4.jpeg': [],\n",
       " 'PEUGEOT-208_15.jpeg': [],\n",
       " 'PEUGEOT-208_10.jpeg': [{'box_points': [194.11175537109375,\n",
       "    220.8838653564453,\n",
       "    1235.8338623046875,\n",
       "    888.4592895507812],\n",
       "   'confidence': 0.9975084066390991,\n",
       "   'class': 'vehicle'}],\n",
       " 'PEUGEOT-208_3.jpeg': [{'box_points': [663.94775390625,\n",
       "    171.27670288085938,\n",
       "    701.60302734375,\n",
       "    207.6053466796875],\n",
       "   'confidence': 0.5899914503097534,\n",
       "   'class': 'vehicle'}],\n",
       " 'PEUGEOT-208_9.jpeg': [{'box_points': [77.78584289550781,\n",
       "    156.97250366210938,\n",
       "    720.8085327148438,\n",
       "    464.4405517578125],\n",
       "   'confidence': 0.9919575452804565,\n",
       "   'class': 'vehicle'}],\n",
       " 'PEUGEOT-208_13.jpeg': [{'box_points': [179.66531372070312,\n",
       "    121.11100006103516,\n",
       "    551.3474731445312,\n",
       "    278.11248779296875],\n",
       "   'confidence': 0.990628182888031,\n",
       "   'class': 'vehicle'}],\n",
       " 'PEUGEOT-208_17.jpeg': [],\n",
       " 'PEUGEOT-208_18.jpeg': [],\n",
       " 'PEUGEOT-208_11.jpeg': [],\n",
       " 'PEUGEOT-208_8.jpeg': [{'box_points': [53.077613830566406,\n",
       "    104.0914077758789,\n",
       "    936.5751342773438,\n",
       "    520.031494140625],\n",
       "   'confidence': 0.97702956199646,\n",
       "   'class': 'vehicle'}],\n",
       " 'PEUGEOT-208_14.jpeg': [],\n",
       " 'PEUGEOT-208_19.jpeg': [{'box_points': [11.412796974182129,\n",
       "    8.376849174499512,\n",
       "    589.688720703125,\n",
       "    376.3840026855469],\n",
       "   'confidence': 0.6689759492874146,\n",
       "   'class': 'vehicle'}],\n",
       " 'PEUGEOT-208_7.jpeg': [{'box_points': [120.58209228515625,\n",
       "    86.939208984375,\n",
       "    1274.09326171875,\n",
       "    613.0703735351562],\n",
       "   'confidence': 0.9770605564117432,\n",
       "   'class': 'vehicle'}],\n",
       " 'PEUGEOT-208_20.jpeg': [{'box_points': [112.64653015136719,\n",
       "    126.9190902709961,\n",
       "    766.314697265625,\n",
       "    490.34222412109375],\n",
       "   'confidence': 0.9936392903327942,\n",
       "   'class': 'vehicle'}],\n",
       " 'PEUGEOT-208_16.jpeg': [],\n",
       " 'PEUGEOT-208_5.jpeg': [],\n",
       " 'TOYOTA-COROLLA_13.jpeg': [],\n",
       " 'TOYOTA-COROLLA_10.png': [{'box_points': [7.446708679199219,\n",
       "    17.955549240112305,\n",
       "    669.8861083984375,\n",
       "    298.4306945800781],\n",
       "   'confidence': 0.97404545545578,\n",
       "   'class': 'vehicle'}],\n",
       " 'TOYOTA-COROLLA_18.jpeg': [],\n",
       " 'TOYOTA-COROLLA_20.jpeg': [],\n",
       " 'TOYOTA-COROLLA_12.png': [{'box_points': [0.0,\n",
       "    43.66791915893555,\n",
       "    500.4210205078125,\n",
       "    280.75537109375],\n",
       "   'confidence': 0.9586573839187622,\n",
       "   'class': 'vehicle'}],\n",
       " 'TOYOTA-COROLLA_19.jpeg': [{'box_points': [0.0,\n",
       "    27.163040161132812,\n",
       "    1920.0,\n",
       "    1272.0],\n",
       "   'confidence': 0.6132837533950806,\n",
       "   'class': 'vehicle'}],\n",
       " 'TOYOTA-COROLLA_8.jpeg': [{'box_points': [58.11766052246094,\n",
       "    129.6055450439453,\n",
       "    949.38720703125,\n",
       "    512.5721435546875],\n",
       "   'confidence': 0.9865729808807373,\n",
       "   'class': 'vehicle'}],\n",
       " 'TOYOTA-COROLLA_2.jpeg': [{'box_points': [131.0247802734375,\n",
       "    144.9396514892578,\n",
       "    868.6213989257812,\n",
       "    519.72900390625],\n",
       "   'confidence': 0.9769893288612366,\n",
       "   'class': 'vehicle'}],\n",
       " 'TOYOTA-COROLLA_16.jpeg': [],\n",
       " 'TOYOTA-COROLLA_7.jpeg': [],\n",
       " 'TOYOTA-COROLLA_1.jpeg': [{'box_points': [888.271484375,\n",
       "    968.1489868164062,\n",
       "    4003.143310546875,\n",
       "    2475.77978515625],\n",
       "   'confidence': 0.9937885403633118,\n",
       "   'class': 'vehicle'}],\n",
       " 'TOYOTA-COROLLA_11.jpeg': [],\n",
       " 'TOYOTA-COROLLA_6.jpeg': [{'box_points': [231.68911743164062,\n",
       "    155.99505615234375,\n",
       "    1513.312255859375,\n",
       "    931.0178833007812],\n",
       "   'confidence': 0.8463882207870483,\n",
       "   'class': 'vehicle'}],\n",
       " 'TOYOTA-COROLLA_15.jpeg': [],\n",
       " 'TOYOTA-COROLLA_4.jpeg': [{'box_points': [205.18032836914062,\n",
       "    255.2809600830078,\n",
       "    1637.2393798828125,\n",
       "    814.1432495117188],\n",
       "   'confidence': 0.9637328386306763,\n",
       "   'class': 'vehicle'}],\n",
       " 'TOYOTA-COROLLA_17.jpeg': [{'box_points': [8.328967094421387,\n",
       "    84.70344543457031,\n",
       "    749.4599609375,\n",
       "    444.24249267578125],\n",
       "   'confidence': 0.8458476066589355,\n",
       "   'class': 'vehicle'}],\n",
       " 'TOYOTA-COROLLA_3.jpeg': [{'box_points': [120.6075439453125,\n",
       "    203.26524353027344,\n",
       "    1765.1990966796875,\n",
       "    886.6210327148438],\n",
       "   'confidence': 0.9315826296806335,\n",
       "   'class': 'vehicle'}],\n",
       " 'TOYOTA-COROLLA_5.png': [{'box_points': [11.586301803588867,\n",
       "    15.516677856445312,\n",
       "    668.8618774414062,\n",
       "    285.81512451171875],\n",
       "   'confidence': 0.9689310789108276,\n",
       "   'class': 'vehicle'}],\n",
       " 'TOYOTA-COROLLA_9.jpeg': [{'box_points': [153.3641815185547,\n",
       "    345.16790771484375,\n",
       "    2275.349609375,\n",
       "    1446.314697265625],\n",
       "   'confidence': 0.9823721051216125,\n",
       "   'class': 'vehicle'}],\n",
       " 'TOYOTA-COROLLA_14.png': [{'box_points': [26.956735610961914,\n",
       "    49.7647590637207,\n",
       "    543.7138061523438,\n",
       "    222.7055206298828],\n",
       "   'confidence': 0.9942485094070435,\n",
       "   'class': 'vehicle'}],\n",
       " 'FIAT-PANDA_8.jpeg': [{'box_points': [192.08798217773438,\n",
       "    152.09661865234375,\n",
       "    1728.9788818359375,\n",
       "    911.17919921875],\n",
       "   'confidence': 0.9563710689544678,\n",
       "   'class': 'vehicle'}],\n",
       " 'FIAT-PANDA_16.jpeg': [],\n",
       " 'FIAT-PANDA_3.jpeg': [{'box_points': [121.9466323852539,\n",
       "    50.14610290527344,\n",
       "    481.077880859375,\n",
       "    246.6034393310547],\n",
       "   'confidence': 0.9881520867347717,\n",
       "   'class': 'vehicle'}],\n",
       " 'FIAT-PANDA_20.jpeg': [],\n",
       " 'FIAT-PANDA_5.png': [{'box_points': [29.284631729125977,\n",
       "    51.65828323364258,\n",
       "    656.6620483398438,\n",
       "    389.09088134765625],\n",
       "   'confidence': 0.9707581996917725,\n",
       "   'class': 'vehicle'}],\n",
       " 'FIAT-PANDA_1.jpeg': [{'box_points': [13.056557655334473,\n",
       "    37.62809753417969,\n",
       "    282.06976318359375,\n",
       "    192.53207397460938],\n",
       "   'confidence': 0.9528890252113342,\n",
       "   'class': 'vehicle'}],\n",
       " 'FIAT-PANDA_15.jpeg': [{'box_points': [0.0,\n",
       "    3.585587501525879,\n",
       "    288.0,\n",
       "    203.34461975097656],\n",
       "   'confidence': 0.6781138181686401,\n",
       "   'class': 'vehicle'}],\n",
       " 'FIAT-PANDA_17.jpeg': [],\n",
       " 'FIAT-PANDA_7.png': [{'box_points': [6.1373610496521,\n",
       "    15.28420352935791,\n",
       "    374.5864562988281,\n",
       "    213.0006561279297],\n",
       "   'confidence': 0.949720025062561,\n",
       "   'class': 'vehicle'}],\n",
       " 'FIAT-PANDA_6.jpeg': [{'box_points': [216.5600128173828,\n",
       "    135.2777099609375,\n",
       "    1302.1956787109375,\n",
       "    783.8079223632812],\n",
       "   'confidence': 0.9655004739761353,\n",
       "   'class': 'vehicle'}],\n",
       " 'FIAT-PANDA_18.jpeg': [{'box_points': [40.58848190307617,\n",
       "    7.314363956451416,\n",
       "    288.0,\n",
       "    154.38279724121094],\n",
       "   'confidence': 0.7351423501968384,\n",
       "   'class': 'vehicle'}],\n",
       " 'FIAT-PANDA_13.jpeg': [{'box_points': [30.417415618896484,\n",
       "    48.794395446777344,\n",
       "    259.50433349609375,\n",
       "    196.10325622558594],\n",
       "   'confidence': 0.93266361951828,\n",
       "   'class': 'vehicle'}],\n",
       " 'FIAT-PANDA_2.jpeg': [{'box_points': [9.858094215393066,\n",
       "    37.244083404541016,\n",
       "    281.07391357421875,\n",
       "    181.8522186279297],\n",
       "   'confidence': 0.9897990226745605,\n",
       "   'class': 'vehicle'}],\n",
       " 'FIAT-PANDA_11.jpeg': [{'box_points': [242.01449584960938,\n",
       "    28.59173583984375,\n",
       "    523.52978515625,\n",
       "    198.21640014648438],\n",
       "   'confidence': 0.9979573488235474,\n",
       "   'class': 'vehicle'}],\n",
       " 'FIAT-PANDA_19.jpeg': [{'box_points': [27.30906105041504,\n",
       "    48.96476364135742,\n",
       "    999.9999389648438,\n",
       "    513.9509887695312],\n",
       "   'confidence': 0.8252652883529663,\n",
       "   'class': 'vehicle'}],\n",
       " 'FIAT-PANDA_10.jpeg': [{'box_points': [79.09464263916016,\n",
       "    104.6412582397461,\n",
       "    819.8773803710938,\n",
       "    527.8289794921875],\n",
       "   'confidence': 0.9975559711456299,\n",
       "   'class': 'vehicle'}],\n",
       " 'FIAT-PANDA_12.jpeg': [],\n",
       " 'FIAT-PANDA_14.jpeg': [],\n",
       " 'FIAT-PANDA_9.jpeg': [{'box_points': [204.05445861816406,\n",
       "    100.03302764892578,\n",
       "    1021.0550537109375,\n",
       "    593.6480712890625],\n",
       "   'confidence': 0.9896880984306335,\n",
       "   'class': 'vehicle'}],\n",
       " 'FIAT-PANDA_4.jpeg': [{'box_points': [27.676952362060547,\n",
       "    44.614288330078125,\n",
       "    268.283203125,\n",
       "    174.4658660888672],\n",
       "   'confidence': 0.9806023836135864,\n",
       "   'class': 'vehicle'}],\n",
       " 'CITROEN-C3_7.jpeg': [{'box_points': [98.96135711669922,\n",
       "    151.72164916992188,\n",
       "    903.0330810546875,\n",
       "    500.9773254394531],\n",
       "   'confidence': 0.985697865486145,\n",
       "   'class': 'vehicle'}],\n",
       " 'CITROEN-C3_1.jpeg': [{'box_points': [222.86569213867188,\n",
       "    104.53111267089844,\n",
       "    1144.5985107421875,\n",
       "    568.1787719726562],\n",
       "   'confidence': 0.9945711493492126,\n",
       "   'class': 'vehicle'}],\n",
       " 'CITROEN-C3_20.jpeg': [],\n",
       " 'CITROEN-C3_14.jpeg': [],\n",
       " 'CITROEN-C3_9.jpeg': [{'box_points': [91.47023010253906,\n",
       "    152.81492614746094,\n",
       "    888.8640747070312,\n",
       "    535.8803100585938],\n",
       "   'confidence': 0.989841639995575,\n",
       "   'class': 'vehicle'}],\n",
       " 'CITROEN-C3_18.jpeg': [{'box_points': [135.3070831298828,\n",
       "    78.2334976196289,\n",
       "    898.97802734375,\n",
       "    591.5311889648438],\n",
       "   'confidence': 0.9662346839904785,\n",
       "   'class': 'vehicle'}],\n",
       " 'CITROEN-C3_16.jpeg': [],\n",
       " 'CITROEN-C3_4.jpeg': [],\n",
       " 'CITROEN-C3_13.jpeg': [],\n",
       " 'CITROEN-C3_11.jpeg': [],\n",
       " 'CITROEN-C3_15.jpeg': [],\n",
       " 'CITROEN-C3_5.jpeg': [{'box_points': [115.82991790771484,\n",
       "    96.22093963623047,\n",
       "    800.2447509765625,\n",
       "    501.89984130859375],\n",
       "   'confidence': 0.986884593963623,\n",
       "   'class': 'vehicle'}],\n",
       " 'CITROEN-C3_8.jpeg': [{'box_points': [57.33523178100586,\n",
       "    130.47732543945312,\n",
       "    1079.12060546875,\n",
       "    618.8125610351562],\n",
       "   'confidence': 0.9699106812477112,\n",
       "   'class': 'vehicle'}],\n",
       " 'CITROEN-C3_19.jpeg': [{'box_points': [6.520557403564453,\n",
       "    33.755435943603516,\n",
       "    582.2698364257812,\n",
       "    433.92462158203125],\n",
       "   'confidence': 0.9581127762794495,\n",
       "   'class': 'vehicle'}],\n",
       " 'CITROEN-C3_6.jpeg': [{'box_points': [149.10260009765625,\n",
       "    92.18885803222656,\n",
       "    952.7111206054688,\n",
       "    472.6268310546875],\n",
       "   'confidence': 0.9827246069908142,\n",
       "   'class': 'vehicle'}],\n",
       " 'CITROEN-C3_2.jpeg': [{'box_points': [0.0,\n",
       "    52.51640319824219,\n",
       "    583.0,\n",
       "    311.9607849121094],\n",
       "   'confidence': 0.9458935856819153,\n",
       "   'class': 'vehicle'}],\n",
       " 'CITROEN-C3_3.jpeg': [{'box_points': [30.865966796875,\n",
       "    13.769927978515625,\n",
       "    1272.4112548828125,\n",
       "    690.312255859375],\n",
       "   'confidence': 0.8876996636390686,\n",
       "   'class': 'vehicle'}],\n",
       " 'CITROEN-C3_12.png': [],\n",
       " 'CITROEN-C3_17.jpeg': [],\n",
       " 'CITROEN-C3_10.jpeg': [{'box_points': [162.5739288330078,\n",
       "    188.7798614501953,\n",
       "    766.9310913085938,\n",
       "    505.0508117675781],\n",
       "   'confidence': 0.9843533635139465,\n",
       "   'class': 'vehicle'}],\n",
       " 'DACIA-DUSTER_9.jpeg': [],\n",
       " 'DACIA-DUSTER_6.jpeg': [],\n",
       " 'DACIA-DUSTER_8.jpeg': [],\n",
       " 'DACIA-DUSTER_18.jpeg': [{'box_points': [1141.2802734375,\n",
       "    275.7421875,\n",
       "    1167.57958984375,\n",
       "    366.9161376953125],\n",
       "   'confidence': 0.5929669737815857,\n",
       "   'class': 'vehicle'}],\n",
       " 'DACIA-DUSTER_17.jpeg': [{'box_points': [160.52606201171875,\n",
       "    148.6042022705078,\n",
       "    827.3748779296875,\n",
       "    555.7821655273438],\n",
       "   'confidence': 0.9658591151237488,\n",
       "   'class': 'vehicle'}],\n",
       " 'DACIA-DUSTER_3.jpeg': [{'box_points': [69.48306274414062,\n",
       "    60.91429138183594,\n",
       "    341.876953125,\n",
       "    169.0332794189453],\n",
       "   'confidence': 0.9673621654510498,\n",
       "   'class': 'vehicle'}],\n",
       " 'DACIA-DUSTER_19.jpeg': [],\n",
       " 'DACIA-DUSTER_12.jpeg': [],\n",
       " 'DACIA-DUSTER_2.jpeg': [],\n",
       " 'DACIA-DUSTER_14.jpeg': [],\n",
       " 'DACIA-DUSTER_20.jpeg': [],\n",
       " 'DACIA-DUSTER_15.jpeg': [],\n",
       " 'DACIA-DUSTER_4.jpeg': [],\n",
       " 'DACIA-DUSTER_13.jpeg': [{'box_points': [160.2109375,\n",
       "    237.78741455078125,\n",
       "    868.66015625,\n",
       "    532.5101318359375],\n",
       "   'confidence': 0.9906600117683411,\n",
       "   'class': 'vehicle'}],\n",
       " 'DACIA-DUSTER_1.jpeg': [],\n",
       " 'DACIA-DUSTER_11.jpeg': [],\n",
       " 'DACIA-DUSTER_7.jpeg': [],\n",
       " 'DACIA-DUSTER_16.jpeg': [{'box_points': [274.9450988769531,\n",
       "    243.19351196289062,\n",
       "    815.8314819335938,\n",
       "    547.0923461914062],\n",
       "   'confidence': 0.9873873591423035,\n",
       "   'class': 'vehicle'}],\n",
       " 'DACIA-DUSTER_10.jpeg': [{'box_points': [114.35291290283203,\n",
       "    77.55685424804688,\n",
       "    327.2897033691406,\n",
       "    190.72198486328125],\n",
       "   'confidence': 0.9870033860206604,\n",
       "   'class': 'vehicle'}],\n",
       " 'DACIA-DUSTER_5.jpeg': [],\n",
       " 'OPEL-CORSA_3.jpeg': [{'box_points': [267.00054931640625,\n",
       "    157.663330078125,\n",
       "    1653.6837158203125,\n",
       "    881.7885131835938],\n",
       "   'confidence': 0.9916136264801025,\n",
       "   'class': 'vehicle'}],\n",
       " 'OPEL-CORSA_14.jpeg': [],\n",
       " 'OPEL-CORSA_17.jpeg': [{'box_points': [204.9185028076172,\n",
       "    190.440185546875,\n",
       "    636.7234497070312,\n",
       "    422.3961181640625],\n",
       "   'confidence': 0.996637225151062,\n",
       "   'class': 'vehicle'}],\n",
       " 'OPEL-CORSA_18.jpeg': [{'box_points': [220.7434844970703,\n",
       "    165.14002990722656,\n",
       "    1712.761962890625,\n",
       "    858.8977661132812],\n",
       "   'confidence': 0.9810694456100464,\n",
       "   'class': 'vehicle'}],\n",
       " 'OPEL-CORSA_20.jpeg': [{'box_points': [3.95209002494812,\n",
       "    83.87217712402344,\n",
       "    1182.18701171875,\n",
       "    749.2328491210938],\n",
       "   'confidence': 0.9765299558639526,\n",
       "   'class': 'vehicle'}],\n",
       " 'OPEL-CORSA_5.jpeg': [{'box_points': [188.0840301513672,\n",
       "    205.00634765625,\n",
       "    1146.9937744140625,\n",
       "    757.0896606445312],\n",
       "   'confidence': 0.9923642873764038,\n",
       "   'class': 'vehicle'}],\n",
       " 'OPEL-CORSA_16.jpeg': [],\n",
       " 'OPEL-CORSA_9.jpeg': [],\n",
       " 'OPEL-CORSA_2.jpeg': [],\n",
       " 'OPEL-CORSA_4.jpeg': [],\n",
       " 'OPEL-CORSA_15.jpeg': [{'box_points': [533.2027587890625,\n",
       "    90.47168731689453,\n",
       "    1108.16455078125,\n",
       "    468.3788757324219],\n",
       "   'confidence': 0.9928807020187378,\n",
       "   'class': 'vehicle'}],\n",
       " 'OPEL-CORSA_6.jpeg': [{'box_points': [44.14463424682617,\n",
       "    143.06532287597656,\n",
       "    774.3819580078125,\n",
       "    479.1755676269531],\n",
       "   'confidence': 0.9957268238067627,\n",
       "   'class': 'vehicle'}],\n",
       " 'OPEL-CORSA_7.jpeg': [{'box_points': [97.23637390136719,\n",
       "    137.15530395507812,\n",
       "    820.0440673828125,\n",
       "    490.1235656738281],\n",
       "   'confidence': 0.9907536506652832,\n",
       "   'class': 'vehicle'}],\n",
       " 'OPEL-CORSA_12.jpeg': [{'box_points': [105.26417541503906,\n",
       "    64.10658264160156,\n",
       "    931.0262451171875,\n",
       "    519.6560668945312],\n",
       "   'confidence': 0.9798944592475891,\n",
       "   'class': 'vehicle'}],\n",
       " 'OPEL-CORSA_19.jpeg': [{'box_points': [109.03544616699219,\n",
       "    71.29959106445312,\n",
       "    650.3056030273438,\n",
       "    376.8716735839844],\n",
       "   'confidence': 0.9938043355941772,\n",
       "   'class': 'vehicle'}],\n",
       " 'OPEL-CORSA_1.jpeg': [{'box_points': [160.51080322265625,\n",
       "    209.6537628173828,\n",
       "    1016.7886352539062,\n",
       "    611.1233520507812],\n",
       "   'confidence': 0.9967755675315857,\n",
       "   'class': 'vehicle'}],\n",
       " 'OPEL-CORSA_13.jpeg': [{'box_points': [0.0,\n",
       "    55.158077239990234,\n",
       "    600.0,\n",
       "    306.8658142089844],\n",
       "   'confidence': 0.9866683483123779,\n",
       "   'class': 'vehicle'}],\n",
       " 'OPEL-CORSA_11.jpeg': [],\n",
       " 'OPEL-CORSA_8.jpeg': [],\n",
       " 'OPEL-CORSA_10.jpeg': [],\n",
       " 'PEUGEOT-2008_8.jpeg': [],\n",
       " 'PEUGEOT-2008_3.jpeg': [{'box_points': [118.21753692626953,\n",
       "    134.38870239257812,\n",
       "    822.9735107421875,\n",
       "    466.3495788574219],\n",
       "   'confidence': 0.9877578020095825,\n",
       "   'class': 'vehicle'}],\n",
       " 'PEUGEOT-2008_20.jpeg': [],\n",
       " 'PEUGEOT-2008_1.jpeg': [],\n",
       " 'PEUGEOT-2008_18.jpeg': [],\n",
       " 'PEUGEOT-2008_11.jpeg': [{'box_points': [301.6544189453125,\n",
       "    293.4930725097656,\n",
       "    1083.84033203125,\n",
       "    717.522216796875],\n",
       "   'confidence': 0.9307720065116882,\n",
       "   'class': 'vehicle'}],\n",
       " 'PEUGEOT-2008_14.jpeg': [{'box_points': [455.1022644042969,\n",
       "    154.1055908203125,\n",
       "    1607.3873291015625,\n",
       "    954.5530395507812],\n",
       "   'confidence': 0.9798007011413574,\n",
       "   'class': 'vehicle'}],\n",
       " 'PEUGEOT-2008_5.jpeg': [],\n",
       " 'PEUGEOT-2008_13.jpeg': [],\n",
       " 'PEUGEOT-2008_7.jpeg': [{'box_points': [188.0343475341797,\n",
       "    173.59938049316406,\n",
       "    997.415283203125,\n",
       "    518.0843505859375],\n",
       "   'confidence': 0.9938573241233826,\n",
       "   'class': 'vehicle'}],\n",
       " 'PEUGEOT-2008_10.jpeg': [],\n",
       " 'PEUGEOT-2008_16.jpeg': [],\n",
       " 'PEUGEOT-2008_15.jpeg': [{'box_points': [16.95651626586914,\n",
       "    17.87641716003418,\n",
       "    700.0,\n",
       "    363.8242492675781],\n",
       "   'confidence': 0.9310100078582764,\n",
       "   'class': 'vehicle'}],\n",
       " 'PEUGEOT-2008_9.jpeg': [{'box_points': [98.82959747314453,\n",
       "    125.36760711669922,\n",
       "    960.241455078125,\n",
       "    564.3300170898438],\n",
       "   'confidence': 0.94438636302948,\n",
       "   'class': 'vehicle'}],\n",
       " 'PEUGEOT-2008_4.jpeg': [{'box_points': [399.16259765625,\n",
       "    195.50900268554688,\n",
       "    1643.3995361328125,\n",
       "    811.0093383789062],\n",
       "   'confidence': 0.9924742579460144,\n",
       "   'class': 'vehicle'}],\n",
       " 'PEUGEOT-2008_12.jpeg': [{'box_points': [178.02024841308594,\n",
       "    283.9822082519531,\n",
       "    1250.6328125,\n",
       "    788.3335571289062],\n",
       "   'confidence': 0.9956996440887451,\n",
       "   'class': 'vehicle'}],\n",
       " 'PEUGEOT-2008_2.jpeg': [{'box_points': [131.13446044921875,\n",
       "    148.66351318359375,\n",
       "    782.1461791992188,\n",
       "    477.5325927734375],\n",
       "   'confidence': 0.9935613870620728,\n",
       "   'class': 'vehicle'}],\n",
       " 'PEUGEOT-2008_6.jpeg': [{'box_points': [0.0,\n",
       "    82.92457580566406,\n",
       "    1024.0,\n",
       "    683.2785034179688],\n",
       "   'confidence': 0.9809773564338684,\n",
       "   'class': 'vehicle'}],\n",
       " 'PEUGEOT-2008_17.png': [{'box_points': [43.418392181396484,\n",
       "    74.92747497558594,\n",
       "    557.2431030273438,\n",
       "    307.85296630859375],\n",
       "   'confidence': 0.9598532915115356,\n",
       "   'class': 'vehicle'}],\n",
       " 'PEUGEOT-2008_19.jpeg': [],\n",
       " 'FIAT-500_13.jpeg': [{'box_points': [1399.3970947265625,\n",
       "    308.13018798828125,\n",
       "    1489.3004150390625,\n",
       "    392.20269775390625],\n",
       "   'confidence': 0.9367357492446899,\n",
       "   'class': 'vehicle'}],\n",
       " 'FIAT-500_1.png': [{'box_points': [32.38620376586914,\n",
       "    12.005215644836426,\n",
       "    253.0830535888672,\n",
       "    139.6654510498047],\n",
       "   'confidence': 0.9718613624572754,\n",
       "   'class': 'vehicle'}],\n",
       " 'FIAT-500_8.jpeg': [],\n",
       " 'FIAT-500_3.jpeg': [{'box_points': [69.07672119140625,\n",
       "    53.454185485839844,\n",
       "    310.3449401855469,\n",
       "    168.35960388183594],\n",
       "   'confidence': 0.9940270185470581,\n",
       "   'class': 'vehicle'}],\n",
       " 'FIAT-500_6.png': [{'box_points': [7.890442848205566,\n",
       "    14.346802711486816,\n",
       "    648.96240234375,\n",
       "    384.304931640625],\n",
       "   'confidence': 0.8913396000862122,\n",
       "   'class': 'vehicle'}],\n",
       " 'FIAT-500_15.png': [{'box_points': [0.0,\n",
       "    32.23381423950195,\n",
       "    380.0,\n",
       "    223.00216674804688],\n",
       "   'confidence': 0.9760856628417969,\n",
       "   'class': 'vehicle'}],\n",
       " 'FIAT-500_4.jpeg': [{'box_points': [26.045543670654297,\n",
       "    42.30934524536133,\n",
       "    261.3841857910156,\n",
       "    175.83499145507812],\n",
       "   'confidence': 0.9830031991004944,\n",
       "   'class': 'vehicle'}],\n",
       " 'FIAT-500_11.jpeg': [],\n",
       " 'FIAT-500_12.jpeg': [],\n",
       " 'FIAT-500_5.jpeg': [],\n",
       " 'FIAT-500_9.jpeg': [],\n",
       " 'FIAT-500_16.jpeg': [],\n",
       " 'FIAT-500_18.jpeg': [],\n",
       " 'FIAT-500_14.jpeg': [{'box_points': [143.91075134277344,\n",
       "    84.75151824951172,\n",
       "    1026.83837890625,\n",
       "    660.573486328125],\n",
       "   'confidence': 0.9769818186759949,\n",
       "   'class': 'vehicle'}],\n",
       " 'FIAT-500_10.jpeg': [{'box_points': [40.510902404785156,\n",
       "    131.18637084960938,\n",
       "    414.74871826171875,\n",
       "    301.1255798339844],\n",
       "   'confidence': 0.9955199956893921,\n",
       "   'class': 'vehicle'}],\n",
       " 'FIAT-500_20.jpeg': [{'box_points': [0.0,\n",
       "    22.95542335510254,\n",
       "    876.0,\n",
       "    482.66229248046875],\n",
       "   'confidence': 0.9428772330284119,\n",
       "   'class': 'vehicle'}],\n",
       " 'FIAT-500_2.jpeg': [{'box_points': [46.89348602294922,\n",
       "    78.18269348144531,\n",
       "    562.4403076171875,\n",
       "    308.0984191894531],\n",
       "   'confidence': 0.9961161613464355,\n",
       "   'class': 'vehicle'}],\n",
       " 'FIAT-500_19.jpeg': [{'box_points': [114.71528625488281,\n",
       "    184.29920959472656,\n",
       "    1273.8206787109375,\n",
       "    754.3043212890625],\n",
       "   'confidence': 0.9822524785995483,\n",
       "   'class': 'vehicle'}],\n",
       " 'FIAT-500_7.png': [{'box_points': [66.01334381103516,\n",
       "    43.26234817504883,\n",
       "    506.33642578125,\n",
       "    233.2275390625],\n",
       "   'confidence': 0.9918636083602905,\n",
       "   'class': 'vehicle'}],\n",
       " 'FIAT-500_17.jpeg': [{'box_points': [151.49322509765625,\n",
       "    251.32598876953125,\n",
       "    1733.7437744140625,\n",
       "    1012.8696899414062],\n",
       "   'confidence': 0.9812527298927307,\n",
       "   'class': 'vehicle'}],\n",
       " 'RENAULT-CLIO_9.jpeg': [{'box_points': [191.1638946533203,\n",
       "    276.70611572265625,\n",
       "    786.038818359375,\n",
       "    541.3660278320312],\n",
       "   'confidence': 0.9938987493515015,\n",
       "   'class': 'vehicle'}],\n",
       " 'RENAULT-CLIO_19.jpeg': [],\n",
       " 'RENAULT-CLIO_11.jpeg': [{'box_points': [45.55184555053711,\n",
       "    287.6918640136719,\n",
       "    1865.359130859375,\n",
       "    1047.2152099609375],\n",
       "   'confidence': 0.9890461564064026,\n",
       "   'class': 'vehicle'}],\n",
       " 'RENAULT-CLIO_18.jpeg': [{'box_points': [189.83486938476562,\n",
       "    273.9117736816406,\n",
       "    840.4453125,\n",
       "    534.7333984375],\n",
       "   'confidence': 0.9992877840995789,\n",
       "   'class': 'vehicle'}],\n",
       " 'RENAULT-CLIO_6.jpeg': [{'box_points': [126.24456024169922,\n",
       "    95.31901550292969,\n",
       "    520.3154907226562,\n",
       "    300.4681396484375],\n",
       "   'confidence': 0.9818586111068726,\n",
       "   'class': 'vehicle'}],\n",
       " 'RENAULT-CLIO_7.jpeg': [{'box_points': [201.61453247070312,\n",
       "    108.4682846069336,\n",
       "    995.2754516601562,\n",
       "    540.0584106445312],\n",
       "   'confidence': 0.9877412915229797,\n",
       "   'class': 'vehicle'}],\n",
       " 'RENAULT-CLIO_4.jpeg': [{'box_points': [161.8050994873047,\n",
       "    101.7178726196289,\n",
       "    681.8489990234375,\n",
       "    373.68927001953125],\n",
       "   'confidence': 0.9951958060264587,\n",
       "   'class': 'vehicle'}],\n",
       " 'RENAULT-CLIO_20.jpeg': [],\n",
       " 'RENAULT-CLIO_12.jpeg': [{'box_points': [99.55426788330078,\n",
       "    54.765804290771484,\n",
       "    497.1142272949219,\n",
       "    269.4747009277344],\n",
       "   'confidence': 0.9873136878013611,\n",
       "   'class': 'vehicle'}],\n",
       " 'RENAULT-CLIO_13.jpeg': [{'box_points': [205.6024169921875,\n",
       "    82.37091064453125,\n",
       "    570.4855346679688,\n",
       "    383.600830078125],\n",
       "   'confidence': 0.9968146681785583,\n",
       "   'class': 'vehicle'}],\n",
       " 'RENAULT-CLIO_14.jpeg': [{'box_points': [586.6533203125,\n",
       "    392.192138671875,\n",
       "    1786.600341796875,\n",
       "    949.69921875],\n",
       "   'confidence': 0.9902526140213013,\n",
       "   'class': 'vehicle'}],\n",
       " 'RENAULT-CLIO_15.jpeg': [{'box_points': [96.13382720947266,\n",
       "    162.06825256347656,\n",
       "    807.014404296875,\n",
       "    503.30767822265625],\n",
       "   'confidence': 0.994156002998352,\n",
       "   'class': 'vehicle'}],\n",
       " 'RENAULT-CLIO_3.jpeg': [{'box_points': [154.08982849121094,\n",
       "    204.38917541503906,\n",
       "    725.62353515625,\n",
       "    473.938720703125],\n",
       "   'confidence': 0.9944273233413696,\n",
       "   'class': 'vehicle'}],\n",
       " 'RENAULT-CLIO_2.jpeg': [{'box_points': [190.51577758789062,\n",
       "    188.95071411132812,\n",
       "    1417.7734375,\n",
       "    777.3539428710938],\n",
       "   'confidence': 0.984398365020752,\n",
       "   'class': 'vehicle'}],\n",
       " 'RENAULT-CLIO_8.jpeg': [{'box_points': [90.90701293945312,\n",
       "    186.1005401611328,\n",
       "    1208.3602294921875,\n",
       "    723.1163330078125],\n",
       "   'confidence': 0.9862419366836548,\n",
       "   'class': 'vehicle'}],\n",
       " 'RENAULT-CLIO_17.jpeg': [{'box_points': [84.98883056640625,\n",
       "    50.013275146484375,\n",
       "    1243.5205078125,\n",
       "    657.3857421875],\n",
       "   'confidence': 0.985526442527771,\n",
       "   'class': 'vehicle'}],\n",
       " 'RENAULT-CLIO_5.jpeg': [{'box_points': [46.31447219848633,\n",
       "    145.2870330810547,\n",
       "    1187.484130859375,\n",
       "    666.5733032226562],\n",
       "   'confidence': 0.9825167059898376,\n",
       "   'class': 'vehicle'}],\n",
       " 'RENAULT-CLIO_16.jpeg': [{'box_points': [180.69020080566406,\n",
       "    275.1711120605469,\n",
       "    836.6546630859375,\n",
       "    534.4308471679688],\n",
       "   'confidence': 0.9990693926811218,\n",
       "   'class': 'vehicle'}],\n",
       " 'RENAULT-CLIO_1.jpeg': [{'box_points': [297.03204345703125,\n",
       "    297.76983642578125,\n",
       "    1194.7032470703125,\n",
       "    639.0233154296875],\n",
       "   'confidence': 0.9982839226722717,\n",
       "   'class': 'vehicle'}],\n",
       " 'RENAULT-CLIO_10.jpeg': [{'box_points': [69.3935775756836,\n",
       "    103.83885955810547,\n",
       "    296.5257873535156,\n",
       "    205.26556396484375],\n",
       "   'confidence': 0.9974579215049744,\n",
       "   'class': 'vehicle'}],\n",
       " 'SUZUKI-VITARA_17.jpeg': [],\n",
       " 'SUZUKI-VITARA_6.jpeg': [],\n",
       " 'SUZUKI-VITARA_7.png': [{'box_points': [0.0,\n",
       "    44.954681396484375,\n",
       "    449.9999694824219,\n",
       "    248.6216278076172],\n",
       "   'confidence': 0.9732058048248291,\n",
       "   'class': 'vehicle'}],\n",
       " 'SUZUKI-VITARA_13.jpeg': [{'box_points': [288.71612548828125,\n",
       "    253.27723693847656,\n",
       "    1709.9486083984375,\n",
       "    1025.8638916015625],\n",
       "   'confidence': 0.9859693050384521,\n",
       "   'class': 'vehicle'}],\n",
       " 'SUZUKI-VITARA_4.png': [{'box_points': [80.30174255371094,\n",
       "    49.23423385620117,\n",
       "    730.2095947265625,\n",
       "    511.1796875],\n",
       "   'confidence': 0.9825213551521301,\n",
       "   'class': 'vehicle'}],\n",
       " 'SUZUKI-VITARA_12.jpeg': [],\n",
       " 'SUZUKI-VITARA_8.jpeg': [{'box_points': [131.657470703125,\n",
       "    258.20458984375,\n",
       "    1436.32861328125,\n",
       "    953.5679321289062],\n",
       "   'confidence': 0.9556196331977844,\n",
       "   'class': 'vehicle'}],\n",
       " 'SUZUKI-VITARA_11.jpeg': [],\n",
       " 'SUZUKI-VITARA_3.png': [{'box_points': [78.87385559082031,\n",
       "    47.76310729980469,\n",
       "    730.0543212890625,\n",
       "    511.13134765625],\n",
       "   'confidence': 0.9585327506065369,\n",
       "   'class': 'vehicle'}],\n",
       " 'SUZUKI-VITARA_18.jpeg': [{'box_points': [293.1870422363281,\n",
       "    293.59185791015625,\n",
       "    1548.73388671875,\n",
       "    839.7440185546875],\n",
       "   'confidence': 0.9916186928749084,\n",
       "   'class': 'vehicle'}],\n",
       " 'SUZUKI-VITARA_15.jpeg': [{'box_points': [80.31465148925781,\n",
       "    67.80364990234375,\n",
       "    628.2252807617188,\n",
       "    328.7128601074219],\n",
       "   'confidence': 0.9853227138519287,\n",
       "   'class': 'vehicle'}],\n",
       " 'SUZUKI-VITARA_10.jpeg': [],\n",
       " 'SUZUKI-VITARA_19.jpeg': [],\n",
       " 'SUZUKI-VITARA_2.jpeg': [],\n",
       " 'SUZUKI-VITARA_5.png': [{'box_points': [79.89542388916016,\n",
       "    47.689697265625,\n",
       "    734.7796630859375,\n",
       "    514.4574584960938],\n",
       "   'confidence': 0.9859833121299744,\n",
       "   'class': 'vehicle'}],\n",
       " 'SUZUKI-VITARA_20.jpeg': [{'box_points': [30.86435890197754,\n",
       "    61.85731887817383,\n",
       "    306.1604919433594,\n",
       "    189.48214721679688],\n",
       "   'confidence': 0.9967138767242432,\n",
       "   'class': 'vehicle'}],\n",
       " 'SUZUKI-VITARA_14.jpeg': [],\n",
       " 'SUZUKI-VITARA_9.jpeg': [{'box_points': [389.1029052734375,\n",
       "    366.2251281738281,\n",
       "    1733.5252685546875,\n",
       "    1003.9141235351562],\n",
       "   'confidence': 0.9908298254013062,\n",
       "   'class': 'vehicle'}],\n",
       " 'SUZUKI-VITARA_1.jpeg': [{'box_points': [186.42689514160156,\n",
       "    148.11280822753906,\n",
       "    873.6834106445312,\n",
       "    485.86322021484375],\n",
       "   'confidence': 0.985805332660675,\n",
       "   'class': 'vehicle'}],\n",
       " 'SUZUKI-VITARA_16.png': [],\n",
       " 'TOYOTA-YARIS_12.jpeg': [{'box_points': [134.63525390625,\n",
       "    156.3443145751953,\n",
       "    1180.7139892578125,\n",
       "    697.3652954101562],\n",
       "   'confidence': 0.9812284111976624,\n",
       "   'class': 'vehicle'}],\n",
       " 'TOYOTA-YARIS_17.jpeg': [{'box_points': [26.36714744567871,\n",
       "    143.792236328125,\n",
       "    1239.9296875,\n",
       "    811.7913208007812],\n",
       "   'confidence': 0.9898570775985718,\n",
       "   'class': 'vehicle'}],\n",
       " 'TOYOTA-YARIS_4.jpeg': [{'box_points': [42.574424743652344,\n",
       "    150.26290893554688,\n",
       "    1172.5439453125,\n",
       "    804.1864013671875],\n",
       "   'confidence': 0.9501753449440002,\n",
       "   'class': 'vehicle'}],\n",
       " 'TOYOTA-YARIS_15.jpeg': [{'box_points': [12.157623291015625,\n",
       "    35.879886627197266,\n",
       "    647.556396484375,\n",
       "    306.0648498535156],\n",
       "   'confidence': 0.8555469512939453,\n",
       "   'class': 'vehicle'}],\n",
       " 'TOYOTA-YARIS_6.jpeg': [{'box_points': [134.35130310058594,\n",
       "    87.70909118652344,\n",
       "    1103.306884765625,\n",
       "    630.05712890625],\n",
       "   'confidence': 0.9639166593551636,\n",
       "   'class': 'vehicle'}],\n",
       " 'TOYOTA-YARIS_5.jpeg': [{'box_points': [149.76156616210938,\n",
       "    124.54879760742188,\n",
       "    1156.377197265625,\n",
       "    568.53369140625],\n",
       "   'confidence': 0.974244236946106,\n",
       "   'class': 'vehicle'}],\n",
       " 'TOYOTA-YARIS_14.jpeg': [],\n",
       " 'TOYOTA-YARIS_10.jpeg': [{'box_points': [85.27174377441406,\n",
       "    89.37532043457031,\n",
       "    1647.2906494140625,\n",
       "    844.004150390625],\n",
       "   'confidence': 0.9307050108909607,\n",
       "   'class': 'vehicle'}],\n",
       " 'TOYOTA-YARIS_20.jpeg': [],\n",
       " 'TOYOTA-YARIS_8.jpeg': [],\n",
       " 'TOYOTA-YARIS_9.jpeg': [{'box_points': [305.8344421386719,\n",
       "    276.4728088378906,\n",
       "    1806.6820068359375,\n",
       "    925.197509765625],\n",
       "   'confidence': 0.9966384172439575,\n",
       "   'class': 'vehicle'}],\n",
       " 'TOYOTA-YARIS_16.jpeg': [{'box_points': [59.698760986328125,\n",
       "    73.67163848876953,\n",
       "    1104.7906494140625,\n",
       "    772.4412841796875],\n",
       "   'confidence': 0.9716237783432007,\n",
       "   'class': 'vehicle'}],\n",
       " 'TOYOTA-YARIS_13.jpeg': [{'box_points': [101.0217514038086,\n",
       "    111.90998840332031,\n",
       "    881.342529296875,\n",
       "    469.1392822265625],\n",
       "   'confidence': 0.9919127225875854,\n",
       "   'class': 'vehicle'}],\n",
       " 'TOYOTA-YARIS_3.jpeg': [],\n",
       " 'TOYOTA-YARIS_2.png': [],\n",
       " 'TOYOTA-YARIS_19.jpeg': [{'box_points': [8.05792236328125,\n",
       "    33.550140380859375,\n",
       "    1280.0,\n",
       "    668.4449462890625],\n",
       "   'confidence': 0.7803613543510437,\n",
       "   'class': 'vehicle'}],\n",
       " 'TOYOTA-YARIS_18.jpeg': [{'box_points': [127.10040283203125,\n",
       "    20.984161376953125,\n",
       "    1188.73779296875,\n",
       "    654.059814453125],\n",
       "   'confidence': 0.9534807205200195,\n",
       "   'class': 'vehicle'}],\n",
       " 'TOYOTA-YARIS_7.png': [{'box_points': [36.61001968383789,\n",
       "    89.55780792236328,\n",
       "    661.990234375,\n",
       "    386.9097900390625],\n",
       "   'confidence': 0.9799224138259888,\n",
       "   'class': 'vehicle'}],\n",
       " 'TOYOTA-YARIS_1.jpeg': [],\n",
       " 'TOYOTA-YARIS_11.jpeg': [],\n",
       " 'TOYOTA-AYGO_20.jpeg': [{'box_points': [36.09450149536133,\n",
       "    70.44426727294922,\n",
       "    600.2636108398438,\n",
       "    404.8974609375],\n",
       "   'confidence': 0.9438930749893188,\n",
       "   'class': 'vehicle'}],\n",
       " 'TOYOTA-AYGO_1.jpeg': [],\n",
       " 'TOYOTA-AYGO_6.jpeg': [{'box_points': [387.42822265625,\n",
       "    251.9314422607422,\n",
       "    1538.5672607421875,\n",
       "    943.4119262695312],\n",
       "   'confidence': 0.9953287839889526,\n",
       "   'class': 'vehicle'}],\n",
       " 'TOYOTA-AYGO_16.jpeg': [],\n",
       " 'TOYOTA-AYGO_12.jpeg': [{'box_points': [295.15374755859375,\n",
       "    250.656005859375,\n",
       "    1854.446044921875,\n",
       "    990.5630493164062],\n",
       "   'confidence': 0.9975519776344299,\n",
       "   'class': 'vehicle'}],\n",
       " 'TOYOTA-AYGO_5.jpeg': [{'box_points': [61.733524322509766,\n",
       "    109.59098815917969,\n",
       "    954.1533813476562,\n",
       "    557.9006958007812],\n",
       "   'confidence': 0.8900508284568787,\n",
       "   'class': 'vehicle'}],\n",
       " 'TOYOTA-AYGO_17.jpeg': [],\n",
       " 'TOYOTA-AYGO_18.jpeg': [{'box_points': [327.9100036621094,\n",
       "    339.81048583984375,\n",
       "    363.1192626953125,\n",
       "    378.5491943359375],\n",
       "   'confidence': 0.5654113292694092,\n",
       "   'class': 'vehicle'}],\n",
       " 'TOYOTA-AYGO_14.jpeg': [{'box_points': [145.281982421875,\n",
       "    113.41320037841797,\n",
       "    1435.10205078125,\n",
       "    757.8446655273438],\n",
       "   'confidence': 0.90901118516922,\n",
       "   'class': 'vehicle'}],\n",
       " 'TOYOTA-AYGO_7.jpeg': [{'box_points': [136.7594451904297,\n",
       "    188.6665802001953,\n",
       "    1171.243896484375,\n",
       "    733.0480346679688],\n",
       "   'confidence': 0.9798390865325928,\n",
       "   'class': 'vehicle'}],\n",
       " 'TOYOTA-AYGO_10.jpeg': [{'box_points': [0.0,\n",
       "    59.84578323364258,\n",
       "    899.9999389648438,\n",
       "    569.4329223632812],\n",
       "   'confidence': 0.9611959457397461,\n",
       "   'class': 'vehicle'}],\n",
       " 'TOYOTA-AYGO_11.jpeg': [{'box_points': [21.440683364868164,\n",
       "    92.06768035888672,\n",
       "    790.469482421875,\n",
       "    513.4874877929688],\n",
       "   'confidence': 0.9929672479629517,\n",
       "   'class': 'vehicle'}],\n",
       " 'TOYOTA-AYGO_8.jpeg': [],\n",
       " 'TOYOTA-AYGO_2.jpeg': [],\n",
       " 'TOYOTA-AYGO_4.jpeg': [],\n",
       " 'TOYOTA-AYGO_15.jpeg': [],\n",
       " 'TOYOTA-AYGO_9.jpeg': [{'box_points': [125.12068939208984,\n",
       "    86.42555236816406,\n",
       "    907.892822265625,\n",
       "    505.3570251464844],\n",
       "   'confidence': 0.981319785118103,\n",
       "   'class': 'vehicle'}],\n",
       " 'TOYOTA-AYGO_19.png': [{'box_points': [15.917014122009277,\n",
       "    74.39437103271484,\n",
       "    680.2588500976562,\n",
       "    408.42657470703125],\n",
       "   'confidence': 0.911971926689148,\n",
       "   'class': 'vehicle'}],\n",
       " 'TOYOTA-AYGO_3.jpeg': [{'box_points': [408.4163818359375,\n",
       "    347.2668762207031,\n",
       "    1556.5797119140625,\n",
       "    1036.1973876953125],\n",
       "   'confidence': 0.9951434135437012,\n",
       "   'class': 'vehicle'}],\n",
       " 'TOYOTA-AYGO_13.jpeg': []}"
      ]
     },
     "execution_count": 5,
     "metadata": {},
     "output_type": "execute_result"
    }
   ],
   "source": [
    "infer_model(imgs_path)"
   ]
  },
  {
   "cell_type": "code",
   "execution_count": 6,
   "id": "b65de392",
   "metadata": {},
   "outputs": [],
   "source": [
    "dataset_root_path = ('/home/sotiris/github/Custom-Dataset-Generation/dataset')\n",
    "os.makedirs(dataset_root_path, exist_ok=True)\n",
    "cropped_imgs_root_path = glob('/home/sotiris/github/Custom-Dataset-Generation/images_20/images_cropped/*')\n",
    "for model in cropped_imgs_root_path:\n",
    "    os.makedirs(os.path.join(dataset_root_path, model.split('/')[-1].split('-')[0]), exist_ok=True)"
   ]
  },
  {
   "cell_type": "code",
   "execution_count": 7,
   "id": "dfcc65aa",
   "metadata": {},
   "outputs": [],
   "source": [
    "import shutil\n",
    "cropped_imgs_paths = glob('/home/sotiris/github/Custom-Dataset-Generation/images_20/images_cropped/*/*')\n",
    "for path in cropped_imgs_paths:\n",
    "    brand = path.split('/')[-2].split('-')[0]\n",
    "    dest_dir = os.path.join(dataset_root_path, brand)\n",
    "    shutil.copy(path, dest_dir)"
   ]
  },
  {
   "cell_type": "code",
   "execution_count": null,
   "id": "09796193",
   "metadata": {},
   "outputs": [],
   "source": []
  }
 ],
 "metadata": {
  "kernelspec": {
   "display_name": "Python 3 (ipykernel)",
   "language": "python",
   "name": "python3"
  },
  "language_info": {
   "codemirror_mode": {
    "name": "ipython",
    "version": 3
   },
   "file_extension": ".py",
   "mimetype": "text/x-python",
   "name": "python",
   "nbconvert_exporter": "python",
   "pygments_lexer": "ipython3",
   "version": "3.8.12"
  }
 },
 "nbformat": 4,
 "nbformat_minor": 5
}
