{
 "cells": [
  {
   "cell_type": "code",
   "execution_count": 1,
   "id": "43c8355d",
   "metadata": {},
   "outputs": [
    {
     "name": "stderr",
     "output_type": "stream",
     "text": [
      "/home/sotiris/anaconda3/envs/bdd100k-mmdet/lib/python3.8/site-packages/scipy/__init__.py:146: UserWarning: A NumPy version >=1.16.5 and <1.23.0 is required for this version of SciPy (detected version 1.23.1\n",
      "  warnings.warn(f\"A NumPy version >={np_minversion} and <{np_maxversion}\"\n"
     ]
    }
   ],
   "source": [
    "import sys\n",
    "import os\n",
    "os.chdir(os.getcwd())\n",
    "sys.path.append('..')\n",
    "from src.utils.image_download import ImageDownloader\n",
    "from src.utils.logging import LoggingConfig\n",
    "from src.detect_n_crop import infer_model\n",
    "from glob import glob\n",
    "\n",
    "LoggingConfig('info', handler_type='stream').get_logger()\n",
    "image_path = '../images_20/'"
   ]
  },
  {
   "cell_type": "code",
   "execution_count": 2,
   "id": "e3669bef",
   "metadata": {},
   "outputs": [],
   "source": [
    "models_2021 = ['TOYOTA-YARIS',\n",
    "'CITROEN-C3',\n",
    "'PEUGEOT-208',\n",
    "'OPEL-CORSA',\n",
    "'PEUGEOT-2008',\n",
    "'HYUNDAI-I20',\n",
    "'KIA-RIO',\n",
    "'TOYOTA-C-HR',\n",
    "'HYUNDAI-I10',\n",
    "'TOYOTA-AYGO',\n",
    "'RENAULT-CLIO',\n",
    "'MERCEDES-A',\n",
    "'NISSAN-QASHQAI',\n",
    "'FORD-PUMA',\n",
    "'TOYOTA-COROLLA',\n",
    "'VW-T-ROC',\n",
    "'SUZUKI-VITARA',\n",
    "'FIAT-PANDA',\n",
    "'DACIA-DUSTER',\n",
    "'FIAT-500'\n",
    "]"
   ]
  },
  {
   "cell_type": "code",
   "execution_count": 3,
   "id": "543fe061",
   "metadata": {},
   "outputs": [
    {
     "data": {
      "text/plain": [
       "20"
      ]
     },
     "execution_count": 3,
     "metadata": {},
     "output_type": "execute_result"
    }
   ],
   "source": [
    "all_models = list(set(models_2021))\n",
    "len(all_models)"
   ]
  },
  {
   "cell_type": "code",
   "execution_count": null,
   "id": "d23594c0",
   "metadata": {},
   "outputs": [],
   "source": [
    "for car_model in all_models:\n",
    "    ImageDownloader().download(car_model, 20, save_dir=image_path)"
   ]
  },
  {
   "cell_type": "code",
   "execution_count": 4,
   "id": "32e0ff0f",
   "metadata": {},
   "outputs": [
    {
     "data": {
      "text/plain": [
       "404"
      ]
     },
     "execution_count": 4,
     "metadata": {},
     "output_type": "execute_result"
    }
   ],
   "source": [
    "imgs_path = glob('/home/sotiris/github/Custom-Dataset-Generation/images_20/*/*')\n",
    "len(imgs_path)"
   ]
  },
  {
   "cell_type": "code",
   "execution_count": 5,
   "id": "a7d4ebbd",
   "metadata": {},
   "outputs": [
    {
     "name": "stdout",
     "output_type": "stream",
     "text": [
      "load checkpoint from local path: /home/sotiris/Projects/mmdetection/checkpoints/bdd100k/cascade_rcnn_r50_fpn_1x_det_bdd100k.pth\n"
     ]
    },
    {
     "name": "stderr",
     "output_type": "stream",
     "text": [
      "/home/sotiris/Projects/mmdetection/mmdet/apis/inference.py:50: UserWarning: Class names are not saved in the checkpoint's meta data, use COCO classes by default.\n",
      "  warnings.warn('Class names are not saved in the checkpoint\\'s '\n",
      "/home/sotiris/anaconda3/envs/bdd100k-mmdet/lib/python3.8/site-packages/torch/cuda/__init__.py:120: UserWarning: \n",
      "    Found GPU%d %s which is of cuda capability %d.%d.\n",
      "    PyTorch no longer supports this GPU because it is too old.\n",
      "    The minimum cuda capability supported by this library is %d.%d.\n",
      "    \n",
      "  warnings.warn(old_gpu_warn.format(d, name, major, minor, min_arch // 10, min_arch % 10))\n"
     ]
    },
    {
     "name": "stdout",
     "output_type": "stream",
     "text": [
      "/home/sotiris/github/Custom-Dataset-Generation/images_20/MERCEDES-A/MERCEDES-A_8.jpeg\n"
     ]
    },
    {
     "name": "stderr",
     "output_type": "stream",
     "text": [
      "/home/sotiris/Projects/mmdetection/mmdet/datasets/utils.py:66: UserWarning: \"ImageToTensor\" pipeline is replaced by \"DefaultFormatBundle\" for batch inference. It is recommended to manually replace it in the test data pipeline in your config file.\n",
      "  warnings.warn(\n",
      "/home/sotiris/github/Custom-Dataset-Generation/notebooks/../src/detect_n_crop.py:85: ResourceWarning: unclosed file <_io.BufferedReader name='/home/sotiris/github/Custom-Dataset-Generation/images_20/MERCEDES-A/MERCEDES-A_8.jpeg'>\n",
      "  img = Image.open(frame)\n",
      "ResourceWarning: Enable tracemalloc to get the object allocation traceback\n",
      "/home/sotiris/github/Custom-Dataset-Generation/notebooks/../src/detect_n_crop.py:85: ResourceWarning: unclosed file <_io.BufferedReader name='/home/sotiris/github/Custom-Dataset-Generation/images_20/MERCEDES-A/MERCEDES-A_3.jpeg'>\n",
      "  img = Image.open(frame)\n",
      "ResourceWarning: Enable tracemalloc to get the object allocation traceback\n"
     ]
    },
    {
     "name": "stdout",
     "output_type": "stream",
     "text": [
      "/home/sotiris/github/Custom-Dataset-Generation/images_20/MERCEDES-A/MERCEDES-A_3.jpeg\n",
      "/home/sotiris/github/Custom-Dataset-Generation/images_20/MERCEDES-A/MERCEDES-A_19.jpeg\n"
     ]
    },
    {
     "name": "stderr",
     "output_type": "stream",
     "text": [
      "/home/sotiris/github/Custom-Dataset-Generation/notebooks/../src/detect_n_crop.py:85: ResourceWarning: unclosed file <_io.BufferedReader name='/home/sotiris/github/Custom-Dataset-Generation/images_20/MERCEDES-A/MERCEDES-A_19.jpeg'>\n",
      "  img = Image.open(frame)\n",
      "ResourceWarning: Enable tracemalloc to get the object allocation traceback\n",
      "/home/sotiris/github/Custom-Dataset-Generation/notebooks/../src/detect_n_crop.py:85: ResourceWarning: unclosed file <_io.BufferedReader name='/home/sotiris/github/Custom-Dataset-Generation/images_20/MERCEDES-A/MERCEDES-A_2.jpeg'>\n",
      "  img = Image.open(frame)\n",
      "ResourceWarning: Enable tracemalloc to get the object allocation traceback\n"
     ]
    },
    {
     "name": "stdout",
     "output_type": "stream",
     "text": [
      "/home/sotiris/github/Custom-Dataset-Generation/images_20/MERCEDES-A/MERCEDES-A_2.jpeg\n",
      "/home/sotiris/github/Custom-Dataset-Generation/images_20/MERCEDES-A/MERCEDES-A_18.jpeg\n",
      "/home/sotiris/github/Custom-Dataset-Generation/images_20/MERCEDES-A/MERCEDES-A_16.jpeg\n"
     ]
    },
    {
     "name": "stderr",
     "output_type": "stream",
     "text": [
      "/home/sotiris/github/Custom-Dataset-Generation/notebooks/../src/detect_n_crop.py:85: ResourceWarning: unclosed file <_io.BufferedReader name='/home/sotiris/github/Custom-Dataset-Generation/images_20/MERCEDES-A/MERCEDES-A_18.jpeg'>\n",
      "  img = Image.open(frame)\n",
      "ResourceWarning: Enable tracemalloc to get the object allocation traceback\n",
      "/home/sotiris/github/Custom-Dataset-Generation/notebooks/../src/detect_n_crop.py:39: ResourceWarning: unclosed file <_io.BufferedReader name='/home/sotiris/github/Custom-Dataset-Generation/images_20/MERCEDES-A/MERCEDES-A_16.jpeg'>\n",
      "  img = Image.open(frame)\n",
      "ResourceWarning: Enable tracemalloc to get the object allocation traceback\n",
      "/home/sotiris/github/Custom-Dataset-Generation/notebooks/../src/detect_n_crop.py:85: ResourceWarning: unclosed file <_io.BufferedReader name='/home/sotiris/github/Custom-Dataset-Generation/images_20/MERCEDES-A/MERCEDES-A_13.jpeg'>\n",
      "  img = Image.open(frame)\n",
      "ResourceWarning: Enable tracemalloc to get the object allocation traceback\n"
     ]
    },
    {
     "name": "stdout",
     "output_type": "stream",
     "text": [
      "/home/sotiris/github/Custom-Dataset-Generation/images_20/MERCEDES-A/MERCEDES-A_13.jpeg\n",
      "/home/sotiris/github/Custom-Dataset-Generation/images_20/MERCEDES-A/MERCEDES-A_15.jpeg\n"
     ]
    },
    {
     "name": "stderr",
     "output_type": "stream",
     "text": [
      "/home/sotiris/github/Custom-Dataset-Generation/notebooks/../src/detect_n_crop.py:85: ResourceWarning: unclosed file <_io.BufferedReader name='/home/sotiris/github/Custom-Dataset-Generation/images_20/MERCEDES-A/MERCEDES-A_15.jpeg'>\n",
      "  img = Image.open(frame)\n",
      "ResourceWarning: Enable tracemalloc to get the object allocation traceback\n",
      "/home/sotiris/github/Custom-Dataset-Generation/notebooks/../src/detect_n_crop.py:85: ResourceWarning: unclosed file <_io.BufferedReader name='/home/sotiris/github/Custom-Dataset-Generation/images_20/MERCEDES-A/MERCEDES-A_6.jpeg'>\n",
      "  img = Image.open(frame)\n",
      "ResourceWarning: Enable tracemalloc to get the object allocation traceback\n"
     ]
    },
    {
     "name": "stdout",
     "output_type": "stream",
     "text": [
      "/home/sotiris/github/Custom-Dataset-Generation/images_20/MERCEDES-A/MERCEDES-A_6.jpeg\n",
      "/home/sotiris/github/Custom-Dataset-Generation/images_20/MERCEDES-A/MERCEDES-A_12.jpeg\n"
     ]
    },
    {
     "name": "stderr",
     "output_type": "stream",
     "text": [
      "/home/sotiris/github/Custom-Dataset-Generation/notebooks/../src/detect_n_crop.py:85: ResourceWarning: unclosed file <_io.BufferedReader name='/home/sotiris/github/Custom-Dataset-Generation/images_20/MERCEDES-A/MERCEDES-A_12.jpeg'>\n",
      "  img = Image.open(frame)\n",
      "ResourceWarning: Enable tracemalloc to get the object allocation traceback\n"
     ]
    },
    {
     "name": "stdout",
     "output_type": "stream",
     "text": [
      "/home/sotiris/github/Custom-Dataset-Generation/images_20/MERCEDES-A/MERCEDES-A_11.jpeg\n"
     ]
    },
    {
     "name": "stderr",
     "output_type": "stream",
     "text": [
      "/home/sotiris/github/Custom-Dataset-Generation/notebooks/../src/detect_n_crop.py:85: ResourceWarning: unclosed file <_io.BufferedReader name='/home/sotiris/github/Custom-Dataset-Generation/images_20/MERCEDES-A/MERCEDES-A_11.jpeg'>\n",
      "  img = Image.open(frame)\n",
      "ResourceWarning: Enable tracemalloc to get the object allocation traceback\n"
     ]
    },
    {
     "name": "stdout",
     "output_type": "stream",
     "text": [
      "/home/sotiris/github/Custom-Dataset-Generation/images_20/MERCEDES-A/MERCEDES-A_14.jpeg\n",
      "/home/sotiris/github/Custom-Dataset-Generation/images_20/MERCEDES-A/MERCEDES-A_17.jpeg\n",
      "/home/sotiris/github/Custom-Dataset-Generation/images_20/MERCEDES-A/MERCEDES-A_4.jpeg\n"
     ]
    },
    {
     "name": "stderr",
     "output_type": "stream",
     "text": [
      "/home/sotiris/github/Custom-Dataset-Generation/notebooks/../src/detect_n_crop.py:39: ResourceWarning: unclosed file <_io.BufferedReader name='/home/sotiris/github/Custom-Dataset-Generation/images_20/MERCEDES-A/MERCEDES-A_14.jpeg'>\n",
      "  img = Image.open(frame)\n",
      "ResourceWarning: Enable tracemalloc to get the object allocation traceback\n",
      "/home/sotiris/github/Custom-Dataset-Generation/notebooks/../src/detect_n_crop.py:39: ResourceWarning: unclosed file <_io.BufferedReader name='/home/sotiris/github/Custom-Dataset-Generation/images_20/MERCEDES-A/MERCEDES-A_17.jpeg'>\n",
      "  img = Image.open(frame)\n",
      "ResourceWarning: Enable tracemalloc to get the object allocation traceback\n",
      "/home/sotiris/github/Custom-Dataset-Generation/notebooks/../src/detect_n_crop.py:85: ResourceWarning: unclosed file <_io.BufferedReader name='/home/sotiris/github/Custom-Dataset-Generation/images_20/MERCEDES-A/MERCEDES-A_4.jpeg'>\n",
      "  img = Image.open(frame)\n",
      "ResourceWarning: Enable tracemalloc to get the object allocation traceback\n"
     ]
    },
    {
     "name": "stdout",
     "output_type": "stream",
     "text": [
      "/home/sotiris/github/Custom-Dataset-Generation/images_20/MERCEDES-A/MERCEDES-A_1.jpeg\n",
      "/home/sotiris/github/Custom-Dataset-Generation/images_20/MERCEDES-A/MERCEDES-A_20.jpeg\n"
     ]
    },
    {
     "name": "stderr",
     "output_type": "stream",
     "text": [
      "/home/sotiris/github/Custom-Dataset-Generation/notebooks/../src/detect_n_crop.py:39: ResourceWarning: unclosed file <_io.BufferedReader name='/home/sotiris/github/Custom-Dataset-Generation/images_20/MERCEDES-A/MERCEDES-A_1.jpeg'>\n",
      "  img = Image.open(frame)\n",
      "ResourceWarning: Enable tracemalloc to get the object allocation traceback\n",
      "/home/sotiris/github/Custom-Dataset-Generation/notebooks/../src/detect_n_crop.py:85: ResourceWarning: unclosed file <_io.BufferedReader name='/home/sotiris/github/Custom-Dataset-Generation/images_20/MERCEDES-A/MERCEDES-A_20.jpeg'>\n",
      "  img = Image.open(frame)\n",
      "ResourceWarning: Enable tracemalloc to get the object allocation traceback\n"
     ]
    },
    {
     "name": "stdout",
     "output_type": "stream",
     "text": [
      "/home/sotiris/github/Custom-Dataset-Generation/images_20/MERCEDES-A/MERCEDES-A_9.jpeg\n",
      "/home/sotiris/github/Custom-Dataset-Generation/images_20/MERCEDES-A/MERCEDES-A_7.jpeg\n"
     ]
    },
    {
     "name": "stderr",
     "output_type": "stream",
     "text": [
      "/home/sotiris/github/Custom-Dataset-Generation/notebooks/../src/detect_n_crop.py:39: ResourceWarning: unclosed file <_io.BufferedReader name='/home/sotiris/github/Custom-Dataset-Generation/images_20/MERCEDES-A/MERCEDES-A_9.jpeg'>\n",
      "  img = Image.open(frame)\n",
      "ResourceWarning: Enable tracemalloc to get the object allocation traceback\n",
      "/home/sotiris/github/Custom-Dataset-Generation/notebooks/../src/detect_n_crop.py:85: ResourceWarning: unclosed file <_io.BufferedReader name='/home/sotiris/github/Custom-Dataset-Generation/images_20/MERCEDES-A/MERCEDES-A_7.jpeg'>\n",
      "  img = Image.open(frame)\n",
      "ResourceWarning: Enable tracemalloc to get the object allocation traceback\n"
     ]
    },
    {
     "name": "stdout",
     "output_type": "stream",
     "text": [
      "/home/sotiris/github/Custom-Dataset-Generation/images_20/MERCEDES-A/MERCEDES-A_5.jpeg\n",
      "/home/sotiris/github/Custom-Dataset-Generation/images_20/MERCEDES-A/MERCEDES-A_10.jpeg\n"
     ]
    },
    {
     "name": "stderr",
     "output_type": "stream",
     "text": [
      "/home/sotiris/github/Custom-Dataset-Generation/notebooks/../src/detect_n_crop.py:85: ResourceWarning: unclosed file <_io.BufferedReader name='/home/sotiris/github/Custom-Dataset-Generation/images_20/MERCEDES-A/MERCEDES-A_5.jpeg'>\n",
      "  img = Image.open(frame)\n",
      "ResourceWarning: Enable tracemalloc to get the object allocation traceback\n",
      "/home/sotiris/github/Custom-Dataset-Generation/notebooks/../src/detect_n_crop.py:85: ResourceWarning: unclosed file <_io.BufferedReader name='/home/sotiris/github/Custom-Dataset-Generation/images_20/MERCEDES-A/MERCEDES-A_10.jpeg'>\n",
      "  img = Image.open(frame)\n",
      "ResourceWarning: Enable tracemalloc to get the object allocation traceback\n"
     ]
    },
    {
     "ename": "IsADirectoryError",
     "evalue": "[Errno 21] Is a directory: '/home/sotiris/github/Custom-Dataset-Generation/images_20/images_cropped/MERCEDES-A'",
     "output_type": "error",
     "traceback": [
      "\u001b[0;31m---------------------------------------------------------------------------\u001b[0m",
      "\u001b[0;31mIsADirectoryError\u001b[0m                         Traceback (most recent call last)",
      "\u001b[0;32m/tmp/ipykernel_63946/3980845949.py\u001b[0m in \u001b[0;36m<module>\u001b[0;34m\u001b[0m\n\u001b[0;32m----> 1\u001b[0;31m \u001b[0minfer_model\u001b[0m\u001b[0;34m(\u001b[0m\u001b[0mimgs_path\u001b[0m\u001b[0;34m)\u001b[0m\u001b[0;34m\u001b[0m\u001b[0;34m\u001b[0m\u001b[0m\n\u001b[0m",
      "\u001b[0;32m~/github/Custom-Dataset-Generation/notebooks/../src/detect_n_crop.py\u001b[0m in \u001b[0;36minfer_model\u001b[0;34m(img_paths, multiple, settings, thresholds)\u001b[0m\n\u001b[1;32m     37\u001b[0m     \u001b[0;32mfor\u001b[0m \u001b[0mi\u001b[0m\u001b[0;34m,\u001b[0m \u001b[0mframe\u001b[0m \u001b[0;32min\u001b[0m \u001b[0menumerate\u001b[0m\u001b[0;34m(\u001b[0m\u001b[0mimg_paths\u001b[0m\u001b[0;34m)\u001b[0m\u001b[0;34m:\u001b[0m\u001b[0;34m\u001b[0m\u001b[0;34m\u001b[0m\u001b[0m\n\u001b[1;32m     38\u001b[0m         \u001b[0mframe_detections_vehicle\u001b[0m \u001b[0;34m=\u001b[0m \u001b[0;34m[\u001b[0m\u001b[0;34m]\u001b[0m\u001b[0;34m\u001b[0m\u001b[0;34m\u001b[0m\u001b[0m\n\u001b[0;32m---> 39\u001b[0;31m         \u001b[0mimg\u001b[0m \u001b[0;34m=\u001b[0m \u001b[0mImage\u001b[0m\u001b[0;34m.\u001b[0m\u001b[0mopen\u001b[0m\u001b[0;34m(\u001b[0m\u001b[0mframe\u001b[0m\u001b[0;34m)\u001b[0m\u001b[0;34m\u001b[0m\u001b[0;34m\u001b[0m\u001b[0m\n\u001b[0m\u001b[1;32m     40\u001b[0m         \u001b[0mprint\u001b[0m\u001b[0;34m(\u001b[0m\u001b[0mframe\u001b[0m\u001b[0;34m)\u001b[0m\u001b[0;34m\u001b[0m\u001b[0;34m\u001b[0m\u001b[0m\n\u001b[1;32m     41\u001b[0m         \u001b[0;32mif\u001b[0m \u001b[0mimg\u001b[0m \u001b[0;32mis\u001b[0m \u001b[0;32mnot\u001b[0m \u001b[0;32mNone\u001b[0m\u001b[0;34m:\u001b[0m\u001b[0;34m\u001b[0m\u001b[0;34m\u001b[0m\u001b[0m\n",
      "\u001b[0;32m~/anaconda3/envs/bdd100k-mmdet/lib/python3.8/site-packages/PIL/Image.py\u001b[0m in \u001b[0;36mopen\u001b[0;34m(fp, mode, formats)\u001b[0m\n\u001b[1;32m   3090\u001b[0m \u001b[0;34m\u001b[0m\u001b[0m\n\u001b[1;32m   3091\u001b[0m     \u001b[0;32mif\u001b[0m \u001b[0mfilename\u001b[0m\u001b[0;34m:\u001b[0m\u001b[0;34m\u001b[0m\u001b[0;34m\u001b[0m\u001b[0m\n\u001b[0;32m-> 3092\u001b[0;31m         \u001b[0mfp\u001b[0m \u001b[0;34m=\u001b[0m \u001b[0mbuiltins\u001b[0m\u001b[0;34m.\u001b[0m\u001b[0mopen\u001b[0m\u001b[0;34m(\u001b[0m\u001b[0mfilename\u001b[0m\u001b[0;34m,\u001b[0m \u001b[0;34m\"rb\"\u001b[0m\u001b[0;34m)\u001b[0m\u001b[0;34m\u001b[0m\u001b[0;34m\u001b[0m\u001b[0m\n\u001b[0m\u001b[1;32m   3093\u001b[0m         \u001b[0mexclusive_fp\u001b[0m \u001b[0;34m=\u001b[0m \u001b[0;32mTrue\u001b[0m\u001b[0;34m\u001b[0m\u001b[0;34m\u001b[0m\u001b[0m\n\u001b[1;32m   3094\u001b[0m \u001b[0;34m\u001b[0m\u001b[0m\n",
      "\u001b[0;31mIsADirectoryError\u001b[0m: [Errno 21] Is a directory: '/home/sotiris/github/Custom-Dataset-Generation/images_20/images_cropped/MERCEDES-A'"
     ]
    }
   ],
   "source": [
    "infer_model(imgs_path)"
   ]
  },
  {
   "cell_type": "code",
   "execution_count": 6,
   "id": "b65de392",
   "metadata": {},
   "outputs": [],
   "source": [
    "dataset_root_path = ('/home/sotiris/github/Custom-Dataset-Generation/dataset')\n",
    "os.makedirs(dataset_root_path, exist_ok=True)\n",
    "cropped_imgs_root_path = glob('/home/sotiris/github/Custom-Dataset-Generation/images_20/images_cropped/*')\n",
    "for model in cropped_imgs_root_path:\n",
    "    os.makedirs(os.path.join(dataset_root_path, model.split('/')[-1].split('-')[0]), exist_ok=True)"
   ]
  },
  {
   "cell_type": "code",
   "execution_count": 7,
   "id": "dfcc65aa",
   "metadata": {},
   "outputs": [],
   "source": [
    "import shutil\n",
    "cropped_imgs_paths = glob('/home/sotiris/github/Custom-Dataset-Generation/images_20/images_cropped/*/*')\n",
    "for path in cropped_imgs_paths:\n",
    "    brand = path.split('/')[-2].split('-')[0]\n",
    "    dest_dir = os.path.join(dataset_root_path, brand)\n",
    "    shutil.copy(path, dest_dir)"
   ]
  },
  {
   "cell_type": "code",
   "execution_count": null,
   "id": "09796193",
   "metadata": {},
   "outputs": [],
   "source": []
  }
 ],
 "metadata": {
  "kernelspec": {
   "display_name": "Python 3 (ipykernel)",
   "language": "python",
   "name": "python3"
  },
  "language_info": {
   "codemirror_mode": {
    "name": "ipython",
    "version": 3
   },
   "file_extension": ".py",
   "mimetype": "text/x-python",
   "name": "python",
   "nbconvert_exporter": "python",
   "pygments_lexer": "ipython3",
   "version": "3.8.12"
  }
 },
 "nbformat": 4,
 "nbformat_minor": 5
}
