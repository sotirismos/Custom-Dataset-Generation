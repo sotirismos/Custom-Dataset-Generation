{
 "cells": [
  {
   "cell_type": "code",
   "execution_count": 1,
   "id": "43c8355d",
   "metadata": {},
   "outputs": [
    {
     "name": "stderr",
     "output_type": "stream",
     "text": [
      "/home/sotiris/anaconda3/envs/bdd100k-mmdet/lib/python3.8/site-packages/scipy/__init__.py:146: UserWarning: A NumPy version >=1.16.5 and <1.23.0 is required for this version of SciPy (detected version 1.23.1\n",
      "  warnings.warn(f\"A NumPy version >={np_minversion} and <{np_maxversion}\"\n"
     ]
    }
   ],
   "source": [
    "import sys\n",
    "import os\n",
    "os.chdir(os.getcwd())\n",
    "sys.path.append('..')\n",
    "from src.utils.image_download import ImageDownloader\n",
    "from src.utils.logging import LoggingConfig\n",
    "from src.detect_n_crop import infer_model\n",
    "from glob import glob\n",
    "\n",
    "LoggingConfig('info', handler_type='stream').get_logger()\n",
    "image_path = '../images_20/'"
   ]
  },
  {
   "cell_type": "code",
   "execution_count": 2,
   "id": "e3669bef",
   "metadata": {},
   "outputs": [],
   "source": [
    "models_2021 = ['TOYOTA-YARIS',\n",
    "'CITROEN-C3',\n",
    "'PEUGEOT-208',\n",
    "'OPEL-CORSA',\n",
    "'PEUGEOT-2008',\n",
    "'HYUNDAI-I20',\n",
    "'KIA-RIO',\n",
    "'TOYOTA-C-HR',\n",
    "'HYUNDAI-I10',\n",
    "'TOYOTA-AYGO',\n",
    "'RENAULT-CLIO',\n",
    "'MERCEDES-A',\n",
    "'NISSAN-QASHQAI',\n",
    "'FORD-PUMA',\n",
    "'TOYOTA-COROLLA',\n",
    "'VW-T-ROC',\n",
    "'SUZUKI-VITARA',\n",
    "'FIAT-PANDA',\n",
    "'DACIA-DUSTER',\n",
    "'FIAT-500'\n",
    "]"
   ]
  },
  {
   "cell_type": "code",
   "execution_count": 3,
   "id": "543fe061",
   "metadata": {},
   "outputs": [
    {
     "data": {
      "text/plain": [
       "20"
      ]
     },
     "execution_count": 3,
     "metadata": {},
     "output_type": "execute_result"
    }
   ],
   "source": [
    "all_models = list(set(models_2021))\n",
    "len(all_models)"
   ]
  },
  {
   "cell_type": "code",
   "execution_count": 4,
   "id": "d23594c0",
   "metadata": {},
   "outputs": [
    {
     "name": "stderr",
     "output_type": "stream",
     "text": [
      " 15%|██████▌                                     | 3/20 [00:03<00:16,  1.03it/s]"
     ]
    },
    {
     "name": "stdout",
     "output_type": "stream",
     "text": [
      "2022-08-22 10:09:12,198 - src.utils.image_download - WARNING - Error occurered: File not in extensions\n",
      "2022-08-22 10:09:12,198 - src.utils.image_download - WARNING - Error occurered: File not in extensions\n"
     ]
    },
    {
     "name": "stderr",
     "output_type": "stream",
     "text": [
      " 35%|███████████████▍                            | 7/20 [00:06<00:08,  1.50it/s]"
     ]
    },
    {
     "name": "stdout",
     "output_type": "stream",
     "text": [
      "2022-08-22 10:09:13,980 - src.utils.image_download - WARNING - Error occurered: File not in extensions\n",
      "2022-08-22 10:09:13,980 - src.utils.image_download - WARNING - Error occurered: File not in extensions\n"
     ]
    },
    {
     "name": "stderr",
     "output_type": "stream",
     "text": [
      "100%|███████████████████████████████████████████| 20/20 [00:14<00:00,  1.43it/s]\n",
      "  0%|                                                    | 0/20 [00:00<?, ?it/s]"
     ]
    },
    {
     "name": "stdout",
     "output_type": "stream",
     "text": [
      "2022-08-22 10:09:23,454 - src.utils.image_download - WARNING - Error occurered: File not in extensions\n",
      "2022-08-22 10:09:23,454 - src.utils.image_download - WARNING - Error occurered: File not in extensions\n"
     ]
    },
    {
     "name": "stderr",
     "output_type": "stream",
     "text": [
      " 20%|████████▊                                   | 4/20 [00:03<00:09,  1.64it/s]"
     ]
    },
    {
     "name": "stdout",
     "output_type": "stream",
     "text": [
      "2022-08-22 10:09:25,556 - src.utils.image_download - WARNING - Error occurered: ??\n",
      "2022-08-22 10:09:25,556 - src.utils.image_download - WARNING - Error occurered: ??\n",
      "2022-08-22 10:09:25,618 - src.utils.image_download - WARNING - Error occurered: File not in extensions\n",
      "2022-08-22 10:09:25,618 - src.utils.image_download - WARNING - Error occurered: File not in extensions\n"
     ]
    },
    {
     "name": "stderr",
     "output_type": "stream",
     "text": [
      "100%|███████████████████████████████████████████| 20/20 [00:12<00:00,  1.66it/s]\n",
      " 20%|████████▊                                   | 4/20 [00:03<00:09,  1.72it/s]"
     ]
    },
    {
     "name": "stdout",
     "output_type": "stream",
     "text": [
      "2022-08-22 10:09:36,357 - src.utils.image_download - WARNING - Error occurered: File not in extensions\n",
      "2022-08-22 10:09:36,357 - src.utils.image_download - WARNING - Error occurered: File not in extensions\n"
     ]
    },
    {
     "name": "stderr",
     "output_type": "stream",
     "text": [
      "\r",
      " 25%|███████████                                 | 5/20 [00:03<00:07,  2.08it/s]"
     ]
    },
    {
     "name": "stdout",
     "output_type": "stream",
     "text": [
      "2022-08-22 10:09:37,176 - src.utils.image_download - WARNING - Error occurered: File not in extensions\n",
      "2022-08-22 10:09:37,176 - src.utils.image_download - WARNING - Error occurered: File not in extensions\n",
      "2022-08-22 10:09:37,251 - src.utils.image_download - WARNING - Error occurered: File not in extensions\n",
      "2022-08-22 10:09:37,251 - src.utils.image_download - WARNING - Error occurered: File not in extensions\n"
     ]
    },
    {
     "name": "stderr",
     "output_type": "stream",
     "text": [
      " 70%|██████████████████████████████             | 14/20 [00:08<00:04,  1.32it/s]"
     ]
    },
    {
     "name": "stdout",
     "output_type": "stream",
     "text": [
      "2022-08-22 10:09:42,647 - src.utils.image_download - WARNING - Error occurered: ??\n",
      "2022-08-22 10:09:42,647 - src.utils.image_download - WARNING - Error occurered: ??\n",
      "2022-08-22 10:09:42,707 - src.utils.image_download - WARNING - Error occurered: File not in extensions\n",
      "2022-08-22 10:09:42,707 - src.utils.image_download - WARNING - Error occurered: File not in extensions\n"
     ]
    },
    {
     "name": "stderr",
     "output_type": "stream",
     "text": [
      "100%|███████████████████████████████████████████| 20/20 [00:12<00:00,  1.62it/s]\n",
      " 15%|██████▌                                     | 3/20 [00:02<00:12,  1.36it/s]"
     ]
    },
    {
     "name": "stdout",
     "output_type": "stream",
     "text": [
      "2022-08-22 10:09:48,767 - src.utils.image_download - WARNING - Error occurered: File not in extensions\n",
      "2022-08-22 10:09:48,767 - src.utils.image_download - WARNING - Error occurered: File not in extensions\n"
     ]
    },
    {
     "name": "stderr",
     "output_type": "stream",
     "text": [
      " 45%|███████████████████▊                        | 9/20 [00:04<00:03,  3.19it/s]"
     ]
    },
    {
     "name": "stdout",
     "output_type": "stream",
     "text": [
      "2022-08-22 10:09:50,560 - src.utils.image_download - WARNING - Error occurered: File not in extensions\n",
      "2022-08-22 10:09:50,560 - src.utils.image_download - WARNING - Error occurered: File not in extensions\n"
     ]
    },
    {
     "name": "stderr",
     "output_type": "stream",
     "text": [
      " 65%|███████████████████████████▉               | 13/20 [00:06<00:02,  2.38it/s]"
     ]
    },
    {
     "name": "stdout",
     "output_type": "stream",
     "text": [
      "2022-08-22 10:09:52,679 - src.utils.image_download - WARNING - Error occurered: File not in extensions\n",
      "2022-08-22 10:09:52,679 - src.utils.image_download - WARNING - Error occurered: File not in extensions\n"
     ]
    },
    {
     "name": "stderr",
     "output_type": "stream",
     "text": [
      " 85%|████████████████████████████████████▌      | 17/20 [00:07<00:00,  3.26it/s]"
     ]
    },
    {
     "name": "stdout",
     "output_type": "stream",
     "text": [
      "2022-08-22 10:09:53,520 - src.utils.image_download - WARNING - Error occurered: File not in extensions\n",
      "2022-08-22 10:09:53,520 - src.utils.image_download - WARNING - Error occurered: File not in extensions\n"
     ]
    },
    {
     "name": "stderr",
     "output_type": "stream",
     "text": [
      "100%|███████████████████████████████████████████| 20/20 [00:08<00:00,  2.37it/s]\n",
      "  0%|                                                    | 0/20 [00:00<?, ?it/s]"
     ]
    },
    {
     "name": "stdout",
     "output_type": "stream",
     "text": [
      "2022-08-22 10:09:56,019 - src.utils.image_download - WARNING - Error occurered: ??\n",
      "2022-08-22 10:09:56,019 - src.utils.image_download - WARNING - Error occurered: ??\n"
     ]
    },
    {
     "name": "stderr",
     "output_type": "stream",
     "text": [
      " 40%|█████████████████▌                          | 8/20 [00:03<00:02,  4.76it/s]"
     ]
    },
    {
     "name": "stdout",
     "output_type": "stream",
     "text": [
      "2022-08-22 10:09:57,252 - src.utils.image_download - WARNING - Error occurered: File not in extensions\n",
      "2022-08-22 10:09:57,252 - src.utils.image_download - WARNING - Error occurered: File not in extensions\n"
     ]
    },
    {
     "name": "stderr",
     "output_type": "stream",
     "text": [
      "100%|███████████████████████████████████████████| 20/20 [00:06<00:00,  2.90it/s]\n",
      " 10%|████▍                                       | 2/20 [00:08<01:06,  3.72s/it]"
     ]
    },
    {
     "name": "stdout",
     "output_type": "stream",
     "text": [
      "2022-08-22 10:10:09,888 - src.utils.image_download - WARNING - Error occurered: File not in extensions\n",
      "2022-08-22 10:10:09,888 - src.utils.image_download - WARNING - Error occurered: File not in extensions\n"
     ]
    },
    {
     "name": "stderr",
     "output_type": "stream",
     "text": [
      " 40%|█████████████████▌                          | 8/20 [00:10<00:07,  1.70it/s]"
     ]
    },
    {
     "name": "stdout",
     "output_type": "stream",
     "text": [
      "2022-08-22 10:10:11,912 - src.utils.image_download - WARNING - Error occurered: File not in extensions\n",
      "2022-08-22 10:10:11,912 - src.utils.image_download - WARNING - Error occurered: File not in extensions\n"
     ]
    },
    {
     "name": "stderr",
     "output_type": "stream",
     "text": [
      "100%|███████████████████████████████████████████| 20/20 [00:15<00:00,  1.27it/s]\n",
      "  5%|██▏                                         | 1/20 [00:02<00:43,  2.31s/it]"
     ]
    },
    {
     "name": "stdout",
     "output_type": "stream",
     "text": [
      "2022-08-22 10:10:19,166 - src.utils.image_download - WARNING - Error occurered: File not in extensions\n",
      "2022-08-22 10:10:19,166 - src.utils.image_download - WARNING - Error occurered: File not in extensions\n"
     ]
    },
    {
     "name": "stderr",
     "output_type": "stream",
     "text": [
      " 30%|█████████████▏                              | 6/20 [00:03<00:04,  2.89it/s]"
     ]
    },
    {
     "name": "stdout",
     "output_type": "stream",
     "text": [
      "2022-08-22 10:10:20,837 - src.utils.image_download - WARNING - Error occurered: File not in extensions\n",
      "2022-08-22 10:10:20,837 - src.utils.image_download - WARNING - Error occurered: File not in extensions\n"
     ]
    },
    {
     "name": "stderr",
     "output_type": "stream",
     "text": [
      " 40%|█████████████████▌                          | 8/20 [00:05<00:06,  1.95it/s]"
     ]
    },
    {
     "name": "stdout",
     "output_type": "stream",
     "text": [
      "2022-08-22 10:10:21,883 - src.utils.image_download - WARNING - Error occurered: File not in extensions\n",
      "2022-08-22 10:10:21,883 - src.utils.image_download - WARNING - Error occurered: File not in extensions\n"
     ]
    },
    {
     "name": "stderr",
     "output_type": "stream",
     "text": [
      "100%|███████████████████████████████████████████| 20/20 [00:10<00:00,  1.88it/s]\n",
      " 10%|████▍                                       | 2/20 [00:02<00:19,  1.07s/it]"
     ]
    },
    {
     "name": "stdout",
     "output_type": "stream",
     "text": [
      "2022-08-22 10:10:29,886 - src.utils.image_download - WARNING - Error occurered: File not in extensions\n",
      "2022-08-22 10:10:29,886 - src.utils.image_download - WARNING - Error occurered: File not in extensions\n",
      "2022-08-22 10:10:29,950 - src.utils.image_download - WARNING - Error occurered: File not in extensions\n",
      "2022-08-22 10:10:29,950 - src.utils.image_download - WARNING - Error occurered: File not in extensions\n",
      "2022-08-22 10:10:30,006 - src.utils.image_download - WARNING - Error occurered: File not in extensions\n",
      "2022-08-22 10:10:30,006 - src.utils.image_download - WARNING - Error occurered: File not in extensions\n"
     ]
    },
    {
     "name": "stderr",
     "output_type": "stream",
     "text": [
      " 25%|███████████                                 | 5/20 [00:04<00:08,  1.71it/s]"
     ]
    },
    {
     "name": "stdout",
     "output_type": "stream",
     "text": [
      "2022-08-22 10:10:31,777 - src.utils.image_download - WARNING - Error occurered: HTTPSConnectionPool(host='pegasoshotel.gr', port=443): Max retries exceeded with url: /wp-content/uploads/2021/05/pegasos-deluxe-beach-hotel-toyota-aygo.png (Caused by SSLError(SSLCertVerificationError(1, '[SSL: CERTIFICATE_VERIFY_FAILED] certificate verify failed: certificate has expired (_ssl.c:1131)')))\n",
      "2022-08-22 10:10:31,777 - src.utils.image_download - WARNING - Error occurered: HTTPSConnectionPool(host='pegasoshotel.gr', port=443): Max retries exceeded with url: /wp-content/uploads/2021/05/pegasos-deluxe-beach-hotel-toyota-aygo.png (Caused by SSLError(SSLCertVerificationError(1, '[SSL: CERTIFICATE_VERIFY_FAILED] certificate verify failed: certificate has expired (_ssl.c:1131)')))\n"
     ]
    },
    {
     "name": "stderr",
     "output_type": "stream",
     "text": [
      " 40%|█████████████████▌                          | 8/20 [00:05<00:04,  2.45it/s]"
     ]
    },
    {
     "name": "stdout",
     "output_type": "stream",
     "text": [
      "2022-08-22 10:10:34,396 - src.utils.image_download - WARNING - Error occurered: HTTPSConnectionPool(host='www.flisvos.com', port=443): Read timed out. (read timeout=1)\n",
      "2022-08-22 10:10:34,396 - src.utils.image_download - WARNING - Error occurered: HTTPSConnectionPool(host='www.flisvos.com', port=443): Read timed out. (read timeout=1)\n",
      "2022-08-22 10:10:34,543 - src.utils.image_download - WARNING - Error occurered: ??\n",
      "2022-08-22 10:10:34,543 - src.utils.image_download - WARNING - Error occurered: ??\n"
     ]
    },
    {
     "name": "stderr",
     "output_type": "stream",
     "text": [
      "100%|███████████████████████████████████████████| 20/20 [00:11<00:00,  2.81it/s]\n",
      "  0%|                                                    | 0/20 [00:00<?, ?it/s]\u001b[A\n",
      "  5%|██▏                                         | 1/20 [00:02<00:41,  2.17s/it]\u001b[A\n",
      " 10%|████▍                                       | 2/20 [00:02<00:22,  1.23s/it]\u001b[A\n",
      " 15%|██████▌                                     | 3/20 [00:03<00:14,  1.18it/s]\u001b[A"
     ]
    },
    {
     "name": "stdout",
     "output_type": "stream",
     "text": [
      "2022-08-22 10:10:42,244 - src.utils.image_download - WARNING - Error occurered: File not in extensions\n",
      "2022-08-22 10:10:42,244 - src.utils.image_download - WARNING - Error occurered: File not in extensions\n",
      "2022-08-22 10:10:42,300 - src.utils.image_download - WARNING - Error occurered: File not in extensions\n",
      "2022-08-22 10:10:42,300 - src.utils.image_download - WARNING - Error occurered: File not in extensions\n"
     ]
    },
    {
     "name": "stderr",
     "output_type": "stream",
     "text": [
      "\n",
      " 20%|████████▊                                   | 4/20 [00:03<00:12,  1.26it/s]\u001b[A"
     ]
    },
    {
     "name": "stdout",
     "output_type": "stream",
     "text": [
      "2022-08-22 10:10:43,017 - src.utils.image_download - WARNING - Error occurered: File not in extensions\n",
      "2022-08-22 10:10:43,017 - src.utils.image_download - WARNING - Error occurered: File not in extensions\n"
     ]
    },
    {
     "name": "stderr",
     "output_type": "stream",
     "text": [
      "\n",
      " 25%|███████████                                 | 5/20 [00:05<00:14,  1.03it/s]\u001b[A\n",
      " 30%|█████████████▏                              | 6/20 [00:05<00:10,  1.40it/s]\u001b[A"
     ]
    },
    {
     "name": "stdout",
     "output_type": "stream",
     "text": [
      "2022-08-22 10:10:44,786 - src.utils.image_download - WARNING - Error occurered: ??\n",
      "2022-08-22 10:10:44,786 - src.utils.image_download - WARNING - Error occurered: ??\n"
     ]
    },
    {
     "name": "stderr",
     "output_type": "stream",
     "text": [
      "\n",
      " 35%|███████████████▍                            | 7/20 [00:06<00:09,  1.34it/s]\u001b[A\n",
      " 40%|█████████████████▌                          | 8/20 [00:06<00:06,  1.74it/s]\u001b[A\n",
      " 45%|███████████████████▊                        | 9/20 [00:06<00:05,  2.18it/s]\u001b[A\n",
      " 50%|█████████████████████▌                     | 10/20 [00:07<00:04,  2.16it/s]\u001b[A\n",
      " 55%|███████████████████████▋                   | 11/20 [00:07<00:04,  1.87it/s]\u001b[A\n",
      " 60%|█████████████████████████▊                 | 12/20 [00:08<00:04,  1.81it/s]\u001b[A\n",
      " 65%|███████████████████████████▉               | 13/20 [00:08<00:03,  1.76it/s]\u001b[A\n",
      " 70%|██████████████████████████████             | 14/20 [00:09<00:02,  2.33it/s]\u001b[A"
     ]
    },
    {
     "name": "stdout",
     "output_type": "stream",
     "text": [
      "2022-08-22 10:10:48,157 - src.utils.image_download - WARNING - Error occurered: File not in extensions\n",
      "2022-08-22 10:10:48,157 - src.utils.image_download - WARNING - Error occurered: File not in extensions\n"
     ]
    },
    {
     "name": "stderr",
     "output_type": "stream",
     "text": [
      "\n",
      " 75%|████████████████████████████████▎          | 15/20 [00:09<00:02,  1.91it/s]\u001b[A\n",
      " 80%|██████████████████████████████████▍        | 16/20 [00:10<00:01,  2.15it/s]\u001b[A\n",
      " 85%|████████████████████████████████████▌      | 17/20 [00:10<00:01,  2.25it/s]\u001b[A\n",
      " 90%|██████████████████████████████████████▋    | 18/20 [00:11<00:01,  1.95it/s]\u001b[A\n",
      " 95%|████████████████████████████████████████▊  | 19/20 [00:14<00:01,  1.43s/it]\u001b[A\n",
      "100%|███████████████████████████████████████████| 20/20 [00:17<00:00,  1.16it/s]\u001b[A\n",
      "\n",
      "  0%|                                                    | 0/20 [00:00<?, ?it/s]\u001b[A"
     ]
    },
    {
     "name": "stdout",
     "output_type": "stream",
     "text": [
      "2022-08-22 10:10:59,460 - src.utils.image_download - WARNING - Error occurered: ??\n",
      "2022-08-22 10:10:59,460 - src.utils.image_download - WARNING - Error occurered: ??\n"
     ]
    },
    {
     "name": "stderr",
     "output_type": "stream",
     "text": [
      "\n",
      "  5%|██▏                                         | 1/20 [00:03<01:09,  3.68s/it]\u001b[A\n",
      " 10%|████▍                                       | 2/20 [00:03<00:28,  1.59s/it]\u001b[A\n",
      " 15%|██████▌                                     | 3/20 [00:04<00:18,  1.10s/it]\u001b[A\n",
      " 20%|████████▊                                   | 4/20 [00:04<00:13,  1.15it/s]\u001b[A"
     ]
    },
    {
     "name": "stdout",
     "output_type": "stream",
     "text": [
      "2022-08-22 10:11:01,255 - src.utils.image_download - WARNING - Error occurered: File not in extensions\n",
      "2022-08-22 10:11:01,255 - src.utils.image_download - WARNING - Error occurered: File not in extensions\n"
     ]
    },
    {
     "name": "stderr",
     "output_type": "stream",
     "text": [
      "\n",
      "100%|███████████████████████████████████████████| 20/20 [00:34<00:00,  1.71s/it]\u001b[A\n",
      "\n",
      " 30%|█████████████▏                              | 6/20 [00:05<00:07,  1.76it/s]\u001b[A"
     ]
    },
    {
     "name": "stdout",
     "output_type": "stream",
     "text": [
      "2022-08-22 10:11:01,982 - src.utils.image_download - WARNING - Error occurered: File not in extensions\n",
      "2022-08-22 10:11:01,982 - src.utils.image_download - WARNING - Error occurered: File not in extensions\n"
     ]
    },
    {
     "name": "stderr",
     "output_type": "stream",
     "text": [
      "\n",
      " 35%|███████████████▍                            | 7/20 [00:05<00:06,  1.89it/s]\u001b[A\n",
      " 40%|█████████████████▌                          | 8/20 [00:06<00:05,  2.31it/s]\u001b[A\n",
      " 45%|███████████████████▊                        | 9/20 [00:07<00:06,  1.71it/s]\u001b[A"
     ]
    },
    {
     "name": "stdout",
     "output_type": "stream",
     "text": [
      "2022-08-22 10:11:03,792 - src.utils.image_download - WARNING - Error occurered: File not in extensions\n",
      "2022-08-22 10:11:03,792 - src.utils.image_download - WARNING - Error occurered: File not in extensions\n"
     ]
    },
    {
     "name": "stderr",
     "output_type": "stream",
     "text": [
      "\n",
      " 50%|█████████████████████▌                     | 10/20 [00:08<00:07,  1.35it/s]\u001b[A"
     ]
    },
    {
     "name": "stdout",
     "output_type": "stream",
     "text": [
      "2022-08-22 10:11:04,534 - src.utils.image_download - WARNING - Error occurered: File not in extensions\n",
      "2022-08-22 10:11:04,534 - src.utils.image_download - WARNING - Error occurered: File not in extensions\n",
      "2022-08-22 10:11:04,593 - src.utils.image_download - WARNING - Error occurered: File not in extensions\n",
      "2022-08-22 10:11:04,593 - src.utils.image_download - WARNING - Error occurered: File not in extensions\n"
     ]
    },
    {
     "name": "stderr",
     "output_type": "stream",
     "text": [
      "\n",
      " 55%|███████████████████████▋                   | 11/20 [00:08<00:06,  1.44it/s]\u001b[A\n",
      " 60%|█████████████████████████▊                 | 12/20 [00:08<00:04,  1.91it/s]\u001b[A\n",
      " 65%|███████████████████████████▉               | 13/20 [00:09<00:02,  2.43it/s]\u001b[A\n",
      " 70%|██████████████████████████████             | 14/20 [00:09<00:02,  2.64it/s]\u001b[A\n",
      " 75%|████████████████████████████████▎          | 15/20 [00:09<00:02,  2.48it/s]\u001b[A\n",
      " 80%|██████████████████████████████████▍        | 16/20 [00:10<00:01,  2.47it/s]\u001b[A\n",
      " 85%|████████████████████████████████████▌      | 17/20 [00:10<00:01,  2.82it/s]\u001b[A\n",
      " 90%|██████████████████████████████████████▋    | 18/20 [00:11<00:01,  1.74it/s]\u001b[A\n",
      " 95%|████████████████████████████████████████▊  | 19/20 [00:12<00:00,  1.83it/s]\u001b[A\n",
      "100%|███████████████████████████████████████████| 20/20 [00:12<00:00,  1.57it/s]\u001b[A\n",
      "  0%|                                                    | 0/20 [00:00<?, ?it/s]"
     ]
    },
    {
     "name": "stdout",
     "output_type": "stream",
     "text": [
      "2022-08-22 10:11:12,618 - src.utils.image_download - WARNING - Error occurered: ??\n",
      "2022-08-22 10:11:12,618 - src.utils.image_download - WARNING - Error occurered: ??\n"
     ]
    },
    {
     "name": "stderr",
     "output_type": "stream",
     "text": [
      " 30%|█████████████▏                              | 6/20 [00:05<00:06,  2.04it/s]"
     ]
    },
    {
     "name": "stdout",
     "output_type": "stream",
     "text": [
      "2022-08-22 10:11:14,351 - src.utils.image_download - WARNING - Error occurered: File not in extensions\n",
      "2022-08-22 10:11:14,351 - src.utils.image_download - WARNING - Error occurered: File not in extensions\n"
     ]
    },
    {
     "name": "stderr",
     "output_type": "stream",
     "text": [
      " 65%|███████████████████████████▉               | 13/20 [00:08<00:03,  2.10it/s]"
     ]
    },
    {
     "name": "stdout",
     "output_type": "stream",
     "text": [
      "2022-08-22 10:11:18,870 - src.utils.image_download - WARNING - Error occurered: HTTPSConnectionPool(host='media.ed.edmunds-media.com', port=443): Read timed out. (read timeout=1)\n",
      "2022-08-22 10:11:18,870 - src.utils.image_download - WARNING - Error occurered: HTTPSConnectionPool(host='media.ed.edmunds-media.com', port=443): Read timed out. (read timeout=1)\n"
     ]
    },
    {
     "name": "stderr",
     "output_type": "stream",
     "text": [
      " 90%|██████████████████████████████████████▋    | 18/20 [00:12<00:01,  1.30it/s]"
     ]
    },
    {
     "name": "stdout",
     "output_type": "stream",
     "text": [
      "2022-08-22 10:11:22,363 - src.utils.image_download - WARNING - Error occurered: HTTPSConnectionPool(host='eu-www.kia.com', port=443): Max retries exceeded with url: /content/dam/kwcms/kme/global/en/assets/vehicles/rio-YB/discover/kia-rio-gls-my22-carsideview.jpg (Caused by SSLError(SSLCertVerificationError(1, '[SSL: CERTIFICATE_VERIFY_FAILED] certificate verify failed: unable to get local issuer certificate (_ssl.c:1131)')))\n",
      "2022-08-22 10:11:22,363 - src.utils.image_download - WARNING - Error occurered: HTTPSConnectionPool(host='eu-www.kia.com', port=443): Max retries exceeded with url: /content/dam/kwcms/kme/global/en/assets/vehicles/rio-YB/discover/kia-rio-gls-my22-carsideview.jpg (Caused by SSLError(SSLCertVerificationError(1, '[SSL: CERTIFICATE_VERIFY_FAILED] certificate verify failed: unable to get local issuer certificate (_ssl.c:1131)')))\n"
     ]
    },
    {
     "name": "stderr",
     "output_type": "stream",
     "text": [
      "100%|███████████████████████████████████████████| 20/20 [00:14<00:00,  1.15it/s]\n",
      "  0%|                                                    | 0/20 [00:00<?, ?it/s]\u001b[A"
     ]
    },
    {
     "name": "stdout",
     "output_type": "stream",
     "text": [
      "2022-08-22 10:11:26,500 - src.utils.image_download - WARNING - Error occurered: File not in extensions\n",
      "2022-08-22 10:11:26,500 - src.utils.image_download - WARNING - Error occurered: File not in extensions\n",
      "2022-08-22 10:11:26,734 - src.utils.image_download - WARNING - Error occurered: File not in extensions\n",
      "2022-08-22 10:11:26,734 - src.utils.image_download - WARNING - Error occurered: File not in extensions\n",
      "2022-08-22 10:11:26,795 - src.utils.image_download - WARNING - Error occurered: File not in extensions\n",
      "2022-08-22 10:11:26,795 - src.utils.image_download - WARNING - Error occurered: File not in extensions\n",
      "2022-08-22 10:11:27,061 - src.utils.image_download - WARNING - Error occurered: File not in extensions\n",
      "2022-08-22 10:11:27,061 - src.utils.image_download - WARNING - Error occurered: File not in extensions\n"
     ]
    },
    {
     "name": "stderr",
     "output_type": "stream",
     "text": [
      "\n",
      "  5%|██▏                                         | 1/20 [00:03<01:04,  3.40s/it]\u001b[A"
     ]
    },
    {
     "name": "stdout",
     "output_type": "stream",
     "text": [
      "2022-08-22 10:11:27,522 - src.utils.image_download - WARNING - Error occurered: File not in extensions\n",
      "2022-08-22 10:11:27,522 - src.utils.image_download - WARNING - Error occurered: File not in extensions\n"
     ]
    },
    {
     "name": "stderr",
     "output_type": "stream",
     "text": [
      "\n",
      " 10%|████▍                                       | 2/20 [00:03<00:27,  1.53s/it]\u001b[A\n",
      " 15%|██████▌                                     | 3/20 [00:04<00:18,  1.11s/it]\u001b[A"
     ]
    },
    {
     "name": "stdout",
     "output_type": "stream",
     "text": [
      "2022-08-22 10:11:28,352 - src.utils.image_download - WARNING - Error occurered: File not in extensions\n",
      "2022-08-22 10:11:28,352 - src.utils.image_download - WARNING - Error occurered: File not in extensions\n"
     ]
    },
    {
     "name": "stderr",
     "output_type": "stream",
     "text": [
      "\n",
      " 20%|████████▊                                   | 4/20 [00:04<00:12,  1.32it/s]\u001b[A"
     ]
    },
    {
     "name": "stdout",
     "output_type": "stream",
     "text": [
      "2022-08-22 10:11:28,630 - src.utils.image_download - WARNING - Error occurered: File not in extensions\n",
      "2022-08-22 10:11:28,630 - src.utils.image_download - WARNING - Error occurered: File not in extensions\n"
     ]
    },
    {
     "name": "stderr",
     "output_type": "stream",
     "text": [
      "\n",
      " 25%|███████████                                 | 5/20 [00:04<00:08,  1.70it/s]\u001b[A\n",
      " 30%|█████████████▏                              | 6/20 [00:05<00:07,  1.94it/s]\u001b[A\n",
      " 35%|███████████████▍                            | 7/20 [00:05<00:06,  2.01it/s]\u001b[A"
     ]
    },
    {
     "name": "stdout",
     "output_type": "stream",
     "text": [
      "2022-08-22 10:11:29,757 - src.utils.image_download - WARNING - Error occurered: File not in extensions\n",
      "2022-08-22 10:11:29,757 - src.utils.image_download - WARNING - Error occurered: File not in extensions\n",
      "2022-08-22 10:11:30,599 - src.utils.image_download - WARNING - Error occurered: ??\n",
      "2022-08-22 10:11:30,599 - src.utils.image_download - WARNING - Error occurered: ??\n",
      "2022-08-22 10:11:30,662 - src.utils.image_download - WARNING - Error occurered: File not in extensions\n",
      "2022-08-22 10:11:30,662 - src.utils.image_download - WARNING - Error occurered: File not in extensions\n"
     ]
    },
    {
     "name": "stderr",
     "output_type": "stream",
     "text": [
      "\n",
      " 40%|█████████████████▌                          | 8/20 [00:06<00:08,  1.38it/s]\u001b[A"
     ]
    },
    {
     "name": "stdout",
     "output_type": "stream",
     "text": [
      "2022-08-22 10:11:31,393 - src.utils.image_download - WARNING - Error occurered: File not in extensions\n",
      "2022-08-22 10:11:31,393 - src.utils.image_download - WARNING - Error occurered: File not in extensions\n"
     ]
    },
    {
     "name": "stderr",
     "output_type": "stream",
     "text": [
      "\n",
      " 45%|███████████████████▊                        | 9/20 [00:07<00:08,  1.31it/s]\u001b[A"
     ]
    },
    {
     "name": "stdout",
     "output_type": "stream",
     "text": [
      "2022-08-22 10:11:31,759 - src.utils.image_download - WARNING - Error occurered: File not in extensions\n",
      "2022-08-22 10:11:31,759 - src.utils.image_download - WARNING - Error occurered: File not in extensions\n"
     ]
    },
    {
     "name": "stderr",
     "output_type": "stream",
     "text": [
      "\n",
      " 50%|█████████████████████▌                     | 10/20 [00:07<00:06,  1.63it/s]\u001b[A\n",
      " 55%|███████████████████████▋                   | 11/20 [00:08<00:04,  1.86it/s]\u001b[A\n",
      " 60%|█████████████████████████▊                 | 12/20 [00:08<00:03,  2.21it/s]\u001b[A\n",
      " 65%|███████████████████████████▉               | 13/20 [00:08<00:03,  2.29it/s]\u001b[A\n",
      " 70%|██████████████████████████████             | 14/20 [00:09<00:02,  2.28it/s]\u001b[A\n",
      " 75%|████████████████████████████████▎          | 15/20 [00:10<00:02,  1.97it/s]\u001b[A\n",
      " 80%|██████████████████████████████████▍        | 16/20 [00:10<00:02,  1.99it/s]\u001b[A"
     ]
    },
    {
     "name": "stdout",
     "output_type": "stream",
     "text": [
      "2022-08-22 10:11:34,670 - src.utils.image_download - WARNING - Error occurered: File not in extensions\n",
      "2022-08-22 10:11:34,670 - src.utils.image_download - WARNING - Error occurered: File not in extensions\n",
      "2022-08-22 10:11:34,923 - src.utils.image_download - WARNING - Error occurered: File not in extensions\n",
      "2022-08-22 10:11:34,923 - src.utils.image_download - WARNING - Error occurered: File not in extensions\n",
      "2022-08-22 10:11:34,998 - src.utils.image_download - WARNING - Error occurered: File not in extensions\n",
      "2022-08-22 10:11:34,998 - src.utils.image_download - WARNING - Error occurered: File not in extensions\n",
      "2022-08-22 10:11:35,241 - src.utils.image_download - WARNING - Error occurered: File not in extensions\n",
      "2022-08-22 10:11:35,241 - src.utils.image_download - WARNING - Error occurered: File not in extensions\n"
     ]
    },
    {
     "name": "stderr",
     "output_type": "stream",
     "text": [
      "\n",
      " 85%|████████████████████████████████████▌      | 17/20 [00:11<00:02,  1.40it/s]\u001b[A"
     ]
    },
    {
     "name": "stdout",
     "output_type": "stream",
     "text": [
      "2022-08-22 10:11:35,960 - src.utils.image_download - WARNING - Error occurered: File not in extensions\n",
      "2022-08-22 10:11:35,960 - src.utils.image_download - WARNING - Error occurered: File not in extensions\n"
     ]
    },
    {
     "name": "stderr",
     "output_type": "stream",
     "text": [
      "\n",
      " 90%|██████████████████████████████████████▋    | 18/20 [00:12<00:01,  1.51it/s]\u001b[A\n",
      " 95%|████████████████████████████████████████▊  | 19/20 [00:13<00:00,  1.19it/s]\u001b[A"
     ]
    },
    {
     "name": "stdout",
     "output_type": "stream",
     "text": [
      "2022-08-22 10:11:37,611 - src.utils.image_download - WARNING - Error occurered: Failed to parse: 'www.%ce%bf%ce%b4%ce%b7%ce%b3%ce%bf%cf%83-%cf%87%cf%81%ce%b7%cf%83%ce%b7%cf%83.gr', label empty or too long\n",
      "2022-08-22 10:11:37,611 - src.utils.image_download - WARNING - Error occurered: Failed to parse: 'www.%ce%bf%ce%b4%ce%b7%ce%b3%ce%bf%cf%83-%cf%87%cf%81%ce%b7%cf%83%ce%b7%cf%83.gr', label empty or too long\n"
     ]
    },
    {
     "name": "stderr",
     "output_type": "stream",
     "text": [
      "\n",
      "100%|███████████████████████████████████████████| 20/20 [00:14<00:00,  1.40it/s]\u001b[A\n",
      "\n",
      "  0%|                                                    | 0/20 [00:00<?, ?it/s]\u001b[A\n",
      "  5%|██▏                                         | 1/20 [00:02<00:45,  2.39s/it]\u001b[A\n",
      " 10%|████▍                                       | 2/20 [00:02<00:21,  1.20s/it]\u001b[A\n",
      " 15%|██████▌                                     | 3/20 [00:02<00:11,  1.42it/s]\u001b[A"
     ]
    },
    {
     "name": "stdout",
     "output_type": "stream",
     "text": [
      "2022-08-22 10:11:41,320 - src.utils.image_download - WARNING - Error occurered: ??\n",
      "2022-08-22 10:11:41,320 - src.utils.image_download - WARNING - Error occurered: ??\n"
     ]
    },
    {
     "name": "stderr",
     "output_type": "stream",
     "text": [
      "\n",
      " 20%|████████▊                                   | 4/20 [00:03<00:08,  1.96it/s]\u001b[A\n",
      " 25%|███████████                                 | 5/20 [00:03<00:06,  2.27it/s]\u001b[A\n",
      " 35%|███████████████▍                            | 7/20 [00:03<00:03,  3.38it/s]\u001b[A\n",
      " 40%|█████████████████▌                          | 8/20 [00:03<00:02,  4.10it/s]\u001b[A\n",
      " 45%|███████████████████▊                        | 9/20 [00:03<00:02,  4.86it/s]\u001b[A\n",
      " 50%|█████████████████████▌                     | 10/20 [00:04<00:02,  4.98it/s]\u001b[A\n",
      " 55%|███████████████████████▋                   | 11/20 [00:04<00:02,  3.16it/s]\u001b[A\n",
      " 60%|█████████████████████████▊                 | 12/20 [00:04<00:02,  3.40it/s]\u001b[A\n",
      " 70%|██████████████████████████████             | 14/20 [00:05<00:01,  3.95it/s]\u001b[A\n",
      " 75%|████████████████████████████████▎          | 15/20 [00:05<00:01,  4.61it/s]\u001b[A\n",
      " 80%|██████████████████████████████████▍        | 16/20 [00:05<00:00,  4.55it/s]\u001b[A\n",
      " 85%|████████████████████████████████████▌      | 17/20 [00:06<00:01,  2.77it/s]\u001b[A\n",
      " 90%|██████████████████████████████████████▋    | 18/20 [00:06<00:00,  3.34it/s]\u001b[A"
     ]
    },
    {
     "name": "stdout",
     "output_type": "stream",
     "text": [
      "2022-08-22 10:11:44,957 - src.utils.image_download - WARNING - Error occurered: File not in extensions\n",
      "2022-08-22 10:11:44,957 - src.utils.image_download - WARNING - Error occurered: File not in extensions\n"
     ]
    },
    {
     "name": "stderr",
     "output_type": "stream",
     "text": [
      "\n",
      " 95%|████████████████████████████████████████▊  | 19/20 [00:06<00:00,  3.20it/s]\u001b[A\n",
      "100%|███████████████████████████████████████████| 20/20 [00:07<00:00,  2.85it/s]\u001b[A\n",
      "\n",
      "  0%|                                                    | 0/20 [00:00<?, ?it/s]\u001b[A"
     ]
    },
    {
     "name": "stdout",
     "output_type": "stream",
     "text": [
      "2022-08-22 10:11:47,385 - src.utils.image_download - WARNING - Error occurered: ??\n",
      "2022-08-22 10:11:47,385 - src.utils.image_download - WARNING - Error occurered: ??\n",
      "2022-08-22 10:11:47,446 - src.utils.image_download - WARNING - Error occurered: File not in extensions\n",
      "2022-08-22 10:11:47,446 - src.utils.image_download - WARNING - Error occurered: File not in extensions\n",
      "2022-08-22 10:11:47,561 - src.utils.image_download - WARNING - Error occurered: File not in extensions\n",
      "2022-08-22 10:11:47,561 - src.utils.image_download - WARNING - Error occurered: File not in extensions\n",
      "2022-08-22 10:11:48,355 - src.utils.image_download - WARNING - Error occurered: File not in extensions\n",
      "2022-08-22 10:11:48,355 - src.utils.image_download - WARNING - Error occurered: File not in extensions\n",
      "2022-08-22 10:11:50,090 - src.utils.image_download - WARNING - Error occurered: HTTPSConnectionPool(host='www.rushlane.com', port=443): Max retries exceeded with url: /wp-content/uploads/2022/08/2023-toyota-yaris-review-walkaround-first-1-1200x900.jpg (Caused by ConnectTimeoutError(<urllib3.connection.HTTPSConnection object at 0x7fec54bdf5e0>, 'Connection to www.rushlane.com timed out. (connect timeout=1)'))\n",
      "2022-08-22 10:11:50,090 - src.utils.image_download - WARNING - Error occurered: HTTPSConnectionPool(host='www.rushlane.com', port=443): Max retries exceeded with url: /wp-content/uploads/2022/08/2023-toyota-yaris-review-walkaround-first-1-1200x900.jpg (Caused by ConnectTimeoutError(<urllib3.connection.HTTPSConnection object at 0x7fec54bdf5e0>, 'Connection to www.rushlane.com timed out. (connect timeout=1)'))\n"
     ]
    },
    {
     "name": "stderr",
     "output_type": "stream",
     "text": [
      "\n",
      "  5%|██▏                                         | 1/20 [00:04<01:33,  4.91s/it]\u001b[A\n",
      " 10%|████▍                                       | 2/20 [00:05<00:39,  2.17s/it]\u001b[A"
     ]
    },
    {
     "name": "stdout",
     "output_type": "stream",
     "text": [
      "2022-08-22 10:11:51,636 - src.utils.image_download - WARNING - Error occurered: HTTPSConnectionPool(host='media.autoexpress.co.uk', port=443): Read timed out. (read timeout=1)\n",
      "2022-08-22 10:11:51,636 - src.utils.image_download - WARNING - Error occurered: HTTPSConnectionPool(host='media.autoexpress.co.uk', port=443): Read timed out. (read timeout=1)\n"
     ]
    },
    {
     "name": "stderr",
     "output_type": "stream",
     "text": [
      "\n",
      " 15%|██████▌                                     | 3/20 [00:06<00:32,  1.89s/it]\u001b[A\n",
      " 20%|████████▊                                   | 4/20 [00:06<00:19,  1.21s/it]\u001b[A"
     ]
    },
    {
     "name": "stdout",
     "output_type": "stream",
     "text": [
      "2022-08-22 10:11:52,362 - src.utils.image_download - WARNING - Error occurered: File not in extensions\n",
      "2022-08-22 10:11:52,362 - src.utils.image_download - WARNING - Error occurered: File not in extensions\n"
     ]
    },
    {
     "name": "stderr",
     "output_type": "stream",
     "text": [
      "\n",
      " 25%|███████████                                 | 5/20 [00:07<00:12,  1.16it/s]\u001b[A"
     ]
    },
    {
     "name": "stdout",
     "output_type": "stream",
     "text": [
      "2022-08-22 10:11:52,550 - src.utils.image_download - WARNING - Error occurered: File not in extensions\n",
      "2022-08-22 10:11:52,550 - src.utils.image_download - WARNING - Error occurered: File not in extensions\n"
     ]
    },
    {
     "name": "stderr",
     "output_type": "stream",
     "text": [
      "100%|███████████████████████████████████████████| 20/20 [00:43<00:00,  2.18s/it]\n",
      "\n",
      " 30%|█████████████▏                              | 6/20 [00:07<00:09,  1.46it/s]\u001b[A\n",
      " 35%|███████████████▍                            | 7/20 [00:07<00:07,  1.74it/s]\u001b[A\n",
      " 40%|█████████████████▌                          | 8/20 [00:08<00:05,  2.17it/s]\u001b[A\n",
      " 45%|███████████████████▊                        | 9/20 [00:08<00:06,  1.82it/s]\u001b[A\n",
      " 50%|█████████████████████▌                     | 10/20 [00:09<00:06,  1.64it/s]\u001b[A"
     ]
    },
    {
     "name": "stdout",
     "output_type": "stream",
     "text": [
      "2022-08-22 10:11:54,990 - src.utils.image_download - WARNING - Error occurered: File not in extensions\n",
      "2022-08-22 10:11:54,990 - src.utils.image_download - WARNING - Error occurered: File not in extensions\n"
     ]
    },
    {
     "name": "stderr",
     "output_type": "stream",
     "text": [
      "\n",
      " 55%|███████████████████████▋                   | 11/20 [00:10<00:05,  1.54it/s]\u001b[A"
     ]
    },
    {
     "name": "stdout",
     "output_type": "stream",
     "text": [
      "2022-08-22 10:11:55,692 - src.utils.image_download - WARNING - Error occurered: File not in extensions\n",
      "2022-08-22 10:11:55,692 - src.utils.image_download - WARNING - Error occurered: File not in extensions\n"
     ]
    },
    {
     "name": "stderr",
     "output_type": "stream",
     "text": [
      "\n",
      " 60%|█████████████████████████▊                 | 12/20 [00:11<00:05,  1.48it/s]\u001b[A\n",
      " 65%|███████████████████████████▉               | 13/20 [00:11<00:04,  1.74it/s]\u001b[A\n",
      " 70%|██████████████████████████████             | 14/20 [00:11<00:03,  1.83it/s]\u001b[A\n",
      " 75%|████████████████████████████████▎          | 15/20 [00:12<00:02,  2.28it/s]\u001b[A\n",
      " 80%|██████████████████████████████████▍        | 16/20 [00:12<00:01,  2.46it/s]\u001b[A"
     ]
    },
    {
     "name": "stdout",
     "output_type": "stream",
     "text": [
      "2022-08-22 10:11:58,930 - src.utils.image_download - WARNING - Error occurered: HTTPSConnectionPool(host='cars.usnews.com', port=443): Read timed out. (read timeout=1)\n",
      "2022-08-22 10:11:58,930 - src.utils.image_download - WARNING - Error occurered: HTTPSConnectionPool(host='cars.usnews.com', port=443): Read timed out. (read timeout=1)\n"
     ]
    },
    {
     "name": "stderr",
     "output_type": "stream",
     "text": [
      "\n",
      " 85%|████████████████████████████████████▌      | 17/20 [00:14<00:02,  1.26it/s]\u001b[A\n",
      " 90%|██████████████████████████████████████▋    | 18/20 [00:14<00:01,  1.39it/s]\u001b[A\n",
      " 95%|████████████████████████████████████████▊  | 19/20 [00:15<00:00,  1.57it/s]\u001b[A\n",
      "  0%|                                                    | 0/20 [00:00<?, ?it/s]\u001b[A"
     ]
    },
    {
     "name": "stdout",
     "output_type": "stream",
     "text": [
      "2022-08-22 10:12:02,855 - src.utils.image_download - WARNING - Error occurered: ??\n",
      "2022-08-22 10:12:02,855 - src.utils.image_download - WARNING - Error occurered: ??\n",
      "2022-08-22 10:12:02,925 - src.utils.image_download - WARNING - Error occurered: File not in extensions\n",
      "2022-08-22 10:12:02,925 - src.utils.image_download - WARNING - Error occurered: File not in extensions\n"
     ]
    },
    {
     "name": "stderr",
     "output_type": "stream",
     "text": [
      " 10%|████▍                                       | 2/20 [00:02<00:18,  1.03s/it]"
     ]
    },
    {
     "name": "stdout",
     "output_type": "stream",
     "text": [
      "2022-08-22 10:12:03,333 - src.utils.image_download - WARNING - Error occurered: File not in extensions\n",
      "2022-08-22 10:12:03,333 - src.utils.image_download - WARNING - Error occurered: File not in extensions\n"
     ]
    },
    {
     "name": "stderr",
     "output_type": "stream",
     "text": [
      " 25%|███████████                                 | 5/20 [00:03<00:09,  1.57it/s]"
     ]
    },
    {
     "name": "stdout",
     "output_type": "stream",
     "text": [
      "2022-08-22 10:12:04,728 - src.utils.image_download - WARNING - Error occurered: File not in extensions\n",
      "2022-08-22 10:12:04,728 - src.utils.image_download - WARNING - Error occurered: File not in extensions\n"
     ]
    },
    {
     "name": "stderr",
     "output_type": "stream",
     "text": [
      " 45%|███████████████████▊                        | 9/20 [00:05<00:03,  2.81it/s]"
     ]
    },
    {
     "name": "stdout",
     "output_type": "stream",
     "text": [
      "2022-08-22 10:12:05,934 - src.utils.image_download - WARNING - Error occurered: File not in extensions\n",
      "2022-08-22 10:12:05,934 - src.utils.image_download - WARNING - Error occurered: File not in extensions\n"
     ]
    },
    {
     "name": "stderr",
     "output_type": "stream",
     "text": [
      " 55%|███████████████████████▋                   | 11/20 [00:06<00:06,  1.48it/s]"
     ]
    },
    {
     "name": "stdout",
     "output_type": "stream",
     "text": [
      "2022-08-22 10:12:08,218 - src.utils.image_download - WARNING - Error occurered: File not in extensions\n",
      "2022-08-22 10:12:08,218 - src.utils.image_download - WARNING - Error occurered: File not in extensions\n"
     ]
    },
    {
     "name": "stderr",
     "output_type": "stream",
     "text": [
      "\r",
      " 60%|█████████████████████████▊                 | 12/20 [00:07<00:06,  1.33it/s]"
     ]
    },
    {
     "name": "stdout",
     "output_type": "stream",
     "text": [
      "2022-08-22 10:12:08,835 - src.utils.image_download - WARNING - Error occurered: File not in extensions\n",
      "2022-08-22 10:12:08,835 - src.utils.image_download - WARNING - Error occurered: File not in extensions\n"
     ]
    },
    {
     "name": "stderr",
     "output_type": "stream",
     "text": [
      " 80%|██████████████████████████████████▍        | 16/20 [00:11<00:03,  1.33it/s]"
     ]
    },
    {
     "name": "stdout",
     "output_type": "stream",
     "text": [
      "2022-08-22 10:12:13,457 - src.utils.image_download - WARNING - Error occurered: HTTPSConnectionPool(host='img2.carmax.com', port=443): Read timed out. (read timeout=1)\n",
      "2022-08-22 10:12:13,457 - src.utils.image_download - WARNING - Error occurered: HTTPSConnectionPool(host='img2.carmax.com', port=443): Read timed out. (read timeout=1)\n"
     ]
    },
    {
     "name": "stderr",
     "output_type": "stream",
     "text": [
      " 95%|████████████████████████████████████████▊  | 19/20 [00:14<00:00,  1.30it/s]"
     ]
    },
    {
     "name": "stdout",
     "output_type": "stream",
     "text": [
      "2022-08-22 10:12:16,104 - src.utils.image_download - WARNING - Error occurered: HTTPSConnectionPool(host='media.ed.edmunds-media.com', port=443): Read timed out. (read timeout=1)\n",
      "2022-08-22 10:12:16,104 - src.utils.image_download - WARNING - Error occurered: HTTPSConnectionPool(host='media.ed.edmunds-media.com', port=443): Read timed out. (read timeout=1)\n",
      "2022-08-22 10:12:16,221 - src.utils.image_download - WARNING - Error occurered: File not in extensions\n",
      "2022-08-22 10:12:16,221 - src.utils.image_download - WARNING - Error occurered: File not in extensions\n"
     ]
    },
    {
     "name": "stderr",
     "output_type": "stream",
     "text": [
      "100%|███████████████████████████████████████████| 20/20 [00:15<00:00,  1.04it/s]\n",
      "\n",
      "100%|███████████████████████████████████████████| 20/20 [00:18<00:00,  1.07it/s]\u001b[A\u001b[A\n",
      "100%|███████████████████████████████████████████| 20/20 [00:34<00:00,  1.71s/it]\n",
      "\n",
      "\n",
      "  5%|██▏                                         | 1/20 [00:03<01:10,  3.69s/it]\u001b[A\u001b[A\n",
      "\n",
      " 10%|████▍                                       | 2/20 [00:03<00:30,  1.69s/it]\u001b[A\u001b[A"
     ]
    },
    {
     "name": "stdout",
     "output_type": "stream",
     "text": [
      "2022-08-22 10:12:20,592 - src.utils.image_download - WARNING - Error occurered: File not in extensions\n",
      "2022-08-22 10:12:20,592 - src.utils.image_download - WARNING - Error occurered: File not in extensions\n"
     ]
    },
    {
     "name": "stderr",
     "output_type": "stream",
     "text": [
      "\n",
      "\n",
      " 15%|██████▌                                     | 3/20 [00:04<00:22,  1.33s/it]\u001b[A\u001b[A\n",
      "\n",
      " 20%|████████▊                                   | 4/20 [00:05<00:14,  1.11it/s]\u001b[A\u001b[A\n",
      "\n",
      " 25%|███████████                                 | 5/20 [00:05<00:12,  1.16it/s]\u001b[A\u001b[A"
     ]
    },
    {
     "name": "stdout",
     "output_type": "stream",
     "text": [
      "2022-08-22 10:12:22,828 - src.utils.image_download - WARNING - Error occurered: ??\n",
      "2022-08-22 10:12:22,828 - src.utils.image_download - WARNING - Error occurered: ??\n"
     ]
    },
    {
     "name": "stderr",
     "output_type": "stream",
     "text": [
      "\n",
      "\n",
      " 30%|█████████████▏                              | 6/20 [00:06<00:10,  1.27it/s]\u001b[A\u001b[A\n",
      "\n",
      " 35%|███████████████▍                            | 7/20 [00:07<00:12,  1.06it/s]\u001b[A\u001b[A\n",
      "\n",
      " 40%|█████████████████▌                          | 8/20 [00:08<00:10,  1.18it/s]\u001b[A\u001b[A\n",
      "\n",
      " 45%|███████████████████▊                        | 9/20 [00:08<00:06,  1.59it/s]\u001b[A\u001b[A\n",
      "\n",
      " 50%|█████████████████████▌                     | 10/20 [00:08<00:04,  2.03it/s]\u001b[A\u001b[A\n",
      "\n",
      " 55%|███████████████████████▋                   | 11/20 [00:09<00:04,  1.88it/s]\u001b[A\u001b[A\n",
      "\n",
      " 60%|█████████████████████████▊                 | 12/20 [00:09<00:03,  2.45it/s]\u001b[A\u001b[A\n",
      "\n",
      " 65%|███████████████████████████▉               | 13/20 [00:09<00:02,  3.04it/s]\u001b[A\u001b[A\n",
      "\n",
      " 70%|██████████████████████████████             | 14/20 [00:10<00:01,  3.07it/s]\u001b[A\u001b[A"
     ]
    },
    {
     "name": "stdout",
     "output_type": "stream",
     "text": [
      "2022-08-22 10:12:26,696 - src.utils.image_download - WARNING - Error occurered: File not in extensions\n",
      "2022-08-22 10:12:26,696 - src.utils.image_download - WARNING - Error occurered: File not in extensions\n"
     ]
    },
    {
     "name": "stderr",
     "output_type": "stream",
     "text": [
      "\n",
      "\n",
      " 75%|████████████████████████████████▎          | 15/20 [00:11<00:03,  1.56it/s]\u001b[A\u001b[A\n",
      "\n",
      " 80%|██████████████████████████████████▍        | 16/20 [00:11<00:01,  2.01it/s]\u001b[A\u001b[A\n",
      "\n",
      " 85%|████████████████████████████████████▌      | 17/20 [00:12<00:01,  1.54it/s]\u001b[A\u001b[A"
     ]
    },
    {
     "name": "stdout",
     "output_type": "stream",
     "text": [
      "2022-08-22 10:12:29,058 - src.utils.image_download - WARNING - Error occurered: File not in extensions\n",
      "2022-08-22 10:12:29,058 - src.utils.image_download - WARNING - Error occurered: File not in extensions\n"
     ]
    },
    {
     "name": "stderr",
     "output_type": "stream",
     "text": [
      "\n",
      "\n",
      " 90%|██████████████████████████████████████▋    | 18/20 [00:13<00:01,  1.31it/s]\u001b[A\u001b[A\n",
      "\n",
      " 95%|████████████████████████████████████████▊  | 19/20 [00:13<00:00,  1.56it/s]\u001b[A\u001b[A\n",
      "\n",
      "100%|███████████████████████████████████████████| 20/20 [00:14<00:00,  1.42it/s]\u001b[A\u001b[A\n",
      "  5%|██▏                                         | 1/20 [00:03<01:06,  3.49s/it]"
     ]
    },
    {
     "name": "stdout",
     "output_type": "stream",
     "text": [
      "2022-08-22 10:12:34,073 - src.utils.image_download - WARNING - Error occurered: File not in extensions\n",
      "2022-08-22 10:12:34,073 - src.utils.image_download - WARNING - Error occurered: File not in extensions\n",
      "2022-08-22 10:12:34,748 - src.utils.image_download - WARNING - Error occurered: ??\n",
      "2022-08-22 10:12:34,748 - src.utils.image_download - WARNING - Error occurered: ??\n"
     ]
    },
    {
     "name": "stderr",
     "output_type": "stream",
     "text": [
      "\r",
      " 10%|████▍                                       | 2/20 [00:04<00:36,  2.03s/it]"
     ]
    },
    {
     "name": "stdout",
     "output_type": "stream",
     "text": [
      "2022-08-22 10:12:35,079 - src.utils.image_download - WARNING - Error occurered: File not in extensions\n",
      "2022-08-22 10:12:35,079 - src.utils.image_download - WARNING - Error occurered: File not in extensions\n"
     ]
    },
    {
     "name": "stderr",
     "output_type": "stream",
     "text": [
      "\r",
      " 15%|██████▌                                     | 3/20 [00:05<00:22,  1.34s/it]"
     ]
    },
    {
     "name": "stdout",
     "output_type": "stream",
     "text": [
      "2022-08-22 10:12:35,751 - src.utils.image_download - WARNING - Error occurered: File not in extensions\n",
      "2022-08-22 10:12:35,751 - src.utils.image_download - WARNING - Error occurered: File not in extensions\n"
     ]
    },
    {
     "name": "stderr",
     "output_type": "stream",
     "text": [
      " 60%|█████████████████████████▊                 | 12/20 [00:12<00:05,  1.39it/s]"
     ]
    },
    {
     "name": "stdout",
     "output_type": "stream",
     "text": [
      "2022-08-22 10:12:43,943 - src.utils.image_download - WARNING - Error occurered: HTTPSConnectionPool(host='www.ccarprice.com', port=443): Read timed out. (read timeout=1)\n",
      "2022-08-22 10:12:43,943 - src.utils.image_download - WARNING - Error occurered: HTTPSConnectionPool(host='www.ccarprice.com', port=443): Read timed out. (read timeout=1)\n"
     ]
    },
    {
     "name": "stderr",
     "output_type": "stream",
     "text": [
      " 80%|██████████████████████████████████▍        | 16/20 [00:15<00:02,  1.34it/s]"
     ]
    },
    {
     "name": "stdout",
     "output_type": "stream",
     "text": [
      "2022-08-22 10:12:46,092 - src.utils.image_download - WARNING - Error occurered: File not in extensions\n",
      "2022-08-22 10:12:46,092 - src.utils.image_download - WARNING - Error occurered: File not in extensions\n",
      "2022-08-22 10:12:46,341 - src.utils.image_download - WARNING - Error occurered: HTTPSConnectionPool(host='www.executivelease.gr', port=443): Max retries exceeded with url: /sites/default/files/styles/offer_detail_extra_small/public/2021-12/vitara_0.jpg?itok (Caused by SSLError(SSLCertVerificationError(1, '[SSL: CERTIFICATE_VERIFY_FAILED] certificate verify failed: unable to get local issuer certificate (_ssl.c:1131)')))\n",
      "2022-08-22 10:12:46,341 - src.utils.image_download - WARNING - Error occurered: HTTPSConnectionPool(host='www.executivelease.gr', port=443): Max retries exceeded with url: /sites/default/files/styles/offer_detail_extra_small/public/2021-12/vitara_0.jpg?itok (Caused by SSLError(SSLCertVerificationError(1, '[SSL: CERTIFICATE_VERIFY_FAILED] certificate verify failed: unable to get local issuer certificate (_ssl.c:1131)')))\n"
     ]
    },
    {
     "name": "stderr",
     "output_type": "stream",
     "text": [
      "100%|███████████████████████████████████████████| 20/20 [00:18<00:00,  1.01it/s]\n",
      "  0%|                                                    | 0/20 [00:00<?, ?it/s]\u001b[A"
     ]
    },
    {
     "name": "stdout",
     "output_type": "stream",
     "text": [
      "2022-08-22 10:12:52,260 - src.utils.image_download - WARNING - Error occurered: File not in extensions\n",
      "2022-08-22 10:12:52,260 - src.utils.image_download - WARNING - Error occurered: File not in extensions\n"
     ]
    },
    {
     "name": "stderr",
     "output_type": "stream",
     "text": [
      "\n",
      "  5%|██▏                                         | 1/20 [00:02<00:56,  2.99s/it]\u001b[A"
     ]
    },
    {
     "name": "stdout",
     "output_type": "stream",
     "text": [
      "2022-08-22 10:12:52,579 - src.utils.image_download - WARNING - Error occurered: File not in extensions\n",
      "2022-08-22 10:12:52,579 - src.utils.image_download - WARNING - Error occurered: File not in extensions\n"
     ]
    },
    {
     "name": "stderr",
     "output_type": "stream",
     "text": [
      "\n",
      " 10%|████▍                                       | 2/20 [00:03<00:26,  1.50s/it]\u001b[A\n",
      " 15%|██████▌                                     | 3/20 [00:04<00:18,  1.08s/it]\u001b[A\n",
      " 20%|████████▊                                   | 4/20 [00:04<00:12,  1.31it/s]\u001b[A\n",
      " 25%|███████████                                 | 5/20 [00:04<00:08,  1.83it/s]\u001b[A\n",
      " 30%|█████████████▏                              | 6/20 [00:04<00:06,  2.26it/s]\u001b[A"
     ]
    },
    {
     "name": "stdout",
     "output_type": "stream",
     "text": [
      "2022-08-22 10:12:55,659 - src.utils.image_download - WARNING - Error occurered: ??\n",
      "2022-08-22 10:12:55,659 - src.utils.image_download - WARNING - Error occurered: ??\n",
      "2022-08-22 10:12:55,832 - src.utils.image_download - WARNING - Error occurered: File not in extensions\n",
      "2022-08-22 10:12:55,832 - src.utils.image_download - WARNING - Error occurered: File not in extensions\n"
     ]
    },
    {
     "name": "stderr",
     "output_type": "stream",
     "text": [
      "\n",
      " 35%|███████████████▍                            | 7/20 [00:06<00:12,  1.08it/s]\u001b[A\n",
      " 40%|█████████████████▌                          | 8/20 [00:07<00:09,  1.24it/s]\u001b[A\n",
      " 45%|███████████████████▊                        | 9/20 [00:07<00:07,  1.41it/s]\u001b[A\n",
      " 50%|█████████████████████▌                     | 10/20 [00:08<00:06,  1.58it/s]\u001b[A\n",
      " 55%|███████████████████████▋                   | 11/20 [00:08<00:05,  1.56it/s]\u001b[A"
     ]
    },
    {
     "name": "stdout",
     "output_type": "stream",
     "text": [
      "2022-08-22 10:12:59,348 - src.utils.image_download - WARNING - Error occurered: HTTPSConnectionPool(host='www.ccarprice.com', port=443): Read timed out. (read timeout=1)\n",
      "2022-08-22 10:12:59,348 - src.utils.image_download - WARNING - Error occurered: HTTPSConnectionPool(host='www.ccarprice.com', port=443): Read timed out. (read timeout=1)\n"
     ]
    },
    {
     "name": "stderr",
     "output_type": "stream",
     "text": [
      "\n",
      " 60%|█████████████████████████▊                 | 12/20 [00:10<00:07,  1.14it/s]\u001b[A"
     ]
    },
    {
     "name": "stdout",
     "output_type": "stream",
     "text": [
      "2022-08-22 10:12:59,952 - src.utils.image_download - WARNING - Error occurered: File not in extensions\n",
      "2022-08-22 10:12:59,952 - src.utils.image_download - WARNING - Error occurered: File not in extensions\n"
     ]
    },
    {
     "name": "stderr",
     "output_type": "stream",
     "text": [
      "\n",
      " 65%|███████████████████████████▉               | 13/20 [00:10<00:05,  1.21it/s]\u001b[A\n",
      " 70%|██████████████████████████████             | 14/20 [00:11<00:03,  1.55it/s]\u001b[A\n",
      " 75%|████████████████████████████████▎          | 15/20 [00:11<00:02,  1.75it/s]\u001b[A"
     ]
    },
    {
     "name": "stdout",
     "output_type": "stream",
     "text": [
      "2022-08-22 10:13:01,125 - src.utils.image_download - WARNING - Error occurered: File not in extensions\n",
      "2022-08-22 10:13:01,125 - src.utils.image_download - WARNING - Error occurered: File not in extensions\n"
     ]
    },
    {
     "name": "stderr",
     "output_type": "stream",
     "text": [
      "\n",
      " 80%|██████████████████████████████████▍        | 16/20 [00:12<00:02,  1.61it/s]\u001b[A\n",
      " 85%|████████████████████████████████████▌      | 17/20 [00:12<00:01,  1.67it/s]\u001b[A\n",
      " 90%|██████████████████████████████████████▋    | 18/20 [00:13<00:01,  1.61it/s]\u001b[A\n",
      " 95%|████████████████████████████████████████▊  | 19/20 [00:13<00:00,  2.00it/s]\u001b[A"
     ]
    },
    {
     "name": "stdout",
     "output_type": "stream",
     "text": [
      "2022-08-22 10:13:03,286 - src.utils.image_download - WARNING - Error occurered: File not in extensions\n",
      "2022-08-22 10:13:03,286 - src.utils.image_download - WARNING - Error occurered: File not in extensions\n"
     ]
    },
    {
     "name": "stderr",
     "output_type": "stream",
     "text": [
      "\n",
      "100%|███████████████████████████████████████████| 20/20 [00:14<00:00,  2.18it/s]\u001b[A\n",
      "\n",
      "  0%|                                                    | 0/20 [00:00<?, ?it/s]\u001b[A\u001b[A"
     ]
    },
    {
     "name": "stdout",
     "output_type": "stream",
     "text": [
      "2022-08-22 10:13:06,459 - src.utils.image_download - WARNING - Error occurered: ??\n",
      "2022-08-22 10:13:06,459 - src.utils.image_download - WARNING - Error occurered: ??\n"
     ]
    },
    {
     "name": "stderr",
     "output_type": "stream",
     "text": [
      "\n",
      "\n",
      "  5%|██▏                                         | 1/20 [00:03<00:57,  3.02s/it]\u001b[A\u001b[A\n",
      "\n",
      " 10%|████▍                                       | 2/20 [00:03<00:23,  1.32s/it]\u001b[A\u001b[A\n",
      "\n",
      " 15%|██████▌                                     | 3/20 [00:03<00:13,  1.31it/s]\u001b[A\u001b[A\n",
      "\n",
      " 20%|████████▊                                   | 4/20 [00:03<00:09,  1.76it/s]\u001b[A\u001b[A\n",
      "\n",
      " 25%|███████████                                 | 5/20 [00:03<00:07,  2.08it/s]\u001b[A\u001b[A\n",
      "\n",
      " 35%|███████████████▍                            | 7/20 [00:04<00:03,  3.62it/s]\u001b[A\u001b[A\n",
      "\n",
      " 40%|█████████████████▌                          | 8/20 [00:05<00:08,  1.45it/s]\u001b[A\u001b[A\n",
      "\n",
      " 45%|███████████████████▊                        | 9/20 [00:05<00:05,  1.86it/s]\u001b[A\u001b[A\n",
      "\n",
      "100%|███████████████████████████████████████████| 20/20 [00:39<00:00,  1.96s/it]\u001b[A\u001b[A\n",
      "100%|███████████████████████████████████████████| 20/20 [00:20<00:00,  1.01s/it]\n",
      "\n",
      "\n",
      " 55%|███████████████████████▋                   | 11/20 [00:06<00:03,  3.00it/s]\u001b[A\u001b[A\n",
      "\n",
      " 60%|█████████████████████████▊                 | 12/20 [00:06<00:03,  2.55it/s]\u001b[A\u001b[A\n",
      "\n",
      " 65%|███████████████████████████▉               | 13/20 [00:06<00:02,  3.21it/s]\u001b[A\u001b[A"
     ]
    },
    {
     "name": "stdout",
     "output_type": "stream",
     "text": [
      "2022-08-22 10:13:10,613 - src.utils.image_download - WARNING - Error occurered: File not in extensions\n",
      "2022-08-22 10:13:10,613 - src.utils.image_download - WARNING - Error occurered: File not in extensions\n"
     ]
    },
    {
     "name": "stderr",
     "output_type": "stream",
     "text": [
      "\n",
      "\n",
      " 75%|████████████████████████████████▎          | 15/20 [00:07<00:01,  4.13it/s]\u001b[A\u001b[A\n",
      "\n",
      " 80%|██████████████████████████████████▍        | 16/20 [00:07<00:00,  4.36it/s]\u001b[A\u001b[A\n",
      "\n",
      " 85%|████████████████████████████████████▌      | 17/20 [00:07<00:00,  4.03it/s]\u001b[A\u001b[A\n",
      "\n",
      " 90%|██████████████████████████████████████▋    | 18/20 [00:07<00:00,  4.18it/s]\u001b[A\u001b[A\n",
      "\n",
      " 95%|████████████████████████████████████████▊  | 19/20 [00:08<00:00,  2.15it/s]\u001b[A\u001b[A\n",
      "\n",
      "100%|███████████████████████████████████████████| 20/20 [00:09<00:00,  2.17it/s]\u001b[A\u001b[A\n",
      " 30%|█████████████▏                              | 6/20 [00:03<00:06,  2.21it/s]"
     ]
    },
    {
     "name": "stdout",
     "output_type": "stream",
     "text": [
      "2022-08-22 10:13:17,054 - src.utils.image_download - WARNING - Error occurered: ??\n",
      "2022-08-22 10:13:17,054 - src.utils.image_download - WARNING - Error occurered: ??\n",
      "2022-08-22 10:13:17,112 - src.utils.image_download - WARNING - Error occurered: File not in extensions\n",
      "2022-08-22 10:13:17,112 - src.utils.image_download - WARNING - Error occurered: File not in extensions\n"
     ]
    },
    {
     "name": "stderr",
     "output_type": "stream",
     "text": [
      " 65%|███████████████████████████▉               | 13/20 [00:07<00:02,  2.37it/s]"
     ]
    },
    {
     "name": "stdout",
     "output_type": "stream",
     "text": [
      "2022-08-22 10:13:20,373 - src.utils.image_download - WARNING - Error occurered: File not in extensions\n",
      "2022-08-22 10:13:20,373 - src.utils.image_download - WARNING - Error occurered: File not in extensions\n"
     ]
    },
    {
     "name": "stderr",
     "output_type": "stream",
     "text": [
      "100%|███████████████████████████████████████████| 20/20 [00:10<00:00,  1.99it/s]\n"
     ]
    }
   ],
   "source": [
    "for car_model in all_models:\n",
    "    ImageDownloader().download(car_model, 20, save_dir=image_path)"
   ]
  },
  {
   "cell_type": "code",
   "execution_count": 10,
   "id": "32e0ff0f",
   "metadata": {},
   "outputs": [
    {
     "data": {
      "text/plain": [
       "400"
      ]
     },
     "execution_count": 10,
     "metadata": {},
     "output_type": "execute_result"
    }
   ],
   "source": [
    "imgs_path = glob('/data/grubles/car_brand_recognition/custom_cars_dataset/images_20/*/*')\n",
    "len(imgs_path)"
   ]
  },
  {
   "cell_type": "code",
   "execution_count": 11,
   "id": "a7d4ebbd",
   "metadata": {},
   "outputs": [
    {
     "name": "stdout",
     "output_type": "stream",
     "text": [
      "load checkpoint from local path: /home/sotiris/Projects/mmdetection/checkpoints/bdd100k/cascade_rcnn_r50_fpn_1x_det_bdd100k.pth\n"
     ]
    },
    {
     "name": "stderr",
     "output_type": "stream",
     "text": [
      "/home/sotiris/Projects/mmdetection/mmdet/apis/inference.py:50: UserWarning: Class names are not saved in the checkpoint's meta data, use COCO classes by default.\n",
      "  warnings.warn('Class names are not saved in the checkpoint\\'s '\n",
      "/home/sotiris/Projects/mmdetection/mmdet/datasets/utils.py:66: UserWarning: \"ImageToTensor\" pipeline is replaced by \"DefaultFormatBundle\" for batch inference. It is recommended to manually replace it in the test data pipeline in your config file.\n",
      "  warnings.warn(\n"
     ]
    },
    {
     "name": "stdout",
     "output_type": "stream",
     "text": [
      "/data/grubles/car_brand_recognition/custom_cars_dataset/images_20/PEUGEOT-2008/PEUGEOT-2008_15.jpeg\n"
     ]
    },
    {
     "name": "stderr",
     "output_type": "stream",
     "text": [
      "/data/grubles/car_brand_recognition/custom_cars_dataset/notebooks/../src/detect_n_crop.py:39: ResourceWarning: unclosed file <_io.BufferedReader name='/data/grubles/car_brand_recognition/custom_cars_dataset/images_20/PEUGEOT-2008/PEUGEOT-2008_15.jpeg'>\n",
      "  img = Image.open(frame)\n",
      "ResourceWarning: Enable tracemalloc to get the object allocation traceback\n",
      "/data/grubles/car_brand_recognition/custom_cars_dataset/notebooks/../src/detect_n_crop.py:85: ResourceWarning: unclosed file <_io.BufferedReader name='/data/grubles/car_brand_recognition/custom_cars_dataset/images_20/PEUGEOT-2008/PEUGEOT-2008_13.jpeg'>\n",
      "  img = Image.open(frame)\n",
      "ResourceWarning: Enable tracemalloc to get the object allocation traceback\n"
     ]
    },
    {
     "name": "stdout",
     "output_type": "stream",
     "text": [
      "/data/grubles/car_brand_recognition/custom_cars_dataset/images_20/PEUGEOT-2008/PEUGEOT-2008_13.jpeg\n",
      "/data/grubles/car_brand_recognition/custom_cars_dataset/images_20/PEUGEOT-2008/PEUGEOT-2008_3.jpeg\n",
      "/data/grubles/car_brand_recognition/custom_cars_dataset/images_20/PEUGEOT-2008/PEUGEOT-2008_12.jpeg\n"
     ]
    },
    {
     "name": "stderr",
     "output_type": "stream",
     "text": [
      "/data/grubles/car_brand_recognition/custom_cars_dataset/notebooks/../src/detect_n_crop.py:85: ResourceWarning: unclosed file <_io.BufferedReader name='/data/grubles/car_brand_recognition/custom_cars_dataset/images_20/PEUGEOT-2008/PEUGEOT-2008_3.jpeg'>\n",
      "  img = Image.open(frame)\n",
      "ResourceWarning: Enable tracemalloc to get the object allocation traceback\n",
      "/data/grubles/car_brand_recognition/custom_cars_dataset/notebooks/../src/detect_n_crop.py:85: ResourceWarning: unclosed file <_io.BufferedReader name='/data/grubles/car_brand_recognition/custom_cars_dataset/images_20/PEUGEOT-2008/PEUGEOT-2008_12.jpeg'>\n",
      "  img = Image.open(frame)\n",
      "ResourceWarning: Enable tracemalloc to get the object allocation traceback\n"
     ]
    },
    {
     "name": "stdout",
     "output_type": "stream",
     "text": [
      "/data/grubles/car_brand_recognition/custom_cars_dataset/images_20/PEUGEOT-2008/PEUGEOT-2008_6.jpeg\n"
     ]
    },
    {
     "name": "stderr",
     "output_type": "stream",
     "text": [
      "/data/grubles/car_brand_recognition/custom_cars_dataset/notebooks/../src/detect_n_crop.py:85: ResourceWarning: unclosed file <_io.BufferedReader name='/data/grubles/car_brand_recognition/custom_cars_dataset/images_20/PEUGEOT-2008/PEUGEOT-2008_6.jpeg'>\n",
      "  img = Image.open(frame)\n",
      "ResourceWarning: Enable tracemalloc to get the object allocation traceback\n"
     ]
    },
    {
     "name": "stdout",
     "output_type": "stream",
     "text": [
      "/data/grubles/car_brand_recognition/custom_cars_dataset/images_20/PEUGEOT-2008/PEUGEOT-2008_7.jpeg\n",
      "/data/grubles/car_brand_recognition/custom_cars_dataset/images_20/PEUGEOT-2008/PEUGEOT-2008_1.jpeg\n"
     ]
    },
    {
     "name": "stderr",
     "output_type": "stream",
     "text": [
      "/data/grubles/car_brand_recognition/custom_cars_dataset/notebooks/../src/detect_n_crop.py:85: ResourceWarning: unclosed file <_io.BufferedReader name='/data/grubles/car_brand_recognition/custom_cars_dataset/images_20/PEUGEOT-2008/PEUGEOT-2008_7.jpeg'>\n",
      "  img = Image.open(frame)\n",
      "ResourceWarning: Enable tracemalloc to get the object allocation traceback\n",
      "/data/grubles/car_brand_recognition/custom_cars_dataset/notebooks/../src/detect_n_crop.py:39: ResourceWarning: unclosed file <_io.BufferedReader name='/data/grubles/car_brand_recognition/custom_cars_dataset/images_20/PEUGEOT-2008/PEUGEOT-2008_1.jpeg'>\n",
      "  img = Image.open(frame)\n",
      "ResourceWarning: Enable tracemalloc to get the object allocation traceback\n"
     ]
    },
    {
     "name": "stdout",
     "output_type": "stream",
     "text": [
      "/data/grubles/car_brand_recognition/custom_cars_dataset/images_20/PEUGEOT-2008/PEUGEOT-2008_2.jpeg\n",
      "/data/grubles/car_brand_recognition/custom_cars_dataset/images_20/PEUGEOT-2008/PEUGEOT-2008_4.jpeg\n"
     ]
    },
    {
     "name": "stderr",
     "output_type": "stream",
     "text": [
      "/data/grubles/car_brand_recognition/custom_cars_dataset/notebooks/../src/detect_n_crop.py:85: ResourceWarning: unclosed file <_io.BufferedReader name='/data/grubles/car_brand_recognition/custom_cars_dataset/images_20/PEUGEOT-2008/PEUGEOT-2008_2.jpeg'>\n",
      "  img = Image.open(frame)\n",
      "ResourceWarning: Enable tracemalloc to get the object allocation traceback\n",
      "/data/grubles/car_brand_recognition/custom_cars_dataset/notebooks/../src/detect_n_crop.py:39: ResourceWarning: unclosed file <_io.BufferedReader name='/data/grubles/car_brand_recognition/custom_cars_dataset/images_20/PEUGEOT-2008/PEUGEOT-2008_4.jpeg'>\n",
      "  img = Image.open(frame)\n",
      "ResourceWarning: Enable tracemalloc to get the object allocation traceback\n"
     ]
    },
    {
     "name": "stdout",
     "output_type": "stream",
     "text": [
      "/data/grubles/car_brand_recognition/custom_cars_dataset/images_20/PEUGEOT-2008/PEUGEOT-2008_18.png\n",
      "/data/grubles/car_brand_recognition/custom_cars_dataset/images_20/PEUGEOT-2008/PEUGEOT-2008_10.jpeg\n"
     ]
    },
    {
     "name": "stderr",
     "output_type": "stream",
     "text": [
      "/data/grubles/car_brand_recognition/custom_cars_dataset/notebooks/../src/detect_n_crop.py:85: ResourceWarning: unclosed file <_io.BufferedReader name='/data/grubles/car_brand_recognition/custom_cars_dataset/images_20/PEUGEOT-2008/PEUGEOT-2008_18.png'>\n",
      "  img = Image.open(frame)\n",
      "ResourceWarning: Enable tracemalloc to get the object allocation traceback\n",
      "/data/grubles/car_brand_recognition/custom_cars_dataset/notebooks/../src/detect_n_crop.py:85: ResourceWarning: unclosed file <_io.BufferedReader name='/data/grubles/car_brand_recognition/custom_cars_dataset/images_20/PEUGEOT-2008/PEUGEOT-2008_10.jpeg'>\n",
      "  img = Image.open(frame)\n",
      "ResourceWarning: Enable tracemalloc to get the object allocation traceback\n"
     ]
    },
    {
     "name": "stdout",
     "output_type": "stream",
     "text": [
      "/data/grubles/car_brand_recognition/custom_cars_dataset/images_20/PEUGEOT-2008/PEUGEOT-2008_11.jpeg\n",
      "/data/grubles/car_brand_recognition/custom_cars_dataset/images_20/PEUGEOT-2008/PEUGEOT-2008_16.png\n"
     ]
    },
    {
     "name": "stderr",
     "output_type": "stream",
     "text": [
      "/data/grubles/car_brand_recognition/custom_cars_dataset/notebooks/../src/detect_n_crop.py:85: ResourceWarning: unclosed file <_io.BufferedReader name='/data/grubles/car_brand_recognition/custom_cars_dataset/images_20/PEUGEOT-2008/PEUGEOT-2008_11.jpeg'>\n",
      "  img = Image.open(frame)\n",
      "ResourceWarning: Enable tracemalloc to get the object allocation traceback\n",
      "/data/grubles/car_brand_recognition/custom_cars_dataset/notebooks/../src/detect_n_crop.py:85: ResourceWarning: unclosed file <_io.BufferedReader name='/data/grubles/car_brand_recognition/custom_cars_dataset/images_20/PEUGEOT-2008/PEUGEOT-2008_16.png'>\n",
      "  img = Image.open(frame)\n",
      "ResourceWarning: Enable tracemalloc to get the object allocation traceback\n"
     ]
    },
    {
     "name": "stdout",
     "output_type": "stream",
     "text": [
      "/data/grubles/car_brand_recognition/custom_cars_dataset/images_20/PEUGEOT-2008/PEUGEOT-2008_20.jpeg\n",
      "/data/grubles/car_brand_recognition/custom_cars_dataset/images_20/PEUGEOT-2008/PEUGEOT-2008_9.jpeg\n"
     ]
    },
    {
     "name": "stderr",
     "output_type": "stream",
     "text": [
      "/data/grubles/car_brand_recognition/custom_cars_dataset/notebooks/../src/detect_n_crop.py:39: ResourceWarning: unclosed file <_io.BufferedReader name='/data/grubles/car_brand_recognition/custom_cars_dataset/images_20/PEUGEOT-2008/PEUGEOT-2008_20.jpeg'>\n",
      "  img = Image.open(frame)\n",
      "ResourceWarning: Enable tracemalloc to get the object allocation traceback\n",
      "/data/grubles/car_brand_recognition/custom_cars_dataset/notebooks/../src/detect_n_crop.py:85: ResourceWarning: unclosed file <_io.BufferedReader name='/data/grubles/car_brand_recognition/custom_cars_dataset/images_20/PEUGEOT-2008/PEUGEOT-2008_9.jpeg'>\n",
      "  img = Image.open(frame)\n",
      "ResourceWarning: Enable tracemalloc to get the object allocation traceback\n"
     ]
    },
    {
     "name": "stdout",
     "output_type": "stream",
     "text": [
      "/data/grubles/car_brand_recognition/custom_cars_dataset/images_20/PEUGEOT-2008/PEUGEOT-2008_5.jpeg\n"
     ]
    },
    {
     "name": "stderr",
     "output_type": "stream",
     "text": [
      "/data/grubles/car_brand_recognition/custom_cars_dataset/notebooks/../src/detect_n_crop.py:85: ResourceWarning: unclosed file <_io.BufferedReader name='/data/grubles/car_brand_recognition/custom_cars_dataset/images_20/PEUGEOT-2008/PEUGEOT-2008_5.jpeg'>\n",
      "  img = Image.open(frame)\n",
      "ResourceWarning: Enable tracemalloc to get the object allocation traceback\n"
     ]
    },
    {
     "name": "stdout",
     "output_type": "stream",
     "text": [
      "/data/grubles/car_brand_recognition/custom_cars_dataset/images_20/PEUGEOT-2008/PEUGEOT-2008_8.jpeg\n",
      "/data/grubles/car_brand_recognition/custom_cars_dataset/images_20/PEUGEOT-2008/PEUGEOT-2008_19.jpeg\n",
      "/data/grubles/car_brand_recognition/custom_cars_dataset/images_20/PEUGEOT-2008/PEUGEOT-2008_14.jpeg\n"
     ]
    },
    {
     "name": "stderr",
     "output_type": "stream",
     "text": [
      "/data/grubles/car_brand_recognition/custom_cars_dataset/notebooks/../src/detect_n_crop.py:39: ResourceWarning: unclosed file <_io.BufferedReader name='/data/grubles/car_brand_recognition/custom_cars_dataset/images_20/PEUGEOT-2008/PEUGEOT-2008_8.jpeg'>\n",
      "  img = Image.open(frame)\n",
      "ResourceWarning: Enable tracemalloc to get the object allocation traceback\n",
      "/data/grubles/car_brand_recognition/custom_cars_dataset/notebooks/../src/detect_n_crop.py:39: ResourceWarning: unclosed file <_io.BufferedReader name='/data/grubles/car_brand_recognition/custom_cars_dataset/images_20/PEUGEOT-2008/PEUGEOT-2008_19.jpeg'>\n",
      "  img = Image.open(frame)\n",
      "ResourceWarning: Enable tracemalloc to get the object allocation traceback\n",
      "/data/grubles/car_brand_recognition/custom_cars_dataset/notebooks/../src/detect_n_crop.py:39: ResourceWarning: unclosed file <_io.BufferedReader name='/data/grubles/car_brand_recognition/custom_cars_dataset/images_20/PEUGEOT-2008/PEUGEOT-2008_14.jpeg'>\n",
      "  img = Image.open(frame)\n",
      "ResourceWarning: Enable tracemalloc to get the object allocation traceback\n"
     ]
    },
    {
     "name": "stdout",
     "output_type": "stream",
     "text": [
      "/data/grubles/car_brand_recognition/custom_cars_dataset/images_20/PEUGEOT-2008/PEUGEOT-2008_17.jpeg\n",
      "/data/grubles/car_brand_recognition/custom_cars_dataset/images_20/MERCEDES-A/MERCEDES-A_4.jpeg\n"
     ]
    },
    {
     "name": "stderr",
     "output_type": "stream",
     "text": [
      "/data/grubles/car_brand_recognition/custom_cars_dataset/notebooks/../src/detect_n_crop.py:85: ResourceWarning: unclosed file <_io.BufferedReader name='/data/grubles/car_brand_recognition/custom_cars_dataset/images_20/PEUGEOT-2008/PEUGEOT-2008_17.jpeg'>\n",
      "  img = Image.open(frame)\n",
      "ResourceWarning: Enable tracemalloc to get the object allocation traceback\n",
      "/data/grubles/car_brand_recognition/custom_cars_dataset/notebooks/../src/detect_n_crop.py:85: ResourceWarning: unclosed file <_io.BufferedReader name='/data/grubles/car_brand_recognition/custom_cars_dataset/images_20/MERCEDES-A/MERCEDES-A_4.jpeg'>\n",
      "  img = Image.open(frame)\n",
      "ResourceWarning: Enable tracemalloc to get the object allocation traceback\n"
     ]
    },
    {
     "name": "stdout",
     "output_type": "stream",
     "text": [
      "/data/grubles/car_brand_recognition/custom_cars_dataset/images_20/MERCEDES-A/MERCEDES-A_19.jpeg\n",
      "/data/grubles/car_brand_recognition/custom_cars_dataset/images_20/MERCEDES-A/MERCEDES-A_2.jpeg\n"
     ]
    },
    {
     "name": "stderr",
     "output_type": "stream",
     "text": [
      "/data/grubles/car_brand_recognition/custom_cars_dataset/notebooks/../src/detect_n_crop.py:39: ResourceWarning: unclosed file <_io.BufferedReader name='/data/grubles/car_brand_recognition/custom_cars_dataset/images_20/MERCEDES-A/MERCEDES-A_19.jpeg'>\n",
      "  img = Image.open(frame)\n",
      "ResourceWarning: Enable tracemalloc to get the object allocation traceback\n",
      "/data/grubles/car_brand_recognition/custom_cars_dataset/notebooks/../src/detect_n_crop.py:85: ResourceWarning: unclosed file <_io.BufferedReader name='/data/grubles/car_brand_recognition/custom_cars_dataset/images_20/MERCEDES-A/MERCEDES-A_2.jpeg'>\n",
      "  img = Image.open(frame)\n",
      "ResourceWarning: Enable tracemalloc to get the object allocation traceback\n"
     ]
    },
    {
     "name": "stdout",
     "output_type": "stream",
     "text": [
      "/data/grubles/car_brand_recognition/custom_cars_dataset/images_20/MERCEDES-A/MERCEDES-A_5.jpeg\n"
     ]
    },
    {
     "name": "stderr",
     "output_type": "stream",
     "text": [
      "/data/grubles/car_brand_recognition/custom_cars_dataset/notebooks/../src/detect_n_crop.py:85: ResourceWarning: unclosed file <_io.BufferedReader name='/data/grubles/car_brand_recognition/custom_cars_dataset/images_20/MERCEDES-A/MERCEDES-A_5.jpeg'>\n",
      "  img = Image.open(frame)\n",
      "ResourceWarning: Enable tracemalloc to get the object allocation traceback\n",
      "/data/grubles/car_brand_recognition/custom_cars_dataset/notebooks/../src/detect_n_crop.py:39: ResourceWarning: unclosed file <_io.BufferedReader name='/data/grubles/car_brand_recognition/custom_cars_dataset/images_20/MERCEDES-A/MERCEDES-A_1.jpeg'>\n",
      "  img = Image.open(frame)\n",
      "ResourceWarning: Enable tracemalloc to get the object allocation traceback\n"
     ]
    },
    {
     "name": "stdout",
     "output_type": "stream",
     "text": [
      "/data/grubles/car_brand_recognition/custom_cars_dataset/images_20/MERCEDES-A/MERCEDES-A_1.jpeg\n",
      "/data/grubles/car_brand_recognition/custom_cars_dataset/images_20/MERCEDES-A/MERCEDES-A_7.jpeg\n",
      "/data/grubles/car_brand_recognition/custom_cars_dataset/images_20/MERCEDES-A/MERCEDES-A_17.jpeg\n"
     ]
    },
    {
     "name": "stderr",
     "output_type": "stream",
     "text": [
      "/data/grubles/car_brand_recognition/custom_cars_dataset/notebooks/../src/detect_n_crop.py:85: ResourceWarning: unclosed file <_io.BufferedReader name='/data/grubles/car_brand_recognition/custom_cars_dataset/images_20/MERCEDES-A/MERCEDES-A_7.jpeg'>\n",
      "  img = Image.open(frame)\n",
      "ResourceWarning: Enable tracemalloc to get the object allocation traceback\n",
      "/data/grubles/car_brand_recognition/custom_cars_dataset/notebooks/../src/detect_n_crop.py:85: ResourceWarning: unclosed file <_io.BufferedReader name='/data/grubles/car_brand_recognition/custom_cars_dataset/images_20/MERCEDES-A/MERCEDES-A_17.jpeg'>\n",
      "  img = Image.open(frame)\n",
      "ResourceWarning: Enable tracemalloc to get the object allocation traceback\n"
     ]
    },
    {
     "name": "stdout",
     "output_type": "stream",
     "text": [
      "/data/grubles/car_brand_recognition/custom_cars_dataset/images_20/MERCEDES-A/MERCEDES-A_18.jpeg\n",
      "/data/grubles/car_brand_recognition/custom_cars_dataset/images_20/MERCEDES-A/MERCEDES-A_6.jpeg\n"
     ]
    },
    {
     "name": "stderr",
     "output_type": "stream",
     "text": [
      "/data/grubles/car_brand_recognition/custom_cars_dataset/notebooks/../src/detect_n_crop.py:85: ResourceWarning: unclosed file <_io.BufferedReader name='/data/grubles/car_brand_recognition/custom_cars_dataset/images_20/MERCEDES-A/MERCEDES-A_18.jpeg'>\n",
      "  img = Image.open(frame)\n",
      "ResourceWarning: Enable tracemalloc to get the object allocation traceback\n",
      "/data/grubles/car_brand_recognition/custom_cars_dataset/notebooks/../src/detect_n_crop.py:85: ResourceWarning: unclosed file <_io.BufferedReader name='/data/grubles/car_brand_recognition/custom_cars_dataset/images_20/MERCEDES-A/MERCEDES-A_6.jpeg'>\n",
      "  img = Image.open(frame)\n",
      "ResourceWarning: Enable tracemalloc to get the object allocation traceback\n"
     ]
    },
    {
     "name": "stdout",
     "output_type": "stream",
     "text": [
      "/data/grubles/car_brand_recognition/custom_cars_dataset/images_20/MERCEDES-A/MERCEDES-A_13.jpeg\n",
      "/data/grubles/car_brand_recognition/custom_cars_dataset/images_20/MERCEDES-A/MERCEDES-A_12.jpeg\n"
     ]
    },
    {
     "name": "stderr",
     "output_type": "stream",
     "text": [
      "/data/grubles/car_brand_recognition/custom_cars_dataset/notebooks/../src/detect_n_crop.py:39: ResourceWarning: unclosed file <_io.BufferedReader name='/data/grubles/car_brand_recognition/custom_cars_dataset/images_20/MERCEDES-A/MERCEDES-A_13.jpeg'>\n",
      "  img = Image.open(frame)\n",
      "ResourceWarning: Enable tracemalloc to get the object allocation traceback\n",
      "/data/grubles/car_brand_recognition/custom_cars_dataset/notebooks/../src/detect_n_crop.py:85: ResourceWarning: unclosed file <_io.BufferedReader name='/data/grubles/car_brand_recognition/custom_cars_dataset/images_20/MERCEDES-A/MERCEDES-A_12.jpeg'>\n",
      "  img = Image.open(frame)\n",
      "ResourceWarning: Enable tracemalloc to get the object allocation traceback\n"
     ]
    },
    {
     "name": "stdout",
     "output_type": "stream",
     "text": [
      "/data/grubles/car_brand_recognition/custom_cars_dataset/images_20/MERCEDES-A/MERCEDES-A_9.jpeg\n"
     ]
    },
    {
     "name": "stderr",
     "output_type": "stream",
     "text": [
      "/data/grubles/car_brand_recognition/custom_cars_dataset/notebooks/../src/detect_n_crop.py:85: ResourceWarning: unclosed file <_io.BufferedReader name='/data/grubles/car_brand_recognition/custom_cars_dataset/images_20/MERCEDES-A/MERCEDES-A_9.jpeg'>\n",
      "  img = Image.open(frame)\n",
      "ResourceWarning: Enable tracemalloc to get the object allocation traceback\n"
     ]
    },
    {
     "name": "stdout",
     "output_type": "stream",
     "text": [
      "/data/grubles/car_brand_recognition/custom_cars_dataset/images_20/MERCEDES-A/MERCEDES-A_3.jpeg\n",
      "/data/grubles/car_brand_recognition/custom_cars_dataset/images_20/MERCEDES-A/MERCEDES-A_15.jpeg\n"
     ]
    },
    {
     "name": "stderr",
     "output_type": "stream",
     "text": [
      "/data/grubles/car_brand_recognition/custom_cars_dataset/notebooks/../src/detect_n_crop.py:85: ResourceWarning: unclosed file <_io.BufferedReader name='/data/grubles/car_brand_recognition/custom_cars_dataset/images_20/MERCEDES-A/MERCEDES-A_3.jpeg'>\n",
      "  img = Image.open(frame)\n",
      "ResourceWarning: Enable tracemalloc to get the object allocation traceback\n",
      "/data/grubles/car_brand_recognition/custom_cars_dataset/notebooks/../src/detect_n_crop.py:85: ResourceWarning: unclosed file <_io.BufferedReader name='/data/grubles/car_brand_recognition/custom_cars_dataset/images_20/MERCEDES-A/MERCEDES-A_15.jpeg'>\n",
      "  img = Image.open(frame)\n",
      "ResourceWarning: Enable tracemalloc to get the object allocation traceback\n"
     ]
    },
    {
     "name": "stdout",
     "output_type": "stream",
     "text": [
      "/data/grubles/car_brand_recognition/custom_cars_dataset/images_20/MERCEDES-A/MERCEDES-A_16.jpeg\n",
      "/data/grubles/car_brand_recognition/custom_cars_dataset/images_20/MERCEDES-A/MERCEDES-A_14.jpeg\n",
      "/data/grubles/car_brand_recognition/custom_cars_dataset/images_20/MERCEDES-A/MERCEDES-A_11.jpeg\n"
     ]
    },
    {
     "name": "stderr",
     "output_type": "stream",
     "text": [
      "/data/grubles/car_brand_recognition/custom_cars_dataset/notebooks/../src/detect_n_crop.py:39: ResourceWarning: unclosed file <_io.BufferedReader name='/data/grubles/car_brand_recognition/custom_cars_dataset/images_20/MERCEDES-A/MERCEDES-A_16.jpeg'>\n",
      "  img = Image.open(frame)\n",
      "ResourceWarning: Enable tracemalloc to get the object allocation traceback\n",
      "/data/grubles/car_brand_recognition/custom_cars_dataset/notebooks/../src/detect_n_crop.py:39: ResourceWarning: unclosed file <_io.BufferedReader name='/data/grubles/car_brand_recognition/custom_cars_dataset/images_20/MERCEDES-A/MERCEDES-A_14.jpeg'>\n",
      "  img = Image.open(frame)\n",
      "ResourceWarning: Enable tracemalloc to get the object allocation traceback\n",
      "/data/grubles/car_brand_recognition/custom_cars_dataset/notebooks/../src/detect_n_crop.py:85: ResourceWarning: unclosed file <_io.BufferedReader name='/data/grubles/car_brand_recognition/custom_cars_dataset/images_20/MERCEDES-A/MERCEDES-A_11.jpeg'>\n",
      "  img = Image.open(frame)\n",
      "ResourceWarning: Enable tracemalloc to get the object allocation traceback\n"
     ]
    },
    {
     "name": "stdout",
     "output_type": "stream",
     "text": [
      "/data/grubles/car_brand_recognition/custom_cars_dataset/images_20/MERCEDES-A/MERCEDES-A_10.jpeg\n",
      "/data/grubles/car_brand_recognition/custom_cars_dataset/images_20/MERCEDES-A/MERCEDES-A_8.jpeg\n"
     ]
    },
    {
     "name": "stderr",
     "output_type": "stream",
     "text": [
      "/data/grubles/car_brand_recognition/custom_cars_dataset/notebooks/../src/detect_n_crop.py:85: ResourceWarning: unclosed file <_io.BufferedReader name='/data/grubles/car_brand_recognition/custom_cars_dataset/images_20/MERCEDES-A/MERCEDES-A_10.jpeg'>\n",
      "  img = Image.open(frame)\n",
      "ResourceWarning: Enable tracemalloc to get the object allocation traceback\n",
      "/data/grubles/car_brand_recognition/custom_cars_dataset/notebooks/../src/detect_n_crop.py:39: ResourceWarning: unclosed file <_io.BufferedReader name='/data/grubles/car_brand_recognition/custom_cars_dataset/images_20/MERCEDES-A/MERCEDES-A_8.jpeg'>\n",
      "  img = Image.open(frame)\n",
      "ResourceWarning: Enable tracemalloc to get the object allocation traceback\n"
     ]
    },
    {
     "name": "stdout",
     "output_type": "stream",
     "text": [
      "/data/grubles/car_brand_recognition/custom_cars_dataset/images_20/MERCEDES-A/MERCEDES-A_20.jpeg\n",
      "/data/grubles/car_brand_recognition/custom_cars_dataset/images_20/FIAT-PANDA/FIAT-PANDA_9.jpeg\n"
     ]
    },
    {
     "name": "stderr",
     "output_type": "stream",
     "text": [
      "/data/grubles/car_brand_recognition/custom_cars_dataset/notebooks/../src/detect_n_crop.py:85: ResourceWarning: unclosed file <_io.BufferedReader name='/data/grubles/car_brand_recognition/custom_cars_dataset/images_20/MERCEDES-A/MERCEDES-A_20.jpeg'>\n",
      "  img = Image.open(frame)\n",
      "ResourceWarning: Enable tracemalloc to get the object allocation traceback\n",
      "/data/grubles/car_brand_recognition/custom_cars_dataset/notebooks/../src/detect_n_crop.py:85: ResourceWarning: unclosed file <_io.BufferedReader name='/data/grubles/car_brand_recognition/custom_cars_dataset/images_20/FIAT-PANDA/FIAT-PANDA_9.jpeg'>\n",
      "  img = Image.open(frame)\n",
      "ResourceWarning: Enable tracemalloc to get the object allocation traceback\n"
     ]
    },
    {
     "name": "stdout",
     "output_type": "stream",
     "text": [
      "/data/grubles/car_brand_recognition/custom_cars_dataset/images_20/FIAT-PANDA/FIAT-PANDA_19.jpeg\n",
      "/data/grubles/car_brand_recognition/custom_cars_dataset/images_20/FIAT-PANDA/FIAT-PANDA_4.jpeg\n",
      "/data/grubles/car_brand_recognition/custom_cars_dataset/images_20/FIAT-PANDA/FIAT-PANDA_5.jpeg\n"
     ]
    },
    {
     "name": "stderr",
     "output_type": "stream",
     "text": [
      "/data/grubles/car_brand_recognition/custom_cars_dataset/notebooks/../src/detect_n_crop.py:39: ResourceWarning: unclosed file <_io.BufferedReader name='/data/grubles/car_brand_recognition/custom_cars_dataset/images_20/FIAT-PANDA/FIAT-PANDA_19.jpeg'>\n",
      "  img = Image.open(frame)\n",
      "ResourceWarning: Enable tracemalloc to get the object allocation traceback\n",
      "/data/grubles/car_brand_recognition/custom_cars_dataset/notebooks/../src/detect_n_crop.py:85: ResourceWarning: unclosed file <_io.BufferedReader name='/data/grubles/car_brand_recognition/custom_cars_dataset/images_20/FIAT-PANDA/FIAT-PANDA_4.jpeg'>\n",
      "  img = Image.open(frame)\n",
      "ResourceWarning: Enable tracemalloc to get the object allocation traceback\n",
      "/data/grubles/car_brand_recognition/custom_cars_dataset/notebooks/../src/detect_n_crop.py:85: ResourceWarning: unclosed file <_io.BufferedReader name='/data/grubles/car_brand_recognition/custom_cars_dataset/images_20/FIAT-PANDA/FIAT-PANDA_5.jpeg'>\n",
      "  img = Image.open(frame)\n",
      "ResourceWarning: Enable tracemalloc to get the object allocation traceback\n"
     ]
    },
    {
     "name": "stdout",
     "output_type": "stream",
     "text": [
      "/data/grubles/car_brand_recognition/custom_cars_dataset/images_20/FIAT-PANDA/FIAT-PANDA_14.jpeg\n",
      "/data/grubles/car_brand_recognition/custom_cars_dataset/images_20/FIAT-PANDA/FIAT-PANDA_1.jpeg\n",
      "/data/grubles/car_brand_recognition/custom_cars_dataset/images_20/FIAT-PANDA/FIAT-PANDA_16.jpeg\n"
     ]
    },
    {
     "name": "stderr",
     "output_type": "stream",
     "text": [
      "/data/grubles/car_brand_recognition/custom_cars_dataset/notebooks/../src/detect_n_crop.py:85: ResourceWarning: unclosed file <_io.BufferedReader name='/data/grubles/car_brand_recognition/custom_cars_dataset/images_20/FIAT-PANDA/FIAT-PANDA_14.jpeg'>\n",
      "  img = Image.open(frame)\n",
      "ResourceWarning: Enable tracemalloc to get the object allocation traceback\n",
      "/data/grubles/car_brand_recognition/custom_cars_dataset/notebooks/../src/detect_n_crop.py:85: ResourceWarning: unclosed file <_io.BufferedReader name='/data/grubles/car_brand_recognition/custom_cars_dataset/images_20/FIAT-PANDA/FIAT-PANDA_1.jpeg'>\n",
      "  img = Image.open(frame)\n",
      "ResourceWarning: Enable tracemalloc to get the object allocation traceback\n",
      "/data/grubles/car_brand_recognition/custom_cars_dataset/notebooks/../src/detect_n_crop.py:39: ResourceWarning: unclosed file <_io.BufferedReader name='/data/grubles/car_brand_recognition/custom_cars_dataset/images_20/FIAT-PANDA/FIAT-PANDA_16.jpeg'>\n",
      "  img = Image.open(frame)\n",
      "ResourceWarning: Enable tracemalloc to get the object allocation traceback\n"
     ]
    },
    {
     "name": "stdout",
     "output_type": "stream",
     "text": [
      "/data/grubles/car_brand_recognition/custom_cars_dataset/images_20/FIAT-PANDA/FIAT-PANDA_13.jpeg\n",
      "/data/grubles/car_brand_recognition/custom_cars_dataset/images_20/FIAT-PANDA/FIAT-PANDA_6.jpeg\n"
     ]
    },
    {
     "name": "stderr",
     "output_type": "stream",
     "text": [
      "/data/grubles/car_brand_recognition/custom_cars_dataset/notebooks/../src/detect_n_crop.py:39: ResourceWarning: unclosed file <_io.BufferedReader name='/data/grubles/car_brand_recognition/custom_cars_dataset/images_20/FIAT-PANDA/FIAT-PANDA_13.jpeg'>\n",
      "  img = Image.open(frame)\n",
      "ResourceWarning: Enable tracemalloc to get the object allocation traceback\n",
      "/data/grubles/car_brand_recognition/custom_cars_dataset/notebooks/../src/detect_n_crop.py:85: ResourceWarning: unclosed file <_io.BufferedReader name='/data/grubles/car_brand_recognition/custom_cars_dataset/images_20/FIAT-PANDA/FIAT-PANDA_6.jpeg'>\n",
      "  img = Image.open(frame)\n",
      "ResourceWarning: Enable tracemalloc to get the object allocation traceback\n"
     ]
    },
    {
     "name": "stdout",
     "output_type": "stream",
     "text": [
      "/data/grubles/car_brand_recognition/custom_cars_dataset/images_20/FIAT-PANDA/FIAT-PANDA_17.jpeg\n",
      "/data/grubles/car_brand_recognition/custom_cars_dataset/images_20/FIAT-PANDA/FIAT-PANDA_18.jpeg\n",
      "/data/grubles/car_brand_recognition/custom_cars_dataset/images_20/FIAT-PANDA/FIAT-PANDA_8.jpeg\n"
     ]
    },
    {
     "name": "stderr",
     "output_type": "stream",
     "text": [
      "/data/grubles/car_brand_recognition/custom_cars_dataset/notebooks/../src/detect_n_crop.py:39: ResourceWarning: unclosed file <_io.BufferedReader name='/data/grubles/car_brand_recognition/custom_cars_dataset/images_20/FIAT-PANDA/FIAT-PANDA_17.jpeg'>\n",
      "  img = Image.open(frame)\n",
      "ResourceWarning: Enable tracemalloc to get the object allocation traceback\n",
      "/data/grubles/car_brand_recognition/custom_cars_dataset/notebooks/../src/detect_n_crop.py:39: ResourceWarning: unclosed file <_io.BufferedReader name='/data/grubles/car_brand_recognition/custom_cars_dataset/images_20/FIAT-PANDA/FIAT-PANDA_18.jpeg'>\n",
      "  img = Image.open(frame)\n",
      "ResourceWarning: Enable tracemalloc to get the object allocation traceback\n",
      "/data/grubles/car_brand_recognition/custom_cars_dataset/notebooks/../src/detect_n_crop.py:39: ResourceWarning: unclosed file <_io.BufferedReader name='/data/grubles/car_brand_recognition/custom_cars_dataset/images_20/FIAT-PANDA/FIAT-PANDA_8.jpeg'>\n",
      "  img = Image.open(frame)\n",
      "ResourceWarning: Enable tracemalloc to get the object allocation traceback\n"
     ]
    },
    {
     "name": "stdout",
     "output_type": "stream",
     "text": [
      "/data/grubles/car_brand_recognition/custom_cars_dataset/images_20/FIAT-PANDA/FIAT-PANDA_2.jpeg\n",
      "/data/grubles/car_brand_recognition/custom_cars_dataset/images_20/FIAT-PANDA/FIAT-PANDA_12.jpeg\n"
     ]
    },
    {
     "name": "stderr",
     "output_type": "stream",
     "text": [
      "/data/grubles/car_brand_recognition/custom_cars_dataset/notebooks/../src/detect_n_crop.py:85: ResourceWarning: unclosed file <_io.BufferedReader name='/data/grubles/car_brand_recognition/custom_cars_dataset/images_20/FIAT-PANDA/FIAT-PANDA_2.jpeg'>\n",
      "  img = Image.open(frame)\n",
      "ResourceWarning: Enable tracemalloc to get the object allocation traceback\n",
      "/data/grubles/car_brand_recognition/custom_cars_dataset/notebooks/../src/detect_n_crop.py:85: ResourceWarning: unclosed file <_io.BufferedReader name='/data/grubles/car_brand_recognition/custom_cars_dataset/images_20/FIAT-PANDA/FIAT-PANDA_12.jpeg'>\n",
      "  img = Image.open(frame)\n",
      "ResourceWarning: Enable tracemalloc to get the object allocation traceback\n"
     ]
    },
    {
     "name": "stdout",
     "output_type": "stream",
     "text": [
      "/data/grubles/car_brand_recognition/custom_cars_dataset/images_20/FIAT-PANDA/FIAT-PANDA_7.png\n",
      "/data/grubles/car_brand_recognition/custom_cars_dataset/images_20/FIAT-PANDA/FIAT-PANDA_10.jpeg\n"
     ]
    },
    {
     "name": "stderr",
     "output_type": "stream",
     "text": [
      "/data/grubles/car_brand_recognition/custom_cars_dataset/notebooks/../src/detect_n_crop.py:85: ResourceWarning: unclosed file <_io.BufferedReader name='/data/grubles/car_brand_recognition/custom_cars_dataset/images_20/FIAT-PANDA/FIAT-PANDA_7.png'>\n",
      "  img = Image.open(frame)\n",
      "ResourceWarning: Enable tracemalloc to get the object allocation traceback\n",
      "/data/grubles/car_brand_recognition/custom_cars_dataset/notebooks/../src/detect_n_crop.py:85: ResourceWarning: unclosed file <_io.BufferedReader name='/data/grubles/car_brand_recognition/custom_cars_dataset/images_20/FIAT-PANDA/FIAT-PANDA_10.jpeg'>\n",
      "  img = Image.open(frame)\n",
      "ResourceWarning: Enable tracemalloc to get the object allocation traceback\n"
     ]
    },
    {
     "name": "stdout",
     "output_type": "stream",
     "text": [
      "/data/grubles/car_brand_recognition/custom_cars_dataset/images_20/FIAT-PANDA/FIAT-PANDA_11.jpeg\n",
      "/data/grubles/car_brand_recognition/custom_cars_dataset/images_20/FIAT-PANDA/FIAT-PANDA_15.jpeg\n",
      "/data/grubles/car_brand_recognition/custom_cars_dataset/images_20/FIAT-PANDA/FIAT-PANDA_20.jpeg\n"
     ]
    },
    {
     "name": "stderr",
     "output_type": "stream",
     "text": [
      "/data/grubles/car_brand_recognition/custom_cars_dataset/notebooks/../src/detect_n_crop.py:85: ResourceWarning: unclosed file <_io.BufferedReader name='/data/grubles/car_brand_recognition/custom_cars_dataset/images_20/FIAT-PANDA/FIAT-PANDA_11.jpeg'>\n",
      "  img = Image.open(frame)\n",
      "ResourceWarning: Enable tracemalloc to get the object allocation traceback\n",
      "/data/grubles/car_brand_recognition/custom_cars_dataset/notebooks/../src/detect_n_crop.py:39: ResourceWarning: unclosed file <_io.BufferedReader name='/data/grubles/car_brand_recognition/custom_cars_dataset/images_20/FIAT-PANDA/FIAT-PANDA_15.jpeg'>\n",
      "  img = Image.open(frame)\n",
      "ResourceWarning: Enable tracemalloc to get the object allocation traceback\n",
      "/data/grubles/car_brand_recognition/custom_cars_dataset/notebooks/../src/detect_n_crop.py:85: ResourceWarning: unclosed file <_io.BufferedReader name='/data/grubles/car_brand_recognition/custom_cars_dataset/images_20/FIAT-PANDA/FIAT-PANDA_20.jpeg'>\n",
      "  img = Image.open(frame)\n",
      "ResourceWarning: Enable tracemalloc to get the object allocation traceback\n"
     ]
    },
    {
     "name": "stdout",
     "output_type": "stream",
     "text": [
      "/data/grubles/car_brand_recognition/custom_cars_dataset/images_20/FIAT-PANDA/FIAT-PANDA_3.png\n",
      "/data/grubles/car_brand_recognition/custom_cars_dataset/images_20/TOYOTA-C-HR/TOYOTA-C-HR_17.jpeg\n",
      "/data/grubles/car_brand_recognition/custom_cars_dataset/images_20/TOYOTA-C-HR/TOYOTA-C-HR_12.jpeg\n"
     ]
    },
    {
     "name": "stderr",
     "output_type": "stream",
     "text": [
      "/data/grubles/car_brand_recognition/custom_cars_dataset/notebooks/../src/detect_n_crop.py:85: ResourceWarning: unclosed file <_io.BufferedReader name='/data/grubles/car_brand_recognition/custom_cars_dataset/images_20/FIAT-PANDA/FIAT-PANDA_3.png'>\n",
      "  img = Image.open(frame)\n",
      "ResourceWarning: Enable tracemalloc to get the object allocation traceback\n",
      "/data/grubles/car_brand_recognition/custom_cars_dataset/notebooks/../src/detect_n_crop.py:39: ResourceWarning: unclosed file <_io.BufferedReader name='/data/grubles/car_brand_recognition/custom_cars_dataset/images_20/TOYOTA-C-HR/TOYOTA-C-HR_17.jpeg'>\n",
      "  img = Image.open(frame)\n",
      "ResourceWarning: Enable tracemalloc to get the object allocation traceback\n",
      "/data/grubles/car_brand_recognition/custom_cars_dataset/notebooks/../src/detect_n_crop.py:85: ResourceWarning: unclosed file <_io.BufferedReader name='/data/grubles/car_brand_recognition/custom_cars_dataset/images_20/TOYOTA-C-HR/TOYOTA-C-HR_12.jpeg'>\n",
      "  img = Image.open(frame)\n",
      "ResourceWarning: Enable tracemalloc to get the object allocation traceback\n"
     ]
    },
    {
     "name": "stdout",
     "output_type": "stream",
     "text": [
      "/data/grubles/car_brand_recognition/custom_cars_dataset/images_20/TOYOTA-C-HR/TOYOTA-C-HR_19.jpeg\n",
      "/data/grubles/car_brand_recognition/custom_cars_dataset/images_20/TOYOTA-C-HR/TOYOTA-C-HR_1.jpeg\n"
     ]
    },
    {
     "name": "stderr",
     "output_type": "stream",
     "text": [
      "/data/grubles/car_brand_recognition/custom_cars_dataset/notebooks/../src/detect_n_crop.py:85: ResourceWarning: unclosed file <_io.BufferedReader name='/data/grubles/car_brand_recognition/custom_cars_dataset/images_20/TOYOTA-C-HR/TOYOTA-C-HR_19.jpeg'>\n",
      "  img = Image.open(frame)\n",
      "ResourceWarning: Enable tracemalloc to get the object allocation traceback\n",
      "/data/grubles/car_brand_recognition/custom_cars_dataset/notebooks/../src/detect_n_crop.py:85: ResourceWarning: unclosed file <_io.BufferedReader name='/data/grubles/car_brand_recognition/custom_cars_dataset/images_20/TOYOTA-C-HR/TOYOTA-C-HR_1.jpeg'>\n",
      "  img = Image.open(frame)\n",
      "ResourceWarning: Enable tracemalloc to get the object allocation traceback\n"
     ]
    },
    {
     "name": "stdout",
     "output_type": "stream",
     "text": [
      "/data/grubles/car_brand_recognition/custom_cars_dataset/images_20/TOYOTA-C-HR/TOYOTA-C-HR_20.jpeg\n",
      "/data/grubles/car_brand_recognition/custom_cars_dataset/images_20/TOYOTA-C-HR/TOYOTA-C-HR_11.jpeg\n"
     ]
    },
    {
     "name": "stderr",
     "output_type": "stream",
     "text": [
      "/data/grubles/car_brand_recognition/custom_cars_dataset/notebooks/../src/detect_n_crop.py:85: ResourceWarning: unclosed file <_io.BufferedReader name='/data/grubles/car_brand_recognition/custom_cars_dataset/images_20/TOYOTA-C-HR/TOYOTA-C-HR_20.jpeg'>\n",
      "  img = Image.open(frame)\n",
      "ResourceWarning: Enable tracemalloc to get the object allocation traceback\n",
      "/data/grubles/car_brand_recognition/custom_cars_dataset/notebooks/../src/detect_n_crop.py:39: ResourceWarning: unclosed file <_io.BufferedReader name='/data/grubles/car_brand_recognition/custom_cars_dataset/images_20/TOYOTA-C-HR/TOYOTA-C-HR_11.jpeg'>\n",
      "  img = Image.open(frame)\n",
      "ResourceWarning: Enable tracemalloc to get the object allocation traceback\n",
      "/data/grubles/car_brand_recognition/custom_cars_dataset/notebooks/../src/detect_n_crop.py:85: ResourceWarning: unclosed file <_io.BufferedReader name='/data/grubles/car_brand_recognition/custom_cars_dataset/images_20/TOYOTA-C-HR/TOYOTA-C-HR_15.png'>\n",
      "  img = Image.open(frame)\n",
      "ResourceWarning: Enable tracemalloc to get the object allocation traceback\n",
      "/data/grubles/car_brand_recognition/custom_cars_dataset/notebooks/../src/detect_n_crop.py:39: ResourceWarning: unclosed file <_io.BufferedReader name='/data/grubles/car_brand_recognition/custom_cars_dataset/images_20/TOYOTA-C-HR/TOYOTA-C-HR_3.jpeg'>\n",
      "  img = Image.open(frame)\n",
      "ResourceWarning: Enable tracemalloc to get the object allocation traceback\n"
     ]
    },
    {
     "name": "stdout",
     "output_type": "stream",
     "text": [
      "/data/grubles/car_brand_recognition/custom_cars_dataset/images_20/TOYOTA-C-HR/TOYOTA-C-HR_15.png\n",
      "/data/grubles/car_brand_recognition/custom_cars_dataset/images_20/TOYOTA-C-HR/TOYOTA-C-HR_3.jpeg\n",
      "/data/grubles/car_brand_recognition/custom_cars_dataset/images_20/TOYOTA-C-HR/TOYOTA-C-HR_2.png\n"
     ]
    },
    {
     "name": "stderr",
     "output_type": "stream",
     "text": [
      "/data/grubles/car_brand_recognition/custom_cars_dataset/notebooks/../src/detect_n_crop.py:39: ResourceWarning: unclosed file <_io.BufferedReader name='/data/grubles/car_brand_recognition/custom_cars_dataset/images_20/TOYOTA-C-HR/TOYOTA-C-HR_2.png'>\n",
      "  img = Image.open(frame)\n",
      "ResourceWarning: Enable tracemalloc to get the object allocation traceback\n",
      "/data/grubles/car_brand_recognition/custom_cars_dataset/notebooks/../src/detect_n_crop.py:85: ResourceWarning: unclosed file <_io.BufferedReader name='/data/grubles/car_brand_recognition/custom_cars_dataset/images_20/TOYOTA-C-HR/TOYOTA-C-HR_8.png'>\n",
      "  img = Image.open(frame)\n",
      "ResourceWarning: Enable tracemalloc to get the object allocation traceback\n",
      "/data/grubles/car_brand_recognition/custom_cars_dataset/notebooks/../src/detect_n_crop.py:39: ResourceWarning: unclosed file <_io.BufferedReader name='/data/grubles/car_brand_recognition/custom_cars_dataset/images_20/TOYOTA-C-HR/TOYOTA-C-HR_16.jpeg'>\n",
      "  img = Image.open(frame)\n",
      "ResourceWarning: Enable tracemalloc to get the object allocation traceback\n"
     ]
    },
    {
     "name": "stdout",
     "output_type": "stream",
     "text": [
      "/data/grubles/car_brand_recognition/custom_cars_dataset/images_20/TOYOTA-C-HR/TOYOTA-C-HR_8.png\n",
      "/data/grubles/car_brand_recognition/custom_cars_dataset/images_20/TOYOTA-C-HR/TOYOTA-C-HR_16.jpeg\n",
      "/data/grubles/car_brand_recognition/custom_cars_dataset/images_20/TOYOTA-C-HR/TOYOTA-C-HR_14.jpeg\n"
     ]
    },
    {
     "name": "stderr",
     "output_type": "stream",
     "text": [
      "/data/grubles/car_brand_recognition/custom_cars_dataset/notebooks/../src/detect_n_crop.py:39: ResourceWarning: unclosed file <_io.BufferedReader name='/data/grubles/car_brand_recognition/custom_cars_dataset/images_20/TOYOTA-C-HR/TOYOTA-C-HR_14.jpeg'>\n",
      "  img = Image.open(frame)\n",
      "ResourceWarning: Enable tracemalloc to get the object allocation traceback\n",
      "/data/grubles/car_brand_recognition/custom_cars_dataset/notebooks/../src/detect_n_crop.py:39: ResourceWarning: unclosed file <_io.BufferedReader name='/data/grubles/car_brand_recognition/custom_cars_dataset/images_20/TOYOTA-C-HR/TOYOTA-C-HR_6.jpeg'>\n",
      "  img = Image.open(frame)\n",
      "ResourceWarning: Enable tracemalloc to get the object allocation traceback\n",
      "/data/grubles/car_brand_recognition/custom_cars_dataset/notebooks/../src/detect_n_crop.py:85: ResourceWarning: unclosed file <_io.BufferedReader name='/data/grubles/car_brand_recognition/custom_cars_dataset/images_20/TOYOTA-C-HR/TOYOTA-C-HR_13.jpeg'>\n",
      "  img = Image.open(frame)\n",
      "ResourceWarning: Enable tracemalloc to get the object allocation traceback\n"
     ]
    },
    {
     "name": "stdout",
     "output_type": "stream",
     "text": [
      "/data/grubles/car_brand_recognition/custom_cars_dataset/images_20/TOYOTA-C-HR/TOYOTA-C-HR_6.jpeg\n",
      "/data/grubles/car_brand_recognition/custom_cars_dataset/images_20/TOYOTA-C-HR/TOYOTA-C-HR_13.jpeg\n",
      "/data/grubles/car_brand_recognition/custom_cars_dataset/images_20/TOYOTA-C-HR/TOYOTA-C-HR_7.jpeg\n"
     ]
    },
    {
     "name": "stderr",
     "output_type": "stream",
     "text": [
      "/data/grubles/car_brand_recognition/custom_cars_dataset/notebooks/../src/detect_n_crop.py:85: ResourceWarning: unclosed file <_io.BufferedReader name='/data/grubles/car_brand_recognition/custom_cars_dataset/images_20/TOYOTA-C-HR/TOYOTA-C-HR_7.jpeg'>\n",
      "  img = Image.open(frame)\n",
      "ResourceWarning: Enable tracemalloc to get the object allocation traceback\n"
     ]
    },
    {
     "name": "stdout",
     "output_type": "stream",
     "text": [
      "/data/grubles/car_brand_recognition/custom_cars_dataset/images_20/TOYOTA-C-HR/TOYOTA-C-HR_5.jpeg\n",
      "/data/grubles/car_brand_recognition/custom_cars_dataset/images_20/TOYOTA-C-HR/TOYOTA-C-HR_9.jpeg\n"
     ]
    },
    {
     "name": "stderr",
     "output_type": "stream",
     "text": [
      "/data/grubles/car_brand_recognition/custom_cars_dataset/notebooks/../src/detect_n_crop.py:85: ResourceWarning: unclosed file <_io.BufferedReader name='/data/grubles/car_brand_recognition/custom_cars_dataset/images_20/TOYOTA-C-HR/TOYOTA-C-HR_5.jpeg'>\n",
      "  img = Image.open(frame)\n",
      "ResourceWarning: Enable tracemalloc to get the object allocation traceback\n",
      "/data/grubles/car_brand_recognition/custom_cars_dataset/notebooks/../src/detect_n_crop.py:39: ResourceWarning: unclosed file <_io.BufferedReader name='/data/grubles/car_brand_recognition/custom_cars_dataset/images_20/TOYOTA-C-HR/TOYOTA-C-HR_9.jpeg'>\n",
      "  img = Image.open(frame)\n",
      "ResourceWarning: Enable tracemalloc to get the object allocation traceback\n"
     ]
    },
    {
     "name": "stdout",
     "output_type": "stream",
     "text": [
      "/data/grubles/car_brand_recognition/custom_cars_dataset/images_20/TOYOTA-C-HR/TOYOTA-C-HR_4.jpeg\n",
      "/data/grubles/car_brand_recognition/custom_cars_dataset/images_20/TOYOTA-C-HR/TOYOTA-C-HR_10.jpeg\n"
     ]
    },
    {
     "name": "stderr",
     "output_type": "stream",
     "text": [
      "/data/grubles/car_brand_recognition/custom_cars_dataset/notebooks/../src/detect_n_crop.py:39: ResourceWarning: unclosed file <_io.BufferedReader name='/data/grubles/car_brand_recognition/custom_cars_dataset/images_20/TOYOTA-C-HR/TOYOTA-C-HR_4.jpeg'>\n",
      "  img = Image.open(frame)\n",
      "ResourceWarning: Enable tracemalloc to get the object allocation traceback\n",
      "/data/grubles/car_brand_recognition/custom_cars_dataset/notebooks/../src/detect_n_crop.py:85: ResourceWarning: unclosed file <_io.BufferedReader name='/data/grubles/car_brand_recognition/custom_cars_dataset/images_20/TOYOTA-C-HR/TOYOTA-C-HR_10.jpeg'>\n",
      "  img = Image.open(frame)\n",
      "ResourceWarning: Enable tracemalloc to get the object allocation traceback\n"
     ]
    },
    {
     "name": "stdout",
     "output_type": "stream",
     "text": [
      "/data/grubles/car_brand_recognition/custom_cars_dataset/images_20/TOYOTA-C-HR/TOYOTA-C-HR_18.jpeg\n",
      "/data/grubles/car_brand_recognition/custom_cars_dataset/images_20/HYUNDAI-I20/HYUNDAI-I20_8.jpeg\n"
     ]
    },
    {
     "name": "stderr",
     "output_type": "stream",
     "text": [
      "/data/grubles/car_brand_recognition/custom_cars_dataset/notebooks/../src/detect_n_crop.py:85: ResourceWarning: unclosed file <_io.BufferedReader name='/data/grubles/car_brand_recognition/custom_cars_dataset/images_20/TOYOTA-C-HR/TOYOTA-C-HR_18.jpeg'>\n",
      "  img = Image.open(frame)\n",
      "ResourceWarning: Enable tracemalloc to get the object allocation traceback\n",
      "/data/grubles/car_brand_recognition/custom_cars_dataset/notebooks/../src/detect_n_crop.py:39: ResourceWarning: unclosed file <_io.BufferedReader name='/data/grubles/car_brand_recognition/custom_cars_dataset/images_20/HYUNDAI-I20/HYUNDAI-I20_8.jpeg'>\n",
      "  img = Image.open(frame)\n",
      "ResourceWarning: Enable tracemalloc to get the object allocation traceback\n"
     ]
    },
    {
     "name": "stdout",
     "output_type": "stream",
     "text": [
      "/data/grubles/car_brand_recognition/custom_cars_dataset/images_20/HYUNDAI-I20/HYUNDAI-I20_18.jpeg\n",
      "/data/grubles/car_brand_recognition/custom_cars_dataset/images_20/HYUNDAI-I20/HYUNDAI-I20_19.jpeg\n",
      "/data/grubles/car_brand_recognition/custom_cars_dataset/images_20/HYUNDAI-I20/HYUNDAI-I20_10.jpeg\n"
     ]
    },
    {
     "name": "stderr",
     "output_type": "stream",
     "text": [
      "/data/grubles/car_brand_recognition/custom_cars_dataset/notebooks/../src/detect_n_crop.py:39: ResourceWarning: unclosed file <_io.BufferedReader name='/data/grubles/car_brand_recognition/custom_cars_dataset/images_20/HYUNDAI-I20/HYUNDAI-I20_18.jpeg'>\n",
      "  img = Image.open(frame)\n",
      "ResourceWarning: Enable tracemalloc to get the object allocation traceback\n",
      "/data/grubles/car_brand_recognition/custom_cars_dataset/notebooks/../src/detect_n_crop.py:39: ResourceWarning: unclosed file <_io.BufferedReader name='/data/grubles/car_brand_recognition/custom_cars_dataset/images_20/HYUNDAI-I20/HYUNDAI-I20_19.jpeg'>\n",
      "  img = Image.open(frame)\n",
      "ResourceWarning: Enable tracemalloc to get the object allocation traceback\n",
      "/data/grubles/car_brand_recognition/custom_cars_dataset/notebooks/../src/detect_n_crop.py:39: ResourceWarning: unclosed file <_io.BufferedReader name='/data/grubles/car_brand_recognition/custom_cars_dataset/images_20/HYUNDAI-I20/HYUNDAI-I20_10.jpeg'>\n",
      "  img = Image.open(frame)\n",
      "ResourceWarning: Enable tracemalloc to get the object allocation traceback\n"
     ]
    },
    {
     "name": "stdout",
     "output_type": "stream",
     "text": [
      "/data/grubles/car_brand_recognition/custom_cars_dataset/images_20/HYUNDAI-I20/HYUNDAI-I20_9.jpeg\n"
     ]
    },
    {
     "name": "stderr",
     "output_type": "stream",
     "text": [
      "/data/grubles/car_brand_recognition/custom_cars_dataset/notebooks/../src/detect_n_crop.py:85: ResourceWarning: unclosed file <_io.BufferedReader name='/data/grubles/car_brand_recognition/custom_cars_dataset/images_20/HYUNDAI-I20/HYUNDAI-I20_9.jpeg'>\n",
      "  img = Image.open(frame)\n",
      "ResourceWarning: Enable tracemalloc to get the object allocation traceback\n"
     ]
    },
    {
     "name": "stdout",
     "output_type": "stream",
     "text": [
      "/data/grubles/car_brand_recognition/custom_cars_dataset/images_20/HYUNDAI-I20/HYUNDAI-I20_17.jpeg\n",
      "/data/grubles/car_brand_recognition/custom_cars_dataset/images_20/HYUNDAI-I20/HYUNDAI-I20_20.jpeg\n",
      "/data/grubles/car_brand_recognition/custom_cars_dataset/images_20/HYUNDAI-I20/HYUNDAI-I20_14.jpeg\n"
     ]
    },
    {
     "name": "stderr",
     "output_type": "stream",
     "text": [
      "/data/grubles/car_brand_recognition/custom_cars_dataset/notebooks/../src/detect_n_crop.py:39: ResourceWarning: unclosed file <_io.BufferedReader name='/data/grubles/car_brand_recognition/custom_cars_dataset/images_20/HYUNDAI-I20/HYUNDAI-I20_17.jpeg'>\n",
      "  img = Image.open(frame)\n",
      "ResourceWarning: Enable tracemalloc to get the object allocation traceback\n",
      "/data/grubles/car_brand_recognition/custom_cars_dataset/notebooks/../src/detect_n_crop.py:39: ResourceWarning: unclosed file <_io.BufferedReader name='/data/grubles/car_brand_recognition/custom_cars_dataset/images_20/HYUNDAI-I20/HYUNDAI-I20_20.jpeg'>\n",
      "  img = Image.open(frame)\n",
      "ResourceWarning: Enable tracemalloc to get the object allocation traceback\n",
      "/data/grubles/car_brand_recognition/custom_cars_dataset/notebooks/../src/detect_n_crop.py:39: ResourceWarning: unclosed file <_io.BufferedReader name='/data/grubles/car_brand_recognition/custom_cars_dataset/images_20/HYUNDAI-I20/HYUNDAI-I20_14.jpeg'>\n",
      "  img = Image.open(frame)\n",
      "ResourceWarning: Enable tracemalloc to get the object allocation traceback\n"
     ]
    },
    {
     "name": "stdout",
     "output_type": "stream",
     "text": [
      "/data/grubles/car_brand_recognition/custom_cars_dataset/images_20/HYUNDAI-I20/HYUNDAI-I20_16.jpeg\n",
      "/data/grubles/car_brand_recognition/custom_cars_dataset/images_20/HYUNDAI-I20/HYUNDAI-I20_6.jpeg\n"
     ]
    },
    {
     "name": "stderr",
     "output_type": "stream",
     "text": [
      "/data/grubles/car_brand_recognition/custom_cars_dataset/notebooks/../src/detect_n_crop.py:39: ResourceWarning: unclosed file <_io.BufferedReader name='/data/grubles/car_brand_recognition/custom_cars_dataset/images_20/HYUNDAI-I20/HYUNDAI-I20_16.jpeg'>\n",
      "  img = Image.open(frame)\n",
      "ResourceWarning: Enable tracemalloc to get the object allocation traceback\n",
      "/data/grubles/car_brand_recognition/custom_cars_dataset/notebooks/../src/detect_n_crop.py:85: ResourceWarning: unclosed file <_io.BufferedReader name='/data/grubles/car_brand_recognition/custom_cars_dataset/images_20/HYUNDAI-I20/HYUNDAI-I20_6.jpeg'>\n",
      "  img = Image.open(frame)\n",
      "ResourceWarning: Enable tracemalloc to get the object allocation traceback\n"
     ]
    },
    {
     "name": "stdout",
     "output_type": "stream",
     "text": [
      "/data/grubles/car_brand_recognition/custom_cars_dataset/images_20/HYUNDAI-I20/HYUNDAI-I20_11.jpeg\n"
     ]
    },
    {
     "name": "stderr",
     "output_type": "stream",
     "text": [
      "/data/grubles/car_brand_recognition/custom_cars_dataset/notebooks/../src/detect_n_crop.py:85: ResourceWarning: unclosed file <_io.BufferedReader name='/data/grubles/car_brand_recognition/custom_cars_dataset/images_20/HYUNDAI-I20/HYUNDAI-I20_11.jpeg'>\n",
      "  img = Image.open(frame)\n",
      "ResourceWarning: Enable tracemalloc to get the object allocation traceback\n"
     ]
    },
    {
     "name": "stdout",
     "output_type": "stream",
     "text": [
      "/data/grubles/car_brand_recognition/custom_cars_dataset/images_20/HYUNDAI-I20/HYUNDAI-I20_12.jpeg\n",
      "/data/grubles/car_brand_recognition/custom_cars_dataset/images_20/HYUNDAI-I20/HYUNDAI-I20_15.jpeg\n"
     ]
    },
    {
     "name": "stderr",
     "output_type": "stream",
     "text": [
      "/data/grubles/car_brand_recognition/custom_cars_dataset/notebooks/../src/detect_n_crop.py:85: ResourceWarning: unclosed file <_io.BufferedReader name='/data/grubles/car_brand_recognition/custom_cars_dataset/images_20/HYUNDAI-I20/HYUNDAI-I20_12.jpeg'>\n",
      "  img = Image.open(frame)\n",
      "ResourceWarning: Enable tracemalloc to get the object allocation traceback\n",
      "/data/grubles/car_brand_recognition/custom_cars_dataset/notebooks/../src/detect_n_crop.py:39: ResourceWarning: unclosed file <_io.BufferedReader name='/data/grubles/car_brand_recognition/custom_cars_dataset/images_20/HYUNDAI-I20/HYUNDAI-I20_15.jpeg'>\n",
      "  img = Image.open(frame)\n",
      "ResourceWarning: Enable tracemalloc to get the object allocation traceback\n"
     ]
    },
    {
     "name": "stdout",
     "output_type": "stream",
     "text": [
      "/data/grubles/car_brand_recognition/custom_cars_dataset/images_20/HYUNDAI-I20/HYUNDAI-I20_4.jpeg\n"
     ]
    },
    {
     "name": "stderr",
     "output_type": "stream",
     "text": [
      "/data/grubles/car_brand_recognition/custom_cars_dataset/notebooks/../src/detect_n_crop.py:39: ResourceWarning: unclosed file <_io.BufferedReader name='/data/grubles/car_brand_recognition/custom_cars_dataset/images_20/HYUNDAI-I20/HYUNDAI-I20_4.jpeg'>\n",
      "  img = Image.open(frame)\n",
      "ResourceWarning: Enable tracemalloc to get the object allocation traceback\n",
      "/data/grubles/car_brand_recognition/custom_cars_dataset/notebooks/../src/detect_n_crop.py:85: ResourceWarning: unclosed file <_io.BufferedReader name='/data/grubles/car_brand_recognition/custom_cars_dataset/images_20/HYUNDAI-I20/HYUNDAI-I20_5.jpeg'>\n",
      "  img = Image.open(frame)\n",
      "ResourceWarning: Enable tracemalloc to get the object allocation traceback\n"
     ]
    },
    {
     "name": "stdout",
     "output_type": "stream",
     "text": [
      "/data/grubles/car_brand_recognition/custom_cars_dataset/images_20/HYUNDAI-I20/HYUNDAI-I20_5.jpeg\n",
      "/data/grubles/car_brand_recognition/custom_cars_dataset/images_20/HYUNDAI-I20/HYUNDAI-I20_3.jpeg\n"
     ]
    },
    {
     "name": "stderr",
     "output_type": "stream",
     "text": [
      "/data/grubles/car_brand_recognition/custom_cars_dataset/notebooks/../src/detect_n_crop.py:85: ResourceWarning: unclosed file <_io.BufferedReader name='/data/grubles/car_brand_recognition/custom_cars_dataset/images_20/HYUNDAI-I20/HYUNDAI-I20_3.jpeg'>\n",
      "  img = Image.open(frame)\n",
      "ResourceWarning: Enable tracemalloc to get the object allocation traceback\n"
     ]
    },
    {
     "name": "stdout",
     "output_type": "stream",
     "text": [
      "/data/grubles/car_brand_recognition/custom_cars_dataset/images_20/HYUNDAI-I20/HYUNDAI-I20_1.jpeg\n",
      "/data/grubles/car_brand_recognition/custom_cars_dataset/images_20/HYUNDAI-I20/HYUNDAI-I20_13.jpeg\n"
     ]
    },
    {
     "name": "stderr",
     "output_type": "stream",
     "text": [
      "/data/grubles/car_brand_recognition/custom_cars_dataset/notebooks/../src/detect_n_crop.py:39: ResourceWarning: unclosed file <_io.BufferedReader name='/data/grubles/car_brand_recognition/custom_cars_dataset/images_20/HYUNDAI-I20/HYUNDAI-I20_1.jpeg'>\n",
      "  img = Image.open(frame)\n",
      "ResourceWarning: Enable tracemalloc to get the object allocation traceback\n",
      "/data/grubles/car_brand_recognition/custom_cars_dataset/notebooks/../src/detect_n_crop.py:85: ResourceWarning: unclosed file <_io.BufferedReader name='/data/grubles/car_brand_recognition/custom_cars_dataset/images_20/HYUNDAI-I20/HYUNDAI-I20_13.jpeg'>\n",
      "  img = Image.open(frame)\n",
      "ResourceWarning: Enable tracemalloc to get the object allocation traceback\n"
     ]
    },
    {
     "name": "stdout",
     "output_type": "stream",
     "text": [
      "/data/grubles/car_brand_recognition/custom_cars_dataset/images_20/HYUNDAI-I20/HYUNDAI-I20_2.jpeg\n"
     ]
    },
    {
     "name": "stderr",
     "output_type": "stream",
     "text": [
      "/data/grubles/car_brand_recognition/custom_cars_dataset/notebooks/../src/detect_n_crop.py:85: ResourceWarning: unclosed file <_io.BufferedReader name='/data/grubles/car_brand_recognition/custom_cars_dataset/images_20/HYUNDAI-I20/HYUNDAI-I20_2.jpeg'>\n",
      "  img = Image.open(frame)\n",
      "ResourceWarning: Enable tracemalloc to get the object allocation traceback\n"
     ]
    },
    {
     "name": "stdout",
     "output_type": "stream",
     "text": [
      "/data/grubles/car_brand_recognition/custom_cars_dataset/images_20/HYUNDAI-I20/HYUNDAI-I20_7.jpeg\n",
      "/data/grubles/car_brand_recognition/custom_cars_dataset/images_20/VW-T-ROC/VW-T-ROC_16.jpeg\n"
     ]
    },
    {
     "name": "stderr",
     "output_type": "stream",
     "text": [
      "/data/grubles/car_brand_recognition/custom_cars_dataset/notebooks/../src/detect_n_crop.py:39: ResourceWarning: unclosed file <_io.BufferedReader name='/data/grubles/car_brand_recognition/custom_cars_dataset/images_20/HYUNDAI-I20/HYUNDAI-I20_7.jpeg'>\n",
      "  img = Image.open(frame)\n",
      "ResourceWarning: Enable tracemalloc to get the object allocation traceback\n",
      "/data/grubles/car_brand_recognition/custom_cars_dataset/notebooks/../src/detect_n_crop.py:85: ResourceWarning: unclosed file <_io.BufferedReader name='/data/grubles/car_brand_recognition/custom_cars_dataset/images_20/VW-T-ROC/VW-T-ROC_16.jpeg'>\n",
      "  img = Image.open(frame)\n",
      "ResourceWarning: Enable tracemalloc to get the object allocation traceback\n",
      "/data/grubles/car_brand_recognition/custom_cars_dataset/notebooks/../src/detect_n_crop.py:39: ResourceWarning: unclosed file <_io.BufferedReader name='/data/grubles/car_brand_recognition/custom_cars_dataset/images_20/VW-T-ROC/VW-T-ROC_15.jpeg'>\n",
      "  img = Image.open(frame)\n",
      "ResourceWarning: Enable tracemalloc to get the object allocation traceback\n"
     ]
    },
    {
     "name": "stdout",
     "output_type": "stream",
     "text": [
      "/data/grubles/car_brand_recognition/custom_cars_dataset/images_20/VW-T-ROC/VW-T-ROC_15.jpeg\n",
      "/data/grubles/car_brand_recognition/custom_cars_dataset/images_20/VW-T-ROC/VW-T-ROC_19.jpeg\n"
     ]
    },
    {
     "name": "stderr",
     "output_type": "stream",
     "text": [
      "/data/grubles/car_brand_recognition/custom_cars_dataset/notebooks/../src/detect_n_crop.py:39: ResourceWarning: unclosed file <_io.BufferedReader name='/data/grubles/car_brand_recognition/custom_cars_dataset/images_20/VW-T-ROC/VW-T-ROC_19.jpeg'>\n",
      "  img = Image.open(frame)\n",
      "ResourceWarning: Enable tracemalloc to get the object allocation traceback\n",
      "/data/grubles/car_brand_recognition/custom_cars_dataset/notebooks/../src/detect_n_crop.py:39: ResourceWarning: unclosed file <_io.BufferedReader name='/data/grubles/car_brand_recognition/custom_cars_dataset/images_20/VW-T-ROC/VW-T-ROC_18.jpeg'>\n",
      "  img = Image.open(frame)\n",
      "ResourceWarning: Enable tracemalloc to get the object allocation traceback\n",
      "/data/grubles/car_brand_recognition/custom_cars_dataset/notebooks/../src/detect_n_crop.py:39: ResourceWarning: unclosed file <_io.BufferedReader name='/data/grubles/car_brand_recognition/custom_cars_dataset/images_20/VW-T-ROC/VW-T-ROC_9.jpeg'>\n",
      "  img = Image.open(frame)\n",
      "ResourceWarning: Enable tracemalloc to get the object allocation traceback\n"
     ]
    },
    {
     "name": "stdout",
     "output_type": "stream",
     "text": [
      "/data/grubles/car_brand_recognition/custom_cars_dataset/images_20/VW-T-ROC/VW-T-ROC_18.jpeg\n",
      "/data/grubles/car_brand_recognition/custom_cars_dataset/images_20/VW-T-ROC/VW-T-ROC_9.jpeg\n",
      "/data/grubles/car_brand_recognition/custom_cars_dataset/images_20/VW-T-ROC/VW-T-ROC_4.jpeg\n"
     ]
    },
    {
     "name": "stderr",
     "output_type": "stream",
     "text": [
      "/data/grubles/car_brand_recognition/custom_cars_dataset/notebooks/../src/detect_n_crop.py:39: ResourceWarning: unclosed file <_io.BufferedReader name='/data/grubles/car_brand_recognition/custom_cars_dataset/images_20/VW-T-ROC/VW-T-ROC_4.jpeg'>\n",
      "  img = Image.open(frame)\n",
      "ResourceWarning: Enable tracemalloc to get the object allocation traceback\n",
      "/data/grubles/car_brand_recognition/custom_cars_dataset/notebooks/../src/detect_n_crop.py:39: ResourceWarning: unclosed file <_io.BufferedReader name='/data/grubles/car_brand_recognition/custom_cars_dataset/images_20/VW-T-ROC/VW-T-ROC_17.jpeg'>\n",
      "  img = Image.open(frame)\n",
      "ResourceWarning: Enable tracemalloc to get the object allocation traceback\n",
      "/data/grubles/car_brand_recognition/custom_cars_dataset/notebooks/../src/detect_n_crop.py:85: ResourceWarning: unclosed file <_io.BufferedReader name='/data/grubles/car_brand_recognition/custom_cars_dataset/images_20/VW-T-ROC/VW-T-ROC_8.jpeg'>\n",
      "  img = Image.open(frame)\n",
      "ResourceWarning: Enable tracemalloc to get the object allocation traceback\n"
     ]
    },
    {
     "name": "stdout",
     "output_type": "stream",
     "text": [
      "/data/grubles/car_brand_recognition/custom_cars_dataset/images_20/VW-T-ROC/VW-T-ROC_17.jpeg\n",
      "/data/grubles/car_brand_recognition/custom_cars_dataset/images_20/VW-T-ROC/VW-T-ROC_8.jpeg\n",
      "/data/grubles/car_brand_recognition/custom_cars_dataset/images_20/VW-T-ROC/VW-T-ROC_13.jpeg\n",
      "/data/grubles/car_brand_recognition/custom_cars_dataset/images_20/VW-T-ROC/VW-T-ROC_5.jpeg\n"
     ]
    },
    {
     "name": "stderr",
     "output_type": "stream",
     "text": [
      "/data/grubles/car_brand_recognition/custom_cars_dataset/notebooks/../src/detect_n_crop.py:39: ResourceWarning: unclosed file <_io.BufferedReader name='/data/grubles/car_brand_recognition/custom_cars_dataset/images_20/VW-T-ROC/VW-T-ROC_13.jpeg'>\n",
      "  img = Image.open(frame)\n",
      "ResourceWarning: Enable tracemalloc to get the object allocation traceback\n",
      "/data/grubles/car_brand_recognition/custom_cars_dataset/notebooks/../src/detect_n_crop.py:85: ResourceWarning: unclosed file <_io.BufferedReader name='/data/grubles/car_brand_recognition/custom_cars_dataset/images_20/VW-T-ROC/VW-T-ROC_5.jpeg'>\n",
      "  img = Image.open(frame)\n",
      "ResourceWarning: Enable tracemalloc to get the object allocation traceback\n"
     ]
    },
    {
     "name": "stdout",
     "output_type": "stream",
     "text": [
      "/data/grubles/car_brand_recognition/custom_cars_dataset/images_20/VW-T-ROC/VW-T-ROC_10.jpeg\n",
      "/data/grubles/car_brand_recognition/custom_cars_dataset/images_20/VW-T-ROC/VW-T-ROC_12.jpeg\n"
     ]
    },
    {
     "name": "stderr",
     "output_type": "stream",
     "text": [
      "/data/grubles/car_brand_recognition/custom_cars_dataset/notebooks/../src/detect_n_crop.py:85: ResourceWarning: unclosed file <_io.BufferedReader name='/data/grubles/car_brand_recognition/custom_cars_dataset/images_20/VW-T-ROC/VW-T-ROC_10.jpeg'>\n",
      "  img = Image.open(frame)\n",
      "ResourceWarning: Enable tracemalloc to get the object allocation traceback\n",
      "/data/grubles/car_brand_recognition/custom_cars_dataset/notebooks/../src/detect_n_crop.py:85: ResourceWarning: unclosed file <_io.BufferedReader name='/data/grubles/car_brand_recognition/custom_cars_dataset/images_20/VW-T-ROC/VW-T-ROC_12.jpeg'>\n",
      "  img = Image.open(frame)\n",
      "ResourceWarning: Enable tracemalloc to get the object allocation traceback\n"
     ]
    },
    {
     "name": "stdout",
     "output_type": "stream",
     "text": [
      "/data/grubles/car_brand_recognition/custom_cars_dataset/images_20/VW-T-ROC/VW-T-ROC_6.jpeg\n"
     ]
    },
    {
     "name": "stderr",
     "output_type": "stream",
     "text": [
      "/data/grubles/car_brand_recognition/custom_cars_dataset/notebooks/../src/detect_n_crop.py:85: ResourceWarning: unclosed file <_io.BufferedReader name='/data/grubles/car_brand_recognition/custom_cars_dataset/images_20/VW-T-ROC/VW-T-ROC_6.jpeg'>\n",
      "  img = Image.open(frame)\n",
      "ResourceWarning: Enable tracemalloc to get the object allocation traceback\n"
     ]
    },
    {
     "name": "stdout",
     "output_type": "stream",
     "text": [
      "/data/grubles/car_brand_recognition/custom_cars_dataset/images_20/VW-T-ROC/VW-T-ROC_14.jpeg\n",
      "/data/grubles/car_brand_recognition/custom_cars_dataset/images_20/VW-T-ROC/VW-T-ROC_2.jpeg\n"
     ]
    },
    {
     "name": "stderr",
     "output_type": "stream",
     "text": [
      "/data/grubles/car_brand_recognition/custom_cars_dataset/notebooks/../src/detect_n_crop.py:39: ResourceWarning: unclosed file <_io.BufferedReader name='/data/grubles/car_brand_recognition/custom_cars_dataset/images_20/VW-T-ROC/VW-T-ROC_14.jpeg'>\n",
      "  img = Image.open(frame)\n",
      "ResourceWarning: Enable tracemalloc to get the object allocation traceback\n",
      "/data/grubles/car_brand_recognition/custom_cars_dataset/notebooks/../src/detect_n_crop.py:85: ResourceWarning: unclosed file <_io.BufferedReader name='/data/grubles/car_brand_recognition/custom_cars_dataset/images_20/VW-T-ROC/VW-T-ROC_2.jpeg'>\n",
      "  img = Image.open(frame)\n",
      "ResourceWarning: Enable tracemalloc to get the object allocation traceback\n"
     ]
    },
    {
     "name": "stdout",
     "output_type": "stream",
     "text": [
      "/data/grubles/car_brand_recognition/custom_cars_dataset/images_20/VW-T-ROC/VW-T-ROC_1.jpeg\n"
     ]
    },
    {
     "name": "stderr",
     "output_type": "stream",
     "text": [
      "/data/grubles/car_brand_recognition/custom_cars_dataset/notebooks/../src/detect_n_crop.py:85: ResourceWarning: unclosed file <_io.BufferedReader name='/data/grubles/car_brand_recognition/custom_cars_dataset/images_20/VW-T-ROC/VW-T-ROC_1.jpeg'>\n",
      "  img = Image.open(frame)\n",
      "ResourceWarning: Enable tracemalloc to get the object allocation traceback\n"
     ]
    },
    {
     "name": "stdout",
     "output_type": "stream",
     "text": [
      "/data/grubles/car_brand_recognition/custom_cars_dataset/images_20/VW-T-ROC/VW-T-ROC_3.jpeg\n"
     ]
    },
    {
     "name": "stderr",
     "output_type": "stream",
     "text": [
      "/data/grubles/car_brand_recognition/custom_cars_dataset/notebooks/../src/detect_n_crop.py:85: ResourceWarning: unclosed file <_io.BufferedReader name='/data/grubles/car_brand_recognition/custom_cars_dataset/images_20/VW-T-ROC/VW-T-ROC_3.jpeg'>\n",
      "  img = Image.open(frame)\n",
      "ResourceWarning: Enable tracemalloc to get the object allocation traceback\n"
     ]
    },
    {
     "name": "stdout",
     "output_type": "stream",
     "text": [
      "/data/grubles/car_brand_recognition/custom_cars_dataset/images_20/VW-T-ROC/VW-T-ROC_11.jpeg\n",
      "/data/grubles/car_brand_recognition/custom_cars_dataset/images_20/VW-T-ROC/VW-T-ROC_7.jpeg\n"
     ]
    },
    {
     "name": "stderr",
     "output_type": "stream",
     "text": [
      "/data/grubles/car_brand_recognition/custom_cars_dataset/notebooks/../src/detect_n_crop.py:85: ResourceWarning: unclosed file <_io.BufferedReader name='/data/grubles/car_brand_recognition/custom_cars_dataset/images_20/VW-T-ROC/VW-T-ROC_11.jpeg'>\n",
      "  img = Image.open(frame)\n",
      "ResourceWarning: Enable tracemalloc to get the object allocation traceback\n",
      "/data/grubles/car_brand_recognition/custom_cars_dataset/notebooks/../src/detect_n_crop.py:39: ResourceWarning: unclosed file <_io.BufferedReader name='/data/grubles/car_brand_recognition/custom_cars_dataset/images_20/VW-T-ROC/VW-T-ROC_7.jpeg'>\n",
      "  img = Image.open(frame)\n",
      "ResourceWarning: Enable tracemalloc to get the object allocation traceback\n"
     ]
    },
    {
     "name": "stdout",
     "output_type": "stream",
     "text": [
      "/data/grubles/car_brand_recognition/custom_cars_dataset/images_20/VW-T-ROC/VW-T-ROC_20.jpeg\n",
      "/data/grubles/car_brand_recognition/custom_cars_dataset/images_20/OPEL-CORSA/OPEL-CORSA_1.jpeg\n"
     ]
    },
    {
     "name": "stderr",
     "output_type": "stream",
     "text": [
      "/data/grubles/car_brand_recognition/custom_cars_dataset/notebooks/../src/detect_n_crop.py:85: ResourceWarning: unclosed file <_io.BufferedReader name='/data/grubles/car_brand_recognition/custom_cars_dataset/images_20/VW-T-ROC/VW-T-ROC_20.jpeg'>\n",
      "  img = Image.open(frame)\n",
      "ResourceWarning: Enable tracemalloc to get the object allocation traceback\n",
      "/data/grubles/car_brand_recognition/custom_cars_dataset/notebooks/../src/detect_n_crop.py:85: ResourceWarning: unclosed file <_io.BufferedReader name='/data/grubles/car_brand_recognition/custom_cars_dataset/images_20/OPEL-CORSA/OPEL-CORSA_1.jpeg'>\n",
      "  img = Image.open(frame)\n",
      "ResourceWarning: Enable tracemalloc to get the object allocation traceback\n"
     ]
    },
    {
     "name": "stdout",
     "output_type": "stream",
     "text": [
      "/data/grubles/car_brand_recognition/custom_cars_dataset/images_20/OPEL-CORSA/OPEL-CORSA_5.jpeg\n"
     ]
    },
    {
     "name": "stderr",
     "output_type": "stream",
     "text": [
      "/data/grubles/car_brand_recognition/custom_cars_dataset/notebooks/../src/detect_n_crop.py:85: ResourceWarning: unclosed file <_io.BufferedReader name='/data/grubles/car_brand_recognition/custom_cars_dataset/images_20/OPEL-CORSA/OPEL-CORSA_5.jpeg'>\n",
      "  img = Image.open(frame)\n",
      "ResourceWarning: Enable tracemalloc to get the object allocation traceback\n"
     ]
    },
    {
     "name": "stdout",
     "output_type": "stream",
     "text": [
      "/data/grubles/car_brand_recognition/custom_cars_dataset/images_20/OPEL-CORSA/OPEL-CORSA_10.jpeg\n",
      "/data/grubles/car_brand_recognition/custom_cars_dataset/images_20/OPEL-CORSA/OPEL-CORSA_15.jpeg\n",
      "/data/grubles/car_brand_recognition/custom_cars_dataset/images_20/OPEL-CORSA/OPEL-CORSA_13.jpeg\n"
     ]
    },
    {
     "name": "stderr",
     "output_type": "stream",
     "text": [
      "/data/grubles/car_brand_recognition/custom_cars_dataset/notebooks/../src/detect_n_crop.py:39: ResourceWarning: unclosed file <_io.BufferedReader name='/data/grubles/car_brand_recognition/custom_cars_dataset/images_20/OPEL-CORSA/OPEL-CORSA_10.jpeg'>\n",
      "  img = Image.open(frame)\n",
      "ResourceWarning: Enable tracemalloc to get the object allocation traceback\n",
      "/data/grubles/car_brand_recognition/custom_cars_dataset/notebooks/../src/detect_n_crop.py:39: ResourceWarning: unclosed file <_io.BufferedReader name='/data/grubles/car_brand_recognition/custom_cars_dataset/images_20/OPEL-CORSA/OPEL-CORSA_15.jpeg'>\n",
      "  img = Image.open(frame)\n",
      "ResourceWarning: Enable tracemalloc to get the object allocation traceback\n",
      "/data/grubles/car_brand_recognition/custom_cars_dataset/notebooks/../src/detect_n_crop.py:85: ResourceWarning: unclosed file <_io.BufferedReader name='/data/grubles/car_brand_recognition/custom_cars_dataset/images_20/OPEL-CORSA/OPEL-CORSA_13.jpeg'>\n",
      "  img = Image.open(frame)\n",
      "ResourceWarning: Enable tracemalloc to get the object allocation traceback\n"
     ]
    },
    {
     "name": "stdout",
     "output_type": "stream",
     "text": [
      "/data/grubles/car_brand_recognition/custom_cars_dataset/images_20/OPEL-CORSA/OPEL-CORSA_20.jpeg\n",
      "/data/grubles/car_brand_recognition/custom_cars_dataset/images_20/OPEL-CORSA/OPEL-CORSA_16.jpeg\n",
      "/data/grubles/car_brand_recognition/custom_cars_dataset/images_20/OPEL-CORSA/OPEL-CORSA_17.jpeg\n"
     ]
    },
    {
     "name": "stderr",
     "output_type": "stream",
     "text": [
      "/data/grubles/car_brand_recognition/custom_cars_dataset/notebooks/../src/detect_n_crop.py:39: ResourceWarning: unclosed file <_io.BufferedReader name='/data/grubles/car_brand_recognition/custom_cars_dataset/images_20/OPEL-CORSA/OPEL-CORSA_20.jpeg'>\n",
      "  img = Image.open(frame)\n",
      "ResourceWarning: Enable tracemalloc to get the object allocation traceback\n",
      "/data/grubles/car_brand_recognition/custom_cars_dataset/notebooks/../src/detect_n_crop.py:39: ResourceWarning: unclosed file <_io.BufferedReader name='/data/grubles/car_brand_recognition/custom_cars_dataset/images_20/OPEL-CORSA/OPEL-CORSA_16.jpeg'>\n",
      "  img = Image.open(frame)\n",
      "ResourceWarning: Enable tracemalloc to get the object allocation traceback\n",
      "/data/grubles/car_brand_recognition/custom_cars_dataset/notebooks/../src/detect_n_crop.py:85: ResourceWarning: unclosed file <_io.BufferedReader name='/data/grubles/car_brand_recognition/custom_cars_dataset/images_20/OPEL-CORSA/OPEL-CORSA_17.jpeg'>\n",
      "  img = Image.open(frame)\n",
      "ResourceWarning: Enable tracemalloc to get the object allocation traceback\n"
     ]
    },
    {
     "name": "stdout",
     "output_type": "stream",
     "text": [
      "/data/grubles/car_brand_recognition/custom_cars_dataset/images_20/OPEL-CORSA/OPEL-CORSA_14.jpeg\n",
      "/data/grubles/car_brand_recognition/custom_cars_dataset/images_20/OPEL-CORSA/OPEL-CORSA_6.jpeg\n"
     ]
    },
    {
     "name": "stderr",
     "output_type": "stream",
     "text": [
      "/data/grubles/car_brand_recognition/custom_cars_dataset/notebooks/../src/detect_n_crop.py:85: ResourceWarning: unclosed file <_io.BufferedReader name='/data/grubles/car_brand_recognition/custom_cars_dataset/images_20/OPEL-CORSA/OPEL-CORSA_14.jpeg'>\n",
      "  img = Image.open(frame)\n",
      "ResourceWarning: Enable tracemalloc to get the object allocation traceback\n",
      "/data/grubles/car_brand_recognition/custom_cars_dataset/notebooks/../src/detect_n_crop.py:85: ResourceWarning: unclosed file <_io.BufferedReader name='/data/grubles/car_brand_recognition/custom_cars_dataset/images_20/OPEL-CORSA/OPEL-CORSA_6.jpeg'>\n",
      "  img = Image.open(frame)\n",
      "ResourceWarning: Enable tracemalloc to get the object allocation traceback\n"
     ]
    },
    {
     "name": "stdout",
     "output_type": "stream",
     "text": [
      "/data/grubles/car_brand_recognition/custom_cars_dataset/images_20/OPEL-CORSA/OPEL-CORSA_11.jpeg\n",
      "/data/grubles/car_brand_recognition/custom_cars_dataset/images_20/OPEL-CORSA/OPEL-CORSA_2.jpeg\n",
      "/data/grubles/car_brand_recognition/custom_cars_dataset/images_20/OPEL-CORSA/OPEL-CORSA_3.jpeg\n"
     ]
    },
    {
     "name": "stderr",
     "output_type": "stream",
     "text": [
      "/data/grubles/car_brand_recognition/custom_cars_dataset/notebooks/../src/detect_n_crop.py:39: ResourceWarning: unclosed file <_io.BufferedReader name='/data/grubles/car_brand_recognition/custom_cars_dataset/images_20/OPEL-CORSA/OPEL-CORSA_11.jpeg'>\n",
      "  img = Image.open(frame)\n",
      "ResourceWarning: Enable tracemalloc to get the object allocation traceback\n",
      "/data/grubles/car_brand_recognition/custom_cars_dataset/notebooks/../src/detect_n_crop.py:39: ResourceWarning: unclosed file <_io.BufferedReader name='/data/grubles/car_brand_recognition/custom_cars_dataset/images_20/OPEL-CORSA/OPEL-CORSA_2.jpeg'>\n",
      "  img = Image.open(frame)\n",
      "ResourceWarning: Enable tracemalloc to get the object allocation traceback\n",
      "/data/grubles/car_brand_recognition/custom_cars_dataset/notebooks/../src/detect_n_crop.py:85: ResourceWarning: unclosed file <_io.BufferedReader name='/data/grubles/car_brand_recognition/custom_cars_dataset/images_20/OPEL-CORSA/OPEL-CORSA_3.jpeg'>\n",
      "  img = Image.open(frame)\n",
      "ResourceWarning: Enable tracemalloc to get the object allocation traceback\n"
     ]
    },
    {
     "name": "stdout",
     "output_type": "stream",
     "text": [
      "/data/grubles/car_brand_recognition/custom_cars_dataset/images_20/OPEL-CORSA/OPEL-CORSA_19.jpeg\n",
      "/data/grubles/car_brand_recognition/custom_cars_dataset/images_20/OPEL-CORSA/OPEL-CORSA_18.jpeg\n"
     ]
    },
    {
     "name": "stderr",
     "output_type": "stream",
     "text": [
      "/data/grubles/car_brand_recognition/custom_cars_dataset/notebooks/../src/detect_n_crop.py:39: ResourceWarning: unclosed file <_io.BufferedReader name='/data/grubles/car_brand_recognition/custom_cars_dataset/images_20/OPEL-CORSA/OPEL-CORSA_19.jpeg'>\n",
      "  img = Image.open(frame)\n",
      "ResourceWarning: Enable tracemalloc to get the object allocation traceback\n",
      "/data/grubles/car_brand_recognition/custom_cars_dataset/notebooks/../src/detect_n_crop.py:85: ResourceWarning: unclosed file <_io.BufferedReader name='/data/grubles/car_brand_recognition/custom_cars_dataset/images_20/OPEL-CORSA/OPEL-CORSA_18.jpeg'>\n",
      "  img = Image.open(frame)\n",
      "ResourceWarning: Enable tracemalloc to get the object allocation traceback\n",
      "/data/grubles/car_brand_recognition/custom_cars_dataset/notebooks/../src/detect_n_crop.py:85: ResourceWarning: unclosed file <_io.BufferedReader name='/data/grubles/car_brand_recognition/custom_cars_dataset/images_20/OPEL-CORSA/OPEL-CORSA_4.jpeg'>\n",
      "  img = Image.open(frame)\n",
      "ResourceWarning: Enable tracemalloc to get the object allocation traceback\n"
     ]
    },
    {
     "name": "stdout",
     "output_type": "stream",
     "text": [
      "/data/grubles/car_brand_recognition/custom_cars_dataset/images_20/OPEL-CORSA/OPEL-CORSA_4.jpeg\n",
      "/data/grubles/car_brand_recognition/custom_cars_dataset/images_20/OPEL-CORSA/OPEL-CORSA_7.jpeg\n"
     ]
    },
    {
     "name": "stderr",
     "output_type": "stream",
     "text": [
      "/data/grubles/car_brand_recognition/custom_cars_dataset/notebooks/../src/detect_n_crop.py:39: ResourceWarning: unclosed file <_io.BufferedReader name='/data/grubles/car_brand_recognition/custom_cars_dataset/images_20/OPEL-CORSA/OPEL-CORSA_7.jpeg'>\n",
      "  img = Image.open(frame)\n",
      "ResourceWarning: Enable tracemalloc to get the object allocation traceback\n",
      "/data/grubles/car_brand_recognition/custom_cars_dataset/notebooks/../src/detect_n_crop.py:39: ResourceWarning: unclosed file <_io.BufferedReader name='/data/grubles/car_brand_recognition/custom_cars_dataset/images_20/OPEL-CORSA/OPEL-CORSA_12.jpeg'>\n",
      "  img = Image.open(frame)\n",
      "ResourceWarning: Enable tracemalloc to get the object allocation traceback\n",
      "/data/grubles/car_brand_recognition/custom_cars_dataset/notebooks/../src/detect_n_crop.py:39: ResourceWarning: unclosed file <_io.BufferedReader name='/data/grubles/car_brand_recognition/custom_cars_dataset/images_20/OPEL-CORSA/OPEL-CORSA_9.jpeg'>\n",
      "  img = Image.open(frame)\n",
      "ResourceWarning: Enable tracemalloc to get the object allocation traceback\n"
     ]
    },
    {
     "name": "stdout",
     "output_type": "stream",
     "text": [
      "/data/grubles/car_brand_recognition/custom_cars_dataset/images_20/OPEL-CORSA/OPEL-CORSA_12.jpeg\n",
      "/data/grubles/car_brand_recognition/custom_cars_dataset/images_20/OPEL-CORSA/OPEL-CORSA_9.jpeg\n",
      "/data/grubles/car_brand_recognition/custom_cars_dataset/images_20/OPEL-CORSA/OPEL-CORSA_8.jpeg\n"
     ]
    },
    {
     "name": "stderr",
     "output_type": "stream",
     "text": [
      "/data/grubles/car_brand_recognition/custom_cars_dataset/notebooks/../src/detect_n_crop.py:85: ResourceWarning: unclosed file <_io.BufferedReader name='/data/grubles/car_brand_recognition/custom_cars_dataset/images_20/OPEL-CORSA/OPEL-CORSA_8.jpeg'>\n",
      "  img = Image.open(frame)\n",
      "ResourceWarning: Enable tracemalloc to get the object allocation traceback\n"
     ]
    },
    {
     "name": "stdout",
     "output_type": "stream",
     "text": [
      "/data/grubles/car_brand_recognition/custom_cars_dataset/images_20/PEUGEOT-208/PEUGEOT-208_20.jpeg\n",
      "/data/grubles/car_brand_recognition/custom_cars_dataset/images_20/PEUGEOT-208/PEUGEOT-208_19.jpeg\n"
     ]
    },
    {
     "name": "stderr",
     "output_type": "stream",
     "text": [
      "/data/grubles/car_brand_recognition/custom_cars_dataset/notebooks/../src/detect_n_crop.py:39: ResourceWarning: unclosed file <_io.BufferedReader name='/data/grubles/car_brand_recognition/custom_cars_dataset/images_20/PEUGEOT-208/PEUGEOT-208_20.jpeg'>\n",
      "  img = Image.open(frame)\n",
      "ResourceWarning: Enable tracemalloc to get the object allocation traceback\n",
      "/data/grubles/car_brand_recognition/custom_cars_dataset/notebooks/../src/detect_n_crop.py:85: ResourceWarning: unclosed file <_io.BufferedReader name='/data/grubles/car_brand_recognition/custom_cars_dataset/images_20/PEUGEOT-208/PEUGEOT-208_19.jpeg'>\n",
      "  img = Image.open(frame)\n",
      "ResourceWarning: Enable tracemalloc to get the object allocation traceback\n"
     ]
    },
    {
     "name": "stdout",
     "output_type": "stream",
     "text": [
      "/data/grubles/car_brand_recognition/custom_cars_dataset/images_20/PEUGEOT-208/PEUGEOT-208_7.jpeg\n",
      "/data/grubles/car_brand_recognition/custom_cars_dataset/images_20/PEUGEOT-208/PEUGEOT-208_2.jpeg\n"
     ]
    },
    {
     "name": "stderr",
     "output_type": "stream",
     "text": [
      "/data/grubles/car_brand_recognition/custom_cars_dataset/notebooks/../src/detect_n_crop.py:39: ResourceWarning: unclosed file <_io.BufferedReader name='/data/grubles/car_brand_recognition/custom_cars_dataset/images_20/PEUGEOT-208/PEUGEOT-208_7.jpeg'>\n",
      "  img = Image.open(frame)\n",
      "ResourceWarning: Enable tracemalloc to get the object allocation traceback\n",
      "/data/grubles/car_brand_recognition/custom_cars_dataset/notebooks/../src/detect_n_crop.py:85: ResourceWarning: unclosed file <_io.BufferedReader name='/data/grubles/car_brand_recognition/custom_cars_dataset/images_20/PEUGEOT-208/PEUGEOT-208_2.jpeg'>\n",
      "  img = Image.open(frame)\n",
      "ResourceWarning: Enable tracemalloc to get the object allocation traceback\n"
     ]
    },
    {
     "name": "stdout",
     "output_type": "stream",
     "text": [
      "/data/grubles/car_brand_recognition/custom_cars_dataset/images_20/PEUGEOT-208/PEUGEOT-208_1.jpeg\n",
      "/data/grubles/car_brand_recognition/custom_cars_dataset/images_20/PEUGEOT-208/PEUGEOT-208_13.jpeg\n",
      "/data/grubles/car_brand_recognition/custom_cars_dataset/images_20/PEUGEOT-208/PEUGEOT-208_10.jpeg\n"
     ]
    },
    {
     "name": "stderr",
     "output_type": "stream",
     "text": [
      "/data/grubles/car_brand_recognition/custom_cars_dataset/notebooks/../src/detect_n_crop.py:39: ResourceWarning: unclosed file <_io.BufferedReader name='/data/grubles/car_brand_recognition/custom_cars_dataset/images_20/PEUGEOT-208/PEUGEOT-208_1.jpeg'>\n",
      "  img = Image.open(frame)\n",
      "ResourceWarning: Enable tracemalloc to get the object allocation traceback\n",
      "/data/grubles/car_brand_recognition/custom_cars_dataset/notebooks/../src/detect_n_crop.py:85: ResourceWarning: unclosed file <_io.BufferedReader name='/data/grubles/car_brand_recognition/custom_cars_dataset/images_20/PEUGEOT-208/PEUGEOT-208_13.jpeg'>\n",
      "  img = Image.open(frame)\n",
      "ResourceWarning: Enable tracemalloc to get the object allocation traceback\n",
      "/data/grubles/car_brand_recognition/custom_cars_dataset/notebooks/../src/detect_n_crop.py:85: ResourceWarning: unclosed file <_io.BufferedReader name='/data/grubles/car_brand_recognition/custom_cars_dataset/images_20/PEUGEOT-208/PEUGEOT-208_10.jpeg'>\n",
      "  img = Image.open(frame)\n",
      "ResourceWarning: Enable tracemalloc to get the object allocation traceback\n"
     ]
    },
    {
     "name": "stdout",
     "output_type": "stream",
     "text": [
      "/data/grubles/car_brand_recognition/custom_cars_dataset/images_20/PEUGEOT-208/PEUGEOT-208_6.jpeg\n"
     ]
    },
    {
     "name": "stderr",
     "output_type": "stream",
     "text": [
      "/data/grubles/car_brand_recognition/custom_cars_dataset/notebooks/../src/detect_n_crop.py:85: ResourceWarning: unclosed file <_io.BufferedReader name='/data/grubles/car_brand_recognition/custom_cars_dataset/images_20/PEUGEOT-208/PEUGEOT-208_6.jpeg'>\n",
      "  img = Image.open(frame)\n",
      "ResourceWarning: Enable tracemalloc to get the object allocation traceback\n"
     ]
    },
    {
     "name": "stdout",
     "output_type": "stream",
     "text": [
      "/data/grubles/car_brand_recognition/custom_cars_dataset/images_20/PEUGEOT-208/PEUGEOT-208_9.jpeg\n"
     ]
    },
    {
     "name": "stderr",
     "output_type": "stream",
     "text": [
      "/data/grubles/car_brand_recognition/custom_cars_dataset/notebooks/../src/detect_n_crop.py:85: ResourceWarning: unclosed file <_io.BufferedReader name='/data/grubles/car_brand_recognition/custom_cars_dataset/images_20/PEUGEOT-208/PEUGEOT-208_9.jpeg'>\n",
      "  img = Image.open(frame)\n",
      "ResourceWarning: Enable tracemalloc to get the object allocation traceback\n"
     ]
    },
    {
     "name": "stdout",
     "output_type": "stream",
     "text": [
      "/data/grubles/car_brand_recognition/custom_cars_dataset/images_20/PEUGEOT-208/PEUGEOT-208_17.jpeg\n",
      "/data/grubles/car_brand_recognition/custom_cars_dataset/images_20/PEUGEOT-208/PEUGEOT-208_4.jpeg\n"
     ]
    },
    {
     "name": "stderr",
     "output_type": "stream",
     "text": [
      "/data/grubles/car_brand_recognition/custom_cars_dataset/notebooks/../src/detect_n_crop.py:39: ResourceWarning: unclosed file <_io.BufferedReader name='/data/grubles/car_brand_recognition/custom_cars_dataset/images_20/PEUGEOT-208/PEUGEOT-208_17.jpeg'>\n",
      "  img = Image.open(frame)\n",
      "ResourceWarning: Enable tracemalloc to get the object allocation traceback\n",
      "/data/grubles/car_brand_recognition/custom_cars_dataset/notebooks/../src/detect_n_crop.py:85: ResourceWarning: unclosed file <_io.BufferedReader name='/data/grubles/car_brand_recognition/custom_cars_dataset/images_20/PEUGEOT-208/PEUGEOT-208_4.jpeg'>\n",
      "  img = Image.open(frame)\n",
      "ResourceWarning: Enable tracemalloc to get the object allocation traceback\n",
      "/data/grubles/car_brand_recognition/custom_cars_dataset/notebooks/../src/detect_n_crop.py:39: ResourceWarning: unclosed file <_io.BufferedReader name='/data/grubles/car_brand_recognition/custom_cars_dataset/images_20/PEUGEOT-208/PEUGEOT-208_3.jpeg'>\n",
      "  img = Image.open(frame)\n",
      "ResourceWarning: Enable tracemalloc to get the object allocation traceback\n"
     ]
    },
    {
     "name": "stdout",
     "output_type": "stream",
     "text": [
      "/data/grubles/car_brand_recognition/custom_cars_dataset/images_20/PEUGEOT-208/PEUGEOT-208_3.jpeg\n",
      "/data/grubles/car_brand_recognition/custom_cars_dataset/images_20/PEUGEOT-208/PEUGEOT-208_16.jpeg\n",
      "/data/grubles/car_brand_recognition/custom_cars_dataset/images_20/PEUGEOT-208/PEUGEOT-208_8.jpeg\n"
     ]
    },
    {
     "name": "stderr",
     "output_type": "stream",
     "text": [
      "/data/grubles/car_brand_recognition/custom_cars_dataset/notebooks/../src/detect_n_crop.py:85: ResourceWarning: unclosed file <_io.BufferedReader name='/data/grubles/car_brand_recognition/custom_cars_dataset/images_20/PEUGEOT-208/PEUGEOT-208_16.jpeg'>\n",
      "  img = Image.open(frame)\n",
      "ResourceWarning: Enable tracemalloc to get the object allocation traceback\n",
      "/data/grubles/car_brand_recognition/custom_cars_dataset/notebooks/../src/detect_n_crop.py:39: ResourceWarning: unclosed file <_io.BufferedReader name='/data/grubles/car_brand_recognition/custom_cars_dataset/images_20/PEUGEOT-208/PEUGEOT-208_8.jpeg'>\n",
      "  img = Image.open(frame)\n",
      "ResourceWarning: Enable tracemalloc to get the object allocation traceback\n",
      "/data/grubles/car_brand_recognition/custom_cars_dataset/notebooks/../src/detect_n_crop.py:39: ResourceWarning: unclosed file <_io.BufferedReader name='/data/grubles/car_brand_recognition/custom_cars_dataset/images_20/PEUGEOT-208/PEUGEOT-208_18.jpeg'>\n",
      "  img = Image.open(frame)\n",
      "ResourceWarning: Enable tracemalloc to get the object allocation traceback\n"
     ]
    },
    {
     "name": "stdout",
     "output_type": "stream",
     "text": [
      "/data/grubles/car_brand_recognition/custom_cars_dataset/images_20/PEUGEOT-208/PEUGEOT-208_18.jpeg\n",
      "/data/grubles/car_brand_recognition/custom_cars_dataset/images_20/PEUGEOT-208/PEUGEOT-208_15.jpeg\n",
      "/data/grubles/car_brand_recognition/custom_cars_dataset/images_20/PEUGEOT-208/PEUGEOT-208_14.jpeg\n"
     ]
    },
    {
     "name": "stderr",
     "output_type": "stream",
     "text": [
      "/data/grubles/car_brand_recognition/custom_cars_dataset/notebooks/../src/detect_n_crop.py:39: ResourceWarning: unclosed file <_io.BufferedReader name='/data/grubles/car_brand_recognition/custom_cars_dataset/images_20/PEUGEOT-208/PEUGEOT-208_15.jpeg'>\n",
      "  img = Image.open(frame)\n",
      "ResourceWarning: Enable tracemalloc to get the object allocation traceback\n",
      "/data/grubles/car_brand_recognition/custom_cars_dataset/notebooks/../src/detect_n_crop.py:39: ResourceWarning: unclosed file <_io.BufferedReader name='/data/grubles/car_brand_recognition/custom_cars_dataset/images_20/PEUGEOT-208/PEUGEOT-208_14.jpeg'>\n",
      "  img = Image.open(frame)\n",
      "ResourceWarning: Enable tracemalloc to get the object allocation traceback\n",
      "/data/grubles/car_brand_recognition/custom_cars_dataset/notebooks/../src/detect_n_crop.py:85: ResourceWarning: unclosed file <_io.BufferedReader name='/data/grubles/car_brand_recognition/custom_cars_dataset/images_20/PEUGEOT-208/PEUGEOT-208_11.jpeg'>\n",
      "  img = Image.open(frame)\n",
      "ResourceWarning: Enable tracemalloc to get the object allocation traceback\n"
     ]
    },
    {
     "name": "stdout",
     "output_type": "stream",
     "text": [
      "/data/grubles/car_brand_recognition/custom_cars_dataset/images_20/PEUGEOT-208/PEUGEOT-208_11.jpeg\n",
      "/data/grubles/car_brand_recognition/custom_cars_dataset/images_20/PEUGEOT-208/PEUGEOT-208_5.jpeg\n",
      "/data/grubles/car_brand_recognition/custom_cars_dataset/images_20/PEUGEOT-208/PEUGEOT-208_12.jpeg\n",
      "/data/grubles/car_brand_recognition/custom_cars_dataset/images_20/KIA-RIO/KIA-RIO_9.jpeg\n"
     ]
    },
    {
     "name": "stderr",
     "output_type": "stream",
     "text": [
      "/data/grubles/car_brand_recognition/custom_cars_dataset/notebooks/../src/detect_n_crop.py:39: ResourceWarning: unclosed file <_io.BufferedReader name='/data/grubles/car_brand_recognition/custom_cars_dataset/images_20/PEUGEOT-208/PEUGEOT-208_5.jpeg'>\n",
      "  img = Image.open(frame)\n",
      "ResourceWarning: Enable tracemalloc to get the object allocation traceback\n",
      "/data/grubles/car_brand_recognition/custom_cars_dataset/notebooks/../src/detect_n_crop.py:39: ResourceWarning: unclosed file <_io.BufferedReader name='/data/grubles/car_brand_recognition/custom_cars_dataset/images_20/PEUGEOT-208/PEUGEOT-208_12.jpeg'>\n",
      "  img = Image.open(frame)\n",
      "ResourceWarning: Enable tracemalloc to get the object allocation traceback\n",
      "/data/grubles/car_brand_recognition/custom_cars_dataset/notebooks/../src/detect_n_crop.py:39: ResourceWarning: unclosed file <_io.BufferedReader name='/data/grubles/car_brand_recognition/custom_cars_dataset/images_20/KIA-RIO/KIA-RIO_9.jpeg'>\n",
      "  img = Image.open(frame)\n",
      "ResourceWarning: Enable tracemalloc to get the object allocation traceback\n"
     ]
    },
    {
     "name": "stdout",
     "output_type": "stream",
     "text": [
      "/data/grubles/car_brand_recognition/custom_cars_dataset/images_20/KIA-RIO/KIA-RIO_7.jpeg\n"
     ]
    },
    {
     "name": "stderr",
     "output_type": "stream",
     "text": [
      "/data/grubles/car_brand_recognition/custom_cars_dataset/notebooks/../src/detect_n_crop.py:85: ResourceWarning: unclosed file <_io.BufferedReader name='/data/grubles/car_brand_recognition/custom_cars_dataset/images_20/KIA-RIO/KIA-RIO_7.jpeg'>\n",
      "  img = Image.open(frame)\n",
      "ResourceWarning: Enable tracemalloc to get the object allocation traceback\n",
      "/data/grubles/car_brand_recognition/custom_cars_dataset/notebooks/../src/detect_n_crop.py:39: ResourceWarning: unclosed file <_io.BufferedReader name='/data/grubles/car_brand_recognition/custom_cars_dataset/images_20/KIA-RIO/KIA-RIO_6.jpeg'>\n",
      "  img = Image.open(frame)\n",
      "ResourceWarning: Enable tracemalloc to get the object allocation traceback\n"
     ]
    },
    {
     "name": "stdout",
     "output_type": "stream",
     "text": [
      "/data/grubles/car_brand_recognition/custom_cars_dataset/images_20/KIA-RIO/KIA-RIO_6.jpeg\n",
      "/data/grubles/car_brand_recognition/custom_cars_dataset/images_20/KIA-RIO/KIA-RIO_5.jpeg\n"
     ]
    },
    {
     "name": "stderr",
     "output_type": "stream",
     "text": [
      "/data/grubles/car_brand_recognition/custom_cars_dataset/notebooks/../src/detect_n_crop.py:85: ResourceWarning: unclosed file <_io.BufferedReader name='/data/grubles/car_brand_recognition/custom_cars_dataset/images_20/KIA-RIO/KIA-RIO_5.jpeg'>\n",
      "  img = Image.open(frame)\n",
      "ResourceWarning: Enable tracemalloc to get the object allocation traceback\n",
      "/data/grubles/car_brand_recognition/custom_cars_dataset/notebooks/../src/detect_n_crop.py:39: ResourceWarning: unclosed file <_io.BufferedReader name='/data/grubles/car_brand_recognition/custom_cars_dataset/images_20/KIA-RIO/KIA-RIO_17.jpeg'>\n",
      "  img = Image.open(frame)\n",
      "ResourceWarning: Enable tracemalloc to get the object allocation traceback\n"
     ]
    },
    {
     "name": "stdout",
     "output_type": "stream",
     "text": [
      "/data/grubles/car_brand_recognition/custom_cars_dataset/images_20/KIA-RIO/KIA-RIO_17.jpeg\n",
      "/data/grubles/car_brand_recognition/custom_cars_dataset/images_20/KIA-RIO/KIA-RIO_13.jpeg\n",
      "/data/grubles/car_brand_recognition/custom_cars_dataset/images_20/KIA-RIO/KIA-RIO_14.jpeg\n"
     ]
    },
    {
     "name": "stderr",
     "output_type": "stream",
     "text": [
      "/data/grubles/car_brand_recognition/custom_cars_dataset/notebooks/../src/detect_n_crop.py:85: ResourceWarning: unclosed file <_io.BufferedReader name='/data/grubles/car_brand_recognition/custom_cars_dataset/images_20/KIA-RIO/KIA-RIO_13.jpeg'>\n",
      "  img = Image.open(frame)\n",
      "ResourceWarning: Enable tracemalloc to get the object allocation traceback\n",
      "/data/grubles/car_brand_recognition/custom_cars_dataset/notebooks/../src/detect_n_crop.py:85: ResourceWarning: unclosed file <_io.BufferedReader name='/data/grubles/car_brand_recognition/custom_cars_dataset/images_20/KIA-RIO/KIA-RIO_14.jpeg'>\n",
      "  img = Image.open(frame)\n",
      "ResourceWarning: Enable tracemalloc to get the object allocation traceback\n"
     ]
    },
    {
     "name": "stdout",
     "output_type": "stream",
     "text": [
      "/data/grubles/car_brand_recognition/custom_cars_dataset/images_20/KIA-RIO/KIA-RIO_8.jpeg\n"
     ]
    },
    {
     "name": "stderr",
     "output_type": "stream",
     "text": [
      "/data/grubles/car_brand_recognition/custom_cars_dataset/notebooks/../src/detect_n_crop.py:85: ResourceWarning: unclosed file <_io.BufferedReader name='/data/grubles/car_brand_recognition/custom_cars_dataset/images_20/KIA-RIO/KIA-RIO_8.jpeg'>\n",
      "  img = Image.open(frame)\n",
      "ResourceWarning: Enable tracemalloc to get the object allocation traceback\n"
     ]
    },
    {
     "ename": "OSError",
     "evalue": "cannot write mode CMYK as PNG",
     "output_type": "error",
     "traceback": [
      "\u001b[0;31m---------------------------------------------------------------------------\u001b[0m",
      "\u001b[0;31mKeyError\u001b[0m                                  Traceback (most recent call last)",
      "\u001b[0;32m~/anaconda3/envs/bdd100k-mmdet/lib/python3.8/site-packages/PIL/PngImagePlugin.py\u001b[0m in \u001b[0;36m_save\u001b[0;34m(im, fp, filename, chunk, save_all)\u001b[0m\n\u001b[1;32m   1215\u001b[0m     \u001b[0;32mtry\u001b[0m\u001b[0;34m:\u001b[0m\u001b[0;34m\u001b[0m\u001b[0;34m\u001b[0m\u001b[0m\n\u001b[0;32m-> 1216\u001b[0;31m         \u001b[0mrawmode\u001b[0m\u001b[0;34m,\u001b[0m \u001b[0mmode\u001b[0m \u001b[0;34m=\u001b[0m \u001b[0m_OUTMODES\u001b[0m\u001b[0;34m[\u001b[0m\u001b[0mmode\u001b[0m\u001b[0;34m]\u001b[0m\u001b[0;34m\u001b[0m\u001b[0;34m\u001b[0m\u001b[0m\n\u001b[0m\u001b[1;32m   1217\u001b[0m     \u001b[0;32mexcept\u001b[0m \u001b[0mKeyError\u001b[0m \u001b[0;32mas\u001b[0m \u001b[0me\u001b[0m\u001b[0;34m:\u001b[0m\u001b[0;34m\u001b[0m\u001b[0;34m\u001b[0m\u001b[0m\n",
      "\u001b[0;31mKeyError\u001b[0m: 'CMYK'",
      "\nThe above exception was the direct cause of the following exception:\n",
      "\u001b[0;31mOSError\u001b[0m                                   Traceback (most recent call last)",
      "\u001b[0;32m/tmp/ipykernel_10111/3980845949.py\u001b[0m in \u001b[0;36m<module>\u001b[0;34m\u001b[0m\n\u001b[0;32m----> 1\u001b[0;31m \u001b[0minfer_model\u001b[0m\u001b[0;34m(\u001b[0m\u001b[0mimgs_path\u001b[0m\u001b[0;34m)\u001b[0m\u001b[0;34m\u001b[0m\u001b[0;34m\u001b[0m\u001b[0m\n\u001b[0m",
      "\u001b[0;32m/data/grubles/car_brand_recognition/custom_cars_dataset/notebooks/../src/detect_n_crop.py\u001b[0m in \u001b[0;36minfer_model\u001b[0;34m(img_paths, multiple, settings, thresholds)\u001b[0m\n\u001b[1;32m     90\u001b[0m                         \u001b[0mos\u001b[0m\u001b[0;34m.\u001b[0m\u001b[0mmakedirs\u001b[0m\u001b[0;34m(\u001b[0m\u001b[0mnew_path\u001b[0m\u001b[0;34m,\u001b[0m \u001b[0mexist_ok\u001b[0m\u001b[0;34m=\u001b[0m\u001b[0;32mTrue\u001b[0m\u001b[0;34m)\u001b[0m\u001b[0;34m\u001b[0m\u001b[0;34m\u001b[0m\u001b[0m\n\u001b[1;32m     91\u001b[0m                         \u001b[0mimg_output\u001b[0m \u001b[0;34m=\u001b[0m \u001b[0mos\u001b[0m\u001b[0;34m.\u001b[0m\u001b[0mpath\u001b[0m\u001b[0;34m.\u001b[0m\u001b[0mjoin\u001b[0m\u001b[0;34m(\u001b[0m\u001b[0mnew_path\u001b[0m\u001b[0;34m,\u001b[0m \u001b[0;34mf'frame_{i}.png'\u001b[0m\u001b[0;34m)\u001b[0m\u001b[0;34m\u001b[0m\u001b[0;34m\u001b[0m\u001b[0m\n\u001b[0;32m---> 92\u001b[0;31m                         \u001b[0mimg\u001b[0m\u001b[0;34m.\u001b[0m\u001b[0msave\u001b[0m\u001b[0;34m(\u001b[0m\u001b[0mimg_output\u001b[0m\u001b[0;34m)\u001b[0m\u001b[0;34m\u001b[0m\u001b[0;34m\u001b[0m\u001b[0m\n\u001b[0m\u001b[1;32m     93\u001b[0m \u001b[0;34m\u001b[0m\u001b[0m\n\u001b[1;32m     94\u001b[0m         \u001b[0mdetections_vehicle\u001b[0m\u001b[0;34m[\u001b[0m\u001b[0mframe\u001b[0m\u001b[0;34m.\u001b[0m\u001b[0msplit\u001b[0m\u001b[0;34m(\u001b[0m\u001b[0;34m'/'\u001b[0m\u001b[0;34m)\u001b[0m\u001b[0;34m[\u001b[0m\u001b[0;34m-\u001b[0m\u001b[0;36m1\u001b[0m\u001b[0;34m]\u001b[0m\u001b[0;34m]\u001b[0m \u001b[0;34m=\u001b[0m \u001b[0mframe_detections_vehicle\u001b[0m\u001b[0;34m\u001b[0m\u001b[0;34m\u001b[0m\u001b[0m\n",
      "\u001b[0;32m~/anaconda3/envs/bdd100k-mmdet/lib/python3.8/site-packages/PIL/Image.py\u001b[0m in \u001b[0;36msave\u001b[0;34m(self, fp, format, **params)\u001b[0m\n\u001b[1;32m   2170\u001b[0m \u001b[0;34m\u001b[0m\u001b[0m\n\u001b[1;32m   2171\u001b[0m         \u001b[0;32mtry\u001b[0m\u001b[0;34m:\u001b[0m\u001b[0;34m\u001b[0m\u001b[0;34m\u001b[0m\u001b[0m\n\u001b[0;32m-> 2172\u001b[0;31m             \u001b[0msave_handler\u001b[0m\u001b[0;34m(\u001b[0m\u001b[0mself\u001b[0m\u001b[0;34m,\u001b[0m \u001b[0mfp\u001b[0m\u001b[0;34m,\u001b[0m \u001b[0mfilename\u001b[0m\u001b[0;34m)\u001b[0m\u001b[0;34m\u001b[0m\u001b[0;34m\u001b[0m\u001b[0m\n\u001b[0m\u001b[1;32m   2173\u001b[0m         \u001b[0;32mfinally\u001b[0m\u001b[0;34m:\u001b[0m\u001b[0;34m\u001b[0m\u001b[0;34m\u001b[0m\u001b[0m\n\u001b[1;32m   2174\u001b[0m             \u001b[0;31m# do what we can to clean up\u001b[0m\u001b[0;34m\u001b[0m\u001b[0;34m\u001b[0m\u001b[0;34m\u001b[0m\u001b[0m\n",
      "\u001b[0;32m~/anaconda3/envs/bdd100k-mmdet/lib/python3.8/site-packages/PIL/PngImagePlugin.py\u001b[0m in \u001b[0;36m_save\u001b[0;34m(im, fp, filename, chunk, save_all)\u001b[0m\n\u001b[1;32m   1216\u001b[0m         \u001b[0mrawmode\u001b[0m\u001b[0;34m,\u001b[0m \u001b[0mmode\u001b[0m \u001b[0;34m=\u001b[0m \u001b[0m_OUTMODES\u001b[0m\u001b[0;34m[\u001b[0m\u001b[0mmode\u001b[0m\u001b[0;34m]\u001b[0m\u001b[0;34m\u001b[0m\u001b[0;34m\u001b[0m\u001b[0m\n\u001b[1;32m   1217\u001b[0m     \u001b[0;32mexcept\u001b[0m \u001b[0mKeyError\u001b[0m \u001b[0;32mas\u001b[0m \u001b[0me\u001b[0m\u001b[0;34m:\u001b[0m\u001b[0;34m\u001b[0m\u001b[0;34m\u001b[0m\u001b[0m\n\u001b[0;32m-> 1218\u001b[0;31m         \u001b[0;32mraise\u001b[0m \u001b[0mOSError\u001b[0m\u001b[0;34m(\u001b[0m\u001b[0;34mf\"cannot write mode {mode} as PNG\"\u001b[0m\u001b[0;34m)\u001b[0m \u001b[0;32mfrom\u001b[0m \u001b[0me\u001b[0m\u001b[0;34m\u001b[0m\u001b[0;34m\u001b[0m\u001b[0m\n\u001b[0m\u001b[1;32m   1219\u001b[0m \u001b[0;34m\u001b[0m\u001b[0m\n\u001b[1;32m   1220\u001b[0m     \u001b[0;31m#\u001b[0m\u001b[0;34m\u001b[0m\u001b[0;34m\u001b[0m\u001b[0;34m\u001b[0m\u001b[0m\n",
      "\u001b[0;31mOSError\u001b[0m: cannot write mode CMYK as PNG"
     ]
    }
   ],
   "source": [
    "infer_model(imgs_path)"
   ]
  },
  {
   "cell_type": "code",
   "execution_count": 12,
   "id": "b65de392",
   "metadata": {},
   "outputs": [],
   "source": [
    "dataset_root_path = ('/data/grubles/car_brand_recognition/custom_cars_dataset/dataset')\n",
    "os.makedirs(dataset_root_path, exist_ok=True)\n",
    "cropped_imgs_root_path = glob('/data/grubles/custom_cars_dataset/calibration/images_cropped/*')\n",
    "for model in cropped_imgs_root_path:\n",
    "    os.makedirs(os.path.join(dataset_root_path, model.split('/')[-1].split('-')[0]), exist_ok=True)"
   ]
  },
  {
   "cell_type": "code",
   "execution_count": 13,
   "id": "dfcc65aa",
   "metadata": {},
   "outputs": [],
   "source": [
    "import shutil\n",
    "cropped_imgs_paths = glob('/data/grubles/custom_cars_dataset/calibration/images_cropped/*/*')\n",
    "for path in cropped_imgs_paths:\n",
    "    brand = path.split('/')[-2].split('-')[0]\n",
    "    dest_dir = os.path.join(dataset_root_path, brand)\n",
    "    shutil.copy(path, dest_dir)"
   ]
  },
  {
   "cell_type": "code",
   "execution_count": 15,
   "id": "b259e269",
   "metadata": {},
   "outputs": [
    {
     "name": "stderr",
     "output_type": "stream",
     "text": [
      "/tmp/ipykernel_10111/81565790.py:4: ResourceWarning: unclosed file <_io.BufferedReader name='/data/grubles/car_brand_recognition/custom_cars_dataset/dataset/KIA/frame_163.png'>\n",
      "  img = Image.open(path)\n",
      "ResourceWarning: Enable tracemalloc to get the object allocation traceback\n",
      "/tmp/ipykernel_10111/81565790.py:4: ResourceWarning: unclosed file <_io.BufferedReader name='/data/grubles/car_brand_recognition/custom_cars_dataset/dataset/PEUGEOT/frame_19.png'>\n",
      "  img = Image.open(path)\n",
      "ResourceWarning: Enable tracemalloc to get the object allocation traceback\n",
      "/tmp/ipykernel_10111/81565790.py:4: ResourceWarning: unclosed file <_io.BufferedReader name='/data/grubles/car_brand_recognition/custom_cars_dataset/dataset/PEUGEOT/frame_12.png'>\n",
      "  img = Image.open(path)\n",
      "ResourceWarning: Enable tracemalloc to get the object allocation traceback\n",
      "/tmp/ipykernel_10111/81565790.py:4: ResourceWarning: unclosed file <_io.BufferedReader name='/data/grubles/car_brand_recognition/custom_cars_dataset/dataset/PEUGEOT/frame_1.png'>\n",
      "  img = Image.open(path)\n",
      "ResourceWarning: Enable tracemalloc to get the object allocation traceback\n",
      "/tmp/ipykernel_10111/81565790.py:4: ResourceWarning: unclosed file <_io.BufferedReader name='/data/grubles/car_brand_recognition/custom_cars_dataset/dataset/PEUGEOT/frame_5.png'>\n",
      "  img = Image.open(path)\n",
      "ResourceWarning: Enable tracemalloc to get the object allocation traceback\n",
      "/tmp/ipykernel_10111/81565790.py:4: ResourceWarning: unclosed file <_io.BufferedReader name='/data/grubles/car_brand_recognition/custom_cars_dataset/dataset/PEUGEOT/frame_2.png'>\n",
      "  img = Image.open(path)\n",
      "ResourceWarning: Enable tracemalloc to get the object allocation traceback\n",
      "/tmp/ipykernel_10111/81565790.py:4: ResourceWarning: unclosed file <_io.BufferedReader name='/data/grubles/car_brand_recognition/custom_cars_dataset/dataset/PEUGEOT/frame_150.png'>\n",
      "  img = Image.open(path)\n",
      "ResourceWarning: Enable tracemalloc to get the object allocation traceback\n",
      "/tmp/ipykernel_10111/81565790.py:4: ResourceWarning: unclosed file <_io.BufferedReader name='/data/grubles/car_brand_recognition/custom_cars_dataset/dataset/PEUGEOT/frame_4.png'>\n",
      "  img = Image.open(path)\n",
      "ResourceWarning: Enable tracemalloc to get the object allocation traceback\n",
      "/tmp/ipykernel_10111/81565790.py:4: ResourceWarning: unclosed file <_io.BufferedReader name='/data/grubles/car_brand_recognition/custom_cars_dataset/dataset/PEUGEOT/frame_11.png'>\n",
      "  img = Image.open(path)\n",
      "ResourceWarning: Enable tracemalloc to get the object allocation traceback\n",
      "/tmp/ipykernel_10111/81565790.py:4: ResourceWarning: unclosed file <_io.BufferedReader name='/data/grubles/car_brand_recognition/custom_cars_dataset/dataset/PEUGEOT/frame_7.png'>\n",
      "  img = Image.open(path)\n",
      "ResourceWarning: Enable tracemalloc to get the object allocation traceback\n",
      "/tmp/ipykernel_10111/81565790.py:4: ResourceWarning: unclosed file <_io.BufferedReader name='/data/grubles/car_brand_recognition/custom_cars_dataset/dataset/PEUGEOT/frame_145.png'>\n",
      "  img = Image.open(path)\n",
      "ResourceWarning: Enable tracemalloc to get the object allocation traceback\n",
      "/tmp/ipykernel_10111/81565790.py:4: ResourceWarning: unclosed file <_io.BufferedReader name='/data/grubles/car_brand_recognition/custom_cars_dataset/dataset/PEUGEOT/frame_9.png'>\n",
      "  img = Image.open(path)\n",
      "ResourceWarning: Enable tracemalloc to get the object allocation traceback\n",
      "/tmp/ipykernel_10111/81565790.py:4: ResourceWarning: unclosed file <_io.BufferedReader name='/data/grubles/car_brand_recognition/custom_cars_dataset/dataset/PEUGEOT/frame_141.png'>\n",
      "  img = Image.open(path)\n",
      "ResourceWarning: Enable tracemalloc to get the object allocation traceback\n",
      "/tmp/ipykernel_10111/81565790.py:4: ResourceWarning: unclosed file <_io.BufferedReader name='/data/grubles/car_brand_recognition/custom_cars_dataset/dataset/PEUGEOT/frame_15.png'>\n",
      "  img = Image.open(path)\n",
      "ResourceWarning: Enable tracemalloc to get the object allocation traceback\n",
      "/tmp/ipykernel_10111/81565790.py:4: ResourceWarning: unclosed file <_io.BufferedReader name='/data/grubles/car_brand_recognition/custom_cars_dataset/dataset/PEUGEOT/frame_143.png'>\n",
      "  img = Image.open(path)\n",
      "ResourceWarning: Enable tracemalloc to get the object allocation traceback\n",
      "/tmp/ipykernel_10111/81565790.py:4: ResourceWarning: unclosed file <_io.BufferedReader name='/data/grubles/car_brand_recognition/custom_cars_dataset/dataset/PEUGEOT/frame_152.png'>\n",
      "  img = Image.open(path)\n",
      "ResourceWarning: Enable tracemalloc to get the object allocation traceback\n",
      "/tmp/ipykernel_10111/81565790.py:4: ResourceWarning: unclosed file <_io.BufferedReader name='/data/grubles/car_brand_recognition/custom_cars_dataset/dataset/PEUGEOT/frame_10.png'>\n",
      "  img = Image.open(path)\n",
      "ResourceWarning: Enable tracemalloc to get the object allocation traceback\n",
      "/tmp/ipykernel_10111/81565790.py:4: ResourceWarning: unclosed file <_io.BufferedReader name='/data/grubles/car_brand_recognition/custom_cars_dataset/dataset/PEUGEOT/frame_157.png'>\n",
      "  img = Image.open(path)\n",
      "ResourceWarning: Enable tracemalloc to get the object allocation traceback\n",
      "/tmp/ipykernel_10111/81565790.py:4: ResourceWarning: unclosed file <_io.BufferedReader name='/data/grubles/car_brand_recognition/custom_cars_dataset/dataset/PEUGEOT/frame_146.png'>\n",
      "  img = Image.open(path)\n",
      "ResourceWarning: Enable tracemalloc to get the object allocation traceback\n",
      "/tmp/ipykernel_10111/81565790.py:4: ResourceWarning: unclosed file <_io.BufferedReader name='/data/grubles/car_brand_recognition/custom_cars_dataset/dataset/PEUGEOT/frame_147.png'>\n",
      "  img = Image.open(path)\n",
      "ResourceWarning: Enable tracemalloc to get the object allocation traceback\n",
      "/tmp/ipykernel_10111/81565790.py:4: ResourceWarning: unclosed file <_io.BufferedReader name='/data/grubles/car_brand_recognition/custom_cars_dataset/dataset/PEUGEOT/frame_14.png'>\n",
      "  img = Image.open(path)\n",
      "ResourceWarning: Enable tracemalloc to get the object allocation traceback\n",
      "/tmp/ipykernel_10111/81565790.py:4: ResourceWarning: unclosed file <_io.BufferedReader name='/data/grubles/car_brand_recognition/custom_cars_dataset/dataset/PEUGEOT/frame_3.png'>\n",
      "  img = Image.open(path)\n",
      "ResourceWarning: Enable tracemalloc to get the object allocation traceback\n",
      "/tmp/ipykernel_10111/81565790.py:4: ResourceWarning: unclosed file <_io.BufferedReader name='/data/grubles/car_brand_recognition/custom_cars_dataset/dataset/PEUGEOT/frame_148.png'>\n",
      "  img = Image.open(path)\n",
      "ResourceWarning: Enable tracemalloc to get the object allocation traceback\n",
      "/tmp/ipykernel_10111/81565790.py:4: ResourceWarning: unclosed file <_io.BufferedReader name='/data/grubles/car_brand_recognition/custom_cars_dataset/dataset/HYUNDAI/frame_97.png'>\n",
      "  img = Image.open(path)\n",
      "ResourceWarning: Enable tracemalloc to get the object allocation traceback\n",
      "/tmp/ipykernel_10111/81565790.py:4: ResourceWarning: unclosed file <_io.BufferedReader name='/data/grubles/car_brand_recognition/custom_cars_dataset/dataset/HYUNDAI/frame_95.png'>\n",
      "  img = Image.open(path)\n",
      "ResourceWarning: Enable tracemalloc to get the object allocation traceback\n",
      "/tmp/ipykernel_10111/81565790.py:4: ResourceWarning: unclosed file <_io.BufferedReader name='/data/grubles/car_brand_recognition/custom_cars_dataset/dataset/HYUNDAI/frame_84.png'>\n",
      "  img = Image.open(path)\n",
      "ResourceWarning: Enable tracemalloc to get the object allocation traceback\n",
      "/tmp/ipykernel_10111/81565790.py:4: ResourceWarning: unclosed file <_io.BufferedReader name='/data/grubles/car_brand_recognition/custom_cars_dataset/dataset/HYUNDAI/frame_94.png'>\n",
      "  img = Image.open(path)\n",
      "ResourceWarning: Enable tracemalloc to get the object allocation traceback\n",
      "/tmp/ipykernel_10111/81565790.py:4: ResourceWarning: unclosed file <_io.BufferedReader name='/data/grubles/car_brand_recognition/custom_cars_dataset/dataset/HYUNDAI/frame_98.png'>\n",
      "  img = Image.open(path)\n",
      "ResourceWarning: Enable tracemalloc to get the object allocation traceback\n",
      "/tmp/ipykernel_10111/81565790.py:4: ResourceWarning: unclosed file <_io.BufferedReader name='/data/grubles/car_brand_recognition/custom_cars_dataset/dataset/HYUNDAI/frame_90.png'>\n",
      "  img = Image.open(path)\n",
      "ResourceWarning: Enable tracemalloc to get the object allocation traceback\n",
      "/tmp/ipykernel_10111/81565790.py:4: ResourceWarning: unclosed file <_io.BufferedReader name='/data/grubles/car_brand_recognition/custom_cars_dataset/dataset/HYUNDAI/frame_89.png'>\n",
      "  img = Image.open(path)\n",
      "ResourceWarning: Enable tracemalloc to get the object allocation traceback\n",
      "/tmp/ipykernel_10111/81565790.py:4: ResourceWarning: unclosed file <_io.BufferedReader name='/data/grubles/car_brand_recognition/custom_cars_dataset/dataset/HYUNDAI/frame_91.png'>\n",
      "  img = Image.open(path)\n",
      "ResourceWarning: Enable tracemalloc to get the object allocation traceback\n",
      "/tmp/ipykernel_10111/81565790.py:4: ResourceWarning: unclosed file <_io.BufferedReader name='/data/grubles/car_brand_recognition/custom_cars_dataset/dataset/VW/frame_100.png'>\n",
      "  img = Image.open(path)\n",
      "ResourceWarning: Enable tracemalloc to get the object allocation traceback\n",
      "/tmp/ipykernel_10111/81565790.py:4: ResourceWarning: unclosed file <_io.BufferedReader name='/data/grubles/car_brand_recognition/custom_cars_dataset/dataset/VW/frame_115.png'>\n",
      "  img = Image.open(path)\n",
      "ResourceWarning: Enable tracemalloc to get the object allocation traceback\n",
      "/tmp/ipykernel_10111/81565790.py:4: ResourceWarning: unclosed file <_io.BufferedReader name='/data/grubles/car_brand_recognition/custom_cars_dataset/dataset/VW/frame_107.png'>\n",
      "  img = Image.open(path)\n",
      "ResourceWarning: Enable tracemalloc to get the object allocation traceback\n",
      "/tmp/ipykernel_10111/81565790.py:4: ResourceWarning: unclosed file <_io.BufferedReader name='/data/grubles/car_brand_recognition/custom_cars_dataset/dataset/VW/frame_111.png'>\n",
      "  img = Image.open(path)\n",
      "ResourceWarning: Enable tracemalloc to get the object allocation traceback\n",
      "/tmp/ipykernel_10111/81565790.py:4: ResourceWarning: unclosed file <_io.BufferedReader name='/data/grubles/car_brand_recognition/custom_cars_dataset/dataset/VW/frame_114.png'>\n",
      "  img = Image.open(path)\n",
      "ResourceWarning: Enable tracemalloc to get the object allocation traceback\n",
      "/tmp/ipykernel_10111/81565790.py:4: ResourceWarning: unclosed file <_io.BufferedReader name='/data/grubles/car_brand_recognition/custom_cars_dataset/dataset/VW/frame_117.png'>\n",
      "  img = Image.open(path)\n",
      "ResourceWarning: Enable tracemalloc to get the object allocation traceback\n",
      "/tmp/ipykernel_10111/81565790.py:4: ResourceWarning: unclosed file <_io.BufferedReader name='/data/grubles/car_brand_recognition/custom_cars_dataset/dataset/VW/frame_109.png'>\n",
      "  img = Image.open(path)\n",
      "ResourceWarning: Enable tracemalloc to get the object allocation traceback\n",
      "/tmp/ipykernel_10111/81565790.py:4: ResourceWarning: unclosed file <_io.BufferedReader name='/data/grubles/car_brand_recognition/custom_cars_dataset/dataset/VW/frame_116.png'>\n",
      "  img = Image.open(path)\n",
      "ResourceWarning: Enable tracemalloc to get the object allocation traceback\n",
      "/tmp/ipykernel_10111/81565790.py:4: ResourceWarning: unclosed file <_io.BufferedReader name='/data/grubles/car_brand_recognition/custom_cars_dataset/dataset/VW/frame_119.png'>\n",
      "  img = Image.open(path)\n",
      "ResourceWarning: Enable tracemalloc to get the object allocation traceback\n",
      "/tmp/ipykernel_10111/81565790.py:4: ResourceWarning: unclosed file <_io.BufferedReader name='/data/grubles/car_brand_recognition/custom_cars_dataset/dataset/VW/frame_110.png'>\n",
      "  img = Image.open(path)\n",
      "ResourceWarning: Enable tracemalloc to get the object allocation traceback\n",
      "/tmp/ipykernel_10111/81565790.py:4: ResourceWarning: unclosed file <_io.BufferedReader name='/data/grubles/car_brand_recognition/custom_cars_dataset/dataset/VW/frame_112.png'>\n",
      "  img = Image.open(path)\n",
      "ResourceWarning: Enable tracemalloc to get the object allocation traceback\n",
      "/tmp/ipykernel_10111/81565790.py:4: ResourceWarning: unclosed file <_io.BufferedReader name='/data/grubles/car_brand_recognition/custom_cars_dataset/dataset/FIAT/frame_40.png'>\n",
      "  img = Image.open(path)\n",
      "ResourceWarning: Enable tracemalloc to get the object allocation traceback\n",
      "/tmp/ipykernel_10111/81565790.py:4: ResourceWarning: unclosed file <_io.BufferedReader name='/data/grubles/car_brand_recognition/custom_cars_dataset/dataset/FIAT/frame_58.png'>\n",
      "  img = Image.open(path)\n",
      "ResourceWarning: Enable tracemalloc to get the object allocation traceback\n",
      "/tmp/ipykernel_10111/81565790.py:4: ResourceWarning: unclosed file <_io.BufferedReader name='/data/grubles/car_brand_recognition/custom_cars_dataset/dataset/FIAT/frame_43.png'>\n",
      "  img = Image.open(path)\n",
      "ResourceWarning: Enable tracemalloc to get the object allocation traceback\n",
      "/tmp/ipykernel_10111/81565790.py:4: ResourceWarning: unclosed file <_io.BufferedReader name='/data/grubles/car_brand_recognition/custom_cars_dataset/dataset/FIAT/frame_45.png'>\n",
      "  img = Image.open(path)\n",
      "ResourceWarning: Enable tracemalloc to get the object allocation traceback\n",
      "/tmp/ipykernel_10111/81565790.py:4: ResourceWarning: unclosed file <_io.BufferedReader name='/data/grubles/car_brand_recognition/custom_cars_dataset/dataset/FIAT/frame_48.png'>\n",
      "  img = Image.open(path)\n",
      "ResourceWarning: Enable tracemalloc to get the object allocation traceback\n",
      "/tmp/ipykernel_10111/81565790.py:4: ResourceWarning: unclosed file <_io.BufferedReader name='/data/grubles/car_brand_recognition/custom_cars_dataset/dataset/FIAT/frame_55.png'>\n",
      "  img = Image.open(path)\n",
      "ResourceWarning: Enable tracemalloc to get the object allocation traceback\n",
      "/tmp/ipykernel_10111/81565790.py:4: ResourceWarning: unclosed file <_io.BufferedReader name='/data/grubles/car_brand_recognition/custom_cars_dataset/dataset/FIAT/frame_44.png'>\n",
      "  img = Image.open(path)\n",
      "ResourceWarning: Enable tracemalloc to get the object allocation traceback\n",
      "/tmp/ipykernel_10111/81565790.py:4: ResourceWarning: unclosed file <_io.BufferedReader name='/data/grubles/car_brand_recognition/custom_cars_dataset/dataset/FIAT/frame_54.png'>\n",
      "  img = Image.open(path)\n",
      "ResourceWarning: Enable tracemalloc to get the object allocation traceback\n",
      "/tmp/ipykernel_10111/81565790.py:4: ResourceWarning: unclosed file <_io.BufferedReader name='/data/grubles/car_brand_recognition/custom_cars_dataset/dataset/FIAT/frame_56.png'>\n",
      "  img = Image.open(path)\n",
      "ResourceWarning: Enable tracemalloc to get the object allocation traceback\n",
      "/tmp/ipykernel_10111/81565790.py:4: ResourceWarning: unclosed file <_io.BufferedReader name='/data/grubles/car_brand_recognition/custom_cars_dataset/dataset/FIAT/frame_53.png'>\n",
      "  img = Image.open(path)\n",
      "ResourceWarning: Enable tracemalloc to get the object allocation traceback\n",
      "/tmp/ipykernel_10111/81565790.py:4: ResourceWarning: unclosed file <_io.BufferedReader name='/data/grubles/car_brand_recognition/custom_cars_dataset/dataset/FIAT/frame_59.png'>\n",
      "  img = Image.open(path)\n",
      "ResourceWarning: Enable tracemalloc to get the object allocation traceback\n",
      "/tmp/ipykernel_10111/81565790.py:4: ResourceWarning: unclosed file <_io.BufferedReader name='/data/grubles/car_brand_recognition/custom_cars_dataset/dataset/FIAT/frame_42.png'>\n",
      "  img = Image.open(path)\n",
      "ResourceWarning: Enable tracemalloc to get the object allocation traceback\n",
      "/tmp/ipykernel_10111/81565790.py:4: ResourceWarning: unclosed file <_io.BufferedReader name='/data/grubles/car_brand_recognition/custom_cars_dataset/dataset/FIAT/frame_52.png'>\n",
      "  img = Image.open(path)\n",
      "ResourceWarning: Enable tracemalloc to get the object allocation traceback\n",
      "/tmp/ipykernel_10111/81565790.py:4: ResourceWarning: unclosed file <_io.BufferedReader name='/data/grubles/car_brand_recognition/custom_cars_dataset/dataset/OPEL/frame_135.png'>\n",
      "  img = Image.open(path)\n",
      "ResourceWarning: Enable tracemalloc to get the object allocation traceback\n",
      "/tmp/ipykernel_10111/81565790.py:4: ResourceWarning: unclosed file <_io.BufferedReader name='/data/grubles/car_brand_recognition/custom_cars_dataset/dataset/OPEL/frame_124.png'>\n",
      "  img = Image.open(path)\n",
      "ResourceWarning: Enable tracemalloc to get the object allocation traceback\n",
      "/tmp/ipykernel_10111/81565790.py:4: ResourceWarning: unclosed file <_io.BufferedReader name='/data/grubles/car_brand_recognition/custom_cars_dataset/dataset/OPEL/frame_121.png'>\n",
      "  img = Image.open(path)\n",
      "ResourceWarning: Enable tracemalloc to get the object allocation traceback\n",
      "/tmp/ipykernel_10111/81565790.py:4: ResourceWarning: unclosed file <_io.BufferedReader name='/data/grubles/car_brand_recognition/custom_cars_dataset/dataset/OPEL/frame_132.png'>\n",
      "  img = Image.open(path)\n",
      "ResourceWarning: Enable tracemalloc to get the object allocation traceback\n",
      "/tmp/ipykernel_10111/81565790.py:4: ResourceWarning: unclosed file <_io.BufferedReader name='/data/grubles/car_brand_recognition/custom_cars_dataset/dataset/OPEL/frame_120.png'>\n",
      "  img = Image.open(path)\n",
      "ResourceWarning: Enable tracemalloc to get the object allocation traceback\n",
      "/tmp/ipykernel_10111/81565790.py:4: ResourceWarning: unclosed file <_io.BufferedReader name='/data/grubles/car_brand_recognition/custom_cars_dataset/dataset/OPEL/frame_139.png'>\n",
      "  img = Image.open(path)\n",
      "ResourceWarning: Enable tracemalloc to get the object allocation traceback\n",
      "/tmp/ipykernel_10111/81565790.py:4: ResourceWarning: unclosed file <_io.BufferedReader name='/data/grubles/car_brand_recognition/custom_cars_dataset/dataset/OPEL/frame_128.png'>\n",
      "  img = Image.open(path)\n",
      "ResourceWarning: Enable tracemalloc to get the object allocation traceback\n",
      "/tmp/ipykernel_10111/81565790.py:4: ResourceWarning: unclosed file <_io.BufferedReader name='/data/grubles/car_brand_recognition/custom_cars_dataset/dataset/OPEL/frame_127.png'>\n",
      "  img = Image.open(path)\n",
      "ResourceWarning: Enable tracemalloc to get the object allocation traceback\n",
      "/tmp/ipykernel_10111/81565790.py:4: ResourceWarning: unclosed file <_io.BufferedReader name='/data/grubles/car_brand_recognition/custom_cars_dataset/dataset/OPEL/frame_129.png'>\n",
      "  img = Image.open(path)\n",
      "ResourceWarning: Enable tracemalloc to get the object allocation traceback\n",
      "/tmp/ipykernel_10111/81565790.py:4: ResourceWarning: unclosed file <_io.BufferedReader name='/data/grubles/car_brand_recognition/custom_cars_dataset/dataset/OPEL/frame_134.png'>\n",
      "  img = Image.open(path)\n",
      "ResourceWarning: Enable tracemalloc to get the object allocation traceback\n",
      "/tmp/ipykernel_10111/81565790.py:4: ResourceWarning: unclosed file <_io.BufferedReader name='/data/grubles/car_brand_recognition/custom_cars_dataset/dataset/MERCEDES/frame_28.png'>\n",
      "  img = Image.open(path)\n",
      "ResourceWarning: Enable tracemalloc to get the object allocation traceback\n",
      "/tmp/ipykernel_10111/81565790.py:4: ResourceWarning: unclosed file <_io.BufferedReader name='/data/grubles/car_brand_recognition/custom_cars_dataset/dataset/MERCEDES/frame_23.png'>\n",
      "  img = Image.open(path)\n",
      "ResourceWarning: Enable tracemalloc to get the object allocation traceback\n",
      "/tmp/ipykernel_10111/81565790.py:4: ResourceWarning: unclosed file <_io.BufferedReader name='/data/grubles/car_brand_recognition/custom_cars_dataset/dataset/MERCEDES/frame_39.png'>\n",
      "  img = Image.open(path)\n",
      "ResourceWarning: Enable tracemalloc to get the object allocation traceback\n",
      "/tmp/ipykernel_10111/81565790.py:4: ResourceWarning: unclosed file <_io.BufferedReader name='/data/grubles/car_brand_recognition/custom_cars_dataset/dataset/MERCEDES/frame_25.png'>\n",
      "  img = Image.open(path)\n",
      "ResourceWarning: Enable tracemalloc to get the object allocation traceback\n",
      "/tmp/ipykernel_10111/81565790.py:4: ResourceWarning: unclosed file <_io.BufferedReader name='/data/grubles/car_brand_recognition/custom_cars_dataset/dataset/MERCEDES/frame_26.png'>\n",
      "  img = Image.open(path)\n",
      "ResourceWarning: Enable tracemalloc to get the object allocation traceback\n",
      "/tmp/ipykernel_10111/81565790.py:4: ResourceWarning: unclosed file <_io.BufferedReader name='/data/grubles/car_brand_recognition/custom_cars_dataset/dataset/MERCEDES/frame_20.png'>\n",
      "  img = Image.open(path)\n",
      "ResourceWarning: Enable tracemalloc to get the object allocation traceback\n",
      "/tmp/ipykernel_10111/81565790.py:4: ResourceWarning: unclosed file <_io.BufferedReader name='/data/grubles/car_brand_recognition/custom_cars_dataset/dataset/MERCEDES/frame_30.png'>\n",
      "  img = Image.open(path)\n",
      "ResourceWarning: Enable tracemalloc to get the object allocation traceback\n",
      "/tmp/ipykernel_10111/81565790.py:4: ResourceWarning: unclosed file <_io.BufferedReader name='/data/grubles/car_brand_recognition/custom_cars_dataset/dataset/MERCEDES/frame_33.png'>\n",
      "  img = Image.open(path)\n",
      "ResourceWarning: Enable tracemalloc to get the object allocation traceback\n",
      "/tmp/ipykernel_10111/81565790.py:4: ResourceWarning: unclosed file <_io.BufferedReader name='/data/grubles/car_brand_recognition/custom_cars_dataset/dataset/MERCEDES/frame_37.png'>\n",
      "  img = Image.open(path)\n",
      "ResourceWarning: Enable tracemalloc to get the object allocation traceback\n",
      "/tmp/ipykernel_10111/81565790.py:4: ResourceWarning: unclosed file <_io.BufferedReader name='/data/grubles/car_brand_recognition/custom_cars_dataset/dataset/MERCEDES/frame_31.png'>\n",
      "  img = Image.open(path)\n",
      "ResourceWarning: Enable tracemalloc to get the object allocation traceback\n",
      "/tmp/ipykernel_10111/81565790.py:4: ResourceWarning: unclosed file <_io.BufferedReader name='/data/grubles/car_brand_recognition/custom_cars_dataset/dataset/MERCEDES/frame_27.png'>\n",
      "  img = Image.open(path)\n",
      "ResourceWarning: Enable tracemalloc to get the object allocation traceback\n",
      "/tmp/ipykernel_10111/81565790.py:4: ResourceWarning: unclosed file <_io.BufferedReader name='/data/grubles/car_brand_recognition/custom_cars_dataset/dataset/MERCEDES/frame_22.png'>\n",
      "  img = Image.open(path)\n",
      "ResourceWarning: Enable tracemalloc to get the object allocation traceback\n",
      "/tmp/ipykernel_10111/81565790.py:4: ResourceWarning: unclosed file <_io.BufferedReader name='/data/grubles/car_brand_recognition/custom_cars_dataset/dataset/MERCEDES/frame_32.png'>\n",
      "  img = Image.open(path)\n",
      "ResourceWarning: Enable tracemalloc to get the object allocation traceback\n",
      "/tmp/ipykernel_10111/81565790.py:4: ResourceWarning: unclosed file <_io.BufferedReader name='/data/grubles/car_brand_recognition/custom_cars_dataset/dataset/MERCEDES/frame_36.png'>\n",
      "  img = Image.open(path)\n",
      "ResourceWarning: Enable tracemalloc to get the object allocation traceback\n",
      "/tmp/ipykernel_10111/81565790.py:4: ResourceWarning: unclosed file <_io.BufferedReader name='/data/grubles/car_brand_recognition/custom_cars_dataset/dataset/TOYOTA/frame_61.png'>\n",
      "  img = Image.open(path)\n",
      "ResourceWarning: Enable tracemalloc to get the object allocation traceback\n",
      "/tmp/ipykernel_10111/81565790.py:4: ResourceWarning: unclosed file <_io.BufferedReader name='/data/grubles/car_brand_recognition/custom_cars_dataset/dataset/TOYOTA/frame_79.png'>\n",
      "  img = Image.open(path)\n",
      "ResourceWarning: Enable tracemalloc to get the object allocation traceback\n",
      "/tmp/ipykernel_10111/81565790.py:4: ResourceWarning: unclosed file <_io.BufferedReader name='/data/grubles/car_brand_recognition/custom_cars_dataset/dataset/TOYOTA/frame_66.png'>\n",
      "  img = Image.open(path)\n",
      "ResourceWarning: Enable tracemalloc to get the object allocation traceback\n",
      "/tmp/ipykernel_10111/81565790.py:4: ResourceWarning: unclosed file <_io.BufferedReader name='/data/grubles/car_brand_recognition/custom_cars_dataset/dataset/TOYOTA/frame_75.png'>\n",
      "  img = Image.open(path)\n",
      "ResourceWarning: Enable tracemalloc to get the object allocation traceback\n",
      "/tmp/ipykernel_10111/81565790.py:4: ResourceWarning: unclosed file <_io.BufferedReader name='/data/grubles/car_brand_recognition/custom_cars_dataset/dataset/TOYOTA/frame_73.png'>\n",
      "  img = Image.open(path)\n",
      "ResourceWarning: Enable tracemalloc to get the object allocation traceback\n",
      "/tmp/ipykernel_10111/81565790.py:4: ResourceWarning: unclosed file <_io.BufferedReader name='/data/grubles/car_brand_recognition/custom_cars_dataset/dataset/TOYOTA/frame_62.png'>\n",
      "  img = Image.open(path)\n",
      "ResourceWarning: Enable tracemalloc to get the object allocation traceback\n",
      "/tmp/ipykernel_10111/81565790.py:4: ResourceWarning: unclosed file <_io.BufferedReader name='/data/grubles/car_brand_recognition/custom_cars_dataset/dataset/TOYOTA/frame_78.png'>\n",
      "  img = Image.open(path)\n",
      "ResourceWarning: Enable tracemalloc to get the object allocation traceback\n",
      "/tmp/ipykernel_10111/81565790.py:4: ResourceWarning: unclosed file <_io.BufferedReader name='/data/grubles/car_brand_recognition/custom_cars_dataset/dataset/TOYOTA/frame_63.png'>\n",
      "  img = Image.open(path)\n",
      "ResourceWarning: Enable tracemalloc to get the object allocation traceback\n",
      "/tmp/ipykernel_10111/81565790.py:4: ResourceWarning: unclosed file <_io.BufferedReader name='/data/grubles/car_brand_recognition/custom_cars_dataset/dataset/TOYOTA/frame_74.png'>\n",
      "  img = Image.open(path)\n",
      "ResourceWarning: Enable tracemalloc to get the object allocation traceback\n",
      "/tmp/ipykernel_10111/81565790.py:4: ResourceWarning: unclosed file <_io.BufferedReader name='/data/grubles/car_brand_recognition/custom_cars_dataset/dataset/TOYOTA/frame_64.png'>\n",
      "  img = Image.open(path)\n",
      "ResourceWarning: Enable tracemalloc to get the object allocation traceback\n",
      "/tmp/ipykernel_10111/81565790.py:4: ResourceWarning: unclosed file <_io.BufferedReader name='/data/grubles/car_brand_recognition/custom_cars_dataset/dataset/TOYOTA/frame_69.png'>\n",
      "  img = Image.open(path)\n",
      "ResourceWarning: Enable tracemalloc to get the object allocation traceback\n",
      "/tmp/ipykernel_10111/81565790.py:4: ResourceWarning: unclosed file <_io.BufferedReader name='/data/grubles/car_brand_recognition/custom_cars_dataset/dataset/KIA/frame_165.png'>\n",
      "  img = Image.open(path)\n",
      "ResourceWarning: Enable tracemalloc to get the object allocation traceback\n",
      "/tmp/ipykernel_10111/81565790.py:4: ResourceWarning: unclosed file <_io.BufferedReader name='/data/grubles/car_brand_recognition/custom_cars_dataset/dataset/KIA/frame_161.png'>\n",
      "  img = Image.open(path)\n",
      "ResourceWarning: Enable tracemalloc to get the object allocation traceback\n"
     ]
    }
   ],
   "source": [
    "from PIL import Image\n",
    "dataset_imgs_path = glob('/data/grubles/car_brand_recognition/custom_cars_dataset/dataset/*/*')\n",
    "for path in dataset_imgs_path:\n",
    "    img = Image.open(path)\n",
    "    width, height = img.size\n",
    "    if (width < 100) | (height < 100):\n",
    "        os.remove(path)"
   ]
  },
  {
   "cell_type": "code",
   "execution_count": null,
   "id": "e1d251aa",
   "metadata": {},
   "outputs": [],
   "source": []
  }
 ],
 "metadata": {
  "kernelspec": {
   "display_name": "Python 3 (ipykernel)",
   "language": "python",
   "name": "python3"
  },
  "language_info": {
   "codemirror_mode": {
    "name": "ipython",
    "version": 3
   },
   "file_extension": ".py",
   "mimetype": "text/x-python",
   "name": "python",
   "nbconvert_exporter": "python",
   "pygments_lexer": "ipython3",
   "version": "3.8.12"
  }
 },
 "nbformat": 4,
 "nbformat_minor": 5
}
